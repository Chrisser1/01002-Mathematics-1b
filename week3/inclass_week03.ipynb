{
 "cells": [
  {
   "cell_type": "markdown",
   "id": "ae0efa82",
   "metadata": {},
   "source": [
    "# Uge 3: Indreproduktrum"
   ]
  },
  {
   "cell_type": "code",
   "execution_count": 1,
   "id": "234198a5",
   "metadata": {
    "tags": [
     "remove-cell"
    ]
   },
   "outputs": [],
   "source": [
    "from sympy import*\n",
    "from dtumathtools import*\n",
    "init_printing()\n",
    "\n",
    "def inner(x1: Matrix,x2: Matrix):\n",
    "    '''\n",
    "    Computes the inner product of two vectors of same length.\n",
    "    '''\n",
    "\n",
    "    return x1.dot(x2, conjugate_convention = 'right')\n",
    "\n",
    "MutableDenseMatrix.inner = inner\n",
    "ImmutableDenseMatrix.inner = inner"
   ]
  },
  {
   "cell_type": "markdown",
   "id": "5c6c25f9",
   "metadata": {},
   "source": [
    "___"
   ]
  },
  {
   "cell_type": "markdown",
   "id": "4072ac6b",
   "metadata": {},
   "source": [
    "## Opgaver -- Store Dag"
   ]
  },
  {
   "cell_type": "markdown",
   "id": "305b64d3",
   "metadata": {},
   "source": [
    "### 1: Ortonormal basis (koordinater). Håndregning."
   ]
  },
  {
   "cell_type": "markdown",
   "id": "27c859b2",
   "metadata": {},
   "source": [
    "#### Spørgsmål a"
   ]
  },
  {
   "cell_type": "markdown",
   "id": "6839b13e",
   "metadata": {},
   "source": [
    "Udgør vektorerne \n",
    "\n",
    "\\begin{equation*}\n",
    "  \\pmb{u}_1=\\left( \\frac{1}{3},\\frac{2}{3},\\frac{2}{3}\\right), \\quad\n",
    "\\pmb{u}_2=\\left( \\frac{2}{3}, \\frac{1}{3}, -\\frac{2}{3}\\right),\\quad\n",
    "\\pmb{u}_3=\\left( \\frac{2}{3}, -\\frac{2}{3}, \\frac{1}{3}\\right)\n",
    "\\end{equation*}\n",
    "\n",
    "en ortonormal basis i $\\mathbb{R}^3$?"
   ]
  },
  {
   "cell_type": "markdown",
   "id": "b35bf678",
   "metadata": {},
   "source": [
    "#### Answer\n",
    "To calculate this we need to check whether or not the vecors is pairwise orthotogonal.\n",
    "$$\n",
    "u_1 =\n",
    "\\begin{bmatrix}\n",
    "\\frac{1}{3} \\\\\n",
    "\\frac{2}{3} \\\\\n",
    "\\frac{2}{3}\n",
    "\\end{bmatrix},\n",
    "u_2 =\n",
    "\\begin{bmatrix}\n",
    "\\frac{2}{3} \\\\\n",
    "\\frac{1}{3} \\\\\n",
    "-\\frac{2}{3}\n",
    "\\end{bmatrix},\n",
    "u_3\n",
    "\\begin{bmatrix}\n",
    "\\frac{2}{3} \\\\\n",
    "\\frac{-2}{3} \\\\\n",
    "\\frac{1}{3}\n",
    "\\end{bmatrix}\n",
    "$$\n",
    "\n",
    "To do this we need to check wheter:\n",
    "$$\n",
    "\\langle u_1, u_2 \\rangle = 0, \\quad \\langle u_1, u_3 \\rangle = 0, \\quad \\langle u_2, u_3 \\rangle = 0\n",
    "$$\n",
    "\n",
    "We will now calc-ulate this:\n",
    "$$\n",
    "\\langle u_1, u_2 \\rangle =\n",
    "\\begin{bmatrix}\n",
    "\\frac{1}{3} \\\\\n",
    "\\frac{2}{3} \\\\\n",
    "\\frac{2}{3}\n",
    "\\end{bmatrix} \\cdot\n",
    "\\begin{bmatrix}\n",
    "\\frac{2}{3} \\\\\n",
    "\\frac{1}{3} \\\\\n",
    "\\frac{-2}{3}\n",
    "\\end{bmatrix} = \\frac{1}{3} \\cdot \\frac{2}{3} + \\frac{2}{3} \\cdot \\frac{1}{3} + \\frac{2}{3} \\cdot \\frac{-2}{3} = \\frac{2}{9} + \\frac{2}{9} - \\frac{-4}{9} = 0\n",
    "$$\n",
    "\n",
    "$$\n",
    "\\langle u_1, u_3 \\rangle =\n",
    "\\begin{bmatrix}\n",
    "\\frac{1}{3} \\\\\n",
    "\\frac{2}{3} \\\\\n",
    "\\frac{2}{3}\n",
    "\\end{bmatrix} \\cdot\n",
    "\\begin{bmatrix}\n",
    "\\frac{2}{3} \\\\\n",
    "\\frac{-2}{3} \\\\\n",
    "\\frac{1}{3}\n",
    "\\end{bmatrix} = \\frac{1}{3} \\cdot \\frac{2}{3} + \\frac{2}{3} \\cdot \\frac{-2}{3} + \\frac{2}{3} \\cdot \\frac{1}{3} = \\frac{2}{9} + \\frac{-4}{9} + \\frac{2}{9} = 0\n",
    "$$\n",
    "\n",
    "$$\n",
    "\\langle u_2, u_3 \\rangle =\n",
    "\\begin{bmatrix}\n",
    "\\frac{2}{3} \\\\\n",
    "\\frac{1}{3} \\\\\n",
    "\\frac{-2}{3}\n",
    "\\end{bmatrix} \\cdot\n",
    "\\begin{bmatrix}\n",
    "\\frac{2}{3} \\\\\n",
    "\\frac{-2}{3} \\\\\n",
    "\\frac{1}{3}\n",
    "\\end{bmatrix} = \\frac{2}{3} \\cdot \\frac{2}{3} + \\frac{1}{3} \\cdot \\frac{-2}{3} + \\frac{-2}{3} \\cdot \\frac{1}{3} = \\frac{4}{9} + \\frac{-2}{9} + \\frac{-2}{9} = 0\n",
    "$$\n",
    "\n",
    "As they are all equal to zero we now just need to check if their norm is 1 based on the following equation:\n",
    "$$\n",
    "||x||= \\sqrt{\\langle x, x \\rangle}\n",
    "$$\n",
    "\n",
    "We can simplify this to $\\langle v_k, v_k \\rangle = 1$ if not then they dont have a norm of one.\n",
    "$$\n",
    "\\langle u_1, u_1 \\rangle =\n",
    "\\begin{bmatrix}\n",
    "\\frac{1}{3} \\\\\n",
    "\\frac{2}{3} \\\\\n",
    "\\frac{2}{3}\n",
    "\\end{bmatrix} \\cdot\n",
    "\\begin{bmatrix}\n",
    "\\frac{1}{3} \\\\\n",
    "\\frac{2}{3} \\\\\n",
    "\\frac{2}{3}\n",
    "\\end{bmatrix} = \\frac{1}{3} \\cdot \\frac{1}{3} + \\frac{2}{3} \\cdot \\frac{2}{3} + \\frac{2}{3} \\cdot \\frac{2}{3} = \\frac{1}{9} + \\frac{4}{9} + \\frac{4}{9} = 1\n",
    "$$\n",
    "\n",
    "$$\n",
    "\\langle u_2, u_2 \\rangle =\n",
    "\\begin{bmatrix}\n",
    "\\frac{2}{3} \\\\\n",
    "\\frac{1}{3} \\\\\n",
    "\\frac{-2}{3}\n",
    "\\end{bmatrix} \\cdot\n",
    "\\begin{bmatrix}\n",
    "\\frac{2}{3} \\\\\n",
    "\\frac{1}{3} \\\\\n",
    "\\frac{-2}{3}\n",
    "\\end{bmatrix} = \\frac{2}{3} \\cdot \\frac{2}{3} + \\frac{1}{3} \\cdot \\frac{1}{3} + \\frac{-2}{3} \\cdot \\frac{-2}{3} = \\frac{4}{9} + \\frac{1}{9} + \\frac{4}{9} = 1\n",
    "$$\n",
    "\n",
    "$$\n",
    "\\langle u_3, u_3 \\rangle =\n",
    "\\begin{bmatrix}\n",
    "\\frac{2}{3} \\\\\n",
    "\\frac{-2}{3} \\\\\n",
    "\\frac{1}{3}\n",
    "\\end{bmatrix} \\cdot\n",
    "\\begin{bmatrix}\n",
    "\\frac{2}{3} \\\\\n",
    "\\frac{-2}{3} \\\\\n",
    "\\frac{1}{3}\n",
    "\\end{bmatrix} = \\frac{2}{3} \\cdot \\frac{2}{3} + \\frac{-2}{3} \\cdot \\frac{-2}{3} + \\frac{1}{3} \\cdot \\frac{1}{3} = \\frac{4}{9} + \\frac{4}{9} + \\frac{1}{9} = 1\n",
    "$$\n",
    "\n",
    "As they have a norm of one as well they are ortonormal basis in $\\mathbb{R}^3$.*"
   ]
  },
  {
   "cell_type": "code",
   "execution_count": 2,
   "id": "388f0518",
   "metadata": {},
   "outputs": [
    {
     "data": {
      "text/latex": [
       "$\\displaystyle \\left( \\left[\\begin{matrix}0.333333333333333\\\\0.666666666666667\\\\0.666666666666667\\end{matrix}\\right], \\  \\left[\\begin{matrix}0.666666666666667\\\\0.333333333333333\\\\-0.666666666666667\\end{matrix}\\right], \\  \\left[\\begin{matrix}0.666666666666667\\\\-0.666666666666667\\\\0.333333333333333\\end{matrix}\\right]\\right)$"
      ],
      "text/plain": [
       "⎛⎡0.333333333333333⎤  ⎡0.666666666666667 ⎤  ⎡0.666666666666667 ⎤⎞\n",
       "⎜⎢                 ⎥  ⎢                  ⎥  ⎢                  ⎥⎟\n",
       "⎜⎢0.666666666666667⎥, ⎢0.333333333333333 ⎥, ⎢-0.666666666666667⎥⎟\n",
       "⎜⎢                 ⎥  ⎢                  ⎥  ⎢                  ⎥⎟\n",
       "⎝⎣0.666666666666667⎦  ⎣-0.666666666666667⎦  ⎣0.333333333333333 ⎦⎠"
      ]
     },
     "execution_count": 2,
     "metadata": {},
     "output_type": "execute_result"
    }
   ],
   "source": [
    "u1 = Matrix([1/3,2/3,2/3])\n",
    "u2 = Matrix([2/3,1/3,-2/3])\n",
    "u3 = Matrix([2/3,-2/3,1/3])\n",
    "u1,u2,u3"
   ]
  },
  {
   "cell_type": "code",
   "execution_count": 3,
   "id": "77541a27",
   "metadata": {},
   "outputs": [
    {
     "data": {
      "image/png": "[encoded data removed]",
      "text/latex": [
       "$\\displaystyle \\left( 0, \\  0, \\  0\\right)$"
      ],
      "text/plain": [
       "(0, 0, 0)"
      ]
     },
     "execution_count": 3,
     "metadata": {},
     "output_type": "execute_result"
    }
   ],
   "source": [
    "u1.inner(u2),u1.inner(u3),u2.inner(u3)"
   ]
  },
  {
   "cell_type": "code",
   "execution_count": 4,
   "id": "f386b71e",
   "metadata": {},
   "outputs": [
    {
     "data": {
      "image/png": "[encoded data removed]",
      "text/latex": [
       "$\\displaystyle \\left( 1.0, \\  1.0, \\  1.0\\right)$"
      ],
      "text/plain": [
       "(1.0, 1.0, 1.0)"
      ]
     },
     "execution_count": 4,
     "metadata": {},
     "output_type": "execute_result"
    }
   ],
   "source": [
    "u1.norm(),u2.norm(),u3.norm()"
   ]
  },
  {
   "cell_type": "markdown",
   "id": "4cb9776a",
   "metadata": {},
   "source": [
    "#### Spørgsmål b"
   ]
  },
  {
   "cell_type": "markdown",
   "id": "19557d4c",
   "metadata": {},
   "source": [
    "Betragt vektoren $\\pmb{x} = [1,2,3]^T$. Udregn de indre produkter $\\langle \\pmb{x}, \\pmb{u}_k \\rangle$ for $k=1,2,3$."
   ]
  },
  {
   "cell_type": "markdown",
   "id": "2b0085e8",
   "metadata": {},
   "source": [
    "### Answer\n",
    "$$\n",
    "\\langle x,u_1 \\rangle = \n",
    "\\begin{bmatrix}\n",
    "1 \\\\\n",
    "2 \\\\\n",
    "3\n",
    "\\end{bmatrix} \\cdot\n",
    "\\begin{bmatrix}\n",
    "\\frac{1}{3} \\\\\n",
    "\\frac{2}{3} \\\\\n",
    "\\frac{2}{3}\n",
    "\\end{bmatrix} = \\frac{1}{3} + \\frac{4}{3}  + \\frac{6}{3} = 3 + \\frac{2}{3} \n",
    "$$\n",
    "\n",
    "$$\n",
    "\\langle x,u_2 \\rangle = \n",
    "\\begin{bmatrix}\n",
    "1 \\\\\n",
    "2 \\\\\n",
    "3\n",
    "\\end{bmatrix} \\cdot\n",
    "\\begin{bmatrix}\n",
    "\\frac{2}{3} \\\\\n",
    "\\frac{1}{3} \\\\\n",
    "\\frac{-2}{3}\n",
    "\\end{bmatrix} = \\frac{2}{3} + \\frac{2}{3}  + \\frac{-6}{3} = \\frac{-2}{3} \n",
    "$$\n",
    "\n",
    "$$\n",
    "\\langle x,u_3 \\rangle = \n",
    "\\begin{bmatrix}\n",
    "1 \\\\\n",
    "2 \\\\\n",
    "3\n",
    "\\end{bmatrix} \\cdot\n",
    "\\begin{bmatrix}\n",
    "\\frac{2}{3} \\\\\n",
    "\\frac{-2}{3} \\\\\n",
    "\\frac{1}{3}\n",
    "\\end{bmatrix} = \\frac{2}{3} + \\frac{-4}{3}  + \\frac{3}{3} = \\frac{1}{3} \n",
    "$$"
   ]
  },
  {
   "cell_type": "code",
   "execution_count": 5,
   "id": "29338d72",
   "metadata": {},
   "outputs": [
    {
     "data": {
      "text/latex": [
       "$\\displaystyle \\left[\\begin{matrix}1 & 2 & 3\\end{matrix}\\right]$"
      ],
      "text/plain": [
       "[1  2  3]"
      ]
     },
     "execution_count": 5,
     "metadata": {},
     "output_type": "execute_result"
    }
   ],
   "source": [
    "x = Matrix([1,2,3]).T\n",
    "x"
   ]
  },
  {
   "cell_type": "code",
   "execution_count": 6,
   "id": "d3edbdd6",
   "metadata": {},
   "outputs": [
    {
     "data": {
      "image/png": "[encoded data removed]",
      "text/latex": [
       "$\\displaystyle \\left( 3.66666666666667, \\  -0.666666666666667, \\  0.333333333333333\\right)$"
      ],
      "text/plain": [
       "(3.66666666666667, -0.666666666666667, 0.333333333333333)"
      ]
     },
     "execution_count": 6,
     "metadata": {},
     "output_type": "execute_result"
    }
   ],
   "source": [
    "u1.inner(x),u2.inner(x),u3.inner(x)"
   ]
  },
  {
   "cell_type": "markdown",
   "id": "51694895",
   "metadata": {},
   "source": [
    "#### Spørgsmål c"
   ]
  },
  {
   "cell_type": "markdown",
   "id": "2c79d760",
   "metadata": {},
   "source": [
    "Lad os kalde basen $\\beta = \\pmb{u}_1, \\pmb{u}_2, \\pmb{u}_3$. Angiv koordinatvektoren ${}_{\\beta} \\pmb{x}$ for $\\pmb{x}$ med hensyn til $\\beta$. Udregn normen af både $\\pmb{x}$ og koordinatvektoren ${}_{\\beta} \\pmb{x}$."
   ]
  },
  {
   "cell_type": "markdown",
   "id": "01608e12",
   "metadata": {},
   "source": [
    "#### Answer\n",
    "To do this we need to express x in terms of the basis vectors:\n",
    "$$\n",
    "x = c_1u_1 + c_2u_2 + c_3u_3  \n",
    "$$\n",
    "\n",
    "One thing we can note is that the values for $c_1, c_2, c_3 = \\langle x,u_1 \\rangle, \\langle x,u_2 \\rangle, \\langle x,u_3 \\rangle = 3 + \\frac{2}{3}, \\frac{-2}{3}, \\frac{1}{3}$\n",
    "\n",
    "so now we just need to calculate $||x||$ and $||{}_{\\beta} \\pmb{x}||$:\n",
    "$$\n",
    "\\sqrt{\\langle x,x \\rangle} =\n",
    "\\sqrt{\n",
    "\\begin{bmatrix}\n",
    "1 \\\\\n",
    "2 \\\\\n",
    "3\n",
    "\\end{bmatrix} \\cdot\n",
    "\\begin{bmatrix}\n",
    "1 \\\\\n",
    "2 \\\\\n",
    "3\n",
    "\\end{bmatrix}} = \\sqrt{1 + 4 + 9} = \\sqrt{14}\n",
    "$$\n",
    "\n",
    "As we know ${}_{\\beta} \\pmb{x} = \\begin{bmatrix} c_1 \\\\ c_2 \\\\ c_3 \\end{bmatrix} = \\begin{bmatrix} 3 + \\frac{2}{3} \\\\ \\frac{-2}{3} \\\\ \\frac{1}{3} \\end{bmatrix}$\n",
    "\n",
    "$$\n",
    "\\sqrt{\\langle {}_{\\beta} \\pmb{x},{}_{\\beta} \\pmb{x} \\rangle} =\n",
    "\\sqrt{\n",
    "\\begin{bmatrix}\n",
    "\\frac{11}{3} \\\\\n",
    "\\frac{-2}{3} \\\\\n",
    "\\frac{1}{3}\n",
    "\\end{bmatrix} \\cdot\n",
    "\\begin{bmatrix}\n",
    "\\frac{11}{3} \\\\\n",
    "\\frac{-2}{3} \\\\\n",
    "\\frac{1}{3}\n",
    "\\end{bmatrix}} = \\sqrt{\\frac{121}{9} + \\frac{4}{9} + \\frac{1}{9}} = \\sqrt{14} \\approx 3.742\n",
    "$$"
   ]
  },
  {
   "cell_type": "code",
   "execution_count": 7,
   "id": "47b1c52b",
   "metadata": {},
   "outputs": [
    {
     "data": {
      "image/png": "[encoded data removed]",
      "text/latex": [
       "$\\displaystyle \\left( \\left\\{ c_{1} : 3.66666666666667, \\  c_{2} : -0.666666666666667, \\  c_{3} : 0.333333333333333\\right\\}, \\  \\sqrt{14}, \\  3.74165738677394\\right)$"
      ],
      "text/plain": [
       "({c₁: 3.66666666666667, c₂: -0.666666666666667, c₃: 0.333333333333333}, √14, 3 ↪\n",
       "\n",
       "↪ .74165738677394)"
      ]
     },
     "execution_count": 7,
     "metadata": {},
     "output_type": "execute_result"
    }
   ],
   "source": [
    "c1,c2,c3 = symbols('c1 c2 c3')\n",
    "C = Matrix([c1,c2,c3])\n",
    "B = Matrix.hstack(u1,u2,u3)\n",
    "solution = solve(B * C - x.T, [c1, c2, c3])\n",
    "# Compute the norm of the coordinate vector [x]_β\n",
    "norm_c_sym = sqrt(solution[c1]**2 + solution[c2]**2 + solution[c3]**2)\n",
    "solution, x.norm(), norm_c_sym"
   ]
  },
  {
   "cell_type": "markdown",
   "id": "2cd4d5ea",
   "metadata": {},
   "source": [
    "#### Spørgsmål d"
   ]
  },
  {
   "cell_type": "markdown",
   "id": "2b2585f0",
   "metadata": {},
   "source": [
    "Dan $3\\times 3$-matricen $U = [\\pmb{u}_1 \\vert \\pmb{u}_2 \\vert \\pmb{u}_3]$ med $\\pmb{u}_1, \\pmb{u}_2, \\pmb{u}_3$ som de tre søjler. Udregn $U^T \\pmb{x}$ og sammenlign resultatet med forrige opgave."
   ]
  },
  {
   "cell_type": "markdown",
   "id": "d7a88098",
   "metadata": {},
   "source": [
    "#### Answer\n",
    "To do this we will write U:\n",
    "$$\n",
    "U = \n",
    "\\begin{bmatrix}\n",
    "\\frac{1}{3} & \\frac{2}{3} & \\frac{2}{3}\\\\\n",
    "\\frac{2}{3} & \\frac{1}{3} & -\\frac{2}{3}\\\\\n",
    "\\frac{2}{3} & -\\frac{2}{3} & \\frac{1}{3}\n",
    "\\end{bmatrix}\n",
    "$$\n",
    "We then transpose it:\n",
    "$$\n",
    "U^T = \n",
    "\\begin{bmatrix}\n",
    "\\frac{1}{3} & \\frac{2}{3} & \\frac{2}{3}\\\\\n",
    "\\frac{2}{3} & \\frac{1}{3} & -\\frac{2}{3}\\\\\n",
    "\\frac{2}{3} & -\\frac{2}{3} & \\frac{1}{3}\n",
    "\\end{bmatrix}\n",
    "$$\n",
    "We now need to calculate:\n",
    "$$\n",
    "U^T \\pmb{x} = \n",
    "\\begin{bmatrix}\n",
    "\\frac{1}{3} & \\frac{2}{3} & \\frac{2}{3}\\\\\n",
    "\\frac{2}{3} & \\frac{1}{3} & -\\frac{2}{3}\\\\\n",
    "\\frac{2}{3} & -\\frac{2}{3} & \\frac{1}{3}\n",
    "\\end{bmatrix} \\cdot\n",
    "\\begin{bmatrix}\n",
    "1 \\\\\n",
    "2 \\\\\n",
    "3\n",
    "\\end{bmatrix} =\n",
    "\\begin{bmatrix} \n",
    "3 + \\frac{2}{3} \\\\ \n",
    "\\frac{-2}{3} \\\\ \n",
    "\\frac{1}{3} \n",
    "\\end{bmatrix}\n",
    "$$\n",
    "\n",
    "As we can see it is the same as $c_1$, $c_2$ and $c_3$."
   ]
  },
  {
   "cell_type": "code",
   "execution_count": 8,
   "id": "0e8fd212",
   "metadata": {},
   "outputs": [
    {
     "data": {
      "text/latex": [
       "$\\displaystyle \\left( \\left[\\begin{matrix}0.333333333333333 & 0.666666666666667 & 0.666666666666667\\\\0.666666666666667 & 0.333333333333333 & -0.666666666666667\\\\0.666666666666667 & -0.666666666666667 & 0.333333333333333\\end{matrix}\\right], \\  \\left[\\begin{matrix}0.333333333333333 & 0.666666666666667 & 0.666666666666667\\\\0.666666666666667 & 0.333333333333333 & -0.666666666666667\\\\0.666666666666667 & -0.666666666666667 & 0.333333333333333\\end{matrix}\\right]\\right)$"
      ],
      "text/plain": [
       "⎛⎡0.333333333333333  0.666666666666667   0.666666666666667 ⎤  ⎡0.3333333333333 ↪\n",
       "⎜⎢                                                         ⎥  ⎢                ↪\n",
       "⎜⎢0.666666666666667  0.333333333333333   -0.666666666666667⎥, ⎢0.6666666666666 ↪\n",
       "⎜⎢                                                         ⎥  ⎢                ↪\n",
       "⎝⎣0.666666666666667  -0.666666666666667  0.333333333333333 ⎦  ⎣0.6666666666666 ↪\n",
       "\n",
       "↪ 33  0.666666666666667   0.666666666666667 ⎤⎞\n",
       "↪                                           ⎥⎟\n",
       "↪ 67  0.333333333333333   -0.666666666666667⎥⎟\n",
       "↪                                           ⎥⎟\n",
       "↪ 67  -0.666666666666667  0.333333333333333 ⎦⎠"
      ]
     },
     "execution_count": 8,
     "metadata": {},
     "output_type": "execute_result"
    }
   ],
   "source": [
    "U = Matrix.hstack(u1,u2,u3)\n",
    "U, U.T"
   ]
  },
  {
   "cell_type": "code",
   "execution_count": 9,
   "id": "072dec77",
   "metadata": {},
   "outputs": [
    {
     "data": {
      "text/latex": [
       "$\\displaystyle \\left[\\begin{matrix}3.66666666666667\\\\-0.666666666666667\\\\0.333333333333333\\end{matrix}\\right]$"
      ],
      "text/plain": [
       "⎡ 3.66666666666667 ⎤\n",
       "⎢                  ⎥\n",
       "⎢-0.666666666666667⎥\n",
       "⎢                  ⎥\n",
       "⎣0.333333333333333 ⎦"
      ]
     },
     "execution_count": 9,
     "metadata": {},
     "output_type": "execute_result"
    }
   ],
   "source": [
    "U.T*x.T"
   ]
  },
  {
   "cell_type": "markdown",
   "id": "d75c65df",
   "metadata": {},
   "source": [
    "### 2: Ortonormal basis (konstruktion). Håndregning."
   ]
  },
  {
   "cell_type": "markdown",
   "id": "584006df",
   "metadata": {},
   "source": [
    "Opstil en ortonormal basis i $\\mathbb{R}^3$, hvori \n",
    "\n",
    "\\begin{equation*}\n",
    "  \\left(\\frac {\\sqrt 2}2,\\frac {\\sqrt 2}2,0\\right)\n",
    "\\end{equation*}\n",
    "\n",
    "er den første basisvektor."
   ]
  },
  {
   "cell_type": "markdown",
   "id": "406fddf6",
   "metadata": {},
   "source": [
    "#### Answer\n",
    "To do this we need to find a vector $v = (x,y,z)$ that is orthogonal to $u_1$.\n",
    "$$\n",
    "\\langle u_1,v \\rangle = \n",
    "\\begin{bmatrix}\n",
    "\\frac{\\sqrt{2}}{2} \\\\\n",
    "\\frac{\\sqrt{2}}{2} \\\\\n",
    "0\n",
    "\\end{bmatrix} \\cdot\n",
    "\\begin{bmatrix}\n",
    "x \\\\\n",
    "y \\\\\n",
    "z\n",
    "\\end{bmatrix} = \\frac{\\sqrt{2}}{2} \\cdot x + \\frac{\\sqrt{2}}{2} \\cdot y + 0 \\cdot z = 0\n",
    "$$\n",
    "\n",
    "We can quickly see that we have $x+y=0$ which gives us that $x = -y$, so a simple choice satisfying this is $v = (1,-1,0)$. To make it a unit vector, we normalize:\n",
    "$$\n",
    "u_2 = \\frac{v}{||v||} = \\frac{(1,-1,0)}{\\sqrt{1^2 + (-1)^2 + 0^2}} = \\frac{(1,-1,0)}{\\sqrt{2}} = (\\frac{1}{\\sqrt{2}}, \\frac{-1}{\\sqrt{2}}, 0)\n",
    "$$\n",
    "We can now the third orthonormal vector using the cross product\n",
    "$$\n",
    "\\mathbf{u}_3 = \\mathbf{u}_1 \\times \\mathbf{u}_2 =\n",
    "\\begin{vmatrix}\n",
    "\\mathbf{i} & \\mathbf{j} & \\mathbf{k} \\\\\n",
    "\\frac{\\sqrt{2}}{2} & \\frac{\\sqrt{2}}{2} & 0 \\\\\n",
    "\\frac{1}{\\sqrt{2}} & \\frac{-1}{\\sqrt{2}} & 0\n",
    "\\end{vmatrix}\n",
    "$$\n",
    "\n",
    "Expanding along the first row:\n",
    "\n",
    "$$\n",
    "\\mathbf{u}_3 =\n",
    "\\mathbf{i} \\begin{vmatrix} \\frac{\\sqrt{2}}{2} & 0 \\\\ -\\frac{1}{\\sqrt{2}} & 0 \\end{vmatrix}\n",
    "- \\mathbf{j} \\begin{vmatrix} \\frac{\\sqrt{2}}{2} & 0 \\\\ \\frac{1}{\\sqrt{2}} & 0 \\end{vmatrix}\n",
    "+ \\mathbf{k} \\begin{vmatrix} \\frac{\\sqrt{2}}{2} & \\frac{\\sqrt{2}}{2} \\\\ \\frac{1}{\\sqrt{2}} & \\frac{-1}{\\sqrt{2}} \\end{vmatrix}\n",
    "$$\n",
    "\n",
    "Since the first two determinants are zero, we get:\n",
    "\n",
    "$$\n",
    "\\mathbf{u}_3 =\n",
    "\\mathbf{k} \\left( \\frac{\\sqrt{2}}{2} \\cdot \\frac{-1}{\\sqrt{2}} - \\frac{\\sqrt{2}}{2} \\cdot \\frac{1}{\\sqrt{2}} \\right)\n",
    "$$\n",
    "\n",
    "$$\n",
    "\\mathbf{u}_3 =\n",
    "\\mathbf{k} \\left( -\\frac{1}{2} - \\frac{1}{2} \\right) = \\mathbf{k} (-1) = (0,0,-1)\n",
    "$$\n",
    "\n",
    "so we now have that:\n",
    "$$\n",
    "u_1 = \n",
    "\\begin{bmatrix}\n",
    "\\frac{\\sqrt{2}}{2} \\\\\n",
    "\\frac{\\sqrt{2}}{2} \\\\\n",
    "0\n",
    "\\end{bmatrix}, \\quad\n",
    "u_2 =\n",
    "\\begin{bmatrix}\n",
    "\\frac{1}{\\sqrt{2}} \\\\\n",
    "\\frac{-1}{\\sqrt{2}} \\\\\n",
    "0\n",
    "\\end{bmatrix} \\quad \\text{and} \\quad\n",
    "u_3 = \n",
    "\\begin{bmatrix}\n",
    "0 \\\\\n",
    "0 \\\\\n",
    "-1\n",
    "\\end{bmatrix}\n",
    "$$\n",
    "which forms an orthonormal basis in $\\mathbb{R}^3$.\n"
   ]
  },
  {
   "cell_type": "markdown",
   "id": "c12759e2",
   "metadata": {},
   "source": [
    "### 3: Ortonormalisering. Håndregning."
   ]
  },
  {
   "cell_type": "markdown",
   "id": "c1bfddc8",
   "metadata": {},
   "source": [
    "Bestem løsningsmængden for den homogene ligning\n",
    "\n",
    "\\begin{equation*}\n",
    "  x_1+x_2+x_3=0\n",
    "\\end{equation*}\n",
    "\n",
    "og gør rede for at den er et underrum i $\\mathbb{R}^3$. Find en ortonormal basis for dette *løsningsrum*."
   ]
  },
  {
   "cell_type": "markdown",
   "id": "36bbf8c9",
   "metadata": {},
   "source": [
    "#### Answer\n",
    "To do this we will chose two free parameters $s$ and $t$, we can then write:\n",
    "$$\n",
    "x_1 = s , \\quad x_2 = t \\quad \\text{and} \\quad x_3 = -s-t\n",
    "$$\n",
    "Thereby we can describe \"løsningsmængden\" as:\n",
    "$$\n",
    "S = \\{(s,t,-s-t) : s,t \\in \\mathbb{R}\\}\n",
    "$$\n",
    "A alternative way of formulating this is:\n",
    "$$\n",
    "S = span\\{(1,0,-1),(0,1,-1)\\}\n",
    "$$\n",
    "As $s$ and $t$ can be choosen freely $S$ is a twodimensional \"underrum\" over $\\mathbb{R}^3$\n",
    "\n",
    "**Deciding the ortonormal basis**\n",
    "\n",
    "We start off by defining:\n",
    "$$\n",
    "v_1 = (1,0,-1) \\quad \\text{and} \\quad v_2 = (0,1,-1)\n",
    "$$\n",
    "Now lets find the ortonormal basis using the Gram-Schmidt-process:\n",
    "\n",
    "**Set the first vector as $u_1 = \\frac{v_1}{\\|v_1\\|}$**\n",
    "\n",
    "$$\n",
    "u_1 = \\frac{(1,0,-1)}{\\|(1,0,-1)\\|} = \\frac{(1,0,-1)}{\\sqrt{2}} = (\\frac{1}{\\sqrt{2}},0,\\frac{-1}{\\sqrt{2}})\n",
    "$$\n",
    "\n",
    "**Calculate the projection of $v_2$ on $u_1$**\n",
    "\n",
    "$$\n",
    "\\langle v_2, u_1 \\rangle =\n",
    "\\begin{bmatrix}\n",
    "0 \\\\\n",
    "1 \\\\\n",
    "-1\n",
    "\\end{bmatrix} \\cdot\n",
    "\\begin{bmatrix}\n",
    "\\frac{1}{\\sqrt{2}} \\\\\n",
    "0 \\\\\n",
    "\\frac{-1}{\\sqrt{2}}\n",
    "\\end{bmatrix} = 0 + 0 + (-1)\\cdot\\frac{-1}{\\sqrt{2}} = \\frac{1}{\\sqrt{2}}\n",
    "$$\n",
    "Now we can calculate the projection via the formular:\n",
    "$$\n",
    "||proj_y(x)||= \\frac{\\langle x,y \\rangle}{||y||}\n",
    "$$\n",
    "We now inser our values\n",
    "$$\n",
    "proj_{u_1}(v_2)= \\frac{\\langle v_2,u_1 \\rangle}{u_1} = \\frac{1}{\\sqrt{2}} \\cdot (\\frac{1}{\\sqrt{2}},0,\\frac{-1}{\\sqrt{2}}) = (\\frac{1}{2},0,\\frac{-1}{2})\n",
    "$$\n",
    "\n",
    "**Calculate $e_2$ and it's norm**\n",
    "\n",
    "We define:\n",
    "$$\n",
    "e_2 = v_2 - proj_{u_1}(v_2) = (0,1,-1) - (\\frac{1}{2},0,\\frac{-1}{2}) = (\\frac{-1}{2},1,\\frac{-1}{2})\n",
    "$$\n",
    "We calculate the norm\n",
    "$$\n",
    "||e_2|| = \\sqrt{(\\frac{-1}{2})^2+1^2+(\\frac{-1}{2})^2} = \\sqrt{\\frac{1}{4}+1+\\frac{1}{4}} = \\sqrt{\\frac{3}{2}} = \\frac{\\sqrt{6}}{2}\n",
    "$$\n",
    "\n",
    "**Normalize $e_2$ to get $u_2$**\n",
    "\n",
    "$$\n",
    "u_2 = \\frac{e_2}{||e_2||} = \\frac{(\\frac{-1}{2},1,\\frac{-1}{2})}{\\frac{\\sqrt{6}}{2}} = \\frac{2}{\\sqrt{6}} \\cdot (\\frac{-1}{2},1,\\frac{-1}{2}) = (\\frac{-1}{\\sqrt{6}},\\frac{2}{\\sqrt{6}},\\frac{-1}{\\sqrt{6}})\n",
    "$$\n",
    "\n",
    "#### Conclusion\n",
    "A ortonormal basis for \"løsningsmængden\" is given by:\n",
    "$$\n",
    "u_1 = (\\frac{1}{\\sqrt{2}},0,\\frac{-1}{\\sqrt{2}}) \\quad \\text{and} \\quad u_2 = (\\frac{-1}{\\sqrt{6}},\\frac{2}{\\sqrt{6}},\\frac{-1}{\\sqrt{6}})\n",
    "$$"
   ]
  },
  {
   "cell_type": "markdown",
   "id": "d39c0c25",
   "metadata": {},
   "source": [
    "### 4: Ortogonale projektioner"
   ]
  },
  {
   "cell_type": "markdown",
   "id": "b0188f0c",
   "metadata": {},
   "source": [
    "Lad $\\boldsymbol{y}=(2,1,2) \\in \\mathbb{R}^3$ være givet. Da er projektionen af $\\boldsymbol{x} \\in \\mathbb{R}^3$ på linjen $Y = \\operatorname{span}\\{\\boldsymbol{y}\\}$ givet ved:\n",
    "\n",
    "\\begin{equation*}\n",
    "\\operatorname{Proj}_Y(\\boldsymbol{x}) = \\frac{\\left<\\boldsymbol{x},\\boldsymbol{y} \\right>}{\\left<\\boldsymbol{y},\\boldsymbol{y} \\right>}\\boldsymbol{y}\n",
    "= \\left<\\boldsymbol{x},\\boldsymbol{u}\\right>\\boldsymbol{u},\n",
    "\\end{equation*}\n",
    "\n",
    "hvor $\\boldsymbol{u} = \\frac{\\boldsymbol{y}}{||\\boldsymbol{y}||}$."
   ]
  },
  {
   "cell_type": "markdown",
   "id": "fdcee312",
   "metadata": {},
   "source": [
    "#### Spørgsmål a"
   ]
  },
  {
   "cell_type": "markdown",
   "id": "4a039024",
   "metadata": {},
   "source": [
    "Lad $\\boldsymbol{x} = (1,2,3) \\in \\mathbb{R}^3$. Udregn $\\operatorname{Proj}_Y(\\boldsymbol{x})$, $\\operatorname{Proj}_Y(\\boldsymbol{y})$ og $\\operatorname{Proj}_Y(\\boldsymbol{u})$."
   ]
  },
  {
   "cell_type": "code",
   "execution_count": 10,
   "id": "d0dd10c6",
   "metadata": {},
   "outputs": [
    {
     "data": {
      "text/latex": [
       "$\\displaystyle \\left( \\left[\\begin{matrix}2\\\\1\\\\2\\end{matrix}\\right], \\  \\left[\\begin{matrix}1\\\\2\\\\3\\end{matrix}\\right]\\right)$"
      ],
      "text/plain": [
       "⎛⎡2⎤  ⎡1⎤⎞\n",
       "⎜⎢ ⎥  ⎢ ⎥⎟\n",
       "⎜⎢1⎥, ⎢2⎥⎟\n",
       "⎜⎢ ⎥  ⎢ ⎥⎟\n",
       "⎝⎣2⎦  ⎣3⎦⎠"
      ]
     },
     "execution_count": 10,
     "metadata": {},
     "output_type": "execute_result"
    }
   ],
   "source": [
    "y = Matrix([2,1,2])\n",
    "x = Matrix([1,2,3])\n",
    "y,x"
   ]
  },
  {
   "cell_type": "code",
   "execution_count": 11,
   "id": "55737bdf",
   "metadata": {},
   "outputs": [
    {
     "data": {
      "text/latex": [
       "$\\displaystyle \\left[\\begin{matrix}\\frac{2}{3}\\\\\\frac{1}{3}\\\\\\frac{2}{3}\\end{matrix}\\right]$"
      ],
      "text/plain": [
       "⎡2/3⎤\n",
       "⎢   ⎥\n",
       "⎢1/3⎥\n",
       "⎢   ⎥\n",
       "⎣2/3⎦"
      ]
     },
     "execution_count": 11,
     "metadata": {},
     "output_type": "execute_result"
    }
   ],
   "source": [
    "# we calculate u\n",
    "u = y / y.norm()\n",
    "u"
   ]
  },
  {
   "cell_type": "code",
   "execution_count": 12,
   "id": "ef171639",
   "metadata": {},
   "outputs": [
    {
     "data": {
      "text/latex": [
       "$\\displaystyle \\left[\\begin{matrix}\\frac{20}{9}\\\\\\frac{10}{9}\\\\\\frac{20}{9}\\end{matrix}\\right]$"
      ],
      "text/plain": [
       "⎡20/9⎤\n",
       "⎢    ⎥\n",
       "⎢10/9⎥\n",
       "⎢    ⎥\n",
       "⎣20/9⎦"
      ]
     },
     "execution_count": 12,
     "metadata": {},
     "output_type": "execute_result"
    }
   ],
   "source": [
    "# We calculate proj_Y(x)\n",
    "proj_Y_x = x.dot(u) * u\n",
    "proj_Y_x"
   ]
  },
  {
   "cell_type": "code",
   "execution_count": 13,
   "id": "10c129e4",
   "metadata": {},
   "outputs": [
    {
     "data": {
      "text/latex": [
       "$\\displaystyle \\left[\\begin{matrix}2\\\\1\\\\2\\end{matrix}\\right]$"
      ],
      "text/plain": [
       "⎡2⎤\n",
       "⎢ ⎥\n",
       "⎢1⎥\n",
       "⎢ ⎥\n",
       "⎣2⎦"
      ]
     },
     "execution_count": 13,
     "metadata": {},
     "output_type": "execute_result"
    }
   ],
   "source": [
    "# now proj_Y(y)\n",
    "proj_Y_y = y.dot(u) * u\n",
    "proj_Y_y"
   ]
  },
  {
   "cell_type": "code",
   "execution_count": 14,
   "id": "e440211b",
   "metadata": {},
   "outputs": [
    {
     "data": {
      "text/latex": [
       "$\\displaystyle \\left[\\begin{matrix}\\frac{2}{3}\\\\\\frac{1}{3}\\\\\\frac{2}{3}\\end{matrix}\\right]$"
      ],
      "text/plain": [
       "⎡2/3⎤\n",
       "⎢   ⎥\n",
       "⎢1/3⎥\n",
       "⎢   ⎥\n",
       "⎣2/3⎦"
      ]
     },
     "execution_count": 14,
     "metadata": {},
     "output_type": "execute_result"
    }
   ],
   "source": [
    "# lastly proj_Y(u)\n",
    "proj_Y_u = u.dot(u) * u\n",
    "proj_Y_u"
   ]
  },
  {
   "cell_type": "markdown",
   "id": "a180b9b2",
   "metadata": {},
   "source": [
    "#### Spørgsmål b"
   ]
  },
  {
   "cell_type": "markdown",
   "id": "054be28a",
   "metadata": {},
   "source": [
    "Vi opfatter som sædvanlig alle vektorer som søjlevektorer. Find nu $3 \\times 3$-matricen $P = \\pmb{u} \\pmb{u}^T$ og udregn både $P\\boldsymbol{x}$ og $P\\boldsymbol{y}$."
   ]
  },
  {
   "cell_type": "code",
   "execution_count": 15,
   "id": "4b69e572",
   "metadata": {},
   "outputs": [
    {
     "data": {
      "text/latex": [
       "$\\displaystyle \\left( \\left[\\begin{matrix}\\frac{4}{9} & \\frac{2}{9} & \\frac{4}{9}\\\\\\frac{2}{9} & \\frac{1}{9} & \\frac{2}{9}\\\\\\frac{4}{9} & \\frac{2}{9} & \\frac{4}{9}\\end{matrix}\\right], \\  \\left[\\begin{matrix}\\frac{20}{9}\\\\\\frac{10}{9}\\\\\\frac{20}{9}\\end{matrix}\\right], \\  \\left[\\begin{matrix}2\\\\1\\\\2\\end{matrix}\\right]\\right)$"
      ],
      "text/plain": [
       "⎛⎡4/9  2/9  4/9⎤  ⎡20/9⎤  ⎡2⎤⎞\n",
       "⎜⎢             ⎥  ⎢    ⎥  ⎢ ⎥⎟\n",
       "⎜⎢2/9  1/9  2/9⎥, ⎢10/9⎥, ⎢1⎥⎟\n",
       "⎜⎢             ⎥  ⎢    ⎥  ⎢ ⎥⎟\n",
       "⎝⎣4/9  2/9  4/9⎦  ⎣20/9⎦  ⎣2⎦⎠"
      ]
     },
     "execution_count": 15,
     "metadata": {},
     "output_type": "execute_result"
    }
   ],
   "source": [
    "P = u*u.T\n",
    "P, P*x,P*y"
   ]
  },
  {
   "cell_type": "markdown",
   "id": "d6e56850",
   "metadata": {},
   "source": [
    "### 5: En ortonormal basis for et underrum af $\\mathbb{C}^4$"
   ]
  },
  {
   "cell_type": "markdown",
   "id": "b02f0598",
   "metadata": {},
   "source": [
    "#### Spørgsmål a\n",
    "\n",
    "Find en orthonormal basis $\\pmb{u}_1, \\pmb{u}_2$ for underrummet $Y = \\operatorname{span}\\{\\pmb{v}_1, \\pmb{v}_2\\}$ udspændt af vektorerne:"
   ]
  },
  {
   "cell_type": "code",
   "execution_count": 16,
   "id": "ce088f02",
   "metadata": {
    "tags": [
     "remove-output"
    ]
   },
   "outputs": [],
   "source": [
    "v1 = Matrix([I, 1, 1, 0])\n",
    "v2 = Matrix([0, I, I, sqrt(2)])"
   ]
  },
  {
   "cell_type": "code",
   "execution_count": 17,
   "id": "9831be4b",
   "metadata": {},
   "outputs": [
    {
     "data": {
      "text/latex": [
       "$\\displaystyle \\left( \\left[\\begin{matrix}\\frac{\\sqrt{3} i}{3}\\\\\\frac{\\sqrt{3}}{3}\\\\\\frac{\\sqrt{3}}{3}\\\\0\\end{matrix}\\right], \\  \\left[\\begin{matrix}\\frac{\\sqrt{6}}{6}\\\\\\frac{\\sqrt{6} i}{12}\\\\\\frac{\\sqrt{6} i}{12}\\\\\\frac{\\sqrt{3}}{2}\\end{matrix}\\right], \\  \\left[ \\left[\\begin{matrix}\\frac{\\sqrt{3} i}{3}\\\\\\frac{\\sqrt{3}}{3}\\\\\\frac{\\sqrt{3}}{3}\\\\0\\end{matrix}\\right], \\  \\left[\\begin{matrix}\\frac{\\sqrt{6}}{6}\\\\\\frac{\\sqrt{6} i}{12}\\\\\\frac{\\sqrt{6} i}{12}\\\\\\frac{\\sqrt{3}}{2}\\end{matrix}\\right]\\right]\\right)$"
      ],
      "text/plain": [
       "⎛        ⎡ √6 ⎤  ⎡        ⎡ √6 ⎤⎤⎞\n",
       "⎜⎡√3⋅ⅈ⎤  ⎢ ── ⎥  ⎢⎡√3⋅ⅈ⎤  ⎢ ── ⎥⎥⎟\n",
       "⎜⎢────⎥  ⎢ 6  ⎥  ⎢⎢────⎥  ⎢ 6  ⎥⎥⎟\n",
       "⎜⎢ 3  ⎥  ⎢    ⎥  ⎢⎢ 3  ⎥  ⎢    ⎥⎥⎟\n",
       "⎜⎢    ⎥  ⎢√6⋅ⅈ⎥  ⎢⎢    ⎥  ⎢√6⋅ⅈ⎥⎥⎟\n",
       "⎜⎢ √3 ⎥  ⎢────⎥  ⎢⎢ √3 ⎥  ⎢────⎥⎥⎟\n",
       "⎜⎢ ── ⎥  ⎢ 12 ⎥  ⎢⎢ ── ⎥  ⎢ 12 ⎥⎥⎟\n",
       "⎜⎢ 3  ⎥, ⎢    ⎥, ⎢⎢ 3  ⎥, ⎢    ⎥⎥⎟\n",
       "⎜⎢    ⎥  ⎢√6⋅ⅈ⎥  ⎢⎢    ⎥  ⎢√6⋅ⅈ⎥⎥⎟\n",
       "⎜⎢ √3 ⎥  ⎢────⎥  ⎢⎢ √3 ⎥  ⎢────⎥⎥⎟\n",
       "⎜⎢ ── ⎥  ⎢ 12 ⎥  ⎢⎢ ── ⎥  ⎢ 12 ⎥⎥⎟\n",
       "⎜⎢ 3  ⎥  ⎢    ⎥  ⎢⎢ 3  ⎥  ⎢    ⎥⎥⎟\n",
       "⎜⎢    ⎥  ⎢ √3 ⎥  ⎢⎢    ⎥  ⎢ √3 ⎥⎥⎟\n",
       "⎜⎣ 0  ⎦  ⎢ ── ⎥  ⎢⎣ 0  ⎦  ⎢ ── ⎥⎥⎟\n",
       "⎝        ⎣ 2  ⎦  ⎣        ⎣ 2  ⎦⎦⎠"
      ]
     },
     "execution_count": 17,
     "metadata": {},
     "output_type": "execute_result"
    }
   ],
   "source": [
    "# We start of by normalizing v1\n",
    "u1 = v1 / v1.norm()\n",
    "\n",
    "# We project v2 onto u1\n",
    "proj_v2_u1 = v2.dot(u1) * u1\n",
    "\n",
    "# Subtract the projection from v2 to obtain the orthogonal component\n",
    "w2 = v2 - proj_v2_u1\n",
    "\n",
    "# Normalize the orthogonal component to get u2\n",
    "u2 = w2 / w2.norm()\n",
    "\n",
    "# We now have an orthonormal basis\n",
    "g = GramSchmidt([v1,v2], orthonormal=True) # All the above can be done as follows\n",
    "u1, u2, g"
   ]
  },
  {
   "cell_type": "markdown",
   "id": "beac28af",
   "metadata": {},
   "source": [
    "#### Spørgsmål b\n",
    "\n",
    "Lad \n",
    "\n",
    "\\begin{equation*}\n",
    "\\pmb{x} = \\left[\\begin{matrix}3 i\\\\3 - 2 i\\\\3 - 2 i\\\\-2\\sqrt{2}\\end{matrix}\\right]\n",
    "\\end{equation*}\n",
    "\n",
    "Udregn $\\langle \\pmb{x}, \\pmb{u}_1 \\rangle$, $\\langle \\pmb{x}, \\pmb{u}_2 \\rangle$ samt\n",
    "\n",
    "\\begin{equation*}\n",
    "\\langle \\pmb{x}, \\pmb{u}_1 \\rangle \\pmb{u}_1 + \\langle \\pmb{x}, \\pmb{u}_2 \\rangle \\pmb{u}_2  \n",
    "\\end{equation*}\n",
    "\n",
    "Hvad giver denne linearkombination? Tilhører $\\pmb{x}$ underrummet $Y$?"
   ]
  },
  {
   "cell_type": "code",
   "execution_count": 18,
   "id": "7760e2a1",
   "metadata": {},
   "outputs": [
    {
     "data": {
      "text/latex": [
       "$\\displaystyle \\left[\\begin{matrix}3 i\\\\3 - 2 i\\\\3 - 2 i\\\\- 2 \\sqrt{2}\\end{matrix}\\right]$"
      ],
      "text/plain": [
       "⎡  3⋅ⅈ  ⎤\n",
       "⎢       ⎥\n",
       "⎢3 - 2⋅ⅈ⎥\n",
       "⎢       ⎥\n",
       "⎢3 - 2⋅ⅈ⎥\n",
       "⎢       ⎥\n",
       "⎣ -2⋅√2 ⎦"
      ]
     },
     "execution_count": 18,
     "metadata": {},
     "output_type": "execute_result"
    }
   ],
   "source": [
    "x = Matrix([3*I,3-2*I,3-2*I,-2*sqrt(2)])\n",
    "x"
   ]
  },
  {
   "cell_type": "code",
   "execution_count": 19,
   "id": "01fc2fbd",
   "metadata": {},
   "outputs": [
    {
     "data": {
      "image/png": "[encoded data removed]",
      "text/latex": [
       "$\\displaystyle \\left( - \\sqrt{3} + \\frac{2 \\sqrt{3} \\left(3 - 2 i\\right)}{3}, \\  - \\sqrt{6} + \\frac{\\sqrt{6} i}{2} + \\frac{\\sqrt{6} i \\left(3 - 2 i\\right)}{6}\\right)$"
      ],
      "text/plain": [
       "⎛      2⋅√3⋅(3 - 2⋅ⅈ)        √6⋅ⅈ   √6⋅ⅈ⋅(3 - 2⋅ⅈ)⎞\n",
       "⎜-√3 + ──────────────, -√6 + ──── + ──────────────⎟\n",
       "⎝            3                2           6       ⎠"
      ]
     },
     "execution_count": 19,
     "metadata": {},
     "output_type": "execute_result"
    }
   ],
   "source": [
    "# we calculate <x,u1> and <x,u2>\n",
    "x.dot(u1),x.dot(u2)"
   ]
  },
  {
   "cell_type": "code",
   "execution_count": 20,
   "id": "bb5abe60",
   "metadata": {},
   "outputs": [
    {
     "data": {
      "text/latex": [
       "$\\displaystyle \\left[\\begin{matrix}\\frac{2}{3} + 2 i\\\\\\frac{1}{2} - \\frac{5 i}{3}\\\\\\frac{1}{2} - \\frac{5 i}{3}\\\\\\frac{\\sqrt{2} \\left(-2 + 3 i\\right)}{2}\\end{matrix}\\right]$"
      ],
      "text/plain": [
       "⎡  2/3 + 2⋅ⅈ  ⎤\n",
       "⎢             ⎥\n",
       "⎢   1   5⋅ⅈ   ⎥\n",
       "⎢   ─ - ───   ⎥\n",
       "⎢   2    3    ⎥\n",
       "⎢             ⎥\n",
       "⎢   1   5⋅ⅈ   ⎥\n",
       "⎢   ─ - ───   ⎥\n",
       "⎢   2    3    ⎥\n",
       "⎢             ⎥\n",
       "⎢√2⋅(-2 + 3⋅ⅈ)⎥\n",
       "⎢─────────────⎥\n",
       "⎣      2      ⎦"
      ]
     },
     "execution_count": 20,
     "metadata": {},
     "output_type": "execute_result"
    }
   ],
   "source": [
    "# we calculate <x,u1>u1 + <x,u2>u2\n",
    "proj_x = x.dot(u1) * u1 + x.dot(u2) * u2\n",
    "proj_x = simplify(proj_x)\n",
    "proj_x"
   ]
  },
  {
   "cell_type": "markdown",
   "id": "e53c656f",
   "metadata": {},
   "source": [
    "### 6: En Python algoritme"
   ]
  },
  {
   "cell_type": "markdown",
   "id": "a1572ccb",
   "metadata": {},
   "source": [
    "#### Spørgsmål a"
   ]
  },
  {
   "cell_type": "markdown",
   "id": "42875283",
   "metadata": {},
   "source": [
    "Betragt følgende kode og forklar hvad den gør. **Inden** du kører koden i en Jupyter notebook, skal du forklare hvad output bliver."
   ]
  },
  {
   "cell_type": "code",
   "execution_count": 21,
   "id": "6be3f71f",
   "metadata": {
    "tags": [
     "remove-output"
    ]
   },
   "outputs": [
    {
     "data": {
      "image/png": "[encoded data removed]",
      "text/latex": [
       "$\\displaystyle \\left[ x_{1} + 2 x_{2} + 3 x_{3} = 1, \\  4 x_{1} + 5 x_{2} + 6 x_{3} = 0, \\  5 x_{1} + 7 x_{2} + 8 x_{3} = -1\\right]$"
      ],
      "text/plain": [
       "[x₁ + 2⋅x₂ + 3⋅x₃ = 1, 4⋅x₁ + 5⋅x₂ + 6⋅x₃ = 0, 5⋅x₁ + 7⋅x₂ + 8⋅x₃ = -1]"
      ]
     },
     "execution_count": 21,
     "metadata": {},
     "output_type": "execute_result"
    }
   ],
   "source": [
    "from sympy import *\n",
    "from dtumathtools import *\n",
    "init_printing()\n",
    "\n",
    "x1, x2, x3 = symbols('x1:4', real=True)\n",
    "eqns = [Eq(1*x1 + 2*x2 + 3*x3, 1), Eq(4*x1 + 5*x2 + 6*x3, 0), Eq(5*x1 + 7*x2 + 8*x3, -1)]\n",
    "eqns"
   ]
  },
  {
   "cell_type": "markdown",
   "id": "d53f885a",
   "metadata": {},
   "source": [
    "#### Answer\n",
    "Outputs a list of the three equations"
   ]
  },
  {
   "cell_type": "code",
   "execution_count": 22,
   "id": "d4f215e8",
   "metadata": {
    "tags": [
     "remove-output"
    ]
   },
   "outputs": [
    {
     "data": {
      "text/latex": [
       "$\\displaystyle \\left( \\left[\\begin{matrix}1 & 2 & 3\\\\4 & 5 & 6\\\\5 & 7 & 8\\end{matrix}\\right], \\  \\left[\\begin{matrix}1\\\\0\\\\-1\\end{matrix}\\right], \\  \\left[\\begin{matrix}1 & 2 & 3 & 1\\\\4 & 5 & 6 & 0\\\\5 & 7 & 8 & -1\\end{matrix}\\right]\\right)$"
      ],
      "text/plain": [
       "⎛⎡1  2  3⎤  ⎡1 ⎤  ⎡1  2  3  1 ⎤⎞\n",
       "⎜⎢       ⎥  ⎢  ⎥  ⎢           ⎥⎟\n",
       "⎜⎢4  5  6⎥, ⎢0 ⎥, ⎢4  5  6  0 ⎥⎟\n",
       "⎜⎢       ⎥  ⎢  ⎥  ⎢           ⎥⎟\n",
       "⎝⎣5  7  8⎦  ⎣-1⎦  ⎣5  7  8  -1⎦⎠"
      ]
     },
     "execution_count": 22,
     "metadata": {},
     "output_type": "execute_result"
    }
   ],
   "source": [
    "A, b = linear_eq_to_matrix(eqns,x1,x2,x3)\n",
    "T = A.row_join(b)  # augmented matrix\n",
    "\n",
    "A, b, T"
   ]
  },
  {
   "cell_type": "markdown",
   "id": "a1eef2e6",
   "metadata": {},
   "source": [
    "#### Answer\n",
    "Converts a given System of Equations into Matrix form.\n",
    "\n",
    "We then build a totalmatrix from A and B."
   ]
  },
  {
   "cell_type": "markdown",
   "id": "08af7aff",
   "metadata": {},
   "source": [
    "#### Spørgsmål b"
   ]
  },
  {
   "cell_type": "markdown",
   "id": "17d7dbcb",
   "metadata": {},
   "source": [
    "Vi fortsætter Jupyter notebook'en med følgende kode (lad være med at køre den endnu). Ved hjælp at håndregning skal du gennemgå koden (løb for-loops'ne igennem). Hvilken $T$ matrix kommer der ud? Copy-paste koden til en chatbot fx https://copilot.microsoft.com/ (login med din dtu.dk-konto) og spørg chatbotten om den kan forklare koden linje for linje. Tjek resultatet ved at køre koden i en Python notebook. Husk at `T.shape[0]` giver antallet af række i matricen $T$."
   ]
  },
  {
   "cell_type": "code",
   "execution_count": 23,
   "id": "ea288d0d",
   "metadata": {
    "tags": [
     "remove-output"
    ]
   },
   "outputs": [
    {
     "data": {
      "text/latex": [
       "$\\displaystyle \\left[\\begin{matrix}1 & 2 & 3 & 1\\\\0 & 1 & 2 & \\frac{4}{3}\\\\0 & 0 & 1 & 2\\end{matrix}\\right]$"
      ],
      "text/plain": [
       "⎡1  2  3   1 ⎤\n",
       "⎢            ⎥\n",
       "⎢0  1  2  4/3⎥\n",
       "⎢            ⎥\n",
       "⎣0  0  1   2 ⎦"
      ]
     },
     "execution_count": 23,
     "metadata": {},
     "output_type": "execute_result"
    }
   ],
   "source": [
    "for col in range(T.shape[0]): # goes from 0 to 2\n",
    "    for row in range(col + 1, T.shape[0]): # goes from col + 1 to 2\n",
    "        # subtract the multiple of the row from the row above it\n",
    "        T[row, :] = T[row, :] - T[row, col] / T[col, col] * T[col, :]\n",
    "    # divide the row by the leading coefficient\n",
    "    T[col, :] = T[col, :] / T[col, col]\n",
    "\n",
    "T"
   ]
  },
  {
   "cell_type": "markdown",
   "id": "51494ac3",
   "metadata": {},
   "source": [
    "#### Spørgsmål c"
   ]
  },
  {
   "cell_type": "markdown",
   "id": "27bb3496",
   "metadata": {},
   "source": [
    "Skriv Python-kode der sørger for nuller over diagonalen i matricen $T$ så $T$ ender med at være på row reduced echelon form. \n",
    "\n",
    "**Note:** \n",
    "Du skal ikke tage højde for eventuelle divisioner med nul (for generelle $T$ matricer). Vi antager at udregningerne går godt."
   ]
  },
  {
   "cell_type": "code",
   "execution_count": 24,
   "id": "7935829b",
   "metadata": {},
   "outputs": [
    {
     "data": {
      "text/latex": [
       "$\\displaystyle \\left[\\begin{matrix}1.0 & 0 & 0 & 0.333333333333334\\\\0 & 1.0 & 0 & -2.66666666666667\\\\0 & 0 & 1.0 & 2.0\\end{matrix}\\right]$"
      ],
      "text/plain": [
       "⎡1.0   0    0   0.333333333333334⎤\n",
       "⎢                                ⎥\n",
       "⎢ 0   1.0   0   -2.66666666666667⎥\n",
       "⎢                                ⎥\n",
       "⎣ 0    0   1.0         2.0       ⎦"
      ]
     },
     "execution_count": 24,
     "metadata": {},
     "output_type": "execute_result"
    }
   ],
   "source": [
    "def rref(T: Matrix) -> Matrix:\n",
    "    # Convert T to a mutable Sympy Matrix with float entries.\n",
    "    T = Matrix(T)\n",
    "    T = Matrix([[float(entry) for entry in row] for row in T.tolist()])\n",
    "    m, n = T.shape\n",
    "    pivot_row = 0\n",
    "\n",
    "    # Forward elimination: Create zeros below each pivot.\n",
    "    for pivot_col in range(n):\n",
    "        if pivot_row >= m:\n",
    "            break\n",
    "\n",
    "        pivot = T[pivot_row, pivot_col]\n",
    "        # If the pivot is (nearly) zero, skip this column.\n",
    "        if abs(pivot) < 1e-12:\n",
    "            continue\n",
    "\n",
    "        # Normalize the pivot row so that the pivot becomes 1.\n",
    "        T.row_op(pivot_row, lambda v, j: v / pivot)\n",
    "\n",
    "        # Eliminate entries below the pivot.\n",
    "        for r in range(pivot_row + 1, m):\n",
    "            factor = T[r, pivot_col]\n",
    "            T.row_op(r, lambda v, j: v - factor * T[pivot_row, j])\n",
    "\n",
    "        pivot_row += 1\n",
    "\n",
    "    # Backward elimination: Create zeros above each pivot.\n",
    "    for i in range(m - 1, -1, -1):\n",
    "        # Find the pivot column in row i (first non-zero entry).\n",
    "        row_list = [abs(T[i, j]) for j in range(n)]\n",
    "        pivot_cols = [j for j in range(n) if row_list[j] > 1e-12]\n",
    "        if not pivot_cols:\n",
    "            continue  # Skip rows with no pivot.\n",
    "        pivot_col = pivot_cols[0]\n",
    "\n",
    "        # Eliminate entries above the pivot.\n",
    "        for r in range(i):\n",
    "            factor = T[r, pivot_col]\n",
    "            T.row_op(r, lambda v, j: v - factor * T[i, j])\n",
    "\n",
    "    return T\n",
    "\n",
    "T = rref(T)\n",
    "T"
   ]
  },
  {
   "cell_type": "markdown",
   "id": "ded8ba81",
   "metadata": {},
   "source": [
    "- $V$ er et indreprodukt­rum $\\langle \\cdot, \\cdot \\rangle$,\n",
    "  oftest $V = \\mathbb{R}^3$\n",
    "\n",
    "- $\\alpha$: $V_1, V_2, V_3, \\dots, V_n$ en basis for $V$\n",
    "\n",
    "- $\\beta$: $U_1, U_2, U_3, \\dots, U_n$ en ONB for $V$\n",
    "\n",
    "- $n = \\dim V$\n"
   ]
  },
  {
   "cell_type": "markdown",
   "id": "ba2c7152",
   "metadata": {},
   "source": [
    "#### Spørgsmål d"
   ]
  },
  {
   "cell_type": "markdown",
   "id": "de6c36aa",
   "metadata": {},
   "source": [
    "Hvad er det for en algoritme vi har implementeret? Test samme algoritme på:"
   ]
  },
  {
   "cell_type": "code",
   "execution_count": 25,
   "id": "7a7515ca",
   "metadata": {},
   "outputs": [
    {
     "data": {
      "text/latex": [
       "$\\displaystyle \\left[\\begin{matrix}1 & 2 & 3 & 0 & 1\\\\4 & 5 & 6 & 0 & 0\\\\4 & 5 & 6 & 0 & 0\\\\5 & 7 & 8 & 0 & -1\\end{matrix}\\right]$"
      ],
      "text/plain": [
       "⎡1  2  3  0  1 ⎤\n",
       "⎢              ⎥\n",
       "⎢4  5  6  0  0 ⎥\n",
       "⎢              ⎥\n",
       "⎢4  5  6  0  0 ⎥\n",
       "⎢              ⎥\n",
       "⎣5  7  8  0  -1⎦"
      ]
     },
     "execution_count": 25,
     "metadata": {},
     "output_type": "execute_result"
    }
   ],
   "source": [
    "x1, x2, x3, x4 = symbols('x1:5', real=True)\n",
    "eqns = [Eq(1*x1 + 2*x2 + 3*x3, 1), Eq(4*x1 + 5*x2 + 6*x3, 0), Eq(4*x1 + 5*x2 + 6*x3, 0), Eq(5*x1 + 7*x2 + 8*x3, -1)]\n",
    "A, b = linear_eq_to_matrix(eqns,x1,x2,x3,x4)\n",
    "T = A.row_join(b)  # augmented matrix\n",
    "T"
   ]
  },
  {
   "cell_type": "code",
   "execution_count": 26,
   "id": "e101b599",
   "metadata": {},
   "outputs": [
    {
     "data": {
      "text/latex": [
       "$\\displaystyle \\left[\\begin{matrix}1.0 & 0 & -2.0 & 0 & -3.66666666666667\\\\0 & 1.0 & 4.0 & 0 & 5.33333333333333\\\\0 & 0 & 0 & 0 & 0\\\\0 & 0 & -1.0 & 0 & -2.0\\end{matrix}\\right]$"
      ],
      "text/plain": [
       "⎡1.0   0   -2.0  0  -3.66666666666667⎤\n",
       "⎢                                    ⎥\n",
       "⎢ 0   1.0  4.0   0  5.33333333333333 ⎥\n",
       "⎢                                    ⎥\n",
       "⎢ 0    0    0    0          0        ⎥\n",
       "⎢                                    ⎥\n",
       "⎣ 0    0   -1.0  0        -2.0       ⎦"
      ]
     },
     "execution_count": 26,
     "metadata": {},
     "output_type": "execute_result"
    }
   ],
   "source": [
    "rref(T)"
   ]
  },
  {
   "cell_type": "markdown",
   "id": "befbc824",
   "metadata": {},
   "source": [
    "#### Answer\n",
    "The algorith is gausian elimination "
   ]
  },
  {
   "cell_type": "markdown",
   "id": "f6fad4d2",
   "metadata": {},
   "source": [
    "### 7: Ortogonale polynomier"
   ]
  },
  {
   "cell_type": "markdown",
   "id": "f98e7465",
   "metadata": {},
   "source": [
    "Dette er en <a href=\"../_assets/textbook_mat1b_en.pdf#exa:gram-schmidt-to-legendre\">opgave fra lærebogen</a>. Du kan finde hjælp der. \n",
    "\n",
    "Betragt listen $\\alpha=1,x,x^{2},x^{3}$ af polynomier i $P_{3}([-1,1])$ udstyret med $L^{2}$-indre produkt."
   ]
  },
  {
   "cell_type": "markdown",
   "id": "e1259322",
   "metadata": {},
   "source": [
    "#### Spørgsmål a"
   ]
  },
  {
   "cell_type": "markdown",
   "id": "144fceca",
   "metadata": {},
   "source": [
    "Argumenter for at $\\alpha$ er en liste af lineært uafhængige vektorer."
   ]
  },
  {
   "cell_type": "markdown",
   "id": "c41a0df9",
   "metadata": {},
   "source": [
    "#### Spørgsmål b"
   ]
  },
  {
   "cell_type": "markdown",
   "id": "e839e0d5",
   "metadata": {},
   "source": [
    "Anvend Gram-Schmidt-proceduren på $\\alpha$ og vis at proceduren giver en *normaliseret* udgave af <a href=\"../_assets/textbook_mat1b_en.pdf#exa:legendre-ortho-poly\">Legendre polynomierne</a>."
   ]
  },
  {
   "cell_type": "markdown",
   "id": "23fae524",
   "metadata": {},
   "source": [
    "___"
   ]
  },
  {
   "cell_type": "markdown",
   "id": "4d494486",
   "metadata": {},
   "source": [
    "## Opgaver -- Lille Dag"
   ]
  },
  {
   "cell_type": "markdown",
   "id": "d3d06162",
   "metadata": {},
   "source": [
    "### 1: Matrix-multiplikationer. Håndregning."
   ]
  },
  {
   "cell_type": "markdown",
   "id": "2a521886",
   "metadata": {},
   "source": [
    "Definer\n",
    "\n",
    "\\begin{equation*}\n",
    " A = \\left[\\begin{matrix}1 & 2 & 3 & 4\\\\5 & 6 & 7 & 8\\\\4 & 4 & 4 & 4\\end{matrix}\\right], \\quad\n",
    " \\pmb{x} = \\left[\\begin{matrix} x_1\\\\ x_2\\\\ x_3\\\\ x_4\\end{matrix}\\right] = \\left[\\begin{matrix}1\\\\2\\\\-1\\\\1\\end{matrix}\\right].\n",
    "\\end{equation*}\n",
    "\n",
    "\n",
    "Lad $\\pmb{a}_1, \\pmb{a}_2,\\pmb{a}_3,\\pmb{a}_4$ angive søjlerne i $A$. Lad $\\pmb{b}_1, \\pmb{b}_2,\\pmb{b}_3$ angive **rækkerne** i $A$. Vi udregner nu $A\\pmb{x}$ på to forskellige måder"
   ]
  },
  {
   "cell_type": "markdown",
   "id": "2098f5ab",
   "metadata": {},
   "source": [
    "#### Spørgsmål a"
   ]
  },
  {
   "cell_type": "markdown",
   "id": "9cbd0107",
   "metadata": {},
   "source": [
    "*Metode 1: Som linearkombination af søjlerne*. Udregn linearkombinationen\n",
    "\n",
    "\\begin{equation*}\n",
    "  x_1 \\pmb{a}_1 + x_2 \\pmb{a}_2 + x_3 \\pmb{a}_3 + x_4 \\pmb{a}_4\n",
    "\\end{equation*}"
   ]
  },
  {
   "cell_type": "markdown",
   "id": "5bfde252",
   "metadata": {},
   "source": [
    "![image.png](../images/l1aw3.png)"
   ]
  },
  {
   "cell_type": "markdown",
   "id": "c136784b",
   "metadata": {},
   "source": [
    "#### Spørgsmål b"
   ]
  },
  {
   "cell_type": "markdown",
   "id": "5318b93a",
   "metadata": {},
   "source": [
    "*Metode 2: Som \"prikprodukt\" af rækkerne i $A$ med $x$*. Udregn \n",
    "\n",
    "\\begin{equation*}\n",
    "\\left[\\begin{matrix} \\pmb{b}_1 \\pmb{x} \\\\ \\pmb{b}_2 \\pmb{x} \\\\ \\pmb{b}_3 \\pmb{x} \\end{matrix}\\right] \n",
    "\\end{equation*}\n",
    "\n",
    "**Note:**\n",
    "Da $\\pmb{b}_k$ er en rækkevektor, er $(\\pmb{b}_k)^T$ en søjlevektor. Produktet $\\pmb{b}_k \\pmb{x}$ svarer derfor til prikproduktet af $\\pmb{x}$ og $(\\pmb{b}_k)^T$."
   ]
  },
  {
   "cell_type": "markdown",
   "id": "2196e427",
   "metadata": {},
   "source": [
    "![image.png](../images/l1bw3.png)"
   ]
  },
  {
   "cell_type": "markdown",
   "id": "33365b0f",
   "metadata": {},
   "source": [
    "#### Spørgsmål c"
   ]
  },
  {
   "cell_type": "markdown",
   "id": "5886ba0a",
   "metadata": {},
   "source": [
    "Udregn $A\\pmb{x}$ i SymPy og sammenlign med dine udregninger i de forrige opgaver."
   ]
  },
  {
   "cell_type": "code",
   "execution_count": 27,
   "id": "14fbd39a",
   "metadata": {},
   "outputs": [
    {
     "data": {
      "text/latex": [
       "$\\displaystyle \\left( \\left[\\begin{matrix}1 & 2 & 3 & 4\\\\5 & 6 & 7 & 8\\\\4 & 4 & 4 & 4\\end{matrix}\\right], \\  \\left[\\begin{matrix}1\\\\2\\\\-1\\\\1\\end{matrix}\\right]\\right)$"
      ],
      "text/plain": [
       "⎛              ⎡1 ⎤⎞\n",
       "⎜⎡1  2  3  4⎤  ⎢  ⎥⎟\n",
       "⎜⎢          ⎥  ⎢2 ⎥⎟\n",
       "⎜⎢5  6  7  8⎥, ⎢  ⎥⎟\n",
       "⎜⎢          ⎥  ⎢-1⎥⎟\n",
       "⎜⎣4  4  4  4⎦  ⎢  ⎥⎟\n",
       "⎝              ⎣1 ⎦⎠"
      ]
     },
     "execution_count": 27,
     "metadata": {},
     "output_type": "execute_result"
    }
   ],
   "source": [
    "A = Matrix([[1, 2, 3, 4], [5, 6, 7, 8], [4, 4, 4, 4]])\n",
    "x = Matrix([1, 2, -1, 1])\n",
    "A,x"
   ]
  },
  {
   "cell_type": "code",
   "execution_count": 28,
   "id": "d44d78f5",
   "metadata": {},
   "outputs": [
    {
     "data": {
      "text/latex": [
       "$\\displaystyle \\left( \\left[\\begin{matrix}6\\\\18\\\\12\\end{matrix}\\right], \\  \\left[\\begin{matrix}6\\\\18\\\\12\\end{matrix}\\right]\\right)$"
      ],
      "text/plain": [
       "⎛⎡6 ⎤  ⎡6 ⎤⎞\n",
       "⎜⎢  ⎥  ⎢  ⎥⎟\n",
       "⎜⎢18⎥, ⎢18⎥⎟\n",
       "⎜⎢  ⎥  ⎢  ⎥⎟\n",
       "⎝⎣12⎦  ⎣12⎦⎠"
      ]
     },
     "execution_count": 28,
     "metadata": {},
     "output_type": "execute_result"
    }
   ],
   "source": [
    "A*x, Matrix([A[0,:].dot(x), A[1,:].dot(x), A[2,:].dot(x)])"
   ]
  },
  {
   "cell_type": "markdown",
   "id": "f4ab21d7",
   "metadata": {},
   "source": [
    "### 2: Et underrum i $\\mathbb{C}^4$ og dets ortogonale komplement"
   ]
  },
  {
   "cell_type": "markdown",
   "id": "04b47832",
   "metadata": {},
   "source": [
    "Lad i $\\mathbb{C}^4$ være givet vektorerne\n",
    "\\begin{equation*}\n",
    "  \\pmb{v}_1=(1,1,1,1),\\,\\pmb{v}_2=(3 i ,i,i,3 i),\\,\\pmb{v}_3=(2,0,-2,4)\\,\\,\\,\\,\\operatorname{og}\\,\\,\\,\\,\\pmb{v}_4=(4-3i,2-i,-i,6-3i).\n",
    "\\end{equation*}\n",
    "\n",
    "Et underrum $Y$ i $\\mathbb{C}^4$ er bestemt ved $Y=\\operatorname{span}\\lbrace\\pmb{v}_1,\\pmb{v}_2,\\pmb{v}_3,\\pmb{v}_4\\rbrace$."
   ]
  },
  {
   "cell_type": "markdown",
   "id": "fca92d1d",
   "metadata": {},
   "source": [
    "#### Spørgsmål a"
   ]
  },
  {
   "cell_type": "code",
   "execution_count": 29,
   "id": "353ff7b1",
   "metadata": {},
   "outputs": [],
   "source": [
    "v1 = Matrix([1,1,1,1])\n",
    "v2 = Matrix([3*I,I,I,3*I])\n",
    "v3 = Matrix([2,0,-2,4])\n",
    "v4 = Matrix([4-3*I,2-I,-I,6-3*I])"
   ]
  },
  {
   "cell_type": "markdown",
   "id": "84b51946",
   "metadata": {},
   "source": [
    "Kør kommandoen `GramSchmidt([v1,v2,v3,v4], orthonormal=True)` i Python. Hvad fortæller Python jer?"
   ]
  },
  {
   "cell_type": "code",
   "execution_count": 30,
   "id": "86d478bc",
   "metadata": {},
   "outputs": [
    {
     "ename": "ValueError",
     "evalue": "GramSchmidt: vector set not linearly independent",
     "output_type": "error",
     "traceback": [
      "\u001b[1;31m---------------------------------------------------------------------------\u001b[0m",
      "\u001b[1;31mValueError\u001b[0m                                Traceback (most recent call last)",
      "Cell \u001b[1;32mIn[30], line 1\u001b[0m\n\u001b[1;32m----> 1\u001b[0m \u001b[43mGramSchmidt\u001b[49m\u001b[43m(\u001b[49m\u001b[43m[\u001b[49m\u001b[43mv1\u001b[49m\u001b[43m,\u001b[49m\u001b[43m \u001b[49m\u001b[43mv2\u001b[49m\u001b[43m,\u001b[49m\u001b[43m \u001b[49m\u001b[43mv3\u001b[49m\u001b[43m,\u001b[49m\u001b[43m \u001b[49m\u001b[43mv4\u001b[49m\u001b[43m]\u001b[49m\u001b[43m,\u001b[49m\u001b[43m \u001b[49m\u001b[43morthonormal\u001b[49m\u001b[43m \u001b[49m\u001b[38;5;241;43m=\u001b[39;49m\u001b[43m \u001b[49m\u001b[38;5;28;43;01mTrue\u001b[39;49;00m\u001b[43m)\u001b[49m\n",
      "File \u001b[1;32mc:\\Users\\chris\\.conda\\envs\\DTUMisc\\Lib\\site-packages\\sympy\\matrices\\dense.py:832\u001b[0m, in \u001b[0;36mGramSchmidt\u001b[1;34m(vlist, orthonormal)\u001b[0m\n\u001b[0;32m    796\u001b[0m \u001b[38;5;28;01mdef\u001b[39;00m \u001b[38;5;21mGramSchmidt\u001b[39m(vlist, orthonormal\u001b[38;5;241m=\u001b[39m\u001b[38;5;28;01mFalse\u001b[39;00m):\n\u001b[0;32m    797\u001b[0m \u001b[38;5;250m    \u001b[39m\u001b[38;5;124;03m\"\"\"Apply the Gram-Schmidt process to a set of vectors.\u001b[39;00m\n\u001b[0;32m    798\u001b[0m \n\u001b[0;32m    799\u001b[0m \u001b[38;5;124;03m    Parameters\u001b[39;00m\n\u001b[1;32m   (...)\u001b[0m\n\u001b[0;32m    830\u001b[0m \u001b[38;5;124;03m    .. [1] https://en.wikipedia.org/wiki/Gram%E2%80%93Schmidt_process\u001b[39;00m\n\u001b[0;32m    831\u001b[0m \u001b[38;5;124;03m    \"\"\"\u001b[39;00m\n\u001b[1;32m--> 832\u001b[0m     \u001b[38;5;28;01mreturn\u001b[39;00m \u001b[43mMutableDenseMatrix\u001b[49m\u001b[38;5;241;43m.\u001b[39;49m\u001b[43morthogonalize\u001b[49m\u001b[43m(\u001b[49m\n\u001b[0;32m    833\u001b[0m \u001b[43m        \u001b[49m\u001b[38;5;241;43m*\u001b[39;49m\u001b[43mvlist\u001b[49m\u001b[43m,\u001b[49m\u001b[43m \u001b[49m\u001b[43mnormalize\u001b[49m\u001b[38;5;241;43m=\u001b[39;49m\u001b[43morthonormal\u001b[49m\u001b[43m,\u001b[49m\u001b[43m \u001b[49m\u001b[43mrankcheck\u001b[49m\u001b[38;5;241;43m=\u001b[39;49m\u001b[38;5;28;43;01mTrue\u001b[39;49;00m\n\u001b[0;32m    834\u001b[0m \u001b[43m    \u001b[49m\u001b[43m)\u001b[49m\n",
      "File \u001b[1;32mc:\\Users\\chris\\.conda\\envs\\DTUMisc\\Lib\\site-packages\\sympy\\matrices\\matrixbase.py:3323\u001b[0m, in \u001b[0;36mMatrixBase.orthogonalize\u001b[1;34m(cls, *vecs, **kwargs)\u001b[0m\n\u001b[0;32m   3322\u001b[0m \u001b[38;5;28;01mdef\u001b[39;00m \u001b[38;5;21morthogonalize\u001b[39m(\u001b[38;5;28mcls\u001b[39m, \u001b[38;5;241m*\u001b[39mvecs, \u001b[38;5;241m*\u001b[39m\u001b[38;5;241m*\u001b[39mkwargs):\n\u001b[1;32m-> 3323\u001b[0m     \u001b[38;5;28;01mreturn\u001b[39;00m \u001b[43m_orthogonalize\u001b[49m\u001b[43m(\u001b[49m\u001b[38;5;28;43mcls\u001b[39;49m\u001b[43m,\u001b[49m\u001b[43m \u001b[49m\u001b[38;5;241;43m*\u001b[39;49m\u001b[43mvecs\u001b[49m\u001b[43m,\u001b[49m\u001b[43m \u001b[49m\u001b[38;5;241;43m*\u001b[39;49m\u001b[38;5;241;43m*\u001b[39;49m\u001b[43mkwargs\u001b[49m\u001b[43m)\u001b[49m\n",
      "File \u001b[1;32mc:\\Users\\chris\\.conda\\envs\\DTUMisc\\Lib\\site-packages\\sympy\\matrices\\subspaces.py:165\u001b[0m, in \u001b[0;36m_orthogonalize\u001b[1;34m(cls, normalize, rankcheck, *vecs)\u001b[0m\n\u001b[0;32m    162\u001b[0m Q, R \u001b[38;5;241m=\u001b[39m _QRdecomposition_optional(M, normalize\u001b[38;5;241m=\u001b[39mnormalize)\n\u001b[0;32m    164\u001b[0m \u001b[38;5;28;01mif\u001b[39;00m rankcheck \u001b[38;5;129;01mand\u001b[39;00m Q\u001b[38;5;241m.\u001b[39mcols \u001b[38;5;241m<\u001b[39m \u001b[38;5;28mlen\u001b[39m(vecs):\n\u001b[1;32m--> 165\u001b[0m     \u001b[38;5;28;01mraise\u001b[39;00m \u001b[38;5;167;01mValueError\u001b[39;00m(\u001b[38;5;124m\"\u001b[39m\u001b[38;5;124mGramSchmidt: vector set not linearly independent\u001b[39m\u001b[38;5;124m\"\u001b[39m)\n\u001b[0;32m    167\u001b[0m ret \u001b[38;5;241m=\u001b[39m []\n\u001b[0;32m    168\u001b[0m \u001b[38;5;28;01mfor\u001b[39;00m i \u001b[38;5;129;01min\u001b[39;00m \u001b[38;5;28mrange\u001b[39m(Q\u001b[38;5;241m.\u001b[39mcols):\n",
      "\u001b[1;31mValueError\u001b[0m: GramSchmidt: vector set not linearly independent"
     ]
    }
   ],
   "source": [
    "GramSchmidt([v1, v2, v3, v4], orthonormal = True)"
   ]
  },
  {
   "cell_type": "markdown",
   "id": "721184de",
   "metadata": {},
   "source": [
    "#### Answer\n",
    "When running the function we get a error saying that the vectors are not linearly independant, meaning that at least one vector can be described as a linear combination of the others. This means that they dont make a basis for $\\mathbb{C}^4$, and the function can therefore not produce a full set of ortonomal vectors for the hole space. In other words, $Y=\\operatorname{span}\\lbrace\\pmb{v}_1,\\pmb{v}_2,\\pmb{v}_3,\\pmb{v}_4\\rbrace$ has a dimension that is less than four."
   ]
  },
  {
   "cell_type": "markdown",
   "id": "dcb8a346",
   "metadata": {},
   "source": [
    "#### Spørgsmål b"
   ]
  },
  {
   "cell_type": "markdown",
   "id": "5ff09174",
   "metadata": {},
   "source": [
    "Vis nu at $(\\pmb{v}_1,\\pmb{v}_2,\\pmb{v}_3)\\,$ er en basis for $Y$, og find koordinatvektoren for $\\pmb{v}_4\\,$ med hensyn til denne basis."
   ]
  },
  {
   "cell_type": "markdown",
   "id": "859394f7",
   "metadata": {},
   "source": [
    "#### Answer\n",
    "To show that $(v_1,v_2,v_3)$ is a basis for $Y$, we need to show that they are linearly independant."
   ]
  },
  {
   "cell_type": "code",
   "execution_count": null,
   "id": "71a05ed0",
   "metadata": {},
   "outputs": [
    {
     "data": {
      "image/png": "[encoded data removed]",
      "text/latex": [
       "$\\displaystyle \\left[ \\right]$"
      ],
      "text/plain": [
       "[]"
      ]
     },
     "execution_count": 121,
     "metadata": {},
     "output_type": "execute_result"
    }
   ],
   "source": [
    "x1, x2, x3 = symbols('x1:4', real=True)\n",
    "variables = Matrix([x1, x2, x3])\n",
    "# we can now define x1*v1 + x2*v2 + x2*v3 = 0\n",
    "V = Matrix.hstack(v1,v2,v3)*variables\n",
    "eq = Eq(V,Matrix([0,0,0]))\n",
    "\n",
    "# we can now solve the equation\n",
    "solution = solve(eq,variables)\n",
    "solution"
   ]
  },
  {
   "cell_type": "markdown",
   "id": "05816995",
   "metadata": {},
   "source": [
    "As there is no solution, the only possibility is that they are linearly independant.\n",
    "We now need to find the cordinate vector for $v_4$. To do this we will say that there exists an $a,b,c \\in \\mathbb{C}$, so that\n",
    "$$\n",
    "av_1 + bv_2 + cv_3 = v_4\n",
    "$$"
   ]
  },
  {
   "cell_type": "code",
   "execution_count": null,
   "id": "753cc7f1",
   "metadata": {},
   "outputs": [
    {
     "data": {
      "text/latex": [
       "$\\displaystyle \\left[\\begin{matrix}a\\\\b\\\\c\\end{matrix}\\right]$"
      ],
      "text/plain": [
       "⎡a⎤\n",
       "⎢ ⎥\n",
       "⎢b⎥\n",
       "⎢ ⎥\n",
       "⎣c⎦"
      ]
     },
     "execution_count": 100,
     "metadata": {},
     "output_type": "execute_result"
    }
   ],
   "source": [
    "a,b,c = symbols('a b c')\n",
    "variables = Matrix([a,b,c])\n",
    "variables"
   ]
  },
  {
   "cell_type": "code",
   "execution_count": null,
   "id": "35479cad",
   "metadata": {},
   "outputs": [
    {
     "data": {
      "image/png": "[encoded data removed]",
      "text/latex": [
       "$\\displaystyle \\left\\{ a : 2, \\  b : -1, \\  c : 1\\right\\}$"
      ],
      "text/plain": [
       "{a: 2, b: -1, c: 1}"
      ]
     },
     "execution_count": 113,
     "metadata": {},
     "output_type": "execute_result"
    }
   ],
   "source": [
    "# we can now define av1 + bv2 + cv3 = v4\n",
    "V = Matrix.hstack(v1,v2,v3)*variables\n",
    "eq = Eq(V,v4)\n",
    "\n",
    "# we can now solve for a,b,c\n",
    "solution = solve(eq, [a, b, c])\n",
    "solution"
   ]
  },
  {
   "cell_type": "markdown",
   "id": "a1587562",
   "metadata": {},
   "source": [
    "This means that we can define $v_4$ as\n",
    "$$\n",
    "v_4 = 2v_1-v_2+v_3\n",
    "$$\n",
    "as $v_4$ can be written as a linear combination of $v_1,v_2,v_3$ we have that\n",
    "$$\n",
    "Y = span\\{v_1,v_2,v_3,v_4\\} = span\\{v_1,v_2,v_3\\}\n",
    "$$\n",
    "And that with regards to the basis $(v_1,v_2,v_3)$, the cordinate vector $v_4$ is given by\n",
    "$$\n",
    "v_4 = \\begin{bmatrix} 2 \\\\ -1 \\\\ 1 \\end{bmatrix}\n",
    "$$"
   ]
  },
  {
   "cell_type": "markdown",
   "id": "b02704f4",
   "metadata": {},
   "source": [
    "#### Spørgsmål c"
   ]
  },
  {
   "cell_type": "markdown",
   "id": "4492fef8",
   "metadata": {},
   "source": [
    "Angiv en ortonormal basis for $Y$."
   ]
  },
  {
   "cell_type": "markdown",
   "id": "c9450719",
   "metadata": {},
   "source": [
    "#### Answer\n",
    "To do this we can just use the Gram-schmidt algorithm"
   ]
  },
  {
   "cell_type": "code",
   "execution_count": null,
   "id": "e8a20a10",
   "metadata": {},
   "outputs": [
    {
     "data": {
      "text/latex": [
       "$\\displaystyle \\left( \\left[\\begin{matrix}\\frac{1}{2}\\\\\\frac{1}{2}\\\\\\frac{1}{2}\\\\\\frac{1}{2}\\end{matrix}\\right], \\  \\left[\\begin{matrix}\\frac{i}{2}\\\\- \\frac{i}{2}\\\\- \\frac{i}{2}\\\\\\frac{i}{2}\\end{matrix}\\right], \\  \\left[\\begin{matrix}- \\frac{1}{2}\\\\\\frac{1}{2}\\\\- \\frac{1}{2}\\\\\\frac{1}{2}\\end{matrix}\\right]\\right)$"
      ],
      "text/plain": [
       "⎛       ⎡ ⅈ ⎤        ⎞\n",
       "⎜       ⎢ ─ ⎥        ⎟\n",
       "⎜       ⎢ 2 ⎥        ⎟\n",
       "⎜       ⎢   ⎥        ⎟\n",
       "⎜⎡1/2⎤  ⎢-ⅈ ⎥  ⎡-1/2⎤⎟\n",
       "⎜⎢   ⎥  ⎢───⎥  ⎢    ⎥⎟\n",
       "⎜⎢1/2⎥  ⎢ 2 ⎥  ⎢1/2 ⎥⎟\n",
       "⎜⎢   ⎥, ⎢   ⎥, ⎢    ⎥⎟\n",
       "⎜⎢1/2⎥  ⎢-ⅈ ⎥  ⎢-1/2⎥⎟\n",
       "⎜⎢   ⎥  ⎢───⎥  ⎢    ⎥⎟\n",
       "⎜⎣1/2⎦  ⎢ 2 ⎥  ⎣1/2 ⎦⎟\n",
       "⎜       ⎢   ⎥        ⎟\n",
       "⎜       ⎢ ⅈ ⎥        ⎟\n",
       "⎜       ⎢ ─ ⎥        ⎟\n",
       "⎝       ⎣ 2 ⎦        ⎠"
      ]
     },
     "execution_count": 154,
     "metadata": {},
     "output_type": "execute_result"
    }
   ],
   "source": [
    "orto_v1, orto_v2, orto_v3 = GramSchmidt([v1, v2, v3], orthonormal = True)\n",
    "orto_v1, orto_v2, orto_v3"
   ]
  },
  {
   "cell_type": "markdown",
   "id": "fed64d17",
   "metadata": {},
   "source": [
    "#### Spørgsmål d\n",
    "\n",
    "Find koordinatvektoren for $\\pmb{v}_4 \\in Y$ med hensyn til ortonormal basen for $Y$."
   ]
  },
  {
   "cell_type": "code",
   "execution_count": null,
   "id": "26bcccbc",
   "metadata": {},
   "outputs": [
    {
     "data": {
      "image/png": "[encoded data removed]",
      "text/latex": [
       "$\\displaystyle \\left\\{ a : 6 - 4 i, \\  b : -2 - 4 i, \\  c : 2\\right\\}$"
      ],
      "text/plain": [
       "{a: 6 - 4⋅ⅈ, b: -2 - 4⋅ⅈ, c: 2}"
      ]
     },
     "execution_count": 155,
     "metadata": {},
     "output_type": "execute_result"
    }
   ],
   "source": [
    "# We just do as above\n",
    "a,b,c = symbols('a b c')\n",
    "variables = Matrix([a,b,c])\n",
    "V = Matrix.hstack(orto_v1,orto_v2,orto_v3)*variables\n",
    "\n",
    "eq = Eq(V,v4)\n",
    "solution = solve(eq, [a, b, c])\n",
    "solution"
   ]
  },
  {
   "cell_type": "markdown",
   "id": "66ecca57",
   "metadata": {},
   "source": [
    "the coordinate vector is:\n",
    "$$\n",
    "v_4 = \\begin{bmatrix} 6 - 4i \\\\ -2 - 4i \\\\ 2 \\end{bmatrix}\n",
    "$$"
   ]
  },
  {
   "cell_type": "markdown",
   "id": "47639d44",
   "metadata": {},
   "source": [
    "#### Spørgsmål e\n",
    "\n",
    "Bestem det ortogonale komplement $Y^\\perp$ i $\\mathbb{C}^4$ til $Y$. "
   ]
  },
  {
   "cell_type": "markdown",
   "id": "0a0faa65",
   "metadata": {},
   "source": [
    "#### Answer\n",
    "We know that the ortogonale komplement is defined as:\n",
    "$$\n",
    "Y^\\perp = \\{ v \\in V \\mid \\langle v, y \\rangle = 0 \\text{ for alle } y \\in Y \\}\n",
    "$$\n",
    "\n",
    "Meaning what we need to find is all $z = (z_1,z_2,z_3,z_4) \\in \\mathbb{C}^4$, that are ortogonale to all vectors in Y. We also demand that:\n",
    "$$\n",
    "\\langle z, v_j \\rangle = 0, \\quad j = 1,2,3\n",
    "$$\n",
    "now let's write up all of there equations"
   ]
  },
  {
   "cell_type": "code",
   "execution_count": null,
   "id": "89846ac9",
   "metadata": {},
   "outputs": [
    {
     "data": {
      "image/png": "[encoded data removed]",
      "text/latex": [
       "$\\displaystyle \\left( z_{1} + z_{2} + z_{3} + z_{4} = 0, \\  3 i z_{1} + i z_{2} + i z_{3} + 3 i z_{4} = 0, \\  2 z_{1} - 2 z_{3} + 4 z_{4} = 0\\right)$"
      ],
      "text/plain": [
       "(z₁ + z₂ + z₃ + z₄ = 0, 3⋅ⅈ⋅z₁ + ⅈ⋅z₂ + ⅈ⋅z₃ + 3⋅ⅈ⋅z₄ = 0, 2⋅z₁ - 2⋅z₃ + 4⋅z₄  ↪\n",
       "\n",
       "↪ = 0)"
      ]
     },
     "execution_count": 160,
     "metadata": {},
     "output_type": "execute_result"
    }
   ],
   "source": [
    "z1,z2,z3,z4 = symbols('z1 z2 z3 z4')\n",
    "variables = Matrix([z1,z2,z3,z4])\n",
    "\n",
    "# <z,v1> = 0\n",
    "eq1 = Eq(v1.dot(variables),0)\n",
    "# <z,v2> = 0\n",
    "eq2 = Eq(v2.dot(variables),0)\n",
    "# <z,v3> = 0\n",
    "eq3 = Eq(v3.dot(variables),0)\n",
    "\n",
    "eq1,eq2,eq3"
   ]
  },
  {
   "cell_type": "markdown",
   "id": "afbc72ab",
   "metadata": {},
   "source": [
    "We can now solve the linear system"
   ]
  },
  {
   "cell_type": "code",
   "execution_count": null,
   "id": "32fb33de",
   "metadata": {},
   "outputs": [
    {
     "data": {
      "image/png": "[encoded data removed]",
      "text/latex": [
       "$\\displaystyle \\left\\{ z_{1} : - z_{4}, \\  z_{2} : - z_{4}, \\  z_{3} : z_{4}\\right\\}$"
      ],
      "text/plain": [
       "{z₁: -z₄, z₂: -z₄, z₃: z₄}"
      ]
     },
     "execution_count": 161,
     "metadata": {},
     "output_type": "execute_result"
    }
   ],
   "source": [
    "# we solve the liear system\n",
    "solution = solve([eq1,eq2,eq3], [z1,z2,z3,z4])\n",
    "solution"
   ]
  },
  {
   "cell_type": "markdown",
   "id": "d25d3b7a",
   "metadata": {},
   "source": [
    "Choosing $t \\in \\mathbb{C}$ as a free parameter we get:\n",
    "$$\n",
    "\\begin{bmatrix}\n",
    "t \\\\\n",
    "t \\\\\n",
    "-t \\\\\n",
    "-t\n",
    "\\end{bmatrix} =\n",
    "t \\cdot\n",
    "\\begin{bmatrix}\n",
    "1 \\\\\n",
    "1 \\\\\n",
    "-1 \\\\\n",
    "-1\n",
    "\\end{bmatrix}\n",
    "$$\n",
    "\n",
    "This gives us that the ortogonale komplement is:\n",
    "$$\n",
    "Y^\\perp = \\{t(1,1,-1,-1) \\mid t \\in \\mathbb{C}\\}\n",
    "$$\n"
   ]
  },
  {
   "cell_type": "markdown",
   "id": "d842b0ee",
   "metadata": {},
   "source": [
    "#### Spørgsmål f\n",
    "\n",
    "Vælg en vektor $\\pmb{y}$ i $Y^\\perp$ og vælg en vektor $\\pmb{x}$ i $Y$. Udregn $\\Vert \\pmb{x} \\Vert$, $\\Vert \\pmb{y} \\Vert$ og $\\Vert \\pmb{x} + \\pmb{y} \\Vert$. Tjek at $\\Vert \\pmb{x} \\Vert^2 +\\Vert \\pmb{y} \\Vert^2 = \\Vert \\pmb{x} + \\pmb{y} \\Vert^2$."
   ]
  },
  {
   "cell_type": "markdown",
   "id": "7a9fc5f9",
   "metadata": {},
   "source": [
    "#### Answer\n",
    "To do this an easy way we choose $x = v_1 \\in Y$ and $y = (1,1,-1,-1) \\in Y^\\perp$"
   ]
  },
  {
   "cell_type": "code",
   "execution_count": null,
   "id": "bfb61b66",
   "metadata": {},
   "outputs": [
    {
     "data": {
      "text/latex": [
       "$\\displaystyle \\left( \\left[\\begin{matrix}1\\\\1\\\\1\\\\1\\end{matrix}\\right], \\  \\left[\\begin{matrix}1\\\\1\\\\-1\\\\-1\\end{matrix}\\right]\\right)$"
      ],
      "text/plain": [
       "⎛⎡1⎤  ⎡1 ⎤⎞\n",
       "⎜⎢ ⎥  ⎢  ⎥⎟\n",
       "⎜⎢1⎥  ⎢1 ⎥⎟\n",
       "⎜⎢ ⎥, ⎢  ⎥⎟\n",
       "⎜⎢1⎥  ⎢-1⎥⎟\n",
       "⎜⎢ ⎥  ⎢  ⎥⎟\n",
       "⎝⎣1⎦  ⎣-1⎦⎠"
      ]
     },
     "execution_count": 257,
     "metadata": {},
     "output_type": "execute_result"
    }
   ],
   "source": [
    "y = Matrix([1,1,-1,-1])\n",
    "v1,y"
   ]
  },
  {
   "cell_type": "markdown",
   "id": "9af81b91",
   "metadata": {},
   "source": [
    "We calculatet the norm"
   ]
  },
  {
   "cell_type": "code",
   "execution_count": null,
   "id": "2c8bd1c9",
   "metadata": {},
   "outputs": [
    {
     "data": {
      "image/png": "[encoded data removed]",
      "text/latex": [
       "$\\displaystyle \\left( 2, \\  2, \\  2 \\sqrt{2}\\right)$"
      ],
      "text/plain": [
       "(2, 2, 2⋅√2)"
      ]
     },
     "execution_count": 258,
     "metadata": {},
     "output_type": "execute_result"
    }
   ],
   "source": [
    "v1.norm(),y.norm(), (v1 + y).norm()"
   ]
  },
  {
   "cell_type": "markdown",
   "id": "a8e76abb",
   "metadata": {},
   "source": [
    "We now show that $\\Vert \\pmb{x} \\Vert^2 +\\Vert \\pmb{y} \\Vert^2 = \\Vert \\pmb{x} + \\pmb{y} \\Vert^2$"
   ]
  },
  {
   "cell_type": "code",
   "execution_count": null,
   "id": "b878b475",
   "metadata": {},
   "outputs": [
    {
     "data": {
      "image/png": "[encoded data removed]",
      "text/latex": [
       "$\\displaystyle \\left( 8, \\  8\\right)$"
      ],
      "text/plain": [
       "(8, 8)"
      ]
     },
     "execution_count": 259,
     "metadata": {},
     "output_type": "execute_result"
    }
   ],
   "source": [
    "v1.norm()**2 + y.norm()**2, (v1 + y).norm()**2"
   ]
  },
  {
   "cell_type": "markdown",
   "id": "8b8e907a",
   "metadata": {},
   "source": [
    "### 3: Ortogonal projektion på et plan"
   ]
  },
  {
   "cell_type": "markdown",
   "id": "b1d60b24",
   "metadata": {},
   "source": [
    "Lad matricen $U = [\\pmb{u}_1, \\pmb{u}_2]$ være givet ved:\n",
    "\n",
    "\\begin{equation*}\n",
    " U = \\left[\\begin{matrix}\\frac{\\sqrt{3}}{3} & \\frac{\\sqrt{2}}{2}\\\\ \\frac{\\sqrt{3}}{3} & 0\\\\- \\frac{\\sqrt{3}}{3} & \\frac{\\sqrt{2}}{2}\\end{matrix}\\right]\n",
    "\\end{equation*}"
   ]
  },
  {
   "cell_type": "markdown",
   "id": "92db1639",
   "metadata": {},
   "source": [
    "#### Spørgsmål a"
   ]
  },
  {
   "cell_type": "markdown",
   "id": "fbfef03a",
   "metadata": {},
   "source": [
    "Vis at $\\pmb{u}_1, \\pmb{u}_2$ er en ortonormal basis for $Y = \\operatorname{span}\\{\\pmb{u}_1, \\pmb{u}_2\\}$."
   ]
  },
  {
   "cell_type": "markdown",
   "id": "fa42d7aa",
   "metadata": {},
   "source": [
    "#### Answer\n",
    "To do this we need to show that the norm is one for $\\pmb{u}_1, \\pmb{u}_2$, and that they have ortogonalitet $\\langle u_1, u_2 \\rangle = 0$"
   ]
  },
  {
   "cell_type": "code",
   "execution_count": null,
   "id": "f73fe975",
   "metadata": {},
   "outputs": [
    {
     "data": {
      "text/latex": [
       "$\\displaystyle \\left( \\left[\\begin{matrix}\\frac{\\sqrt{3}}{3} & \\frac{\\sqrt{2}}{2}\\\\\\frac{\\sqrt{3}}{3} & 0\\\\- \\frac{\\sqrt{3}}{3} & \\frac{\\sqrt{2}}{2}\\end{matrix}\\right], \\  \\left[\\begin{matrix}\\frac{\\sqrt{3}}{3}\\\\\\frac{\\sqrt{3}}{3}\\\\- \\frac{\\sqrt{3}}{3}\\end{matrix}\\right], \\  \\left[\\begin{matrix}\\frac{\\sqrt{2}}{2}\\\\0\\\\\\frac{\\sqrt{2}}{2}\\end{matrix}\\right], \\  1, \\  1, \\  0\\right)$"
      ],
      "text/plain": [
       "⎛⎡ √3   √2⎤  ⎡ √3 ⎤               ⎞\n",
       "⎜⎢ ──   ──⎥  ⎢ ── ⎥  ⎡√2⎤         ⎟\n",
       "⎜⎢ 3    2 ⎥  ⎢ 3  ⎥  ⎢──⎥         ⎟\n",
       "⎜⎢        ⎥  ⎢    ⎥  ⎢2 ⎥         ⎟\n",
       "⎜⎢ √3     ⎥  ⎢ √3 ⎥  ⎢  ⎥         ⎟\n",
       "⎜⎢ ──   0 ⎥, ⎢ ── ⎥, ⎢0 ⎥, 1, 1, 0⎟\n",
       "⎜⎢ 3      ⎥  ⎢ 3  ⎥  ⎢  ⎥         ⎟\n",
       "⎜⎢        ⎥  ⎢    ⎥  ⎢√2⎥         ⎟\n",
       "⎜⎢-√3   √2⎥  ⎢-√3 ⎥  ⎢──⎥         ⎟\n",
       "⎜⎢────  ──⎥  ⎢────⎥  ⎣2 ⎦         ⎟\n",
       "⎝⎣ 3    2 ⎦  ⎣ 3  ⎦               ⎠"
      ]
     },
     "execution_count": 336,
     "metadata": {},
     "output_type": "execute_result"
    }
   ],
   "source": [
    "u1 = Matrix([sqrt(3)/3,sqrt(3)/3,-sqrt(3)/3])\n",
    "u2 = Matrix([sqrt(2)/2,0,sqrt(2)/2])\n",
    "U = Matrix.hstack(u1,u2)\n",
    "U,u1,u2, u1.norm(),u2.norm(), u1.dot(u2)"
   ]
  },
  {
   "cell_type": "markdown",
   "id": "162b5543",
   "metadata": {},
   "source": [
    "As we can see it all works out and we have that are an ortonormal basis for $Y = \\operatorname{span}\\{\\pmb{u}_1, \\pmb{u}_2\\}$."
   ]
  },
  {
   "cell_type": "markdown",
   "id": "e3a1e8d6",
   "metadata": {},
   "source": [
    "#### Spørgsmål b"
   ]
  },
  {
   "cell_type": "markdown",
   "id": "6dd16853",
   "metadata": {},
   "source": [
    "Lad $P = U U^* \\in \\mathbb{R}^{3 \\times 3}$. Som forklaret i dette <a href=\"../_assets/textbook_mat1b_en.pdf#sec:proj-onto-subsp\">afsnit i lærebogen</a>, vil det give os en projektionsmatrix som beskriver den ortogonale projektion $\\pmb{x} \\mapsto P \\pmb{x}$, $\\mathbb{R}^3 \\to \\mathbb{R}^3$ på planen $Y = \\operatorname{span}\\{\\pmb{u}_1, \\pmb{u}_2\\}$. Verificer at $P^2 = P$, $P \\pmb{u}_1 = \\pmb{u}_1$, og $P \\pmb{u}_2 = \\pmb{u}_2$."
   ]
  },
  {
   "cell_type": "code",
   "execution_count": null,
   "id": "6b6010b7",
   "metadata": {},
   "outputs": [
    {
     "data": {
      "text/latex": [
       "$\\displaystyle \\left[\\begin{matrix}\\frac{5}{6} & \\frac{1}{3} & \\frac{1}{6}\\\\\\frac{1}{3} & \\frac{1}{3} & - \\frac{1}{3}\\\\\\frac{1}{6} & - \\frac{1}{3} & \\frac{5}{6}\\end{matrix}\\right]$"
      ],
      "text/plain": [
       "⎡5/6  1/3   1/6 ⎤\n",
       "⎢               ⎥\n",
       "⎢1/3  1/3   -1/3⎥\n",
       "⎢               ⎥\n",
       "⎣1/6  -1/3  5/6 ⎦"
      ]
     },
     "execution_count": 337,
     "metadata": {},
     "output_type": "execute_result"
    }
   ],
   "source": [
    "P = U*U.T\n",
    "P"
   ]
  },
  {
   "cell_type": "code",
   "execution_count": null,
   "id": "783da1a4",
   "metadata": {},
   "outputs": [
    {
     "data": {
      "text/plain": [
       "(True, True, True)"
      ]
     },
     "execution_count": 338,
     "metadata": {},
     "output_type": "execute_result"
    }
   ],
   "source": [
    "P == P*P,P*u1 == u1,P*u2 == u2"
   ]
  },
  {
   "cell_type": "markdown",
   "id": "7fd32d1a",
   "metadata": {},
   "source": [
    "#### Spørgsmål c"
   ]
  },
  {
   "cell_type": "markdown",
   "id": "cdf846ce",
   "metadata": {},
   "source": [
    "Vælg en vektor $\\pmb{x} \\in \\mathbb{R}^3$, der ikke tilhører $Y$ og find projektionen $\\operatorname{proj}_Y(\\pmb{x})$ af $\\pmb{x}$ ned på planen $Y$. Illustrer $\\pmb{x}$, $Y$ og $\\operatorname{proj}_Y(\\pmb{x})$ i et plot."
   ]
  },
  {
   "cell_type": "markdown",
   "id": "87bcbdf8",
   "metadata": {},
   "source": [
    "#### Answer\n",
    "We will chose the vector $x = (0,5,0) \\in \\mathbb{R}^3$, which doesn't fit in $Y$. As $u_1$ and $u_2$ is ortonormale we can calculate the projection as:\n",
    "$$\n",
    "P \\cdot x\n",
    "$$"
   ]
  },
  {
   "cell_type": "code",
   "execution_count": null,
   "id": "26feaf2f",
   "metadata": {},
   "outputs": [
    {
     "data": {
      "text/latex": [
       "$\\displaystyle \\left[\\begin{matrix}\\frac{5}{3}\\\\\\frac{5}{3}\\\\- \\frac{5}{3}\\end{matrix}\\right]$"
      ],
      "text/plain": [
       "⎡5/3 ⎤\n",
       "⎢    ⎥\n",
       "⎢5/3 ⎥\n",
       "⎢    ⎥\n",
       "⎣-5/3⎦"
      ]
     },
     "execution_count": 349,
     "metadata": {},
     "output_type": "execute_result"
    }
   ],
   "source": [
    "x = Matrix([0,5,0])\n",
    "P*x"
   ]
  },
  {
   "cell_type": "markdown",
   "id": "743f903b",
   "metadata": {},
   "source": [
    "We can now plot this:"
   ]
  },
  {
   "cell_type": "code",
   "execution_count": null,
   "id": "ab32d35f",
   "metadata": {},
   "outputs": [
    {
     "data": {
      "image/png": "[encoded data removed]",
      "text/plain": [
       "<Figure size 640x480 with 1 Axes>"
      ]
     },
     "metadata": {},
     "output_type": "display_data"
    }
   ],
   "source": [
    "t1, t2 = symbols('t1 t2')\n",
    "r = t1 * U[:,0] + t2 * U[:,1]\n",
    "p = dtuplot.plot3d_parametric_surface(r[0], r[1], r[2], (t1, -5, 5), (t2, -5, 5), show = False, rendering_kw = {\"alpha\": 0.5})\n",
    "p.extend(dtuplot.scatter((x, P*x), show = False))\n",
    "p.xlim = [-5,5]\n",
    "p.ylim = [-5,5]\n",
    "p.zlim = [-5,5]\n",
    "\n",
    "p.show()"
   ]
  },
  {
   "cell_type": "markdown",
   "id": "0bf720b0",
   "metadata": {},
   "source": [
    "#### Spørgsmål d"
   ]
  },
  {
   "cell_type": "markdown",
   "id": "e1ff6141",
   "metadata": {},
   "source": [
    "Vis at $\\pmb{x} - \\operatorname{proj}_Y(\\pmb{x})$ tilhører $Y^\\perp$."
   ]
  },
  {
   "cell_type": "markdown",
   "id": "d6461104",
   "metadata": {},
   "source": [
    "#### Answer\n",
    "Let $P$ be the ortogonal projection matrix on $Y$. As $P$ is a projection matrix for $Y$, it counts that for all $y \\in Y$, then\n",
    "$$\n",
    "Py = y\n",
    "$$\n",
    "Therefore we can say that for any $y \\in Y$ we can write:\n",
    "$$\n",
    "\\langle x-Px,y \\rangle = \\langle x-Px,Py \\rangle\n",
    "$$\n",
    "We can now use that P is \"selvadjungeret\" ($p^*=P$) and \"idempotent\" ($P^2 = P$):\n",
    "$$\n",
    "\\langle x-Px,Py \\rangle = \\langle P(x-Px),y \\rangle\n",
    "$$\n",
    "but as $P(x-Px) = Px - P^2x = Px-Px = 0$ we get that\n",
    "$$\n",
    "\\langle x-Px,y \\rangle = \\langle 0,y \\rangle = 0\n",
    "$$\n",
    "Therefore it counts that for any $y \\in Y$ that\n",
    "$$\n",
    "\\pmb{x} - \\operatorname{proj}_Y(\\pmb{x}) \\in Y^\\perp\n",
    "$$"
   ]
  },
  {
   "cell_type": "markdown",
   "id": "e2ea54da",
   "metadata": {},
   "source": [
    "### 4: Unitære matricer"
   ]
  },
  {
   "cell_type": "markdown",
   "id": "08835d82",
   "metadata": {},
   "source": [
    "Lad matricen $F$ være givet ved:"
   ]
  },
  {
   "cell_type": "code",
   "execution_count": null,
   "id": "0ea5d327",
   "metadata": {},
   "outputs": [
    {
     "data": {
      "text/latex": [
       "$\\displaystyle \\left[\\begin{matrix}\\frac{1}{2} & \\frac{1}{2} & \\frac{1}{2} & \\frac{1}{2}\\\\\\frac{1}{2} & - \\frac{i}{2} & - \\frac{1}{2} & \\frac{i}{2}\\\\\\frac{1}{2} & - \\frac{1}{2} & \\frac{1}{2} & - \\frac{1}{2}\\\\\\frac{1}{2} & \\frac{i}{2} & - \\frac{1}{2} & - \\frac{i}{2}\\end{matrix}\\right]$"
      ],
      "text/plain": [
       "⎡1/2  1/2   1/2   1/2 ⎤\n",
       "⎢                     ⎥\n",
       "⎢     -ⅈ           ⅈ  ⎥\n",
       "⎢1/2  ───   -1/2   ─  ⎥\n",
       "⎢      2           2  ⎥\n",
       "⎢                     ⎥\n",
       "⎢1/2  -1/2  1/2   -1/2⎥\n",
       "⎢                     ⎥\n",
       "⎢      ⅈ          -ⅈ  ⎥\n",
       "⎢1/2   ─    -1/2  ─── ⎥\n",
       "⎣      2           2  ⎦"
      ]
     },
     "execution_count": 58,
     "metadata": {},
     "output_type": "execute_result"
    }
   ],
   "source": [
    "n = 4\n",
    "F = 1/sqrt(n) * Matrix(n, n, lambda k,j: exp(-2*pi*I*k*j/n))\n",
    "F"
   ]
  },
  {
   "cell_type": "markdown",
   "id": "9148550a",
   "metadata": {},
   "source": [
    "<!--  Har indført minus i matricen.-->\n",
    "\n",
    "Afgør om følgende udsagn er sande eller falske:\n",
    "\n",
    "1. $F$ er unitær\n",
    "1. $F$ er invertible\n",
    "1. $F$ er ortogonal\n",
    "1. $F$ er symmetrisk\n",
    "1. $F$ er hermitisk\n",
    "1. $F$'s søjler er en orthonormal basis for $\\mathbb{C}^4$\n",
    "1. $F$'s søjler er en orthonormal basis for $\\mathbb{R}^4$\n",
    "1. $-F = F^{-1}$"
   ]
  },
  {
   "cell_type": "markdown",
   "id": "b26bc7e1",
   "metadata": {},
   "source": [
    "#### Answer\n",
    "1. $F^*F=I$"
   ]
  },
  {
   "cell_type": "code",
   "execution_count": null,
   "id": "99a0e19e",
   "metadata": {},
   "outputs": [
    {
     "data": {
      "text/latex": [
       "$\\displaystyle \\left[\\begin{matrix}1 & 0 & 0 & 0\\\\0 & 1 & 0 & 0\\\\0 & 0 & 1 & 0\\\\0 & 0 & 0 & 1\\end{matrix}\\right]$"
      ],
      "text/plain": [
       "⎡1  0  0  0⎤\n",
       "⎢          ⎥\n",
       "⎢0  1  0  0⎥\n",
       "⎢          ⎥\n",
       "⎢0  0  1  0⎥\n",
       "⎢          ⎥\n",
       "⎣0  0  0  1⎦"
      ]
     },
     "execution_count": 352,
     "metadata": {},
     "output_type": "execute_result"
    }
   ],
   "source": [
    "# F^*F = I\n",
    "F.H*F"
   ]
  },
  {
   "cell_type": "markdown",
   "id": "dabe2d90",
   "metadata": {},
   "source": [
    "True"
   ]
  },
  {
   "cell_type": "markdown",
   "id": "a08e6f42",
   "metadata": {},
   "source": [
    "2. $F^-1=F^*$"
   ]
  },
  {
   "cell_type": "code",
   "execution_count": null,
   "id": "50775bc0",
   "metadata": {},
   "outputs": [
    {
     "data": {
      "text/plain": [
       "True"
      ]
     },
     "execution_count": 356,
     "metadata": {},
     "output_type": "execute_result"
    }
   ],
   "source": [
    "F**-1==F.H"
   ]
  },
  {
   "cell_type": "markdown",
   "id": "86d8bc11",
   "metadata": {},
   "source": [
    "3. A real unitær matrix"
   ]
  },
  {
   "cell_type": "markdown",
   "id": "32eb5947",
   "metadata": {},
   "source": [
    "As there is a complex component it is complex and not ortogonal"
   ]
  },
  {
   "cell_type": "markdown",
   "id": "2587eab3",
   "metadata": {},
   "source": [
    "4. for $F_{kj}$ we want $kj = jk$, meaning $F = F^T$"
   ]
  },
  {
   "cell_type": "code",
   "execution_count": null,
   "id": "f3089da5",
   "metadata": {},
   "outputs": [
    {
     "data": {
      "text/plain": [
       "True"
      ]
     },
     "execution_count": 358,
     "metadata": {},
     "output_type": "execute_result"
    }
   ],
   "source": [
    "F == F.T"
   ]
  },
  {
   "cell_type": "markdown",
   "id": "ca20a5d0",
   "metadata": {},
   "source": [
    "5. $F = F^*$"
   ]
  },
  {
   "cell_type": "code",
   "execution_count": null,
   "id": "3185dda4",
   "metadata": {},
   "outputs": [
    {
     "data": {
      "text/plain": [
       "False"
      ]
     },
     "execution_count": 359,
     "metadata": {},
     "output_type": "execute_result"
    }
   ],
   "source": [
    "F == F.H"
   ]
  },
  {
   "cell_type": "markdown",
   "id": "9cfde9df",
   "metadata": {},
   "source": [
    "6. $F$'s søjler er en orthonormal basis for $\\mathbb{C}^4$ \n",
    "\n",
    "As F is unitær it's columns and rows has a unitnorm and is pairwise ortogonale. They therefore make up a  orthonormal basis for $\\mathbb{C}^4$."
   ]
  },
  {
   "cell_type": "markdown",
   "id": "cfe59e41",
   "metadata": {},
   "source": [
    "7. $F$'s søjler er en orthonormal basis for $\\mathbb{R}^4$ \n",
    "\n",
    "No as there is a complex numbers in F.\n",
    "\n",
    "8. $-F=F^{-1}$"
   ]
  },
  {
   "cell_type": "code",
   "execution_count": null,
   "id": "f9fac637",
   "metadata": {},
   "outputs": [
    {
     "data": {
      "text/plain": [
       "False"
      ]
     },
     "execution_count": 361,
     "metadata": {},
     "output_type": "execute_result"
    }
   ],
   "source": [
    "-F == F**-1"
   ]
  }
 ],
 "metadata": {
  "jupytext": {
   "formats": "ipynb,md:myst"
  },
  "kernelspec": {
   "display_name": "Python 3",
   "language": "python",
   "name": "python3"
  },
  "language_info": {
   "codemirror_mode": {
    "name": "ipython",
    "version": 3
   },
   "file_extension": ".py",
   "mimetype": "text/x-python",
   "name": "python",
   "nbconvert_exporter": "python",
   "pygments_lexer": "ipython3",
   "version": "3.11.10"
  }
 },
 "nbformat": 4,
 "nbformat_minor": 5
}
