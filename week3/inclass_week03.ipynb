{
 "cells": [
  {
   "cell_type": "markdown",
   "id": "ae0efa82",
   "metadata": {},
   "source": [
    "# Uge 3: Indreproduktrum"
   ]
  },
  {
   "cell_type": "code",
   "execution_count": 62,
   "id": "234198a5",
   "metadata": {
    "tags": [
     "remove-cell"
    ]
   },
   "outputs": [],
   "source": [
    "from sympy import*\n",
    "from dtumathtools import*\n",
    "init_printing()\n",
    "\n",
    "def inner(x1: Matrix,x2: Matrix):\n",
    "    '''\n",
    "    Computes the inner product of two vectors of same length.\n",
    "    '''\n",
    "\n",
    "    return x1.dot(x2, conjugate_convention = 'right')\n",
    "\n",
    "MutableDenseMatrix.inner = inner\n",
    "ImmutableDenseMatrix.inner = inner"
   ]
  },
  {
   "cell_type": "markdown",
   "id": "5c6c25f9",
   "metadata": {},
   "source": [
    "___"
   ]
  },
  {
   "cell_type": "markdown",
   "id": "4072ac6b",
   "metadata": {},
   "source": [
    "## Opgaver -- Store Dag"
   ]
  },
  {
   "cell_type": "markdown",
   "id": "305b64d3",
   "metadata": {},
   "source": [
    "### 1: Ortonormal basis (koordinater). Håndregning."
   ]
  },
  {
   "cell_type": "markdown",
   "id": "27c859b2",
   "metadata": {},
   "source": [
    "#### Spørgsmål a"
   ]
  },
  {
   "cell_type": "markdown",
   "id": "6839b13e",
   "metadata": {},
   "source": [
    "Udgør vektorerne \n",
    "\n",
    "\\begin{equation*}\n",
    "  \\pmb{u}_1=\\left( \\frac{1}{3},\\frac{2}{3},\\frac{2}{3}\\right), \\quad\n",
    "\\pmb{u}_2=\\left( \\frac{2}{3}, \\frac{1}{3}, -\\frac{2}{3}\\right),\\quad\n",
    "\\pmb{u}_3=\\left( \\frac{2}{3}, -\\frac{2}{3}, \\frac{1}{3}\\right)\n",
    "\\end{equation*}\n",
    "\n",
    "en ortonormal basis i $\\mathbb{R}^3$?"
   ]
  },
  {
   "cell_type": "markdown",
   "id": "b35bf678",
   "metadata": {},
   "source": [
    "#### Answer\n",
    "To calculate this we need to check whether or not the vecors is pairwise orthotogonal.\n",
    "$$\n",
    "u_1 =\n",
    "\\begin{bmatrix}\n",
    "\\frac{1}{3} \\\\\n",
    "\\frac{2}{3} \\\\\n",
    "\\frac{2}{3}\n",
    "\\end{bmatrix},\n",
    "u_2 =\n",
    "\\begin{bmatrix}\n",
    "\\frac{2}{3} \\\\\n",
    "\\frac{1}{3} \\\\\n",
    "-\\frac{2}{3}\n",
    "\\end{bmatrix},\n",
    "u_3\n",
    "\\begin{bmatrix}\n",
    "\\frac{2}{3} \\\\\n",
    "\\frac{-2}{3} \\\\\n",
    "\\frac{1}{3}\n",
    "\\end{bmatrix}\n",
    "$$\n",
    "\n",
    "To do this we need to check wheter:\n",
    "$$\n",
    "\\langle u_1, u_2 \\rangle = 0, \\quad \\langle u_1, u_3 \\rangle = 0, \\quad \\langle u_2, u_3 \\rangle = 0\n",
    "$$\n",
    "\n",
    "We will now calc-ulate this:\n",
    "$$\n",
    "\\langle u_1, u_2 \\rangle =\n",
    "\\begin{bmatrix}\n",
    "\\frac{1}{3} \\\\\n",
    "\\frac{2}{3} \\\\\n",
    "\\frac{2}{3}\n",
    "\\end{bmatrix} \\cdot\n",
    "\\begin{bmatrix}\n",
    "\\frac{2}{3} \\\\\n",
    "\\frac{1}{3} \\\\\n",
    "\\frac{-2}{3}\n",
    "\\end{bmatrix} = \\frac{1}{3} \\cdot \\frac{2}{3} + \\frac{2}{3} \\cdot \\frac{1}{3} + \\frac{2}{3} \\cdot \\frac{-2}{3} = \\frac{2}{9} + \\frac{2}{9} - \\frac{-4}{9} = 0\n",
    "$$\n",
    "\n",
    "$$\n",
    "\\langle u_1, u_3 \\rangle =\n",
    "\\begin{bmatrix}\n",
    "\\frac{1}{3} \\\\\n",
    "\\frac{2}{3} \\\\\n",
    "\\frac{2}{3}\n",
    "\\end{bmatrix} \\cdot\n",
    "\\begin{bmatrix}\n",
    "\\frac{2}{3} \\\\\n",
    "\\frac{-2}{3} \\\\\n",
    "\\frac{1}{3}\n",
    "\\end{bmatrix} = \\frac{1}{3} \\cdot \\frac{2}{3} + \\frac{2}{3} \\cdot \\frac{-2}{3} + \\frac{2}{3} \\cdot \\frac{1}{3} = \\frac{2}{9} + \\frac{-4}{9} + \\frac{2}{9} = 0\n",
    "$$\n",
    "\n",
    "$$\n",
    "\\langle u_2, u_3 \\rangle =\n",
    "\\begin{bmatrix}\n",
    "\\frac{2}{3} \\\\\n",
    "\\frac{1}{3} \\\\\n",
    "\\frac{-2}{3}\n",
    "\\end{bmatrix} \\cdot\n",
    "\\begin{bmatrix}\n",
    "\\frac{2}{3} \\\\\n",
    "\\frac{-2}{3} \\\\\n",
    "\\frac{1}{3}\n",
    "\\end{bmatrix} = \\frac{2}{3} \\cdot \\frac{2}{3} + \\frac{1}{3} \\cdot \\frac{-2}{3} + \\frac{-2}{3} \\cdot \\frac{1}{3} = \\frac{4}{9} + \\frac{-2}{9} + \\frac{-2}{9} = 0\n",
    "$$\n",
    "\n",
    "As they are all equal to zero we now just need to check if their norm is 1 based on the following equation:\n",
    "$$\n",
    "||x||= \\sqrt{\\langle x, x \\rangle}\n",
    "$$\n",
    "\n",
    "We can simplify this to $\\langle v_k, v_k \\rangle = 1$ if not then they dont have a norm of one.\n",
    "$$\n",
    "\\langle u_1, u_1 \\rangle =\n",
    "\\begin{bmatrix}\n",
    "\\frac{1}{3} \\\\\n",
    "\\frac{2}{3} \\\\\n",
    "\\frac{2}{3}\n",
    "\\end{bmatrix} \\cdot\n",
    "\\begin{bmatrix}\n",
    "\\frac{1}{3} \\\\\n",
    "\\frac{2}{3} \\\\\n",
    "\\frac{2}{3}\n",
    "\\end{bmatrix} = \\frac{1}{3} \\cdot \\frac{1}{3} + \\frac{2}{3} \\cdot \\frac{2}{3} + \\frac{2}{3} \\cdot \\frac{2}{3} = \\frac{1}{9} + \\frac{4}{9} + \\frac{4}{9} = 1\n",
    "$$\n",
    "\n",
    "$$\n",
    "\\langle u_2, u_2 \\rangle =\n",
    "\\begin{bmatrix}\n",
    "\\frac{2}{3} \\\\\n",
    "\\frac{1}{3} \\\\\n",
    "\\frac{-2}{3}\n",
    "\\end{bmatrix} \\cdot\n",
    "\\begin{bmatrix}\n",
    "\\frac{2}{3} \\\\\n",
    "\\frac{1}{3} \\\\\n",
    "\\frac{-2}{3}\n",
    "\\end{bmatrix} = \\frac{2}{3} \\cdot \\frac{2}{3} + \\frac{1}{3} \\cdot \\frac{1}{3} + \\frac{-2}{3} \\cdot \\frac{-2}{3} = \\frac{4}{9} + \\frac{1}{9} + \\frac{4}{9} = 1\n",
    "$$\n",
    "\n",
    "$$\n",
    "\\langle u_3, u_3 \\rangle =\n",
    "\\begin{bmatrix}\n",
    "\\frac{2}{3} \\\\\n",
    "\\frac{-2}{3} \\\\\n",
    "\\frac{1}{3}\n",
    "\\end{bmatrix} \\cdot\n",
    "\\begin{bmatrix}\n",
    "\\frac{2}{3} \\\\\n",
    "\\frac{-2}{3} \\\\\n",
    "\\frac{1}{3}\n",
    "\\end{bmatrix} = \\frac{2}{3} \\cdot \\frac{2}{3} + \\frac{-2}{3} \\cdot \\frac{-2}{3} + \\frac{1}{3} \\cdot \\frac{1}{3} = \\frac{4}{9} + \\frac{4}{9} + \\frac{1}{9} = 1\n",
    "$$\n",
    "\n",
    "As they have a norm of one as well they are ortonormal basis in $\\mathbb{R}^3$.*"
   ]
  },
  {
   "cell_type": "code",
   "execution_count": 63,
   "id": "388f0518",
   "metadata": {},
   "outputs": [
    {
     "data": {
      "image/png": "[encoded data removed]",
      "text/latex": [
       "$\\displaystyle \\left( \\left[\\begin{matrix}0.333333333333333\\\\0.666666666666667\\\\0.666666666666667\\end{matrix}\\right], \\  \\left[\\begin{matrix}0.666666666666667\\\\0.333333333333333\\\\-0.666666666666667\\end{matrix}\\right], \\  \\left[\\begin{matrix}0.666666666666667\\\\-0.666666666666667\\\\0.333333333333333\\end{matrix}\\right]\\right)$"
      ],
      "text/plain": [
       "⎛⎡0.333333333333333⎤  ⎡0.666666666666667 ⎤  ⎡0.666666666666667 ⎤⎞\n",
       "⎜⎢                 ⎥  ⎢                  ⎥  ⎢                  ⎥⎟\n",
       "⎜⎢0.666666666666667⎥, ⎢0.333333333333333 ⎥, ⎢-0.666666666666667⎥⎟\n",
       "⎜⎢                 ⎥  ⎢                  ⎥  ⎢                  ⎥⎟\n",
       "⎝⎣0.666666666666667⎦  ⎣-0.666666666666667⎦  ⎣0.333333333333333 ⎦⎠"
      ]
     },
     "execution_count": 63,
     "metadata": {},
     "output_type": "execute_result"
    }
   ],
   "source": [
    "u1 = Matrix([1/3,2/3,2/3])\n",
    "u2 = Matrix([2/3,1/3,-2/3])\n",
    "u3 = Matrix([2/3,-2/3,1/3])\n",
    "u1,u2,u3"
   ]
  },
  {
   "cell_type": "code",
   "execution_count": 64,
   "id": "77541a27",
   "metadata": {},
   "outputs": [
    {
     "data": {
      "image/png": "[encoded data removed]",
      "text/latex": [
       "$\\displaystyle \\left( 0, \\  0, \\  0\\right)$"
      ],
      "text/plain": [
       "(0, 0, 0)"
      ]
     },
     "execution_count": 64,
     "metadata": {},
     "output_type": "execute_result"
    }
   ],
   "source": [
    "u1.inner(u2),u1.inner(u3),u2.inner(u3)"
   ]
  },
  {
   "cell_type": "code",
   "execution_count": 65,
   "id": "f386b71e",
   "metadata": {},
   "outputs": [
    {
     "data": {
      "image/png": "[encoded data removed]",
      "text/latex": [
       "$\\displaystyle \\left( 1.0, \\  1.0, \\  1.0\\right)$"
      ],
      "text/plain": [
       "(1.0, 1.0, 1.0)"
      ]
     },
     "execution_count": 65,
     "metadata": {},
     "output_type": "execute_result"
    }
   ],
   "source": [
    "u1.norm(),u2.norm(),u3.norm()"
   ]
  },
  {
   "cell_type": "markdown",
   "id": "4cb9776a",
   "metadata": {},
   "source": [
    "#### Spørgsmål b"
   ]
  },
  {
   "cell_type": "markdown",
   "id": "19557d4c",
   "metadata": {},
   "source": [
    "Betragt vektoren $\\pmb{x} = [1,2,3]^T$. Udregn de indre produkter $\\langle \\pmb{x}, \\pmb{u}_k \\rangle$ for $k=1,2,3$."
   ]
  },
  {
   "cell_type": "markdown",
   "id": "2b0085e8",
   "metadata": {},
   "source": [
    "### Answer\n",
    "$$\n",
    "\\langle x,u_1 \\rangle = \n",
    "\\begin{bmatrix}\n",
    "1 \\\\\n",
    "2 \\\\\n",
    "3\n",
    "\\end{bmatrix} \\cdot\n",
    "\\begin{bmatrix}\n",
    "\\frac{1}{3} \\\\\n",
    "\\frac{2}{3} \\\\\n",
    "\\frac{2}{3}\n",
    "\\end{bmatrix} = \\frac{1}{3} + \\frac{4}{3}  + \\frac{6}{3} = 3 + \\frac{2}{3} \n",
    "$$\n",
    "\n",
    "$$\n",
    "\\langle x,u_2 \\rangle = \n",
    "\\begin{bmatrix}\n",
    "1 \\\\\n",
    "2 \\\\\n",
    "3\n",
    "\\end{bmatrix} \\cdot\n",
    "\\begin{bmatrix}\n",
    "\\frac{2}{3} \\\\\n",
    "\\frac{1}{3} \\\\\n",
    "\\frac{-2}{3}\n",
    "\\end{bmatrix} = \\frac{2}{3} + \\frac{2}{3}  + \\frac{-6}{3} = \\frac{-2}{3} \n",
    "$$\n",
    "\n",
    "$$\n",
    "\\langle x,u_3 \\rangle = \n",
    "\\begin{bmatrix}\n",
    "1 \\\\\n",
    "2 \\\\\n",
    "3\n",
    "\\end{bmatrix} \\cdot\n",
    "\\begin{bmatrix}\n",
    "\\frac{2}{3} \\\\\n",
    "\\frac{-2}{3} \\\\\n",
    "\\frac{1}{3}\n",
    "\\end{bmatrix} = \\frac{2}{3} + \\frac{-4}{3}  + \\frac{3}{3} = \\frac{1}{3} \n",
    "$$"
   ]
  },
  {
   "cell_type": "code",
   "execution_count": 66,
   "id": "29338d72",
   "metadata": {},
   "outputs": [
    {
     "data": {
      "image/png": "[encoded data removed]",
      "text/latex": [
       "$\\displaystyle \\left[\\begin{matrix}1 & 2 & 3\\end{matrix}\\right]$"
      ],
      "text/plain": [
       "[1  2  3]"
      ]
     },
     "execution_count": 66,
     "metadata": {},
     "output_type": "execute_result"
    }
   ],
   "source": [
    "x = Matrix([1,2,3]).T\n",
    "x"
   ]
  },
  {
   "cell_type": "code",
   "execution_count": 67,
   "id": "d3edbdd6",
   "metadata": {},
   "outputs": [
    {
     "data": {
      "image/png": "[encoded data removed]",
      "text/latex": [
       "$\\displaystyle \\left( 3.66666666666667, \\  -0.666666666666667, \\  0.333333333333333\\right)$"
      ],
      "text/plain": [
       "(3.66666666666667, -0.666666666666667, 0.333333333333333)"
      ]
     },
     "execution_count": 67,
     "metadata": {},
     "output_type": "execute_result"
    }
   ],
   "source": [
    "u1.inner(x),u2.inner(x),u3.inner(x)"
   ]
  },
  {
   "cell_type": "markdown",
   "id": "51694895",
   "metadata": {},
   "source": [
    "#### Spørgsmål c"
   ]
  },
  {
   "cell_type": "markdown",
   "id": "2c79d760",
   "metadata": {},
   "source": [
    "Lad os kalde basen $\\beta = \\pmb{u}_1, \\pmb{u}_2, \\pmb{u}_3$. Angiv koordinatvektoren ${}_{\\beta} \\pmb{x}$ for $\\pmb{x}$ med hensyn til $\\beta$. Udregn normen af både $\\pmb{x}$ og koordinatvektoren ${}_{\\beta} \\pmb{x}$."
   ]
  },
  {
   "cell_type": "markdown",
   "id": "01608e12",
   "metadata": {},
   "source": [
    "#### Answer\n",
    "To do this we need to express x in terms of the basis vectors:\n",
    "$$\n",
    "x = c_1u_1 + c_2u_2 + c_3u_3  \n",
    "$$\n",
    "\n",
    "One thing we can note is that the values for $c_1, c_2, c_3 = \\langle x,u_1 \\rangle, \\langle x,u_2 \\rangle, \\langle x,u_3 \\rangle = 3 + \\frac{2}{3}, \\frac{-2}{3}, \\frac{1}{3}$\n",
    "\n",
    "so now we just need to calculate $||x||$ and $||{}_{\\beta} \\pmb{x}||$:\n",
    "$$\n",
    "\\sqrt{\\langle x,x \\rangle} =\n",
    "\\sqrt{\n",
    "\\begin{bmatrix}\n",
    "1 \\\\\n",
    "2 \\\\\n",
    "3\n",
    "\\end{bmatrix} \\cdot\n",
    "\\begin{bmatrix}\n",
    "1 \\\\\n",
    "2 \\\\\n",
    "3\n",
    "\\end{bmatrix}} = \\sqrt{1 + 4 + 9} = \\sqrt{14}\n",
    "$$\n",
    "\n",
    "As we know ${}_{\\beta} \\pmb{x} = \\begin{bmatrix} c_1 \\\\ c_2 \\\\ c_3 \\end{bmatrix} = \\begin{bmatrix} 3 + \\frac{2}{3} \\\\ \\frac{-2}{3} \\\\ \\frac{1}{3} \\end{bmatrix}$\n",
    "\n",
    "$$\n",
    "\\sqrt{\\langle {}_{\\beta} \\pmb{x},{}_{\\beta} \\pmb{x} \\rangle} =\n",
    "\\sqrt{\n",
    "\\begin{bmatrix}\n",
    "\\frac{11}{3} \\\\\n",
    "\\frac{-2}{3} \\\\\n",
    "\\frac{1}{3}\n",
    "\\end{bmatrix} \\cdot\n",
    "\\begin{bmatrix}\n",
    "\\frac{11}{3} \\\\\n",
    "\\frac{-2}{3} \\\\\n",
    "\\frac{1}{3}\n",
    "\\end{bmatrix}} = \\sqrt{\\frac{121}{9} + \\frac{4}{9} + \\frac{1}{9}} = \\sqrt{14} \\approx 3.742\n",
    "$$"
   ]
  },
  {
   "cell_type": "code",
   "execution_count": 68,
   "id": "47b1c52b",
   "metadata": {},
   "outputs": [
    {
     "data": {
      "image/png": "[encoded data removed]",
      "text/latex": [
       "$\\displaystyle \\left( \\left\\{ c_{1} : 3.66666666666667, \\  c_{2} : -0.666666666666667, \\  c_{3} : 0.333333333333333\\right\\}, \\  \\sqrt{14}, \\  3.74165738677394\\right)$"
      ],
      "text/plain": [
       "({c₁: 3.66666666666667, c₂: -0.666666666666667, c₃: 0.333333333333333}, √14, 3 ↪\n",
       "\n",
       "↪ .74165738677394)"
      ]
     },
     "execution_count": 68,
     "metadata": {},
     "output_type": "execute_result"
    }
   ],
   "source": [
    "c1,c2,c3 = symbols('c1 c2 c3')\n",
    "C = Matrix([c1,c2,c3])\n",
    "B = Matrix.hstack(u1,u2,u3)\n",
    "solution = solve(B * C - x.T, [c1, c2, c3])\n",
    "# Compute the norm of the coordinate vector [x]_β\n",
    "norm_c_sym = sqrt(solution[c1]**2 + solution[c2]**2 + solution[c3]**2)\n",
    "solution, x.norm(), norm_c_sym"
   ]
  },
  {
   "cell_type": "markdown",
   "id": "2cd4d5ea",
   "metadata": {},
   "source": [
    "#### Spørgsmål d"
   ]
  },
  {
   "cell_type": "markdown",
   "id": "2b2585f0",
   "metadata": {},
   "source": [
    "Dan $3\\times 3$-matricen $U = [\\pmb{u}_1 \\vert \\pmb{u}_2 \\vert \\pmb{u}_3]$ med $\\pmb{u}_1, \\pmb{u}_2, \\pmb{u}_3$ som de tre søjler. Udregn $U^T \\pmb{x}$ og sammenlign resultatet med forrige opgave."
   ]
  },
  {
   "cell_type": "markdown",
   "id": "d7a88098",
   "metadata": {},
   "source": [
    "#### Answer\n",
    "To do this we will write U:\n",
    "$$\n",
    "U = \n",
    "\\begin{bmatrix}\n",
    "\\frac{1}{3} & \\frac{2}{3} & \\frac{2}{3}\\\\\n",
    "\\frac{2}{3} & \\frac{1}{3} & -\\frac{2}{3}\\\\\n",
    "\\frac{2}{3} & -\\frac{2}{3} & \\frac{1}{3}\n",
    "\\end{bmatrix}\n",
    "$$\n",
    "We then transpose it:\n",
    "$$\n",
    "U^T = \n",
    "\\begin{bmatrix}\n",
    "\\frac{1}{3} & \\frac{2}{3} & \\frac{2}{3}\\\\\n",
    "\\frac{2}{3} & \\frac{1}{3} & -\\frac{2}{3}\\\\\n",
    "\\frac{2}{3} & -\\frac{2}{3} & \\frac{1}{3}\n",
    "\\end{bmatrix}\n",
    "$$\n",
    "We now need to calculate:\n",
    "$$\n",
    "U^T \\pmb{x} = \n",
    "\\begin{bmatrix}\n",
    "\\frac{1}{3} & \\frac{2}{3} & \\frac{2}{3}\\\\\n",
    "\\frac{2}{3} & \\frac{1}{3} & -\\frac{2}{3}\\\\\n",
    "\\frac{2}{3} & -\\frac{2}{3} & \\frac{1}{3}\n",
    "\\end{bmatrix} \\cdot\n",
    "\\begin{bmatrix}\n",
    "1 \\\\\n",
    "2 \\\\\n",
    "3\n",
    "\\end{bmatrix} =\n",
    "\\begin{bmatrix} \n",
    "3 + \\frac{2}{3} \\\\ \n",
    "\\frac{-2}{3} \\\\ \n",
    "\\frac{1}{3} \n",
    "\\end{bmatrix}\n",
    "$$\n",
    "\n",
    "As we can see it is the same as $c_1$, $c_2$ and $c_3$."
   ]
  },
  {
   "cell_type": "code",
   "execution_count": 69,
   "id": "0e8fd212",
   "metadata": {},
   "outputs": [
    {
     "data": {
      "image/png": "[encoded data removed]",
      "text/latex": [
       "$\\displaystyle \\left( \\left[\\begin{matrix}0.333333333333333 & 0.666666666666667 & 0.666666666666667\\\\0.666666666666667 & 0.333333333333333 & -0.666666666666667\\\\0.666666666666667 & -0.666666666666667 & 0.333333333333333\\end{matrix}\\right], \\  \\left[\\begin{matrix}0.333333333333333 & 0.666666666666667 & 0.666666666666667\\\\0.666666666666667 & 0.333333333333333 & -0.666666666666667\\\\0.666666666666667 & -0.666666666666667 & 0.333333333333333\\end{matrix}\\right]\\right)$"
      ],
      "text/plain": [
       "⎛⎡0.333333333333333  0.666666666666667   0.666666666666667 ⎤  ⎡0.3333333333333 ↪\n",
       "⎜⎢                                                         ⎥  ⎢                ↪\n",
       "⎜⎢0.666666666666667  0.333333333333333   -0.666666666666667⎥, ⎢0.6666666666666 ↪\n",
       "⎜⎢                                                         ⎥  ⎢                ↪\n",
       "⎝⎣0.666666666666667  -0.666666666666667  0.333333333333333 ⎦  ⎣0.6666666666666 ↪\n",
       "\n",
       "↪ 33  0.666666666666667   0.666666666666667 ⎤⎞\n",
       "↪                                           ⎥⎟\n",
       "↪ 67  0.333333333333333   -0.666666666666667⎥⎟\n",
       "↪                                           ⎥⎟\n",
       "↪ 67  -0.666666666666667  0.333333333333333 ⎦⎠"
      ]
     },
     "execution_count": 69,
     "metadata": {},
     "output_type": "execute_result"
    }
   ],
   "source": [
    "U = Matrix.hstack(u1,u2,u3)\n",
    "U, U.T"
   ]
  },
  {
   "cell_type": "code",
   "execution_count": 70,
   "id": "072dec77",
   "metadata": {},
   "outputs": [
    {
     "data": {
      "image/png": "[encoded data removed]",
      "text/latex": [
       "$\\displaystyle \\left[\\begin{matrix}3.66666666666667\\\\-0.666666666666667\\\\0.333333333333333\\end{matrix}\\right]$"
      ],
      "text/plain": [
       "⎡ 3.66666666666667 ⎤\n",
       "⎢                  ⎥\n",
       "⎢-0.666666666666667⎥\n",
       "⎢                  ⎥\n",
       "⎣0.333333333333333 ⎦"
      ]
     },
     "execution_count": 70,
     "metadata": {},
     "output_type": "execute_result"
    }
   ],
   "source": [
    "U.T*x.T"
   ]
  },
  {
   "cell_type": "markdown",
   "id": "d75c65df",
   "metadata": {},
   "source": [
    "### 2: Ortonormal basis (konstruktion). Håndregning."
   ]
  },
  {
   "cell_type": "markdown",
   "id": "584006df",
   "metadata": {},
   "source": [
    "Opstil en ortonormal basis i $\\mathbb{R}^3$, hvori \n",
    "\n",
    "\\begin{equation*}\n",
    "  \\left(\\frac {\\sqrt 2}2,\\frac {\\sqrt 2}2,0\\right)\n",
    "\\end{equation*}\n",
    "\n",
    "er den første basisvektor."
   ]
  },
  {
   "cell_type": "markdown",
   "id": "406fddf6",
   "metadata": {},
   "source": [
    "#### Answer\n",
    "To do this we need to find a vector $v = (x,y,z)$ that is orthogonal to $u_1$.\n",
    "$$\n",
    "\\langle u_1,v \\rangle = \n",
    "\\begin{bmatrix}\n",
    "\\frac{\\sqrt{2}}{2} \\\\\n",
    "\\frac{\\sqrt{2}}{2} \\\\\n",
    "0\n",
    "\\end{bmatrix} \\cdot\n",
    "\\begin{bmatrix}\n",
    "x \\\\\n",
    "y \\\\\n",
    "z\n",
    "\\end{bmatrix} = \\frac{\\sqrt{2}}{2} \\cdot x + \\frac{\\sqrt{2}}{2} \\cdot y + 0 \\cdot z = 0\n",
    "$$\n",
    "\n",
    "We can quickly see that we have $x+y=0$ which gives us that $x = -y$, so a simple choice satisfying this is $v = (1,-1,0)$. To make it a unit vector, we normalize:\n",
    "$$\n",
    "u_2 = \\frac{v}{||v||} = \\frac{(1,-1,0)}{\\sqrt{1^2 + (-1)^2 + 0^2}} = \\frac{(1,-1,0)}{\\sqrt{2}} = (\\frac{1}{\\sqrt{2}}, \\frac{-1}{\\sqrt{2}}, 0)\n",
    "$$\n",
    "We can now the third orthonormal vector using the cross product\n",
    "$$\n",
    "\\mathbf{u}_3 = \\mathbf{u}_1 \\times \\mathbf{u}_2 =\n",
    "\\begin{vmatrix}\n",
    "\\mathbf{i} & \\mathbf{j} & \\mathbf{k} \\\\\n",
    "\\frac{\\sqrt{2}}{2} & \\frac{\\sqrt{2}}{2} & 0 \\\\\n",
    "\\frac{1}{\\sqrt{2}} & \\frac{-1}{\\sqrt{2}} & 0\n",
    "\\end{vmatrix}\n",
    "$$\n",
    "\n",
    "Expanding along the first row:\n",
    "\n",
    "$$\n",
    "\\mathbf{u}_3 =\n",
    "\\mathbf{i} \\begin{vmatrix} \\frac{\\sqrt{2}}{2} & 0 \\\\ -\\frac{1}{\\sqrt{2}} & 0 \\end{vmatrix}\n",
    "- \\mathbf{j} \\begin{vmatrix} \\frac{\\sqrt{2}}{2} & 0 \\\\ \\frac{1}{\\sqrt{2}} & 0 \\end{vmatrix}\n",
    "+ \\mathbf{k} \\begin{vmatrix} \\frac{\\sqrt{2}}{2} & \\frac{\\sqrt{2}}{2} \\\\ \\frac{1}{\\sqrt{2}} & \\frac{-1}{\\sqrt{2}} \\end{vmatrix}\n",
    "$$\n",
    "\n",
    "Since the first two determinants are zero, we get:\n",
    "\n",
    "$$\n",
    "\\mathbf{u}_3 =\n",
    "\\mathbf{k} \\left( \\frac{\\sqrt{2}}{2} \\cdot \\frac{-1}{\\sqrt{2}} - \\frac{\\sqrt{2}}{2} \\cdot \\frac{1}{\\sqrt{2}} \\right)\n",
    "$$\n",
    "\n",
    "$$\n",
    "\\mathbf{u}_3 =\n",
    "\\mathbf{k} \\left( -\\frac{1}{2} - \\frac{1}{2} \\right) = \\mathbf{k} (-1) = (0,0,-1)\n",
    "$$\n",
    "\n",
    "so we now have that:\n",
    "$$\n",
    "u_1 = \n",
    "\\begin{bmatrix}\n",
    "\\frac{\\sqrt{2}}{2} \\\\\n",
    "\\frac{\\sqrt{2}}{2} \\\\\n",
    "0\n",
    "\\end{bmatrix}, \\quad\n",
    "u_2 =\n",
    "\\begin{bmatrix}\n",
    "\\frac{1}{\\sqrt{2}} \\\\\n",
    "\\frac{-1}{\\sqrt{2}} \\\\\n",
    "0\n",
    "\\end{bmatrix} \\quad \\text{and} \\quad\n",
    "u_3 = \n",
    "\\begin{bmatrix}\n",
    "0 \\\\\n",
    "0 \\\\\n",
    "-1\n",
    "\\end{bmatrix}\n",
    "$$\n",
    "which forms an orthonormal basis in $\\mathbb{R}^3$.\n"
   ]
  },
  {
   "cell_type": "markdown",
   "id": "c12759e2",
   "metadata": {},
   "source": [
    "### 3: Ortonormalisering. Håndregning."
   ]
  },
  {
   "cell_type": "markdown",
   "id": "c1bfddc8",
   "metadata": {},
   "source": [
    "Bestem løsningsmængden for den homogene ligning\n",
    "\n",
    "\\begin{equation*}\n",
    "  x_1+x_2+x_3=0\n",
    "\\end{equation*}\n",
    "\n",
    "og gør rede for at den er et underrum i $\\mathbb{R}^3$. Find en ortonormal basis for dette *løsningsrum*."
   ]
  },
  {
   "cell_type": "markdown",
   "id": "36bbf8c9",
   "metadata": {},
   "source": [
    "#### Answer\n",
    "To do this we will chose two free parameters $s$ and $t$, we can then write:\n",
    "$$\n",
    "x_1 = s , \\quad x_2 = t \\quad \\text{and} \\quad x_3 = -s-t\n",
    "$$\n",
    "Thereby we can describe \"løsningsmængden\" as:\n",
    "$$\n",
    "S = \\{(s,t,-s-t) : s,t \\in \\mathbb{R}\\}\n",
    "$$\n",
    "A alternative way of formulating this is:\n",
    "$$\n",
    "S = span\\{(1,0,-1),(0,1,-1)\\}\n",
    "$$\n",
    "As $s$ and $t$ can be choosen freely $S$ is a twodimensional \"underrum\" over $\\mathbb{R}^3$\n",
    "\n",
    "**Deciding the ortonormal basis**\n",
    "\n",
    "We start off by defining:\n",
    "$$\n",
    "v_1 = (1,0,-1) \\quad \\text{and} \\quad v_2 = (0,1,-1)\n",
    "$$\n",
    "Now lets find the ortonormal basis using the Gram-Schmidt-process:\n",
    "\n",
    "**Set the first vector as $u_1 = \\frac{v_1}{\\|v_1\\|}$**\n",
    "\n",
    "$$\n",
    "u_1 = \\frac{(1,0,-1)}{\\|(1,0,-1)\\|} = \\frac{(1,0,-1)}{\\sqrt{2}} = (\\frac{1}{\\sqrt{2}},0,\\frac{-1}{\\sqrt{2}})\n",
    "$$\n",
    "\n",
    "**Calculate the projection of $v_2$ on $u_1$**\n",
    "\n",
    "$$\n",
    "\\langle v_2, u_1 \\rangle =\n",
    "\\begin{bmatrix}\n",
    "0 \\\\\n",
    "1 \\\\\n",
    "-1\n",
    "\\end{bmatrix} \\cdot\n",
    "\\begin{bmatrix}\n",
    "\\frac{1}{\\sqrt{2}} \\\\\n",
    "0 \\\\\n",
    "\\frac{-1}{\\sqrt{2}}\n",
    "\\end{bmatrix} = 0 + 0 + (-1)\\cdot\\frac{-1}{\\sqrt{2}} = \\frac{1}{\\sqrt{2}}\n",
    "$$\n",
    "Now we can calculate the projection via the formular:\n",
    "$$\n",
    "||proj_y(x)||= \\frac{\\langle x,y \\rangle}{||y||}\n",
    "$$\n",
    "We now inser our values\n",
    "$$\n",
    "proj_{u_1}(v_2)= \\frac{\\langle v_2,u_1 \\rangle}{u_1} = \\frac{1}{\\sqrt{2}} \\cdot (\\frac{1}{\\sqrt{2}},0,\\frac{-1}{\\sqrt{2}}) = (\\frac{1}{2},0,\\frac{-1}{2})\n",
    "$$\n",
    "\n",
    "**Calculate $e_2$ and it's norm**\n",
    "\n",
    "We define:\n",
    "$$\n",
    "e_2 = v_2 - proj_{u_1}(v_2) = (0,1,-1) - (\\frac{1}{2},0,\\frac{-1}{2}) = (\\frac{-1}{2},1,\\frac{-1}{2})\n",
    "$$\n",
    "We calculate the norm\n",
    "$$\n",
    "||e_2|| = \\sqrt{(\\frac{-1}{2})^2+1^2+(\\frac{-1}{2})^2} = \\sqrt{\\frac{1}{4}+1+\\frac{1}{4}} = \\sqrt{\\frac{3}{2}} = \\frac{\\sqrt{6}}{2}\n",
    "$$\n",
    "\n",
    "**Normalize $e_2$ to get $u_2$**\n",
    "\n",
    "$$\n",
    "u_2 = \\frac{e_2}{||e_2||} = \\frac{(\\frac{-1}{2},1,\\frac{-1}{2})}{\\frac{\\sqrt{6}}{2}} = \\frac{2}{\\sqrt{6}} \\cdot (\\frac{-1}{2},1,\\frac{-1}{2}) = (\\frac{-1}{\\sqrt{6}},\\frac{2}{\\sqrt{6}},\\frac{-1}{\\sqrt{6}})\n",
    "$$\n",
    "\n",
    "#### Conclusion\n",
    "A ortonormal basis for \"løsningsmængden\" is given by:\n",
    "$$\n",
    "u_1 = (\\frac{1}{\\sqrt{2}},0,\\frac{-1}{\\sqrt{2}}) \\quad \\text{and} \\quad u_2 = (\\frac{-1}{\\sqrt{6}},\\frac{2}{\\sqrt{6}},\\frac{-1}{\\sqrt{6}})\n",
    "$$"
   ]
  },
  {
   "cell_type": "markdown",
   "id": "d39c0c25",
   "metadata": {},
   "source": [
    "### 4: Ortogonale projektioner"
   ]
  },
  {
   "cell_type": "markdown",
   "id": "b0188f0c",
   "metadata": {},
   "source": [
    "Lad $\\boldsymbol{y}=(2,1,2) \\in \\mathbb{R}^3$ være givet. Da er projektionen af $\\boldsymbol{x} \\in \\mathbb{R}^3$ på linjen $Y = \\operatorname{span}\\{\\boldsymbol{y}\\}$ givet ved:\n",
    "\n",
    "\\begin{equation*}\n",
    "\\operatorname{Proj}_Y(\\boldsymbol{x}) = \\frac{\\left<\\boldsymbol{x},\\boldsymbol{y} \\right>}{\\left<\\boldsymbol{y},\\boldsymbol{y} \\right>}\\boldsymbol{y}\n",
    "= \\left<\\boldsymbol{x},\\boldsymbol{u}\\right>\\boldsymbol{u},\n",
    "\\end{equation*}\n",
    "\n",
    "hvor $\\boldsymbol{u} = \\frac{\\boldsymbol{y}}{||\\boldsymbol{y}||}$."
   ]
  },
  {
   "cell_type": "markdown",
   "id": "fdcee312",
   "metadata": {},
   "source": [
    "#### Spørgsmål a"
   ]
  },
  {
   "cell_type": "markdown",
   "id": "4a039024",
   "metadata": {},
   "source": [
    "Lad $\\boldsymbol{x} = (1,2,3) \\in \\mathbb{R}^3$. Udregn $\\operatorname{Proj}_Y(\\boldsymbol{x})$, $\\operatorname{Proj}_Y(\\boldsymbol{y})$ og $\\operatorname{Proj}_Y(\\boldsymbol{u})$."
   ]
  },
  {
   "cell_type": "code",
   "execution_count": 71,
   "id": "d0dd10c6",
   "metadata": {},
   "outputs": [
    {
     "data": {
      "image/png": "[encoded data removed]",
      "text/latex": [
       "$\\displaystyle \\left( \\left[\\begin{matrix}2\\\\1\\\\2\\end{matrix}\\right], \\  \\left[\\begin{matrix}1\\\\2\\\\3\\end{matrix}\\right]\\right)$"
      ],
      "text/plain": [
       "⎛⎡2⎤  ⎡1⎤⎞\n",
       "⎜⎢ ⎥  ⎢ ⎥⎟\n",
       "⎜⎢1⎥, ⎢2⎥⎟\n",
       "⎜⎢ ⎥  ⎢ ⎥⎟\n",
       "⎝⎣2⎦  ⎣3⎦⎠"
      ]
     },
     "execution_count": 71,
     "metadata": {},
     "output_type": "execute_result"
    }
   ],
   "source": [
    "y = Matrix([2,1,2])\n",
    "x = Matrix([1,2,3])\n",
    "y,x"
   ]
  },
  {
   "cell_type": "code",
   "execution_count": 72,
   "id": "55737bdf",
   "metadata": {},
   "outputs": [
    {
     "data": {
      "image/png": "[encoded data removed]",
      "text/latex": [
       "$\\displaystyle \\left[\\begin{matrix}\\frac{2}{3}\\\\\\frac{1}{3}\\\\\\frac{2}{3}\\end{matrix}\\right]$"
      ],
      "text/plain": [
       "⎡2/3⎤\n",
       "⎢   ⎥\n",
       "⎢1/3⎥\n",
       "⎢   ⎥\n",
       "⎣2/3⎦"
      ]
     },
     "execution_count": 72,
     "metadata": {},
     "output_type": "execute_result"
    }
   ],
   "source": [
    "# we calculate u\n",
    "u = y / y.norm()\n",
    "u"
   ]
  },
  {
   "cell_type": "code",
   "execution_count": 73,
   "id": "ef171639",
   "metadata": {},
   "outputs": [
    {
     "data": {
      "image/png": "[encoded data removed]",
      "text/latex": [
       "$\\displaystyle \\left[\\begin{matrix}\\frac{20}{9}\\\\\\frac{10}{9}\\\\\\frac{20}{9}\\end{matrix}\\right]$"
      ],
      "text/plain": [
       "⎡20/9⎤\n",
       "⎢    ⎥\n",
       "⎢10/9⎥\n",
       "⎢    ⎥\n",
       "⎣20/9⎦"
      ]
     },
     "execution_count": 73,
     "metadata": {},
     "output_type": "execute_result"
    }
   ],
   "source": [
    "# We calculate proj_Y(x)\n",
    "proj_Y_x = x.dot(u) * u\n",
    "proj_Y_x"
   ]
  },
  {
   "cell_type": "code",
   "execution_count": 74,
   "id": "10c129e4",
   "metadata": {},
   "outputs": [
    {
     "data": {
      "image/png": "[encoded data removed]",
      "text/latex": [
       "$\\displaystyle \\left[\\begin{matrix}2\\\\1\\\\2\\end{matrix}\\right]$"
      ],
      "text/plain": [
       "⎡2⎤\n",
       "⎢ ⎥\n",
       "⎢1⎥\n",
       "⎢ ⎥\n",
       "⎣2⎦"
      ]
     },
     "execution_count": 74,
     "metadata": {},
     "output_type": "execute_result"
    }
   ],
   "source": [
    "# now proj_Y(y)\n",
    "proj_Y_y = y.dot(u) * u\n",
    "proj_Y_y"
   ]
  },
  {
   "cell_type": "code",
   "execution_count": 75,
   "id": "e440211b",
   "metadata": {},
   "outputs": [
    {
     "data": {
      "image/png": "[encoded data removed]",
      "text/latex": [
       "$\\displaystyle \\left[\\begin{matrix}\\frac{2}{3}\\\\\\frac{1}{3}\\\\\\frac{2}{3}\\end{matrix}\\right]$"
      ],
      "text/plain": [
       "⎡2/3⎤\n",
       "⎢   ⎥\n",
       "⎢1/3⎥\n",
       "⎢   ⎥\n",
       "⎣2/3⎦"
      ]
     },
     "execution_count": 75,
     "metadata": {},
     "output_type": "execute_result"
    }
   ],
   "source": [
    "# lastly proj_Y(u)\n",
    "proj_Y_u = u.dot(u) * u\n",
    "proj_Y_u"
   ]
  },
  {
   "cell_type": "markdown",
   "id": "a180b9b2",
   "metadata": {},
   "source": [
    "#### Spørgsmål b"
   ]
  },
  {
   "cell_type": "markdown",
   "id": "054be28a",
   "metadata": {},
   "source": [
    "Vi opfatter som sædvanlig alle vektorer som søjlevektorer. Find nu $3 \\times 3$-matricen $P = \\pmb{u} \\pmb{u}^T$ og udregn både $P\\boldsymbol{x}$ og $P\\boldsymbol{y}$."
   ]
  },
  {
   "cell_type": "code",
   "execution_count": 76,
   "id": "4b69e572",
   "metadata": {},
   "outputs": [
    {
     "data": {
      "image/png": "[encoded data removed]",
      "text/latex": [
       "$\\displaystyle \\left( \\left[\\begin{matrix}\\frac{4}{9} & \\frac{2}{9} & \\frac{4}{9}\\\\\\frac{2}{9} & \\frac{1}{9} & \\frac{2}{9}\\\\\\frac{4}{9} & \\frac{2}{9} & \\frac{4}{9}\\end{matrix}\\right], \\  \\left[\\begin{matrix}\\frac{20}{9}\\\\\\frac{10}{9}\\\\\\frac{20}{9}\\end{matrix}\\right], \\  \\left[\\begin{matrix}2\\\\1\\\\2\\end{matrix}\\right]\\right)$"
      ],
      "text/plain": [
       "⎛⎡4/9  2/9  4/9⎤  ⎡20/9⎤  ⎡2⎤⎞\n",
       "⎜⎢             ⎥  ⎢    ⎥  ⎢ ⎥⎟\n",
       "⎜⎢2/9  1/9  2/9⎥, ⎢10/9⎥, ⎢1⎥⎟\n",
       "⎜⎢             ⎥  ⎢    ⎥  ⎢ ⎥⎟\n",
       "⎝⎣4/9  2/9  4/9⎦  ⎣20/9⎦  ⎣2⎦⎠"
      ]
     },
     "execution_count": 76,
     "metadata": {},
     "output_type": "execute_result"
    }
   ],
   "source": [
    "P = u*u.T\n",
    "P, P*x,P*y"
   ]
  },
  {
   "cell_type": "markdown",
   "id": "d6e56850",
   "metadata": {},
   "source": [
    "### 5: En ortonormal basis for et underrum af $\\mathbb{C}^4$"
   ]
  },
  {
   "cell_type": "markdown",
   "id": "b02f0598",
   "metadata": {},
   "source": [
    "#### Spørgsmål a\n",
    "\n",
    "Find en orthonormal basis $\\pmb{u}_1, \\pmb{u}_2$ for underrummet $Y = \\operatorname{span}\\{\\pmb{v}_1, \\pmb{v}_2\\}$ udspændt af vektorerne:"
   ]
  },
  {
   "cell_type": "code",
   "execution_count": 77,
   "id": "ce088f02",
   "metadata": {
    "tags": [
     "remove-output"
    ]
   },
   "outputs": [],
   "source": [
    "v1 = Matrix([I, 1, 1, 0])\n",
    "v2 = Matrix([0, I, I, sqrt(2)])"
   ]
  },
  {
   "cell_type": "code",
   "execution_count": 78,
   "id": "9831be4b",
   "metadata": {},
   "outputs": [
    {
     "data": {
      "image/png": "[encoded data removed]",
      "text/latex": [
       "$\\displaystyle \\left( \\left[\\begin{matrix}\\frac{\\sqrt{3} i}{3}\\\\\\frac{\\sqrt{3}}{3}\\\\\\frac{\\sqrt{3}}{3}\\\\0\\end{matrix}\\right], \\  \\left[\\begin{matrix}\\frac{\\sqrt{6}}{6}\\\\\\frac{\\sqrt{6} i}{12}\\\\\\frac{\\sqrt{6} i}{12}\\\\\\frac{\\sqrt{3}}{2}\\end{matrix}\\right], \\  \\left[ \\left[\\begin{matrix}\\frac{\\sqrt{3} i}{3}\\\\\\frac{\\sqrt{3}}{3}\\\\\\frac{\\sqrt{3}}{3}\\\\0\\end{matrix}\\right], \\  \\left[\\begin{matrix}\\frac{\\sqrt{6}}{6}\\\\\\frac{\\sqrt{6} i}{12}\\\\\\frac{\\sqrt{6} i}{12}\\\\\\frac{\\sqrt{3}}{2}\\end{matrix}\\right]\\right]\\right)$"
      ],
      "text/plain": [
       "⎛        ⎡ √6 ⎤  ⎡        ⎡ √6 ⎤⎤⎞\n",
       "⎜⎡√3⋅ⅈ⎤  ⎢ ── ⎥  ⎢⎡√3⋅ⅈ⎤  ⎢ ── ⎥⎥⎟\n",
       "⎜⎢────⎥  ⎢ 6  ⎥  ⎢⎢────⎥  ⎢ 6  ⎥⎥⎟\n",
       "⎜⎢ 3  ⎥  ⎢    ⎥  ⎢⎢ 3  ⎥  ⎢    ⎥⎥⎟\n",
       "⎜⎢    ⎥  ⎢√6⋅ⅈ⎥  ⎢⎢    ⎥  ⎢√6⋅ⅈ⎥⎥⎟\n",
       "⎜⎢ √3 ⎥  ⎢────⎥  ⎢⎢ √3 ⎥  ⎢────⎥⎥⎟\n",
       "⎜⎢ ── ⎥  ⎢ 12 ⎥  ⎢⎢ ── ⎥  ⎢ 12 ⎥⎥⎟\n",
       "⎜⎢ 3  ⎥, ⎢    ⎥, ⎢⎢ 3  ⎥, ⎢    ⎥⎥⎟\n",
       "⎜⎢    ⎥  ⎢√6⋅ⅈ⎥  ⎢⎢    ⎥  ⎢√6⋅ⅈ⎥⎥⎟\n",
       "⎜⎢ √3 ⎥  ⎢────⎥  ⎢⎢ √3 ⎥  ⎢────⎥⎥⎟\n",
       "⎜⎢ ── ⎥  ⎢ 12 ⎥  ⎢⎢ ── ⎥  ⎢ 12 ⎥⎥⎟\n",
       "⎜⎢ 3  ⎥  ⎢    ⎥  ⎢⎢ 3  ⎥  ⎢    ⎥⎥⎟\n",
       "⎜⎢    ⎥  ⎢ √3 ⎥  ⎢⎢    ⎥  ⎢ √3 ⎥⎥⎟\n",
       "⎜⎣ 0  ⎦  ⎢ ── ⎥  ⎢⎣ 0  ⎦  ⎢ ── ⎥⎥⎟\n",
       "⎝        ⎣ 2  ⎦  ⎣        ⎣ 2  ⎦⎦⎠"
      ]
     },
     "execution_count": 78,
     "metadata": {},
     "output_type": "execute_result"
    }
   ],
   "source": [
    "# We start of by normalizing v1\n",
    "u1 = v1 / v1.norm()\n",
    "\n",
    "# We project v2 onto u1\n",
    "proj_v2_u1 = v2.dot(u1) * u1\n",
    "\n",
    "# Subtract the projection from v2 to obtain the orthogonal component\n",
    "w2 = v2 - proj_v2_u1\n",
    "\n",
    "# Normalize the orthogonal component to get u2\n",
    "u2 = w2 / w2.norm()\n",
    "\n",
    "# We now have an orthonormal basis\n",
    "g = GramSchmidt([v1,v2], orthonormal=True) # All the above can be done as follows\n",
    "u1, u2, g"
   ]
  },
  {
   "cell_type": "markdown",
   "id": "beac28af",
   "metadata": {},
   "source": [
    "#### Spørgsmål b\n",
    "\n",
    "Lad \n",
    "\n",
    "\\begin{equation*}\n",
    "\\pmb{x} = \\left[\\begin{matrix}3 i\\\\3 - 2 i\\\\3 - 2 i\\\\-2\\sqrt{2}\\end{matrix}\\right]\n",
    "\\end{equation*}\n",
    "\n",
    "Udregn $\\langle \\pmb{x}, \\pmb{u}_1 \\rangle$, $\\langle \\pmb{x}, \\pmb{u}_2 \\rangle$ samt\n",
    "\n",
    "\\begin{equation*}\n",
    "\\langle \\pmb{x}, \\pmb{u}_1 \\rangle \\pmb{u}_1 + \\langle \\pmb{x}, \\pmb{u}_2 \\rangle \\pmb{u}_2  \n",
    "\\end{equation*}\n",
    "\n",
    "Hvad giver denne linearkombination? Tilhører $\\pmb{x}$ underrummet $Y$?"
   ]
  },
  {
   "cell_type": "code",
   "execution_count": 79,
   "id": "7760e2a1",
   "metadata": {},
   "outputs": [
    {
     "data": {
      "image/png": "[encoded data removed]",
      "text/latex": [
       "$\\displaystyle \\left[\\begin{matrix}3 i\\\\3 - 2 i\\\\3 - 2 i\\\\- 2 \\sqrt{2}\\end{matrix}\\right]$"
      ],
      "text/plain": [
       "⎡  3⋅ⅈ  ⎤\n",
       "⎢       ⎥\n",
       "⎢3 - 2⋅ⅈ⎥\n",
       "⎢       ⎥\n",
       "⎢3 - 2⋅ⅈ⎥\n",
       "⎢       ⎥\n",
       "⎣ -2⋅√2 ⎦"
      ]
     },
     "execution_count": 79,
     "metadata": {},
     "output_type": "execute_result"
    }
   ],
   "source": [
    "x = Matrix([3*I,3-2*I,3-2*I,-2*sqrt(2)])\n",
    "x"
   ]
  },
  {
   "cell_type": "code",
   "execution_count": 80,
   "id": "01fc2fbd",
   "metadata": {},
   "outputs": [
    {
     "data": {
      "image/png": "[encoded data removed]",
      "text/latex": [
       "$\\displaystyle \\left( - \\sqrt{3} + \\frac{2 \\sqrt{3} \\left(3 - 2 i\\right)}{3}, \\  - \\sqrt{6} + \\frac{\\sqrt{6} i}{2} + \\frac{\\sqrt{6} i \\left(3 - 2 i\\right)}{6}\\right)$"
      ],
      "text/plain": [
       "⎛      2⋅√3⋅(3 - 2⋅ⅈ)        √6⋅ⅈ   √6⋅ⅈ⋅(3 - 2⋅ⅈ)⎞\n",
       "⎜-√3 + ──────────────, -√6 + ──── + ──────────────⎟\n",
       "⎝            3                2           6       ⎠"
      ]
     },
     "execution_count": 80,
     "metadata": {},
     "output_type": "execute_result"
    }
   ],
   "source": [
    "# we calculate <x,u1> and <x,u2>\n",
    "x.dot(u1),x.dot(u2)"
   ]
  },
  {
   "cell_type": "code",
   "execution_count": 81,
   "id": "bb5abe60",
   "metadata": {},
   "outputs": [
    {
     "data": {
      "image/png": "[encoded data removed]",
      "text/latex": [
       "$\\displaystyle \\left[\\begin{matrix}\\frac{2}{3} + 2 i\\\\\\frac{1}{2} - \\frac{5 i}{3}\\\\\\frac{1}{2} - \\frac{5 i}{3}\\\\\\frac{\\sqrt{2} \\left(-2 + 3 i\\right)}{2}\\end{matrix}\\right]$"
      ],
      "text/plain": [
       "⎡  2/3 + 2⋅ⅈ  ⎤\n",
       "⎢             ⎥\n",
       "⎢   1   5⋅ⅈ   ⎥\n",
       "⎢   ─ - ───   ⎥\n",
       "⎢   2    3    ⎥\n",
       "⎢             ⎥\n",
       "⎢   1   5⋅ⅈ   ⎥\n",
       "⎢   ─ - ───   ⎥\n",
       "⎢   2    3    ⎥\n",
       "⎢             ⎥\n",
       "⎢√2⋅(-2 + 3⋅ⅈ)⎥\n",
       "⎢─────────────⎥\n",
       "⎣      2      ⎦"
      ]
     },
     "execution_count": 81,
     "metadata": {},
     "output_type": "execute_result"
    }
   ],
   "source": [
    "# we calculate <x,u1>u1 + <x,u2>u2\n",
    "proj_x = x.dot(u1) * u1 + x.dot(u2) * u2\n",
    "proj_x = simplify(proj_x)\n",
    "proj_x"
   ]
  },
  {
   "cell_type": "markdown",
   "id": "e53c656f",
   "metadata": {},
   "source": [
    "### 6: En Python algoritme"
   ]
  },
  {
   "cell_type": "markdown",
   "id": "a1572ccb",
   "metadata": {},
   "source": [
    "#### Spørgsmål a"
   ]
  },
  {
   "cell_type": "markdown",
   "id": "42875283",
   "metadata": {},
   "source": [
    "Betragt følgende kode og forklar hvad den gør. **Inden** du kører koden i en Jupyter notebook, skal du forklare hvad output bliver."
   ]
  },
  {
   "cell_type": "code",
   "execution_count": 82,
   "id": "6be3f71f",
   "metadata": {
    "tags": [
     "remove-output"
    ]
   },
   "outputs": [
    {
     "data": {
      "image/png": "[encoded data removed]",
      "text/latex": [
       "$\\displaystyle \\left[ x_{1} + 2 x_{2} + 3 x_{3} = 1, \\  4 x_{1} + 5 x_{2} + 6 x_{3} = 0, \\  5 x_{1} + 7 x_{2} + 8 x_{3} = -1\\right]$"
      ],
      "text/plain": [
       "[x₁ + 2⋅x₂ + 3⋅x₃ = 1, 4⋅x₁ + 5⋅x₂ + 6⋅x₃ = 0, 5⋅x₁ + 7⋅x₂ + 8⋅x₃ = -1]"
      ]
     },
     "execution_count": 82,
     "metadata": {},
     "output_type": "execute_result"
    }
   ],
   "source": [
    "from sympy import *\n",
    "from dtumathtools import *\n",
    "init_printing()\n",
    "\n",
    "x1, x2, x3 = symbols('x1:4', real=True)\n",
    "eqns = [Eq(1*x1 + 2*x2 + 3*x3, 1), Eq(4*x1 + 5*x2 + 6*x3, 0), Eq(5*x1 + 7*x2 + 8*x3, -1)]\n",
    "eqns"
   ]
  },
  {
   "cell_type": "markdown",
   "id": "d53f885a",
   "metadata": {},
   "source": [
    "#### Answer\n",
    "Outputs a list of the three equations"
   ]
  },
  {
   "cell_type": "code",
   "execution_count": 83,
   "id": "d4f215e8",
   "metadata": {
    "tags": [
     "remove-output"
    ]
   },
   "outputs": [
    {
     "data": {
      "image/png": "[encoded data removed]",
      "text/latex": [
       "$\\displaystyle \\left( \\left[\\begin{matrix}1 & 2 & 3\\\\4 & 5 & 6\\\\5 & 7 & 8\\end{matrix}\\right], \\  \\left[\\begin{matrix}1\\\\0\\\\-1\\end{matrix}\\right], \\  \\left[\\begin{matrix}1 & 2 & 3 & 1\\\\4 & 5 & 6 & 0\\\\5 & 7 & 8 & -1\\end{matrix}\\right]\\right)$"
      ],
      "text/plain": [
       "⎛⎡1  2  3⎤  ⎡1 ⎤  ⎡1  2  3  1 ⎤⎞\n",
       "⎜⎢       ⎥  ⎢  ⎥  ⎢           ⎥⎟\n",
       "⎜⎢4  5  6⎥, ⎢0 ⎥, ⎢4  5  6  0 ⎥⎟\n",
       "⎜⎢       ⎥  ⎢  ⎥  ⎢           ⎥⎟\n",
       "⎝⎣5  7  8⎦  ⎣-1⎦  ⎣5  7  8  -1⎦⎠"
      ]
     },
     "execution_count": 83,
     "metadata": {},
     "output_type": "execute_result"
    }
   ],
   "source": [
    "A, b = linear_eq_to_matrix(eqns,x1,x2,x3)\n",
    "T = A.row_join(b)  # augmented matrix\n",
    "\n",
    "A, b, T"
   ]
  },
  {
   "cell_type": "markdown",
   "id": "a1eef2e6",
   "metadata": {},
   "source": [
    "#### Answer\n",
    "Converts a given System of Equations into Matrix form.\n",
    "\n",
    "We then build a totalmatrix from A and B."
   ]
  },
  {
   "cell_type": "markdown",
   "id": "08af7aff",
   "metadata": {},
   "source": [
    "#### Spørgsmål b"
   ]
  },
  {
   "cell_type": "markdown",
   "id": "17d7dbcb",
   "metadata": {},
   "source": [
    "Vi fortsætter Jupyter notebook'en med følgende kode (lad være med at køre den endnu). Ved hjælp at håndregning skal du gennemgå koden (løb for-loops'ne igennem). Hvilken $T$ matrix kommer der ud? Copy-paste koden til en chatbot fx https://copilot.microsoft.com/ (login med din dtu.dk-konto) og spørg chatbotten om den kan forklare koden linje for linje. Tjek resultatet ved at køre koden i en Python notebook. Husk at `T.shape[0]` giver antallet af række i matricen $T$."
   ]
  },
  {
   "cell_type": "code",
   "execution_count": 84,
   "id": "ea288d0d",
   "metadata": {
    "tags": [
     "remove-output"
    ]
   },
   "outputs": [
    {
     "data": {
      "image/png": "[encoded data removed]",
      "text/latex": [
       "$\\displaystyle \\left[\\begin{matrix}1 & 2 & 3 & 1\\\\0 & 1 & 2 & \\frac{4}{3}\\\\0 & 0 & 1 & 2\\end{matrix}\\right]$"
      ],
      "text/plain": [
       "⎡1  2  3   1 ⎤\n",
       "⎢            ⎥\n",
       "⎢0  1  2  4/3⎥\n",
       "⎢            ⎥\n",
       "⎣0  0  1   2 ⎦"
      ]
     },
     "execution_count": 84,
     "metadata": {},
     "output_type": "execute_result"
    }
   ],
   "source": [
    "for col in range(T.shape[0]): # goes from 0 to 2\n",
    "    for row in range(col + 1, T.shape[0]): # goes from col + 1 to 2\n",
    "        # subtract the multiple of the row from the row above it\n",
    "        T[row, :] = T[row, :] - T[row, col] / T[col, col] * T[col, :]\n",
    "    # divide the row by the leading coefficient\n",
    "    T[col, :] = T[col, :] / T[col, col]\n",
    "\n",
    "T"
   ]
  },
  {
   "cell_type": "markdown",
   "id": "51494ac3",
   "metadata": {},
   "source": [
    "#### Spørgsmål c"
   ]
  },
  {
   "cell_type": "markdown",
   "id": "27bb3496",
   "metadata": {},
   "source": [
    "Skriv Python-kode der sørger for nuller over diagonalen i matricen $T$ så $T$ ender med at være på row reduced echelon form. \n",
    "\n",
    "**Note:** \n",
    "Du skal ikke tage højde for eventuelle divisioner med nul (for generelle $T$ matricer). Vi antager at udregningerne går godt."
   ]
  },
  {
   "cell_type": "code",
   "execution_count": 85,
   "id": "7935829b",
   "metadata": {},
   "outputs": [
    {
     "data": {
      "image/png": "[encoded data removed]",
      "text/latex": [
       "$\\displaystyle \\left[\\begin{matrix}1.0 & 0 & 0 & 0.333333333333334\\\\0 & 1.0 & 0 & -2.66666666666667\\\\0 & 0 & 1.0 & 2.0\\end{matrix}\\right]$"
      ],
      "text/plain": [
       "⎡1.0   0    0   0.333333333333334⎤\n",
       "⎢                                ⎥\n",
       "⎢ 0   1.0   0   -2.66666666666667⎥\n",
       "⎢                                ⎥\n",
       "⎣ 0    0   1.0         2.0       ⎦"
      ]
     },
     "execution_count": 85,
     "metadata": {},
     "output_type": "execute_result"
    }
   ],
   "source": [
    "def rref(T: Matrix) -> Matrix:\n",
    "    # Convert T to a mutable Sympy Matrix with float entries.\n",
    "    T = Matrix(T)\n",
    "    T = Matrix([[float(entry) for entry in row] for row in T.tolist()])\n",
    "    m, n = T.shape\n",
    "    pivot_row = 0\n",
    "\n",
    "    # Forward elimination: Create zeros below each pivot.\n",
    "    for pivot_col in range(n):\n",
    "        if pivot_row >= m:\n",
    "            break\n",
    "\n",
    "        pivot = T[pivot_row, pivot_col]\n",
    "        # If the pivot is (nearly) zero, skip this column.\n",
    "        if abs(pivot) < 1e-12:\n",
    "            continue\n",
    "\n",
    "        # Normalize the pivot row so that the pivot becomes 1.\n",
    "        T.row_op(pivot_row, lambda v, j: v / pivot)\n",
    "\n",
    "        # Eliminate entries below the pivot.\n",
    "        for r in range(pivot_row + 1, m):\n",
    "            factor = T[r, pivot_col]\n",
    "            T.row_op(r, lambda v, j: v - factor * T[pivot_row, j])\n",
    "\n",
    "        pivot_row += 1\n",
    "\n",
    "    # Backward elimination: Create zeros above each pivot.\n",
    "    for i in range(m - 1, -1, -1):\n",
    "        # Find the pivot column in row i (first non-zero entry).\n",
    "        row_list = [abs(T[i, j]) for j in range(n)]\n",
    "        pivot_cols = [j for j in range(n) if row_list[j] > 1e-12]\n",
    "        if not pivot_cols:\n",
    "            continue  # Skip rows with no pivot.\n",
    "        pivot_col = pivot_cols[0]\n",
    "\n",
    "        # Eliminate entries above the pivot.\n",
    "        for r in range(i):\n",
    "            factor = T[r, pivot_col]\n",
    "            T.row_op(r, lambda v, j: v - factor * T[i, j])\n",
    "\n",
    "    return T\n",
    "\n",
    "T = rref(T)\n",
    "T"
   ]
  },
  {
   "cell_type": "markdown",
   "id": "ded8ba81",
   "metadata": {},
   "source": [
    "- $V$ er et indreprodukt­rum $\\langle \\cdot, \\cdot \\rangle$,\n",
    "  oftest $V = \\mathbb{R}^3$\n",
    "\n",
    "- $\\alpha$: $V_1, V_2, V_3, \\dots, V_n$ en basis for $V$\n",
    "\n",
    "- $\\beta$: $U_1, U_2, U_3, \\dots, U_n$ en ONB for $V$\n",
    "\n",
    "- $n = \\dim V$\n"
   ]
  },
  {
   "cell_type": "markdown",
   "id": "ba2c7152",
   "metadata": {},
   "source": [
    "#### Spørgsmål d"
   ]
  },
  {
   "cell_type": "markdown",
   "id": "de6c36aa",
   "metadata": {},
   "source": [
    "Hvad er det for en algoritme vi har implementeret? Test samme algoritme på:"
   ]
  },
  {
   "cell_type": "code",
   "execution_count": 86,
   "id": "7a7515ca",
   "metadata": {},
   "outputs": [
    {
     "data": {
      "image/png": "[encoded data removed]",
      "text/latex": [
       "$\\displaystyle \\left[\\begin{matrix}1 & 2 & 3 & 0 & 1\\\\4 & 5 & 6 & 0 & 0\\\\4 & 5 & 6 & 0 & 0\\\\5 & 7 & 8 & 0 & -1\\end{matrix}\\right]$"
      ],
      "text/plain": [
       "⎡1  2  3  0  1 ⎤\n",
       "⎢              ⎥\n",
       "⎢4  5  6  0  0 ⎥\n",
       "⎢              ⎥\n",
       "⎢4  5  6  0  0 ⎥\n",
       "⎢              ⎥\n",
       "⎣5  7  8  0  -1⎦"
      ]
     },
     "execution_count": 86,
     "metadata": {},
     "output_type": "execute_result"
    }
   ],
   "source": [
    "x1, x2, x3, x4 = symbols('x1:5', real=True)\n",
    "eqns = [Eq(1*x1 + 2*x2 + 3*x3, 1), Eq(4*x1 + 5*x2 + 6*x3, 0), Eq(4*x1 + 5*x2 + 6*x3, 0), Eq(5*x1 + 7*x2 + 8*x3, -1)]\n",
    "A, b = linear_eq_to_matrix(eqns,x1,x2,x3,x4)\n",
    "T = A.row_join(b)  # augmented matrix\n",
    "T"
   ]
  },
  {
   "cell_type": "code",
   "execution_count": 87,
   "id": "e101b599",
   "metadata": {},
   "outputs": [
    {
     "data": {
      "image/png": "[encoded data removed]",
      "text/latex": [
       "$\\displaystyle \\left[\\begin{matrix}1.0 & 0 & -2.0 & 0 & -3.66666666666667\\\\0 & 1.0 & 4.0 & 0 & 5.33333333333333\\\\0 & 0 & 0 & 0 & 0\\\\0 & 0 & -1.0 & 0 & -2.0\\end{matrix}\\right]$"
      ],
      "text/plain": [
       "⎡1.0   0   -2.0  0  -3.66666666666667⎤\n",
       "⎢                                    ⎥\n",
       "⎢ 0   1.0  4.0   0  5.33333333333333 ⎥\n",
       "⎢                                    ⎥\n",
       "⎢ 0    0    0    0          0        ⎥\n",
       "⎢                                    ⎥\n",
       "⎣ 0    0   -1.0  0        -2.0       ⎦"
      ]
     },
     "execution_count": 87,
     "metadata": {},
     "output_type": "execute_result"
    }
   ],
   "source": [
    "rref(T)"
   ]
  },
  {
   "cell_type": "markdown",
   "id": "befbc824",
   "metadata": {},
   "source": [
    "#### Answer\n",
    "The algorith is gausian elimination "
   ]
  },
  {
   "cell_type": "markdown",
   "id": "f6fad4d2",
   "metadata": {},
   "source": [
    "### 7: Ortogonale polynomier"
   ]
  },
  {
   "cell_type": "markdown",
   "id": "f98e7465",
   "metadata": {},
   "source": [
    "Dette er en <a href=\"../_assets/textbook_mat1b_en.pdf#exa:gram-schmidt-to-legendre\">opgave fra lærebogen</a>. Du kan finde hjælp der. \n",
    "\n",
    "Betragt listen $\\alpha=1,x,x^{2},x^{3}$ af polynomier i $P_{3}([-1,1])$ udstyret med $L^{2}$-indre produkt."
   ]
  },
  {
   "cell_type": "markdown",
   "id": "e1259322",
   "metadata": {},
   "source": [
    "#### Spørgsmål a"
   ]
  },
  {
   "cell_type": "markdown",
   "id": "144fceca",
   "metadata": {},
   "source": [
    "Argumenter for at $\\alpha$ er en liste af lineært uafhængige vektorer."
   ]
  },
  {
   "cell_type": "markdown",
   "id": "c41a0df9",
   "metadata": {},
   "source": [
    "#### Spørgsmål b"
   ]
  },
  {
   "cell_type": "markdown",
   "id": "e839e0d5",
   "metadata": {},
   "source": [
    "Anvend Gram-Schmidt-proceduren på $\\alpha$ og vis at proceduren giver en *normaliseret* udgave af <a href=\"../_assets/textbook_mat1b_en.pdf#exa:legendre-ortho-poly\">Legendre polynomierne</a>."
   ]
  },
  {
   "cell_type": "markdown",
   "id": "23fae524",
   "metadata": {},
   "source": [
    "___"
   ]
  },
  {
   "cell_type": "markdown",
   "id": "4d494486",
   "metadata": {},
   "source": [
    "## Opgaver -- Lille Dag"
   ]
  },
  {
   "cell_type": "markdown",
   "id": "d3d06162",
   "metadata": {},
   "source": [
    "### 1: Matrix-multiplikationer. Håndregning."
   ]
  },
  {
   "cell_type": "markdown",
   "id": "2a521886",
   "metadata": {},
   "source": [
    "Definer\n",
    "\n",
    "\\begin{equation*}\n",
    " A = \\left[\\begin{matrix}1 & 2 & 3 & 4\\\\5 & 6 & 7 & 8\\\\4 & 4 & 4 & 4\\end{matrix}\\right], \\quad\n",
    " \\pmb{x} = \\left[\\begin{matrix} x_1\\\\ x_2\\\\ x_3\\\\ x_4\\end{matrix}\\right] = \\left[\\begin{matrix}1\\\\2\\\\-1\\\\1\\end{matrix}\\right].\n",
    "\\end{equation*}\n",
    "\n",
    "\n",
    "Lad $\\pmb{a}_1, \\pmb{a}_2,\\pmb{a}_3,\\pmb{a}_4$ angive søjlerne i $A$. Lad $\\pmb{b}_1, \\pmb{b}_2,\\pmb{b}_3$ angive **rækkerne** i $A$. Vi udregner nu $A\\pmb{x}$ på to forskellige måder"
   ]
  },
  {
   "cell_type": "markdown",
   "id": "2098f5ab",
   "metadata": {},
   "source": [
    "#### Spørgsmål a"
   ]
  },
  {
   "cell_type": "markdown",
   "id": "9cbd0107",
   "metadata": {},
   "source": [
    "*Metode 1: Som linearkombination af søjlerne*. Udregn linearkombinationen\n",
    "\n",
    "\\begin{equation*}\n",
    "  x_1 \\pmb{a}_1 + x_2 \\pmb{a}_2 + x_3 \\pmb{a}_3 + x_4 \\pmb{a}_4\n",
    "\\end{equation*}"
   ]
  },
  {
   "cell_type": "markdown",
   "id": "c136784b",
   "metadata": {},
   "source": [
    "#### Spørgsmål b"
   ]
  },
  {
   "cell_type": "markdown",
   "id": "5318b93a",
   "metadata": {},
   "source": [
    "*Metode 2: Som \"prikprodukt\" af rækkerne i $A$ med $x$*. Udregn \n",
    "\n",
    "\\begin{equation*}\n",
    "\\left[\\begin{matrix} \\pmb{b}_1 \\pmb{x} \\\\ \\pmb{b}_2 \\pmb{x} \\\\ \\pmb{b}_3 \\pmb{x} \\end{matrix}\\right] \n",
    "\\end{equation*}\n",
    "\n",
    "**Note:**\n",
    "Da $\\pmb{b}_k$ er en rækkevektor, er $(\\pmb{b}_k)^T$ en søjlevektor. Produktet $\\pmb{b}_k \\pmb{x}$ svarer derfor til prikproduktet af $\\pmb{x}$ og $(\\pmb{b}_k)^T$."
   ]
  },
  {
   "cell_type": "markdown",
   "id": "33365b0f",
   "metadata": {},
   "source": [
    "#### Spørgsmål c"
   ]
  },
  {
   "cell_type": "markdown",
   "id": "f4ab21d7",
   "metadata": {},
   "source": [
    "Udregn $A\\pmb{x}$ i SymPy og sammenlign med dine udregninger i de forrige opgaver.\n",
    "\n",
    "\n",
    "### 2: Et underrum i $\\mathbb{C}^4$ og dets ortogonale komplement"
   ]
  },
  {
   "cell_type": "markdown",
   "id": "04b47832",
   "metadata": {},
   "source": [
    "Lad i $\\mathbb{C}^4$ være givet vektorerne\n",
    "\\begin{equation*}\n",
    "  \\pmb{v}_1=(1,1,1,1),\\,\\pmb{v}_2=(3 i ,i,i,3 i),\\,\\pmb{v}_3=(2,0,-2,4)\\,\\,\\,\\,\\operatorname{og}\\,\\,\\,\\,\\pmb{v}_4=(4-3i,2-i,-i,6-3i).\n",
    "\\end{equation*}\n",
    "\n",
    "Et underrum $Y$ i $\\mathbb{C}^4$ er bestemt ved $Y=\\operatorname{span}\\lbrace\\pmb{v}_1,\\pmb{v}_2,\\pmb{v}_3,\\pmb{v}_4\\rbrace$."
   ]
  },
  {
   "cell_type": "markdown",
   "id": "fca92d1d",
   "metadata": {},
   "source": [
    "#### Spørgsmål a"
   ]
  },
  {
   "cell_type": "code",
   "execution_count": 88,
   "id": "353ff7b1",
   "metadata": {},
   "outputs": [],
   "source": [
    "v1 = Matrix([1,1,1,1])\n",
    "v2 = Matrix([3*I,I,I,3*I])\n",
    "v3 = Matrix([2,0,-2,4])\n",
    "v4 = Matrix([4-3*I,2-I,-I,6-3*I])"
   ]
  },
  {
   "cell_type": "markdown",
   "id": "84b51946",
   "metadata": {},
   "source": [
    "Kør kommandoen `GramSchmidt([v1,v2,v3,v4], orthonormal=True)` i Python. Hvad fortæller Python jer?"
   ]
  },
  {
   "cell_type": "code",
   "execution_count": 89,
   "id": "86d478bc",
   "metadata": {},
   "outputs": [],
   "source": [
    "# GramSchmidt([v1, v2, v3, v4], orthonormal = True)"
   ]
  },
  {
   "cell_type": "markdown",
   "id": "dcb8a346",
   "metadata": {},
   "source": [
    "#### Spørgsmål b"
   ]
  },
  {
   "cell_type": "markdown",
   "id": "5ff09174",
   "metadata": {},
   "source": [
    "Vis nu at $(\\pmb{v}_1,\\pmb{v}_2,\\pmb{v}_3)\\,$ er en basis for $Y$, og find koordinatvektoren for $\\pmb{v}_4\\,$ med hensyn til denne basis."
   ]
  },
  {
   "cell_type": "markdown",
   "id": "b02704f4",
   "metadata": {},
   "source": [
    "#### Spørgsmål c"
   ]
  },
  {
   "cell_type": "markdown",
   "id": "d842b0ee",
   "metadata": {},
   "source": [
    "Angiv en ortonormal basis for $Y$.\n",
    "\n",
    "\n",
    "\n",
    "\n",
    "\n",
    "#### Spørgsmål d\n",
    "\n",
    "Find koordinatvektoren for $\\pmb{v}_4 \\in Y$ med hensyn til ortonormal basen for $Y$.\n",
    "\n",
    "\n",
    "\n",
    "#### Spørgsmål e\n",
    "\n",
    "Bestem det ortogonale komplement $Y^\\perp$ i $\\mathbb{C}^4$ til $Y$. \n",
    "\n",
    "\n",
    "\n",
    "\n",
    "\n",
    "\n",
    "#### Spørgsmål f\n",
    "\n",
    "Vælg en vektor $\\pmb{y}$ i $Y^\\perp$ og vælg en vektor $\\pmb{x}$ i $Y$. Udregn $\\Vert \\pmb{x} \\Vert$, $\\Vert \\pmb{y} \\Vert$ og $\\Vert \\pmb{x} + \\pmb{y} \\Vert$. Tjek at $\\Vert \\pmb{x} \\Vert^2 +\\Vert \\pmb{y} \\Vert^2 = \\Vert \\pmb{x} + \\pmb{y} \\Vert^2$.\n",
    "\n",
    "\n",
    "### 3: Ortogonal projektion på et plan"
   ]
  },
  {
   "cell_type": "markdown",
   "id": "b1d60b24",
   "metadata": {},
   "source": [
    "Lad matricen $U = [\\pmb{u}_1, \\pmb{u}_2]$ være givet ved:\n",
    "\n",
    "\\begin{equation*}\n",
    " U = \\left[\\begin{matrix}\\frac{\\sqrt{3}}{3} & \\frac{\\sqrt{2}}{2}\\\\ \\frac{\\sqrt{3}}{3} & 0\\\\- \\frac{\\sqrt{3}}{3} & \\frac{\\sqrt{2}}{2}\\end{matrix}\\right]\n",
    "\\end{equation*}"
   ]
  },
  {
   "cell_type": "markdown",
   "id": "92db1639",
   "metadata": {},
   "source": [
    "#### Spørgsmål a"
   ]
  },
  {
   "cell_type": "markdown",
   "id": "fbfef03a",
   "metadata": {},
   "source": [
    "Vis at $\\pmb{u}_1, \\pmb{u}_2$ er en ortonormal basis for $Y = \\operatorname{span}\\{\\pmb{u}_1, \\pmb{u}_2\\}$."
   ]
  },
  {
   "cell_type": "markdown",
   "id": "e3a1e8d6",
   "metadata": {},
   "source": [
    "#### Spørgsmål b"
   ]
  },
  {
   "cell_type": "markdown",
   "id": "6dd16853",
   "metadata": {},
   "source": [
    "Lad $P = U U^* \\in \\mathbb{R}^{3 \\times 3}$. Som forklaret i dette <a href=\"../_assets/textbook_mat1b_en.pdf#sec:proj-onto-subsp\">afsnit i lærebogen</a>, vil det give os en projektionsmatrix som beskriver den ortogonale projektion $\\pmb{x} \\mapsto P \\pmb{x}$, $\\mathbb{R}^3 \\to \\mathbb{R}^3$ på planen $Y = \\operatorname{span}\\{\\pmb{u}_1, \\pmb{u}_2\\}$. Verificer at $P^2 = P$, $P \\pmb{u}_1 = \\pmb{u}_1$, og $P \\pmb{u}_2 = \\pmb{u}_2$."
   ]
  },
  {
   "cell_type": "markdown",
   "id": "7fd32d1a",
   "metadata": {},
   "source": [
    "#### Spørgsmål c"
   ]
  },
  {
   "cell_type": "markdown",
   "id": "cdf846ce",
   "metadata": {},
   "source": [
    "Vælg en vektor $\\pmb{x} \\in \\mathbb{R}^3$, der ikke tilhører $Y$ og find projektionen $\\operatorname{proj}_Y(\\pmb{x})$ af $\\pmb{x}$ ned på planen $Y$. Illustrer $\\pmb{x}$, $Y$ og $\\operatorname{proj}_Y(\\pmb{x})$ i et plot."
   ]
  },
  {
   "cell_type": "markdown",
   "id": "0bf720b0",
   "metadata": {},
   "source": [
    "#### Spørgsmål d"
   ]
  },
  {
   "cell_type": "markdown",
   "id": "e1ff6141",
   "metadata": {},
   "source": [
    "Vis at $\\pmb{x} - \\operatorname{proj}_Y(\\pmb{x})$ tilhører $Y^\\perp$."
   ]
  },
  {
   "cell_type": "markdown",
   "id": "e2ea54da",
   "metadata": {},
   "source": [
    "### 4: Unitære matricer"
   ]
  },
  {
   "cell_type": "markdown",
   "id": "08835d82",
   "metadata": {},
   "source": [
    "Lad matricen $F$ være givet ved:"
   ]
  },
  {
   "cell_type": "code",
   "execution_count": 90,
   "id": "0ea5d327",
   "metadata": {},
   "outputs": [
    {
     "data": {
      "image/png": "[encoded data removed]",
      "text/latex": [
       "$\\displaystyle \\left[\\begin{matrix}\\frac{1}{2} & \\frac{1}{2} & \\frac{1}{2} & \\frac{1}{2}\\\\\\frac{1}{2} & - \\frac{i}{2} & - \\frac{1}{2} & \\frac{i}{2}\\\\\\frac{1}{2} & - \\frac{1}{2} & \\frac{1}{2} & - \\frac{1}{2}\\\\\\frac{1}{2} & \\frac{i}{2} & - \\frac{1}{2} & - \\frac{i}{2}\\end{matrix}\\right]$"
      ],
      "text/plain": [
       "⎡1/2  1/2   1/2   1/2 ⎤\n",
       "⎢                     ⎥\n",
       "⎢     -ⅈ           ⅈ  ⎥\n",
       "⎢1/2  ───   -1/2   ─  ⎥\n",
       "⎢      2           2  ⎥\n",
       "⎢                     ⎥\n",
       "⎢1/2  -1/2  1/2   -1/2⎥\n",
       "⎢                     ⎥\n",
       "⎢      ⅈ          -ⅈ  ⎥\n",
       "⎢1/2   ─    -1/2  ─── ⎥\n",
       "⎣      2           2  ⎦"
      ]
     },
     "execution_count": 90,
     "metadata": {},
     "output_type": "execute_result"
    }
   ],
   "source": [
    "n = 4\n",
    "F = 1/sqrt(n) * Matrix(n, n, lambda k,j: exp(-2*pi*I*k*j/n))\n",
    "F"
   ]
  },
  {
   "cell_type": "markdown",
   "id": "9148550a",
   "metadata": {},
   "source": [
    "<!--  Har indført minus i matricen.-->\n",
    "\n",
    "Afgør om følgende udsagn er sande eller falske:\n",
    "\n",
    "1. $F$ er unitær\n",
    "1. $F$ er invertible\n",
    "1. $F$ er ortogonal\n",
    "1. $F$ er symmetrisk\n",
    "1. $F$ er hermitisk\n",
    "1. $F$'s søjler er en orthonormal basis for $\\mathbb{C}^4$\n",
    "1. $F$'s søjler er en orthonormal basis for $\\mathbb{R}^4$\n",
    "1. $-F = F^{-1}$"
   ]
  }
 ],
 "metadata": {
  "jupytext": {
   "formats": "ipynb,md:myst"
  },
  "kernelspec": {
   "display_name": "Python 3",
   "language": "python",
   "name": "python3"
  },
  "language_info": {
   "codemirror_mode": {
    "name": "ipython",
    "version": 3
   },
   "file_extension": ".py",
   "mimetype": "text/x-python",
   "name": "python",
   "nbconvert_exporter": "python",
   "pygments_lexer": "ipython3",
   "version": "3.11.10"
  }
 },
 "nbformat": 4,
 "nbformat_minor": 5
}
