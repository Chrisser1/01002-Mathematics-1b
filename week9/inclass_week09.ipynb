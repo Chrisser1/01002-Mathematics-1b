{
 "cells": [
  {
   "cell_type": "code",
   "execution_count": 1,
   "id": "e8f70ca3",
   "metadata": {},
   "outputs": [],
   "source": [
    "from sympy import *\n",
    "from dtumathtools import *\n",
    "import numpy as np\n",
    "\n",
    "init_printing()"
   ]
  },
  {
   "cell_type": "markdown",
   "id": "d3fabff2",
   "metadata": {},
   "source": [
    "# Uge 9: Øvelser"
   ]
  },
  {
   "cell_type": "markdown",
   "id": "e21f66ec",
   "metadata": {},
   "source": [
    "## Opgaver -- Store Dag"
   ]
  },
  {
   "cell_type": "markdown",
   "id": "5ca610fc",
   "metadata": {},
   "source": [
    "**Note:**\n",
    "Med jacobianten mener vi jacobi-funktionen $\\sqrt{\\det(\\pmb{J}^T \\pmb{J})}$ (dvs forvrængnings-faktoren, altså den areal/volumen-korrigerende faktor), der også kaldes den geometriske tensor. Jacobi-matricen og Jacobi-determinanten skrives fuldt ud i opgaverne. Både på dansk og engelsk bruges ordet \"jacobianten/jacobian\" om alle tre begreber, og man bør derfor være påpasselig med at bruge ordet \"jacobianten/jacobian\". Oftest bruges \"jacobian\" dog om forvrængning-faktoren, og vi bruger denne tradition."
   ]
  },
  {
   "cell_type": "markdown",
   "id": "0327babd",
   "metadata": {},
   "source": [
    "### 1: Kurveintegral af en skalar funktion. Håndregning."
   ]
  },
  {
   "cell_type": "markdown",
   "id": "39251978",
   "metadata": {},
   "source": [
    "I $(x,y,z)$-rummet betragtes cirklen $\\mathcal{C}$ givet ved \n",
    "\n",
    "\\begin{equation*}\n",
    "  \\mathcal{C}=\\left\\{(x,y,z)\\in \\mathbb{R}^3 \\mid x^2+(y-1)^2=4  \\wedge z=1\\right\\}.\n",
    "\\end{equation*}"
   ]
  },
  {
   "cell_type": "markdown",
   "id": "490107ab",
   "metadata": {},
   "source": [
    "#### Spørgsmål a"
   ]
  },
  {
   "cell_type": "markdown",
   "id": "40fba1b1",
   "metadata": {},
   "source": [
    "Angiv centrum og radius for $\\mathcal{C}$. Vælg en parameterfremstilling $\\pmb r(u)$ for $\\mathcal{C}$ svarende til ét gennemløb af cirklen. Bestem den til parameterfremstillingen svarende Jacobiant."
   ]
  },
  {
   "cell_type": "markdown",
   "id": "b42dac7d",
   "metadata": {},
   "source": [
    "#### Spørgsmål b"
   ]
  },
  {
   "cell_type": "markdown",
   "id": "c692a245",
   "metadata": {},
   "source": [
    "Givet funktionen $f(x,y,z)=x^2+y^2+z^2$. Bestem restriktionen $f(\\pmb r(u))$ og bestem kurveintegralet \n",
    "\n",
    "\\begin{equation*}\n",
    "\\int_\\mathcal{C} f(x,y,z)\\mathrm{d}s\n",
    "\\end{equation*}"
   ]
  },
  {
   "cell_type": "markdown",
   "id": "71e7ec91",
   "metadata": {},
   "source": [
    "#### Spørgsmål c"
   ]
  },
  {
   "cell_type": "markdown",
   "id": "131b1327",
   "metadata": {},
   "source": [
    "I bogen nævnes det at kurveintegralet er uafhængigt af den valgte parameterfremstilling for cirklen. Afprøv andre parameterfremstillinger, fx via re-parametriseringer (som $t=-2\\pi u$), og udregn kurveintegralet baseret på dem. Du kan fx ændre omløbsretningen eller gennemløbshastigheden."
   ]
  },
  {
   "cell_type": "markdown",
   "id": "52f8dad1",
   "metadata": {},
   "source": [
    "#### Spørgsmål d"
   ]
  },
  {
   "cell_type": "markdown",
   "id": "62c0586f",
   "metadata": {},
   "source": [
    "Er kurveintegralet afhængigt af cirklens beliggenhed? Prøv fx at parallelforskyde cirklen $1$ i $y$-aksens retning, og udregn kurveintegralet på ny."
   ]
  },
  {
   "cell_type": "markdown",
   "id": "abc66f4a",
   "metadata": {},
   "source": [
    "### 2: Længden af et hængende kabel."
   ]
  },
  {
   "cell_type": "markdown",
   "id": "1e382bca",
   "metadata": {},
   "source": [
    "Vi betragter et ikke-elastisk, frithægende kabel ophængt mellem to master, der kun er påvirket af tyngdekraften (og trækkraften i kablet). Den matematisk form vi bruger er en kædelinje (også kaldet en katenær-kurve).  Ligningen er \n",
    "\n",
    "\\begin{equation*}\n",
    "    y = a \\cosh (x/a)\n",
    "\\end{equation*}\n",
    "\n",
    "hvor $a$ er afstanden til det laveste punkt over $x$-aksen. Vi antager kablet er fasthængt i $y=5$ (dvs. $y \\in [a,5]$)."
   ]
  },
  {
   "cell_type": "markdown",
   "id": "305cb163",
   "metadata": {},
   "source": [
    "#### Spørgsmål a"
   ]
  },
  {
   "cell_type": "markdown",
   "id": "38357e1c",
   "metadata": {},
   "source": [
    "Antag $0 < a \\le 5$. Angiv en parametrisering for kurven\n",
    "\n",
    "\\begin{equation*}\n",
    "   \\mathcal{C}_a = \\{ (x,y) \\in \\mathbb{R}^2 \\mid y = a \\cosh (x/a) \\, \\wedge \\, y \\le 5\\}.\n",
    "\\end{equation*}\n",
    "\n",
    "Specielt skal parameterintervallet angives (brug gerne SymPy's `solve`). Dernæst skal normen af tangent-vektoren (dvs jacobianten) udregnes."
   ]
  },
  {
   "cell_type": "markdown",
   "id": "6cb1b7cd",
   "metadata": {},
   "source": [
    "#### Spørgsmål b"
   ]
  },
  {
   "cell_type": "markdown",
   "id": "814372d3",
   "metadata": {},
   "source": [
    "Plot kurven for $a=0.5, a=1, a=2$. Opskriv integralformlen for længden af kurven $\\mathcal{C}_a$. Find en decimaltals approksimation af længden af kurverne $\\mathcal{C}_{0.5}$, $\\mathcal{C}_1$ og $\\mathcal{C}_2$."
   ]
  },
  {
   "cell_type": "markdown",
   "id": "4ab42180",
   "metadata": {},
   "source": [
    "### 3: Kurveintegral af vektorfelt I. Håndregning"
   ]
  },
  {
   "cell_type": "markdown",
   "id": "79a96a74",
   "metadata": {},
   "source": [
    "I $(x,y)$-planen er der givet et vektorfelt \n",
    "\n",
    "\\begin{equation*}\n",
    "  \\pmb{V}: \\mathbb{R}^2 \\to \\mathbb{R}^2, \\quad \\pmb{V}(x,y)=(x^2-2xy,y^2-2xy)\n",
    "\\end{equation*}\n",
    "\n",
    "samt en kurve $\\mathcal{C}$ givet ved ligningen\n",
    "\n",
    "\\begin{equation*}\n",
    "  y=x^2, \\quad x\\in\\left[ -1,1\\right].\n",
    "\\end{equation*}"
   ]
  },
  {
   "cell_type": "markdown",
   "id": "99fba612",
   "metadata": {},
   "source": [
    "#### Spørgsmål a"
   ]
  },
  {
   "cell_type": "markdown",
   "id": "c93b9013",
   "metadata": {},
   "source": [
    "Bestem en parametrisering af $\\mathcal{C}$. Udregn Jacobianten og tjek at din parametrisering er regulær."
   ]
  },
  {
   "cell_type": "markdown",
   "id": "1d07cb60",
   "metadata": {},
   "source": [
    "#### Spørgsmål b"
   ]
  },
  {
   "cell_type": "markdown",
   "id": "382eee9c",
   "metadata": {},
   "source": [
    "Bestem nu det tangentielle kurveintegral \n",
    "\n",
    "\\begin{equation*}\n",
    "  \\int_\\mathcal{C}\\pmb{V}\\cdot \\mathrm{d} \\pmb{s}.\n",
    "\\end{equation*}"
   ]
  },
  {
   "cell_type": "markdown",
   "id": "eeafc3fc",
   "metadata": {},
   "source": [
    "### 4: Kurveintegral af vektorfelt II. Håndregning"
   ]
  },
  {
   "cell_type": "markdown",
   "id": "f277d22b",
   "metadata": {},
   "source": [
    "I $(x,y,z)$-rummet er der givet et vektorfelt\n",
    "\n",
    "\\begin{equation*}\n",
    "    \\pmb{V}: \\mathbb{R}^3 \\to \\mathbb{R}^3, \\quad \\pmb{V}(x,y,z)=(y^2-z^2,2yz,-x^2)\n",
    "\\end{equation*}\n",
    "\n",
    "samt en kurve $\\mathcal{C}$ med parameterfremstillingen\n",
    "\n",
    "\\begin{equation*}\n",
    "  \\pmb{r}(u)=(u,u^2,u^3), \\quad u\\in\\left[ 0,1\\right] .\n",
    "\\end{equation*}"
   ]
  },
  {
   "cell_type": "markdown",
   "id": "f6131815",
   "metadata": {},
   "source": [
    "#### Spørgsmål a"
   ]
  },
  {
   "cell_type": "markdown",
   "id": "b7a0e1d4",
   "metadata": {},
   "source": [
    "Argumenter for at $\\pmb{r}$ er en regulær $C^1$ parameterfremstilling."
   ]
  },
  {
   "cell_type": "markdown",
   "id": "e2b22955",
   "metadata": {},
   "source": [
    "#### Spørgsmål b"
   ]
  },
  {
   "cell_type": "markdown",
   "id": "f89bd358",
   "metadata": {},
   "source": [
    "Bestem det tangentielle kurveintegral\n",
    "\n",
    "\\begin{equation*}\n",
    "  \\int_\\mathcal{C}\\pmb{V}\\cdot \\mathrm{d} \\pmb{s}.\n",
    "\\end{equation*}"
   ]
  },
  {
   "cell_type": "markdown",
   "id": "3c5946d7",
   "metadata": {},
   "source": [
    "### 5: Integration af vektorfelt langs trappelinje"
   ]
  },
  {
   "cell_type": "markdown",
   "id": "1f4e9975",
   "metadata": {},
   "source": [
    "I planen betragtes et vilkårligt punkt $\\pmb{x}=(x_1,x_2)$ og vektorfeltet \n",
    "\n",
    "\\begin{equation*}\n",
    "  \\pmb{V}: \\mathbb{R}^2 \\to \\mathbb{R}^2, \\quad \\pmb{V}(x_1,x_2)=(x_1x_2,x_1).\n",
    "\\end{equation*}"
   ]
  },
  {
   "cell_type": "markdown",
   "id": "51a1e482",
   "metadata": {},
   "source": [
    "#### Spørgsmål a"
   ]
  },
  {
   "cell_type": "markdown",
   "id": "00e74872",
   "metadata": {},
   "source": [
    "Bestem det tangentielle kurveintegral af $\\pmb{V}$ langs den rette linje $\\mathcal{C}$ fra $\\pmb{x}_0=\\pmb{0}$ til  $\\pmb{x}$."
   ]
  },
  {
   "cell_type": "markdown",
   "id": "6a175815",
   "metadata": {},
   "source": [
    "#### Spørgsmål b"
   ]
  },
  {
   "cell_type": "markdown",
   "id": "47f9f7ed",
   "metadata": {},
   "source": [
    "> Ved *trappelinjen* fra $\\pmb{x}_0=\\pmb{0}$ til  $\\pmb{x}$ forstås den stykkevis rette linje der går fra $(0,0)$ til punktet $(x_1,0)$ og derefter fra $(x_1,0)$ til $(x_1,x_2)$ \n",
    "\n",
    "På et stykke papir med $(x_1,x_2)$-koordinatsystem: Skitsér trappelinjen for forskellige valg af $\\pmb{x}$. Bestem derefter det tangentielle kurveintegral af $\\pmb{V}$ langs trappelinjen $\\mathcal{T}$ fra $\\pmb{x}_0=\\pmb{0}$ til  $\\pmb{x}$."
   ]
  },
  {
   "cell_type": "markdown",
   "id": "6f349e46",
   "metadata": {},
   "source": [
    "#### Spørgsmål c"
   ]
  },
  {
   "cell_type": "markdown",
   "id": "e02261d6",
   "metadata": {},
   "source": [
    "Afgør ud fra dine svar på spørgsmål a) og b) om $\\pmb{V}$ er et gradientvektorfelt."
   ]
  },
  {
   "cell_type": "markdown",
   "id": "1b469014",
   "metadata": {},
   "source": [
    "#### Spørgsmål d"
   ]
  },
  {
   "cell_type": "markdown",
   "id": "fc405826",
   "metadata": {},
   "source": [
    "Der er en lettere måde at afgøre om et vektorfelt er et gradientvektorfelt (i hvert fald når vektorfeltet er defineret på hele $\\mathbb{R}$). Hvad er denne måde?"
   ]
  },
  {
   "cell_type": "markdown",
   "id": "b46501c8",
   "metadata": {},
   "source": [
    "### 6: Stamfunktionsproblemet i $\\mathbb{R}^3$"
   ]
  },
  {
   "cell_type": "markdown",
   "id": "977b4676",
   "metadata": {},
   "source": [
    "I rummet betragtes et vilkårligt punkt $\\pmb{x}=(x_1,x_2,x_3)$, vektorfeltet \n",
    "\n",
    "\\begin{equation*}\n",
    "    \\pmb{V}: \\mathbb{R}^3 \\to \\mathbb{R}^3, \\quad \\pmb{V}(x_1,x_2,x_3)=\\begin{bmatrix} x_2\\cos (x_1 x_2) \\\\ x_3+x_1 \\cos (x_1x_2) \\\\ x_2 \\end{bmatrix}\n",
    "\\end{equation*}\n",
    "\n",
    "og vektorfeltet\n",
    "\n",
    "\\begin{equation*}\n",
    "   \\frac{1}{1+x_1^2x_2^2+2x_1 x_2x_3^2+x_3^4} \\begin{bmatrix} \n",
    " x_2 \\\\ x_1 \\\\ 2x_3 \n",
    "\\end{bmatrix}.\n",
    "\\end{equation*}"
   ]
  },
  {
   "cell_type": "markdown",
   "id": "28b11887",
   "metadata": {},
   "source": [
    "#### Spørgsmål a"
   ]
  },
  {
   "cell_type": "markdown",
   "id": "9da87a12",
   "metadata": {},
   "source": [
    "Udregn Jacobi-matricen for $\\pmb{V}$. Er $\\pmb{V}$ et gradientvektorfelt?"
   ]
  },
  {
   "cell_type": "markdown",
   "id": "0047e6ce",
   "metadata": {},
   "source": [
    "#### Spørgsmål b"
   ]
  },
  {
   "cell_type": "markdown",
   "id": "071c21d0",
   "metadata": {},
   "source": [
    "Angiv samtlige stamfunktioner for $\\pmb{V}$."
   ]
  },
  {
   "cell_type": "markdown",
   "id": "e4a805e8",
   "metadata": {},
   "source": [
    "#### Spørgsmål c"
   ]
  },
  {
   "cell_type": "markdown",
   "id": "bb9d5a27",
   "metadata": {},
   "source": [
    "Bestem ved hjælp af Sympy det tangentielle kurveintegral af $\\pmb{W}$ langs en ret linje fra $\\pmb{0}$ til det vilkårligt punkt $\\pmb{x}$."
   ]
  },
  {
   "cell_type": "markdown",
   "id": "babc8442",
   "metadata": {},
   "source": [
    "#### Spørgsmål d"
   ]
  },
  {
   "cell_type": "markdown",
   "id": "0fa3484c",
   "metadata": {},
   "source": [
    "Undersøg om $\\pmb{W}$ er et gradientvektorfelt og angiv i bekræftende fald samtlige stamfunktioner."
   ]
  },
  {
   "cell_type": "markdown",
   "id": "307273ec",
   "metadata": {},
   "source": [
    "### 7: Vektorfelt over en cirkelskive"
   ]
  },
  {
   "cell_type": "markdown",
   "id": "cb611484",
   "metadata": {},
   "source": [
    "Lad $U = \\{ (x,y) \\mid \\frac{1}{4} < x^2 + y^2 < 1 \\}$ være givet. Betragt vektorfeltet\n",
    "\n",
    "\\begin{equation*}\n",
    "   \\frac{1}{x^2+y^2} \\begin{bmatrix} \n",
    " -y \\\\ x  \n",
    "\\end{bmatrix}.\n",
    "\\end{equation*}"
   ]
  },
  {
   "cell_type": "markdown",
   "id": "9e5261b5",
   "metadata": {},
   "source": [
    "#### Spørgsmål a"
   ]
  },
  {
   "cell_type": "markdown",
   "id": "fcbfa926",
   "metadata": {},
   "source": [
    "Er domænet $U$: \n",
    "\n",
    "1. åbent? \n",
    "1. begrænset?\n",
    "1. kurve-sammenhængende? \n",
    "1. enkelt-sammenhængende? \n",
    "1. stjerne-formet? \n",
    "\n",
    "Afgør i hver af de fem tilfælde om svaret er ja eller nej."
   ]
  },
  {
   "cell_type": "markdown",
   "id": "f4432b93",
   "metadata": {},
   "source": [
    "#### Spørgsmål b"
   ]
  },
  {
   "cell_type": "markdown",
   "id": "53773a40",
   "metadata": {},
   "source": [
    "Afgør om $\\pmb{V}$ er $C^0$ og $C^1$. Find Jacobi-matricen for $\\pmb{V}$ og afgør om den er symmetrisk."
   ]
  },
  {
   "cell_type": "markdown",
   "id": "389b4f72",
   "metadata": {},
   "source": [
    "#### Spørgsmål c"
   ]
  },
  {
   "cell_type": "markdown",
   "id": "95af897b",
   "metadata": {},
   "source": [
    "Find gradienten af arkustangens-funktionen $f(x,y) = \\mathrm{atan2}(y,x)$. Funktioen er givet i SymPy ved `f = atan2(y,x)` og er en variant af $\\arctan(y/x)$."
   ]
  },
  {
   "cell_type": "markdown",
   "id": "d5b970d9",
   "metadata": {},
   "source": [
    "#### Spørgsmål d\n",
    "\n",
    "Plot funktionen $f$ på $U$. Er $f(x,y)$ en stamfunktion til $\\pmb{V}$?"
   ]
  },
  {
   "cell_type": "markdown",
   "id": "6dd57be7",
   "metadata": {},
   "source": [
    "### 8: En meget lang kurve"
   ]
  },
  {
   "cell_type": "markdown",
   "id": "8a659027",
   "metadata": {},
   "source": [
    "Den lineære spiral kurve $\\mathcal{C}$ i $\\mathbb{R}^2$ er parametriseret ved $\\pmb{r}: [0,1] \\to \\mathbb{R}^2$ hvor \n",
    "\n",
    "\\begin{equation*}\n",
    "  \\pmb{r}(u) = \n",
    "  \\begin{cases} \n",
    "      (0,0) & \\text{for } u = 0 \\\\\n",
    "     (u \\cos(1/u), u \\sin(1/u))  & \\text{for } u \\in ]0,1]\n",
    "  \\end{cases}\n",
    "\\end{equation*}\n",
    "\n",
    "Bemærk at domænet for $\\pmb{r}$ er begrænset og lukket (ganske som vi plejer at have det). Det kan yderligere vises at kurven er kontinuert, altså $C^0$, men ikke $C^1$. I bogen i kapitel 7 kræver vi at kurverne er $C^1$, da der kan ske uventede ting når kurverne ikke er $C^1$. Det vil vi illustrere i denne opgave."
   ]
  },
  {
   "cell_type": "markdown",
   "id": "f9a2d14d",
   "metadata": {},
   "source": [
    "#### Spørgsmål a"
   ]
  },
  {
   "cell_type": "markdown",
   "id": "95750ec4",
   "metadata": {},
   "source": [
    "Plot kurven. Vis (gerne ved hjælp af Python) at normen af tangent-vektoren er \n",
    "\n",
    "\\begin{equation*}\n",
    "   \\Vert \\pmb{r}'(u) \\Vert = \\sqrt{1 + u^{-2}} \n",
    "\\end{equation*}\n",
    "\n",
    "for $u \\in ]0,1]$."
   ]
  },
  {
   "cell_type": "markdown",
   "id": "6b0203a4",
   "metadata": {},
   "source": [
    "#### Spørgsmål b"
   ]
  },
  {
   "cell_type": "markdown",
   "id": "ba785103",
   "metadata": {},
   "source": [
    "Lad $\\epsilon < 1$. Udregn længden $\\ell_\\epsilon$ af kurven $\\pmb{r}(u)$ for $u \\in [\\epsilon,1]$. Find $\\lim_{\\epsilon \\to 0} \\ell_\\epsilon$. Hvad er længden $\\ell_0$ af kurven $\\mathcal{C}$?"
   ]
  },
  {
   "cell_type": "markdown",
   "id": "e77279ad",
   "metadata": {},
   "source": [
    "## Opgaver -- Lille Dag"
   ]
  },
  {
   "cell_type": "markdown",
   "id": "04daeae5",
   "metadata": {},
   "source": [
    "### 9: Overfladearealet at en kugle\n",
    "\n",
    "Vi betragter en kugle i $\\mathbb{R}^3$ med centrum i $(0,0,0)$ og radius $a > 0$. Betragt kuglens rand (også kaldet sfæren)\n",
    "\n",
    "\\begin{equation*}\n",
    "  \\{ \\pmb{x} \\in  \\mathbb{R}^3 \\mid \\Vert \\pmb{x} \\Vert = a \\}\n",
    "\\end{equation*}\n",
    "\n",
    "Overfladearealet af kuglen er (kendt fra skolen) $4 \\pi a^2$. Genfind dette udtryk ved hjælp af et <a href=\"../_assets/textbook_mat1b_en.pdf#eq:area-surface\">fladeintegral</a> og en parametrisering af sfæren."
   ]
  },
  {
   "cell_type": "markdown",
   "id": "3118789b",
   "metadata": {},
   "source": [
    "#### Svar\n",
    "Vi starter med at paramatizere kuglen, hvor radius er givet ved a. Dette kan vi beskrive ved:\n",
    "$$\n",
    "r(u,v) = \n",
    "\\begin{bmatrix}\n",
    "a \\sin{u} \\cos{v} \\\\\n",
    "a \\sin{u} \\sin{v} \\\\\n",
    "a \\cos{u} \n",
    "\\end{bmatrix}, \\quad u = [0,\\pi] \\text{ og } v = [0, 2\\pi[\n",
    "$$  "
   ]
  },
  {
   "cell_type": "code",
   "execution_count": null,
   "id": "e09915f5",
   "metadata": {},
   "outputs": [
    {
     "data": {
      "image/png": "[encoded data removed]",
      "text/latex": [
       "$\\displaystyle \\left( \\left[\\begin{matrix}a \\sin{\\left(u \\right)} \\cos{\\left(v \\right)}\\\\a \\sin{\\left(u \\right)} \\sin{\\left(v \\right)}\\\\a \\cos{\\left(u \\right)}\\end{matrix}\\right], \\  a^{2} \\left|{\\sin{\\left(u \\right)}}\\right|\\right)$"
      ],
      "text/plain": [
       "⎛⎡a⋅sin(u)⋅cos(v)⎤             ⎞\n",
       "⎜⎢               ⎥   2         ⎟\n",
       "⎜⎢a⋅sin(u)⋅sin(v)⎥, a ⋅│sin(u)│⎟\n",
       "⎜⎢               ⎥             ⎟\n",
       "⎝⎣   a⋅cos(u)    ⎦             ⎠"
      ]
     },
     "execution_count": 6,
     "metadata": {},
     "output_type": "execute_result"
    }
   ],
   "source": [
    "radius, u, v = symbols('a u v', real=True)\n",
    "\n",
    "# Vi udregner nu jacobianen for en kuglen i 3d\n",
    "r_u_v = Matrix([\n",
    "    radius * cos(v) * sin(u),\n",
    "    radius * sin(u) * sin(v),\n",
    "    radius * cos(u)])\n",
    "J = r_u_v.jacobian([u, v])\n",
    "jacobian = simplify(sqrt(det(J.T * J)))\n",
    "r_u_v, jacobian"
   ]
  },
  {
   "cell_type": "code",
   "execution_count": 7,
   "id": "4cdffd66",
   "metadata": {},
   "outputs": [
    {
     "data": {
      "image/png": "[encoded data removed]",
      "text/latex": [
       "$\\displaystyle 4 \\pi a^{2}$"
      ],
      "text/plain": [
       "     2\n",
       "4⋅π⋅a "
      ]
     },
     "execution_count": 7,
     "metadata": {},
     "output_type": "execute_result"
    }
   ],
   "source": [
    "# Vi kan nu udregne fladeintegralen for kuglen\n",
    "integral = integrate(integrate(jacobian, (u, 0, pi)), (v, 0, 2 * pi))\n",
    "integral = simplify(integral)\n",
    "integral"
   ]
  },
  {
   "cell_type": "markdown",
   "id": "6049fad5",
   "metadata": {},
   "source": [
    "Dette viser at overfladearealet er udregnet ved de $4 \\pi a^2$."
   ]
  },
  {
   "cell_type": "markdown",
   "id": "5eaf242c",
   "metadata": {},
   "source": [
    "### 10: Flux gennem parameterflader. Håndregning"
   ]
  },
  {
   "cell_type": "markdown",
   "id": "b1303686",
   "metadata": {},
   "source": [
    "Givet et vektorfelt \n",
    "\n",
    "\\begin{equation*}\n",
    "  \\pmb{V}: \\mathbb{R}^3 \\to \\mathbb{R}^3, \\quad \\pmb{V}(x,y,z)=(\\cos(x),\\cos(x)+\\cos(z),0)\n",
    "\\end{equation*} \n",
    "\n",
    "samt en flade $\\mathcal{F}$, som er givet ved parameterfremstillingen\n",
    "\n",
    "\\begin{equation*}\n",
    "  \\pmb{r}(u,v)=(u,0,v), \\quad u\\in\\left[ 0,\\pi\\right] ,\\quad v\\in\\left[ 0,2\\right] .\n",
    "\\end{equation*}"
   ]
  },
  {
   "cell_type": "markdown",
   "id": "a849b909",
   "metadata": {},
   "source": [
    "#### Spørgsmål a"
   ]
  },
  {
   "cell_type": "markdown",
   "id": "df88e58a",
   "metadata": {},
   "source": [
    "Bestem den til parameterfremstillingen svarende normalvektor $\\pmb{n}_{\\mathcal{F}}(u,v)$. Argumenter for at parameterfremstilligen er regulær. Beregn dernæst vektorfeltets flux gennem fladen."
   ]
  },
  {
   "cell_type": "markdown",
   "id": "a5d91493",
   "metadata": {},
   "source": [
    "#### Spørgsmål b"
   ]
  },
  {
   "cell_type": "markdown",
   "id": "1d6b1daa",
   "metadata": {},
   "source": [
    "Hvilken betydning har fluxens fortegn? Kan du skifte fortegnet for fluxen ved at ændre fladens parameterfremstilling?"
   ]
  },
  {
   "cell_type": "markdown",
   "id": "2e9db99b",
   "metadata": {},
   "source": [
    "#### Svar\n",
    "Ja, Hvis du ændrer parameterfremstillingen, så tangentvektorerne $\\frac{dr}{du}$ og $\\frac{dr}{dv}$ bytter rækkefølge (eller én af dem skifter fortegn), så ændrer du også retningen af normalvektoren."
   ]
  },
  {
   "cell_type": "markdown",
   "id": "89deee08",
   "metadata": {},
   "source": [
    "#### Spørgsmål c"
   ]
  },
  {
   "cell_type": "markdown",
   "id": "75da7cd6",
   "metadata": {},
   "source": [
    "Givet et vektorfelt \n",
    "\n",
    "\\begin{equation*}\n",
    "  \\pmb{V}: \\mathbb{R}^3 \\to \\mathbb{R}^3, \\quad \\pmb{V}(x,y,z)=(yz,-xz,x^2+y^2)\n",
    "\\end{equation*}\n",
    "\n",
    "samt en flade $\\mathcal{F}$, som er givet ved parameterfremstillingen \n",
    "\n",
    "\\begin{equation*}\n",
    "  \\pmb{r}(u,v)=(u\\sin(v),-u\\cos( v),uv), \\quad u\\in\\left[ 0,1\\right] ,\\quad v\\in\\left[ 0,1\\right] .\n",
    "\\end{equation*}\n",
    "\n",
    "Bestem den til parameterfremstillingen svarende normalvektor $\\pmb{n}_{\\mathcal{F}}(u,v)$. Argumenter for at parameterfremstilligen er regulær. Beregn vektorfeltets flux gennem fladen."
   ]
  },
  {
   "cell_type": "markdown",
   "id": "51177e2c",
   "metadata": {},
   "source": [
    "### 11: Coulomb-vektorfeltet"
   ]
  },
  {
   "cell_type": "markdown",
   "id": "249f77b3",
   "metadata": {},
   "source": [
    "Coulomb (1736-1806) arbejdede med elektromagnetisme. Fra hans arbejde kendes det såkaldte Coulomb-vektorfelt: \n",
    "\n",
    "\\begin{equation*}\n",
    "  \\pmb{V}: \\mathbb{R}^3\\setminus \\{(0,0,0)\\}  \\to \\mathbb{R}^3, \\quad \\pmb{V}(x,y,z)= \\left(x^2+y^2+z^2\\right)^{-\\frac32}\n",
    "\\begin{bmatrix} x \\\\ y \\\\ z \\end{bmatrix}.\n",
    "\\end{equation*} \n",
    "\n",
    "Bemærk at Coulomb-vektorfeltet ikke kan defineres på hele $\\mathbb{R}^3$. Der gælder dog at definitionsmængden $U = \\mathbb{R}^3\\setminus \\{(0,0,0)\\}$ er åben, som er standard-antagelsen for vetorfelter i bogen. \n",
    "\n",
    "En massiv cylinder $B$ af højde $2h$ og diameter $2a$, hvor $a$ og $h$ er positive reelle tal, er givet ved parameterfremstillingen\n",
    "\n",
    "\\begin{equation*}\n",
    "  \\pmb{r}(u,v,w)=\\left(u\\cos(w),u\\sin(w),v\\right), \\quad u\\in\\left[0,a\\right], \\; v\\in[-h,h], \\; w\\in \\left[-\\pi,\\pi\\right].\n",
    "\\end{equation*}"
   ]
  },
  {
   "cell_type": "markdown",
   "id": "6f278521",
   "metadata": {},
   "source": [
    "#### Spørgsmål a"
   ]
  },
  {
   "cell_type": "markdown",
   "id": "a17d1934",
   "metadata": {},
   "source": [
    "Tegn en skitse af $B$ (det er nemmest med papir og blyant) og bestem en parameterfremstilling for hver af de tre stykker som randen $\\partial B$ af $B$ består af: Bunden, toppen og den rørformerede del."
   ]
  },
  {
   "cell_type": "markdown",
   "id": "f0103ac9",
   "metadata": {},
   "source": [
    "#### Spørgsmål b"
   ]
  },
  {
   "cell_type": "markdown",
   "id": "28f164ee",
   "metadata": {},
   "source": [
    "Bestem fluxen af $\\pmb{V}$ ud gennem $\\partial B$:\n",
    "\n",
    "\\begin{equation*}\n",
    "    \\int_{\\partial B} \\pmb{V} \\cdot \\mathrm{d} \\pmb{S}\n",
    "\\end{equation*}\n",
    "\n",
    "ved at beregne fluxen gennem hver af de tre stykker som $\\partial B$ består af. Hvad betyder egentlig størrelsen af cylinderen for fluxens styrke? Og i forlængelse heraf: Hvad er grænseværdien af fluxens styrke for $a$ og $h$ gående mod 0?"
   ]
  },
  {
   "cell_type": "markdown",
   "id": "7438f0ae",
   "metadata": {},
   "source": [
    "### 12: Flux via Divergens-sætningen"
   ]
  },
  {
   "cell_type": "markdown",
   "id": "f1160e43",
   "metadata": {},
   "source": [
    "Divergens-sætningen er ikke en del af pensum, men vi skal i denne opgave alligevel stifte bekendtskab med den:\n",
    "\n",
    "------\n",
    "> Theorem (Divergence): Let $\\pmb{V}$ be a $C^1$ vector field on an open set $U\\subseteq \\mathbb{R}^3$, and let $B \\subseteq U$ be a bounded subset with a piecewise $C^1$ boundary $\\mathcal{F}=\\partial B$. Suppose $\\pmb{r}: \\Gamma \\to \\mathbb{R}^3$, $\\Gamma \\subset \\mathbb{R}^2$, is a parametrization of the surface $\\mathcal{F}$ with outward-pointing normal. Then \n",
    "> \\begin{equation}\n",
    "  \\int_{\\partial B} \\pmb{V} \\cdot \\mathrm{d} \\pmb{S}\n",
    "  =\\int_{B}\\mathrm{div} (\\pmb{V}) \\, \\mathrm{d} X.\n",
    "\\end{equation}\n",
    "-------\n",
    "\n",
    "Divergensen $\\mathrm{div} (\\pmb{V})$ er defineret som sporet af Jacobi-matricen:\n",
    "\n",
    "\\begin{equation}\n",
    "   \\mathrm{div} (\\pmb{V}) = \\mathrm{tr} (\\pmb{J}_{\\pmb{V}})\n",
    "\\end{equation}\n",
    "\n",
    "Hvis vi tænker på vektorfeltet som hastighedsfeltet for en væske, så\n",
    "måler divergensen den infinitisimale udvidelse- eller sammentræknings-rate af\n",
    "væsken. Hastighedsfeltet af en inkompressibel væske har nul\n",
    "divergens.\n",
    "\n",
    "\n",
    "Givet $C^1$-vektorfeltet \n",
    "\n",
    "\\begin{equation*}\n",
    "  \\pmb{V}: \\mathbb{R}^3  \\to \\mathbb{R}^3, \\quad \\pmb{V}(x,y,z)=(-8x,8,4z^3)\n",
    "\\end{equation*}\n",
    "\n",
    "og et rumligt område\n",
    "\n",
    "\\begin{equation*}\n",
    "  \\Omega=\\lbrace (x,y,z)\\,\\vert\\, x^2+y^2+z^2\\leq a^2\\,\\, \\mathrm{og}\\,\\, z\\geq 0\\rbrace\\,,\\,a>0,\n",
    "\\end{equation*}\n",
    "\n",
    "hvis overflade $\\,\\partial \\Omega\\,$ er orienteret med udadrettet enhedsnormalvektorfelt $\\,\\pmb n_{\\,\\partial \\Omega}\\,$."
   ]
  },
  {
   "cell_type": "markdown",
   "id": "f2f7707a",
   "metadata": {},
   "source": [
    "#### Spørgsmål a"
   ]
  },
  {
   "cell_type": "markdown",
   "id": "847e8d42",
   "metadata": {},
   "source": [
    "Bestem rumintegralet\n",
    "\n",
    "\\begin{equation*}\n",
    "  \\int_{\\Omega}\\mathrm{div}(\\pmb{V})\\, \\mathrm{d} X.\n",
    "\\end{equation*}"
   ]
  },
  {
   "cell_type": "markdown",
   "id": "cbcc5019",
   "metadata": {},
   "source": [
    "#### Spørgsmål b"
   ]
  },
  {
   "cell_type": "markdown",
   "id": "c9572f0a",
   "metadata": {},
   "source": [
    "Bestem fladeintegralet for vektorfeltet: \n",
    "\n",
    "\\begin{equation*}\n",
    "  \\int_{\\partial\\,\\Omega}\\,\\pmb{V} \\cdot \\mathrm{d} \\pmb{S}\n",
    "\\end{equation*}"
   ]
  },
  {
   "cell_type": "markdown",
   "id": "8cbf8cb1",
   "metadata": {},
   "source": [
    "#### Spørgsmål c"
   ]
  },
  {
   "cell_type": "markdown",
   "id": "9a64a9c5",
   "metadata": {},
   "source": [
    "For hvilke $\\,a\\,$ er fluxen med det angivne normalvektor positiv (dvs.  \"udstrømningen gennem $\\partial \\Omega$ er større end indstrømningen\")."
   ]
  },
  {
   "cell_type": "markdown",
   "id": "a8bebe0d",
   "metadata": {},
   "source": [
    "#### Spørgsmål d"
   ]
  },
  {
   "cell_type": "markdown",
   "id": "c92504a1",
   "metadata": {},
   "source": [
    "Gauss' sætning om relationen mellem divergensintegralet og vektorfeltets fladeintegral kan ses som en generalisering af infinitisemalregningens hovedsætning:\n",
    "\n",
    "\\begin{equation*}\n",
    "  \\left[ F(x)\\right] _a^b=\\int_a^b F'(x)\\mathrm{d}x\\,?\n",
    "\\end{equation*}"
   ]
  },
  {
   "cell_type": "markdown",
   "id": "df48bb00",
   "metadata": {},
   "source": [
    "### 13: Flow-kurver for et vektorfelt"
   ]
  },
  {
   "cell_type": "markdown",
   "id": "20f7c72a",
   "metadata": {},
   "source": [
    "Et lineært vektorfelt $\\pmb V$ i $(x,y)$-planen er givet ved\n",
    "\n",
    "\\begin{equation*}\n",
    "  \\pmb V(x,y)=\\left(\\frac 18x +\\frac 38y,\\frac 38x +\\frac 18y\\right).\n",
    "\\end{equation*}\n",
    "\n",
    "Vi forestiller os at vi til tiden $t=0$ smider en partikel ned i et kraftfelt i punktet $(x_0,y_0)$, og vi ønsker at modellere partiklens bane (kurve) $\\pmb{r}(t)$ som funktion af tiden. Disse kurver kaldes for integral-kurver (og undertiden for flow-kurver). De er løsninger\n",
    "til differentialligningssystemet:\n",
    "\n",
    "\\begin{equation*}\n",
    "  \\pmb{r}'(t) = \\pmb V(\\pmb{r}(t)), \\quad \\pmb{r}(0) = \\pmb{x}_0\n",
    "\\end{equation*}\n",
    "\n",
    "hvor $\\pmb{x}_0$ er begyndelsespunktet.\n",
    "\n",
    "Ugens Python-demoer kan være en hjælp til denne opgave."
   ]
  },
  {
   "cell_type": "markdown",
   "id": "5a8fcfdc",
   "metadata": {},
   "source": [
    "#### Spørgsmål a"
   ]
  },
  {
   "cell_type": "markdown",
   "id": "33c1f088",
   "metadata": {},
   "source": [
    "Bestem differentialligningssystemets systemmatrix og find (gerne med Sympy's `eigenvects()`) matricens egenværdier med tilhørende egenvektorer."
   ]
  },
  {
   "cell_type": "markdown",
   "id": "1385fdbe",
   "metadata": {},
   "source": [
    "#### Spørgsmål b"
   ]
  },
  {
   "cell_type": "markdown",
   "id": "3671cd0c",
   "metadata": {},
   "source": [
    "Integral-kurven $\\pmb{r}_1(u)$ er bestemt ved at den går gennem punktet $(0,-1)$ til tiden $u=0,$ og integral-kurven $\\pmb{r}_2(u)$ ved at den går gennem $(0,\\frac 12)$ til tiden $u=0$. Find ved hjælp af resultaterne fra spørgsmål a) og de angivne begyndelsesbetingelser en parameterfremstilling for $\\pmb{r}_1(u)$ og $\\pmb{r}_2(u)$. \n",
    "\n",
    "\n",
    "\n",
    "\n",
    "\n",
    "#### Spørgsmål c"
   ]
  },
  {
   "cell_type": "markdown",
   "id": "27b07803",
   "metadata": {},
   "source": [
    "Lav en Python-illustration der både indeholder vektorfeltet og de to integral-kurver."
   ]
  }
 ],
 "metadata": {
  "jupytext": {
   "formats": "md:myst"
  },
  "kernelspec": {
   "display_name": "Python 3",
   "language": "python",
   "name": "python3"
  },
  "language_info": {
   "codemirror_mode": {
    "name": "ipython",
    "version": 3
   },
   "file_extension": ".py",
   "mimetype": "text/x-python",
   "name": "python",
   "nbconvert_exporter": "python",
   "pygments_lexer": "ipython3",
   "version": "3.11.10"
  }
 },
 "nbformat": 4,
 "nbformat_minor": 5
}
