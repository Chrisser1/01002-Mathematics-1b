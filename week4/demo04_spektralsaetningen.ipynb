{
 "cells": [
  {
   "cell_type": "markdown",
   "id": "cce99907",
   "metadata": {},
   "source": [
    "# Uge 4: Spektralsætningen, diagonalisering og Hermitiske matricer\n",
    "Demo af Christian Mikkelstrup, Hans Henrik Hermansen, Magnus Troen, Karl Johan Måstrup Kristensen og Jakob Lemvig"
   ]
  },
  {
   "cell_type": "code",
   "execution_count": 1,
   "id": "488d4fca",
   "metadata": {},
   "outputs": [],
   "source": [
    "from sympy import *\n",
    "from dtumathtools import *\n",
    "init_printing()"
   ]
  },
  {
   "cell_type": "markdown",
   "id": "7f897494",
   "metadata": {},
   "source": [
    "## Symmetriske og Hermitiske matricer"
   ]
  },
  {
   "cell_type": "markdown",
   "id": "d52701bc",
   "metadata": {},
   "source": [
    "I SymPy kan matricer checkes for symmetri og Hermetiske egenskaber:"
   ]
  },
  {
   "cell_type": "markdown",
   "id": "2f590a9c",
   "metadata": {},
   "source": [
    "1) Enten ved enten simuleret håndregning:"
   ]
  },
  {
   "cell_type": "code",
   "execution_count": 2,
   "id": "ba04e156",
   "metadata": {},
   "outputs": [
    {
     "data": {
      "image/png": "[encoded data removed]",
      "text/latex": [
       "$\\displaystyle \\left( \\left[\\begin{matrix}6 & 2 & 4\\\\2 & 9 & -2\\\\4 & -2 & 6\\end{matrix}\\right], \\  \\left[\\begin{matrix}6 & 2 & 4\\\\2 & 9 & -2\\\\4 & -2 & 6\\end{matrix}\\right], \\  \\left[\\begin{matrix}0 & 0 & 0\\\\0 & 0 & 0\\\\0 & 0 & 0\\end{matrix}\\right]\\right)$"
      ],
      "text/plain": [
       "⎛⎡6  2   4 ⎤  ⎡6  2   4 ⎤  ⎡0  0  0⎤⎞\n",
       "⎜⎢         ⎥  ⎢         ⎥  ⎢       ⎥⎟\n",
       "⎜⎢2  9   -2⎥, ⎢2  9   -2⎥, ⎢0  0  0⎥⎟\n",
       "⎜⎢         ⎥  ⎢         ⎥  ⎢       ⎥⎟\n",
       "⎝⎣4  -2  6 ⎦  ⎣4  -2  6 ⎦  ⎣0  0  0⎦⎠"
      ]
     },
     "execution_count": 2,
     "metadata": {},
     "output_type": "execute_result"
    }
   ],
   "source": [
    "A = Matrix([[6,2,4],[2,9,-2],[4,-2,6]])\n",
    "A, A.T, A - A.T"
   ]
  },
  {
   "cell_type": "code",
   "execution_count": 3,
   "id": "df2916c4",
   "metadata": {},
   "outputs": [
    {
     "data": {
      "image/png": "[encoded data removed]",
      "text/latex": [
       "$\\displaystyle \\left( \\left[\\begin{matrix}6 & 2 + 7 i & 4 - 4 i\\\\2 - 7 i & 9 & -2\\\\4 + 4 i & -2 & 6\\end{matrix}\\right], \\  \\left[\\begin{matrix}6 & 2 + 7 i & 4 - 4 i\\\\2 - 7 i & 9 & -2\\\\4 + 4 i & -2 & 6\\end{matrix}\\right], \\  \\left[\\begin{matrix}6 & 2 + 7 i & 4 - 4 i\\\\2 - 7 i & 9 & -2\\\\4 + 4 i & -2 & 6\\end{matrix}\\right], \\  \\left( \\left[\\begin{matrix}0 & 0 & 0\\\\0 & 0 & 0\\\\0 & 0 & 0\\end{matrix}\\right], \\  \\left[\\begin{matrix}0 & 0 & 0\\\\0 & 0 & 0\\\\0 & 0 & 0\\end{matrix}\\right]\\right)\\right)$"
      ],
      "text/plain": [
       "⎛⎡   6     2 + 7⋅ⅈ  4 - 4⋅ⅈ⎤  ⎡   6     2 + 7⋅ⅈ  4 - 4⋅ⅈ⎤  ⎡   6     2 + 7⋅ⅈ   ↪\n",
       "⎜⎢                         ⎥  ⎢                         ⎥  ⎢                   ↪\n",
       "⎜⎢2 - 7⋅ⅈ     9       -2   ⎥, ⎢2 - 7⋅ⅈ     9       -2   ⎥, ⎢2 - 7⋅ⅈ     9      ↪\n",
       "⎜⎢                         ⎥  ⎢                         ⎥  ⎢                   ↪\n",
       "⎝⎣4 + 4⋅ⅈ    -2        6   ⎦  ⎣4 + 4⋅ⅈ    -2        6   ⎦  ⎣4 + 4⋅ⅈ    -2      ↪\n",
       "\n",
       "↪ 4 - 4⋅ⅈ⎤  ⎛⎡0  0  0⎤  ⎡0  0  0⎤⎞⎞\n",
       "↪        ⎥  ⎜⎢       ⎥  ⎢       ⎥⎟⎟\n",
       "↪   -2   ⎥, ⎜⎢0  0  0⎥, ⎢0  0  0⎥⎟⎟\n",
       "↪        ⎥  ⎜⎢       ⎥  ⎢       ⎥⎟⎟\n",
       "↪    6   ⎦  ⎝⎣0  0  0⎦  ⎣0  0  0⎦⎠⎠"
      ]
     },
     "execution_count": 3,
     "metadata": {},
     "output_type": "execute_result"
    }
   ],
   "source": [
    "B = Matrix([[6,2+7*I,4-4*I],[2-7*I,9,-2],[4+4*I,-2,6]])\n",
    "B, B.adjoint(), B.H, (B - B.adjoint(), B - B.H) # A.H and A.adjoint() returns the same output in python"
   ]
  },
  {
   "cell_type": "markdown",
   "id": "8cb41aa5",
   "metadata": {},
   "source": [
    "*Bemærk* at fordi matricen konjugeres i operationen $\\verb|B.H| := B^*$ fordi $B^* = \\bar B ^ T$, kan en hermitisk matrix ikke have komplekse tal i diagonalen."
   ]
  },
  {
   "cell_type": "markdown",
   "id": "fa05af5b",
   "metadata": {},
   "source": [
    "2) Eller ved brug af `SymPy` funktionerne:"
   ]
  },
  {
   "cell_type": "code",
   "execution_count": 4,
   "id": "a825e9a8",
   "metadata": {},
   "outputs": [
    {
     "data": {
      "text/plain": [
       "(True, True)"
      ]
     },
     "execution_count": 4,
     "metadata": {},
     "output_type": "execute_result"
    }
   ],
   "source": [
    "# For A\n",
    "A.is_symmetric(), A.is_hermitian"
   ]
  },
  {
   "cell_type": "code",
   "execution_count": 5,
   "id": "60c44715",
   "metadata": {},
   "outputs": [
    {
     "data": {
      "text/plain": [
       "(False, True)"
      ]
     },
     "execution_count": 5,
     "metadata": {},
     "output_type": "execute_result"
    }
   ],
   "source": [
    "# For B\n",
    "B.is_symmetric(), B.is_hermitian"
   ]
  },
  {
   "cell_type": "markdown",
   "id": "438cf41a",
   "metadata": {},
   "source": [
    "Vær her opmærksom på at $\\verb|.is_symmetric()|$ er en funktion og skal benyttes ***MED*** parenteser efter, og $\\verb|.is_hermitian|$ benyttes ***UDEN*** parenteser. Dette er en mindre særhed i SymPy. Uden at gå for meget i dybden har det noget at gøre med hvilke informationer der er regnet på forhånd og gemt af SymPy og hvilke der ikke er. Heldigvis kan man altid prøve sig frem:"
   ]
  },
  {
   "cell_type": "code",
   "execution_count": 6,
   "id": "54385251",
   "metadata": {},
   "outputs": [],
   "source": [
    "# A.is_symmetric"
   ]
  },
  {
   "cell_type": "markdown",
   "id": "355ecaed",
   "metadata": {},
   "source": [
    "Her står der at det vi prøver at udføre er en \"bound method\", altså en **funktion**. Derfor skal parenteserne tilføjes:"
   ]
  },
  {
   "cell_type": "code",
   "execution_count": 7,
   "id": "6d91ce49",
   "metadata": {},
   "outputs": [
    {
     "data": {
      "text/plain": [
       "True"
      ]
     },
     "execution_count": 7,
     "metadata": {},
     "output_type": "execute_result"
    }
   ],
   "source": [
    "A.is_symmetric()"
   ]
  },
  {
   "cell_type": "markdown",
   "id": "d249cc03",
   "metadata": {},
   "source": [
    "Det er sjældent nødvendigt at bruge `.is_symmetric()`, da man jo ofte kan afgøre om en matrix er symmetrisk ved at kigge på den. Endelig kan man tjekke om definitionen på en symmetrisk matrix er opfyldt direkte, nemlig om $A = A^T$. I Python:"
   ]
  },
  {
   "cell_type": "code",
   "execution_count": 8,
   "id": "1f3132d8",
   "metadata": {},
   "outputs": [
    {
     "data": {
      "text/plain": [
       "True"
      ]
     },
     "execution_count": 8,
     "metadata": {},
     "output_type": "execute_result"
    }
   ],
   "source": [
    "A == A.T"
   ]
  },
  {
   "cell_type": "markdown",
   "id": "acafe107",
   "metadata": {},
   "source": [
    "## Spektralsætningen"
   ]
  },
  {
   "cell_type": "markdown",
   "id": "1d53fb3b",
   "metadata": {},
   "source": [
    "Spektralsætningen giver et godt eksempel på hvorfor hermitiske (og reelt symmetriske) matricer er så utroligt praktiske. Særligt når det kommer til diagonalisering.\n",
    "\n",
    "Betragt for eksempel den reelle og symmetriske matrix"
   ]
  },
  {
   "cell_type": "code",
   "execution_count": 9,
   "id": "640e1067",
   "metadata": {},
   "outputs": [
    {
     "data": {
      "image/png": "[encoded data removed]",
      "text/latex": [
       "$\\displaystyle \\left[\\begin{matrix}1 & 2 & 0\\\\2 & 3 & 2\\\\0 & 2 & 1\\end{matrix}\\right]$"
      ],
      "text/plain": [
       "⎡1  2  0⎤\n",
       "⎢       ⎥\n",
       "⎢2  3  2⎥\n",
       "⎢       ⎥\n",
       "⎣0  2  1⎦"
      ]
     },
     "execution_count": 9,
     "metadata": {},
     "output_type": "execute_result"
    }
   ],
   "source": [
    "A = Matrix([[1,2,0],\n",
    "            [2,3,2],\n",
    "            [0,2,1]])\n",
    "A"
   ]
  },
  {
   "cell_type": "markdown",
   "id": "cc178e77",
   "metadata": {},
   "source": [
    "Først finder vi egenvektorerne"
   ]
  },
  {
   "cell_type": "code",
   "execution_count": 10,
   "id": "6501b272",
   "metadata": {},
   "outputs": [
    {
     "data": {
      "image/png": "[encoded data removed]",
      "text/latex": [
       "$\\displaystyle \\left[ \\left( -1, \\  1, \\  \\left[ \\left[\\begin{matrix}1\\\\-1\\\\1\\end{matrix}\\right]\\right]\\right), \\  \\left( 1, \\  1, \\  \\left[ \\left[\\begin{matrix}-1\\\\0\\\\1\\end{matrix}\\right]\\right]\\right), \\  \\left( 5, \\  1, \\  \\left[ \\left[\\begin{matrix}1\\\\2\\\\1\\end{matrix}\\right]\\right]\\right)\\right]$"
      ],
      "text/plain": [
       "⎡⎛       ⎡⎡1 ⎤⎤⎞  ⎛      ⎡⎡-1⎤⎤⎞  ⎛      ⎡⎡1⎤⎤⎞⎤\n",
       "⎢⎜       ⎢⎢  ⎥⎥⎟  ⎜      ⎢⎢  ⎥⎥⎟  ⎜      ⎢⎢ ⎥⎥⎟⎥\n",
       "⎢⎜-1, 1, ⎢⎢-1⎥⎥⎟, ⎜1, 1, ⎢⎢0 ⎥⎥⎟, ⎜5, 1, ⎢⎢2⎥⎥⎟⎥\n",
       "⎢⎜       ⎢⎢  ⎥⎥⎟  ⎜      ⎢⎢  ⎥⎥⎟  ⎜      ⎢⎢ ⎥⎥⎟⎥\n",
       "⎣⎝       ⎣⎣1 ⎦⎦⎠  ⎝      ⎣⎣1 ⎦⎦⎠  ⎝      ⎣⎣1⎦⎦⎠⎦"
      ]
     },
     "execution_count": 10,
     "metadata": {},
     "output_type": "execute_result"
    }
   ],
   "source": [
    "ev = A.eigenvects()\n",
    "ev"
   ]
  },
  {
   "cell_type": "markdown",
   "id": "533f9fe1",
   "metadata": {},
   "source": [
    "Da vi har 3 egenværdier der alle opfylder $am(\\lambda) = gm(\\lambda) = 1$ kan vi bruge Corollary 2.8.6 til let at diagonalisere ${A}$ ved\n",
    "\n",
    "\\begin{equation*}\n",
    "{\\Lambda} = {Q}^T {A} {Q}.\n",
    "\\end{equation*}\n",
    "\n",
    "Hvor ${Q}$ er en ortogonal matrix, bestående af egenvektorer for ${A}$."
   ]
  },
  {
   "cell_type": "code",
   "execution_count": 11,
   "id": "a0800fd7",
   "metadata": {},
   "outputs": [
    {
     "data": {
      "image/png": "[encoded data removed]",
      "text/latex": [
       "$\\displaystyle \\left[\\begin{matrix}\\frac{\\sqrt{3}}{3} & - \\frac{\\sqrt{2}}{2} & \\frac{\\sqrt{6}}{6}\\\\- \\frac{\\sqrt{3}}{3} & 0 & \\frac{\\sqrt{6}}{3}\\\\\\frac{\\sqrt{3}}{3} & \\frac{\\sqrt{2}}{2} & \\frac{\\sqrt{6}}{6}\\end{matrix}\\right]$"
      ],
      "text/plain": [
       "⎡ √3   -√2   √6⎤\n",
       "⎢ ──   ────  ──⎥\n",
       "⎢ 3     2    6 ⎥\n",
       "⎢              ⎥\n",
       "⎢-√3         √6⎥\n",
       "⎢────   0    ──⎥\n",
       "⎢ 3          3 ⎥\n",
       "⎢              ⎥\n",
       "⎢ √3    √2   √6⎥\n",
       "⎢ ──    ──   ──⎥\n",
       "⎣ 3     2    6 ⎦"
      ]
     },
     "execution_count": 11,
     "metadata": {},
     "output_type": "execute_result"
    }
   ],
   "source": [
    "Q = Matrix.hstack(*[ev[i][2][0].normalized() for i in range(3)])\n",
    "Q"
   ]
  },
  {
   "cell_type": "code",
   "execution_count": 12,
   "id": "4caf513a",
   "metadata": {},
   "outputs": [
    {
     "data": {
      "image/png": "[encoded data removed]",
      "text/latex": [
       "$\\displaystyle \\left[\\begin{matrix}-1 & 0 & 0\\\\0 & 1 & 0\\\\0 & 0 & 5\\end{matrix}\\right]$"
      ],
      "text/plain": [
       "⎡-1  0  0⎤\n",
       "⎢        ⎥\n",
       "⎢0   1  0⎥\n",
       "⎢        ⎥\n",
       "⎣0   0  5⎦"
      ]
     },
     "execution_count": 12,
     "metadata": {},
     "output_type": "execute_result"
    }
   ],
   "source": [
    "# Undgå at bruge lambda som variabelnavn, da det er et reserveret ord i python brug lamda i stedet\n",
    "lamda = Q.T*A*Q\n",
    "lamda"
   ]
  },
  {
   "cell_type": "markdown",
   "id": "993085d2",
   "metadata": {},
   "source": [
    "For matricer med komplekse værdier kan samme tilgang bruges, så længe der arbejdes med normale matricer. Altså matricer der opfylder\n",
    "\n",
    "\\begin{equation*}\n",
    "AA^* = A^*A.\n",
    "\\end{equation*}\n",
    "\n",
    "Bemærk at alle hermitiske matricer også er normale, da\n",
    "\n",
    "\\begin{equation*}\n",
    "A = A^* \n",
    "\\end{equation*}\n",
    "\n",
    "medfører \n",
    "\n",
    "\\begin{equation*}\n",
    "AA^* = A^2 = A^*A.\n",
    "\\end{equation*}\n",
    "\n",
    "Se for eksempel matricen:"
   ]
  },
  {
   "cell_type": "code",
   "execution_count": 13,
   "id": "f3411b78",
   "metadata": {},
   "outputs": [
    {
     "data": {
      "image/png": "[encoded data removed]",
      "text/latex": [
       "$\\displaystyle \\left[\\begin{matrix}1 & 2 i & 0\\\\- 2 i & 3 & 1 + i\\\\0 & 1 - i & 1\\end{matrix}\\right]$"
      ],
      "text/plain": [
       "⎡ 1     2⋅ⅈ     0  ⎤\n",
       "⎢                  ⎥\n",
       "⎢-2⋅ⅈ    3    1 + ⅈ⎥\n",
       "⎢                  ⎥\n",
       "⎣ 0    1 - ⅈ    1  ⎦"
      ]
     },
     "metadata": {},
     "output_type": "display_data"
    },
    {
     "data": {
      "text/plain": [
       "True"
      ]
     },
     "metadata": {},
     "output_type": "display_data"
    }
   ],
   "source": [
    "A = Matrix([[1,2*I,0],\n",
    "           [-2*I,3,1+I],\n",
    "           [0,1-I,1]])\n",
    "\n",
    "display(A, A.is_hermitian)"
   ]
  },
  {
   "cell_type": "code",
   "execution_count": 14,
   "id": "79fb8992",
   "metadata": {},
   "outputs": [
    {
     "data": {
      "image/png": "[encoded data removed]",
      "text/latex": [
       "$\\displaystyle \\left[ \\left( 1, \\  1, \\  \\left[ \\left[\\begin{matrix}\\frac{1}{2} - \\frac{i}{2}\\\\0\\\\1\\end{matrix}\\right]\\right]\\right), \\  \\left( 2 - \\sqrt{7}, \\  1, \\  \\left[ \\left[\\begin{matrix}-1 + i\\\\- \\frac{1}{2} - \\frac{i}{2} + \\left(\\frac{1}{2} + \\frac{i}{2}\\right) \\left(2 - \\sqrt{7}\\right)\\\\1\\end{matrix}\\right]\\right]\\right), \\  \\left( 2 + \\sqrt{7}, \\  1, \\  \\left[ \\left[\\begin{matrix}-1 + i\\\\- \\frac{1}{2} - \\frac{i}{2} + \\left(\\frac{1}{2} + \\frac{i}{2}\\right) \\left(2 + \\sqrt{7}\\right)\\\\1\\end{matrix}\\right]\\right]\\right)\\right]$"
      ],
      "text/plain": [
       "⎡⎛      ⎡⎡1   ⅈ⎤⎤⎞  ⎛           ⎡⎡          -1 + ⅈ          ⎤⎤⎞  ⎛           ⎡ ↪\n",
       "⎢⎜      ⎢⎢─ - ─⎥⎥⎟  ⎜           ⎢⎢                          ⎥⎥⎟  ⎜           ⎢ ↪\n",
       "⎢⎜      ⎢⎢2   2⎥⎥⎟  ⎜           ⎢⎢  1   ⅈ   ⎛1   ⅈ⎞         ⎥⎥⎟  ⎜           ⎢ ↪\n",
       "⎢⎜1, 1, ⎢⎢     ⎥⎥⎟, ⎜2 - √7, 1, ⎢⎢- ─ - ─ + ⎜─ + ─⎟⋅(2 - √7)⎥⎥⎟, ⎜2 + √7, 1, ⎢ ↪\n",
       "⎢⎜      ⎢⎢  0  ⎥⎥⎟  ⎜           ⎢⎢  2   2   ⎝2   2⎠         ⎥⎥⎟  ⎜           ⎢ ↪\n",
       "⎢⎜      ⎢⎢     ⎥⎥⎟  ⎜           ⎢⎢                          ⎥⎥⎟  ⎜           ⎢ ↪\n",
       "⎣⎝      ⎣⎣  1  ⎦⎦⎠  ⎝           ⎣⎣            1             ⎦⎦⎠  ⎝           ⎣ ↪\n",
       "\n",
       "↪ ⎡          -1 + ⅈ          ⎤⎤⎞⎤\n",
       "↪ ⎢                          ⎥⎥⎟⎥\n",
       "↪ ⎢  1   ⅈ   ⎛1   ⅈ⎞         ⎥⎥⎟⎥\n",
       "↪ ⎢- ─ - ─ + ⎜─ + ─⎟⋅(2 + √7)⎥⎥⎟⎥\n",
       "↪ ⎢  2   2   ⎝2   2⎠         ⎥⎥⎟⎥\n",
       "↪ ⎢                          ⎥⎥⎟⎥\n",
       "↪ ⎣            1             ⎦⎦⎠⎦"
      ]
     },
     "execution_count": 14,
     "metadata": {},
     "output_type": "execute_result"
    }
   ],
   "source": [
    "# egenvektorerne findes\n",
    "ev = A.eigenvects()\n",
    "ev"
   ]
  },
  {
   "cell_type": "code",
   "execution_count": 15,
   "id": "649bcb73",
   "metadata": {},
   "outputs": [
    {
     "data": {
      "image/png": "[encoded data removed]",
      "text/latex": [
       "$\\displaystyle \\left( \\left[\\begin{matrix}1 & 0 & 0\\\\0 & 1 & 0\\\\0 & 0 & 1\\end{matrix}\\right], \\  \\left[\\begin{matrix}1 & 0 & 0\\\\0 & 1 & 0\\\\0 & 0 & 1\\end{matrix}\\right]\\right)$"
      ],
      "text/plain": [
       "⎛⎡1  0  0⎤  ⎡1  0  0⎤⎞\n",
       "⎜⎢       ⎥  ⎢       ⎥⎟\n",
       "⎜⎢0  1  0⎥, ⎢0  1  0⎥⎟\n",
       "⎜⎢       ⎥  ⎢       ⎥⎟\n",
       "⎝⎣0  0  1⎦  ⎣0  0  1⎦⎠"
      ]
     },
     "execution_count": 15,
     "metadata": {},
     "output_type": "execute_result"
    }
   ],
   "source": [
    "U = Matrix.hstack(*[ev[i][2][0].normalized() for i in range(3)])\n",
    "\n",
    "# U er en unitær matrix\n",
    "simplify(U*U.H), simplify(U.H*U)"
   ]
  },
  {
   "cell_type": "code",
   "execution_count": 16,
   "id": "c92f90cb",
   "metadata": {},
   "outputs": [
    {
     "data": {
      "image/png": "[encoded data removed]",
      "text/latex": [
       "$\\displaystyle \\left[\\begin{matrix}1 & 0 & 0\\\\0 & 2 - \\sqrt{7} & 0\\\\0 & 0 & 2 + \\sqrt{7}\\end{matrix}\\right]$"
      ],
      "text/plain": [
       "⎡1    0       0   ⎤\n",
       "⎢                 ⎥\n",
       "⎢0  2 - √7    0   ⎥\n",
       "⎢                 ⎥\n",
       "⎣0    0     2 + √7⎦"
      ]
     },
     "execution_count": 16,
     "metadata": {},
     "output_type": "execute_result"
    }
   ],
   "source": [
    "simplify(U.H*A*U)"
   ]
  },
  {
   "cell_type": "markdown",
   "id": "5ad33333",
   "metadata": {},
   "source": [
    "## Diagonalisering af en symmetrisk matrix ved ortogonal substitution\n",
    "\n",
    "Hvis man løber ind i et tilfælde hvor en egenværdi for en symmetrisk matrix har $am(\\lambda) = gm(\\lambda) \\ge 2$, kan vi ikke være sikre på at de første egenvektorer vi finder er ortogonale. Spektralsætingen sikre os stadig at der findes en orthonormal base båstende af egenvektorer.Betragt eksempelvis den symmetriske matrix $A$ givet ved"
   ]
  },
  {
   "cell_type": "code",
   "execution_count": 17,
   "id": "37180f1c",
   "metadata": {},
   "outputs": [
    {
     "data": {
      "image/png": "[encoded data removed]",
      "text/latex": [
       "$\\displaystyle \\left[\\begin{matrix}6 & 2 & 4\\\\2 & 9 & -2\\\\4 & -2 & 6\\end{matrix}\\right]$"
      ],
      "text/plain": [
       "⎡6  2   4 ⎤\n",
       "⎢         ⎥\n",
       "⎢2  9   -2⎥\n",
       "⎢         ⎥\n",
       "⎣4  -2  6 ⎦"
      ]
     },
     "execution_count": 17,
     "metadata": {},
     "output_type": "execute_result"
    }
   ],
   "source": [
    "A = Matrix([[6,2,4],[2,9,-2],[4,-2,6]])\n",
    "A"
   ]
  },
  {
   "cell_type": "markdown",
   "id": "3d320116",
   "metadata": {},
   "source": [
    "Her ser vi at en egenværdi har algebraisk multiplicitet 2 og to egenvektorer"
   ]
  },
  {
   "cell_type": "code",
   "execution_count": 18,
   "id": "65a01c21",
   "metadata": {},
   "outputs": [
    {
     "data": {
      "image/png": "[encoded data removed]",
      "text/latex": [
       "$\\displaystyle \\left[ \\left( 1, \\  1, \\  \\left[ \\left[\\begin{matrix}-1\\\\\\frac{1}{2}\\\\1\\end{matrix}\\right]\\right]\\right), \\  \\left( 10, \\  2, \\  \\left[ \\left[\\begin{matrix}\\frac{1}{2}\\\\1\\\\0\\end{matrix}\\right], \\  \\left[\\begin{matrix}1\\\\0\\\\1\\end{matrix}\\right]\\right]\\right)\\right]$"
      ],
      "text/plain": [
       "⎡⎛      ⎡⎡-1 ⎤⎤⎞  ⎛       ⎡⎡1/2⎤  ⎡1⎤⎤⎞⎤\n",
       "⎢⎜      ⎢⎢   ⎥⎥⎟  ⎜       ⎢⎢   ⎥  ⎢ ⎥⎥⎟⎥\n",
       "⎢⎜1, 1, ⎢⎢1/2⎥⎥⎟, ⎜10, 2, ⎢⎢ 1 ⎥, ⎢0⎥⎥⎟⎥\n",
       "⎢⎜      ⎢⎢   ⎥⎥⎟  ⎜       ⎢⎢   ⎥  ⎢ ⎥⎥⎟⎥\n",
       "⎣⎝      ⎣⎣ 1 ⎦⎦⎠  ⎝       ⎣⎣ 0 ⎦  ⎣1⎦⎦⎠⎦"
      ]
     },
     "execution_count": 18,
     "metadata": {},
     "output_type": "execute_result"
    }
   ],
   "source": [
    "A.eigenvects()"
   ]
  },
  {
   "cell_type": "markdown",
   "id": "848c2d41",
   "metadata": {},
   "source": [
    "Så hvis vi, som før, nøjes med at normaliserer egenvektorene"
   ]
  },
  {
   "cell_type": "code",
   "execution_count": 19,
   "id": "1542ad9a",
   "metadata": {},
   "outputs": [
    {
     "data": {
      "image/png": "[encoded data removed]",
      "text/latex": [
       "$\\displaystyle \\left[ \\left[\\begin{matrix}- \\frac{2}{3}\\\\\\frac{1}{3}\\\\\\frac{2}{3}\\end{matrix}\\right], \\  \\left[\\begin{matrix}\\frac{\\sqrt{5}}{5}\\\\\\frac{2 \\sqrt{5}}{5}\\\\0\\end{matrix}\\right], \\  \\left[\\begin{matrix}\\frac{\\sqrt{2}}{2}\\\\0\\\\\\frac{\\sqrt{2}}{2}\\end{matrix}\\right]\\right]$"
      ],
      "text/plain": [
       "⎡        ⎡ √5 ⎤  ⎡√2⎤⎤\n",
       "⎢        ⎢ ── ⎥  ⎢──⎥⎥\n",
       "⎢⎡-2/3⎤  ⎢ 5  ⎥  ⎢2 ⎥⎥\n",
       "⎢⎢    ⎥  ⎢    ⎥  ⎢  ⎥⎥\n",
       "⎢⎢1/3 ⎥, ⎢2⋅√5⎥, ⎢0 ⎥⎥\n",
       "⎢⎢    ⎥  ⎢────⎥  ⎢  ⎥⎥\n",
       "⎢⎣2/3 ⎦  ⎢ 5  ⎥  ⎢√2⎥⎥\n",
       "⎢        ⎢    ⎥  ⎢──⎥⎥\n",
       "⎣        ⎣ 0  ⎦  ⎣2 ⎦⎦"
      ]
     },
     "execution_count": 19,
     "metadata": {},
     "output_type": "execute_result"
    }
   ],
   "source": [
    "v_1 = Matrix([-1,Rational(1,2),1])\n",
    "v_2 = Matrix([Rational(1,2),1,0])\n",
    "v_3 = Matrix([1,0,1])\n",
    "[v.normalized() for v in [v_1,v_2,v_3]]"
   ]
  },
  {
   "cell_type": "markdown",
   "id": "846be9a9",
   "metadata": {},
   "source": [
    "*(Eller i et \"go\" uden at skulle skrive $u$-vektorerne ind manuelt):*"
   ]
  },
  {
   "cell_type": "code",
   "execution_count": 20,
   "id": "2498bcc7",
   "metadata": {},
   "outputs": [
    {
     "data": {
      "image/png": "[encoded data removed]",
      "text/latex": [
       "$\\displaystyle \\left[ \\left[\\begin{matrix}-2\\\\1\\\\2\\end{matrix}\\right], \\  \\left[\\begin{matrix}1\\\\2\\\\0\\end{matrix}\\right], \\  \\left[\\begin{matrix}1\\\\0\\\\1\\end{matrix}\\right]\\right]$"
      ],
      "text/plain": [
       "⎡⎡-2⎤  ⎡1⎤  ⎡1⎤⎤\n",
       "⎢⎢  ⎥  ⎢ ⎥  ⎢ ⎥⎥\n",
       "⎢⎢1 ⎥, ⎢2⎥, ⎢0⎥⎥\n",
       "⎢⎢  ⎥  ⎢ ⎥  ⎢ ⎥⎥\n",
       "⎣⎣2 ⎦  ⎣0⎦  ⎣1⎦⎦"
      ]
     },
     "metadata": {},
     "output_type": "display_data"
    },
    {
     "name": "stdout",
     "output_type": "stream",
     "text": [
      "\t   | (normalize)\n",
      "\t   q\n"
     ]
    },
    {
     "data": {
      "image/png": "[encoded data removed]",
      "text/latex": [
       "$\\displaystyle \\left[ \\left[\\begin{matrix}- \\frac{2}{3}\\\\\\frac{1}{3}\\\\\\frac{2}{3}\\end{matrix}\\right], \\  \\left[\\begin{matrix}\\frac{\\sqrt{5}}{5}\\\\\\frac{2 \\sqrt{5}}{5}\\\\0\\end{matrix}\\right], \\  \\left[\\begin{matrix}\\frac{\\sqrt{2}}{2}\\\\0\\\\\\frac{\\sqrt{2}}{2}\\end{matrix}\\right]\\right]$"
      ],
      "text/plain": [
       "⎡        ⎡ √5 ⎤  ⎡√2⎤⎤\n",
       "⎢        ⎢ ── ⎥  ⎢──⎥⎥\n",
       "⎢⎡-2/3⎤  ⎢ 5  ⎥  ⎢2 ⎥⎥\n",
       "⎢⎢    ⎥  ⎢    ⎥  ⎢  ⎥⎥\n",
       "⎢⎢1/3 ⎥, ⎢2⋅√5⎥, ⎢0 ⎥⎥\n",
       "⎢⎢    ⎥  ⎢────⎥  ⎢  ⎥⎥\n",
       "⎢⎣2/3 ⎦  ⎢ 5  ⎥  ⎢√2⎥⎥\n",
       "⎢        ⎢    ⎥  ⎢──⎥⎥\n",
       "⎣        ⎣ 0  ⎦  ⎣2 ⎦⎦"
      ]
     },
     "metadata": {},
     "output_type": "display_data"
    }
   ],
   "source": [
    "V, Lamda = A.diagonalize()\n",
    "[v_1,v_2,v_3] = [V.col(k) for k in range(3)]        # hver søjle i V tilgås og gemmes som vektor\n",
    "q_1, q_2, q_3 = [v.normalized() for v in [v_1, v_2, v_3]]\n",
    "display([v_1,v_2,v_3])\n",
    "print('\\t   | (normalize)')\n",
    "print('\\t   q')\n",
    "display([q_1,q_2,q_3])"
   ]
  },
  {
   "cell_type": "markdown",
   "id": "387608f5",
   "metadata": {},
   "source": [
    "og opstiller den ønskede $Q$-matrix med dem"
   ]
  },
  {
   "cell_type": "code",
   "execution_count": 21,
   "id": "88b785c5",
   "metadata": {},
   "outputs": [
    {
     "data": {
      "image/png": "[encoded data removed]",
      "text/latex": [
       "$\\displaystyle \\left[\\begin{matrix}- \\frac{2}{3} & \\frac{\\sqrt{5}}{5} & \\frac{\\sqrt{2}}{2}\\\\\\frac{1}{3} & \\frac{2 \\sqrt{5}}{5} & 0\\\\\\frac{2}{3} & 0 & \\frac{\\sqrt{2}}{2}\\end{matrix}\\right]$"
      ],
      "text/plain": [
       "⎡       √5   √2⎤\n",
       "⎢-2/3   ──   ──⎥\n",
       "⎢       5    2 ⎥\n",
       "⎢              ⎥\n",
       "⎢      2⋅√5    ⎥\n",
       "⎢1/3   ────  0 ⎥\n",
       "⎢       5      ⎥\n",
       "⎢              ⎥\n",
       "⎢            √2⎥\n",
       "⎢2/3    0    ──⎥\n",
       "⎣            2 ⎦"
      ]
     },
     "execution_count": 21,
     "metadata": {},
     "output_type": "execute_result"
    }
   ],
   "source": [
    "Q = Matrix.hstack(q_1,q_2,q_3)\n",
    "Q"
   ]
  },
  {
   "cell_type": "markdown",
   "id": "fe4d79a0",
   "metadata": {},
   "source": [
    "kan vi se at matricen desværre ikke er reel ortogonal:"
   ]
  },
  {
   "cell_type": "code",
   "execution_count": 22,
   "id": "d2fc516c",
   "metadata": {},
   "outputs": [
    {
     "data": {
      "image/png": "[encoded data removed]",
      "text/latex": [
       "$\\displaystyle \\left[\\begin{matrix}1 & 0 & 0\\\\0 & 1 & \\frac{\\sqrt{10}}{10}\\\\0 & \\frac{\\sqrt{10}}{10} & 1\\end{matrix}\\right]$"
      ],
      "text/plain": [
       "⎡1   0    0 ⎤\n",
       "⎢           ⎥\n",
       "⎢        √10⎥\n",
       "⎢0   1   ───⎥\n",
       "⎢        10 ⎥\n",
       "⎢           ⎥\n",
       "⎢   √10     ⎥\n",
       "⎢0  ───   1 ⎥\n",
       "⎣   10      ⎦"
      ]
     },
     "execution_count": 22,
     "metadata": {},
     "output_type": "execute_result"
    }
   ],
   "source": [
    "Q.T * Q"
   ]
  },
  {
   "cell_type": "markdown",
   "id": "473e5f04",
   "metadata": {},
   "source": [
    "da de to sidste søjler i $Q$ ikke er ortogonale på hinanden!"
   ]
  },
  {
   "cell_type": "markdown",
   "id": "f55194da",
   "metadata": {},
   "source": [
    "Heldigvis kan vi dog bruge en metode i har lært, GramSchmidt-algoritmen i disse tilfælde. For egenvektorer med ens egenværdier udføres GramSchmidt, og egenvektorer hvor $am(\\lambda) = 1$ udføres standard normalisering:"
   ]
  },
  {
   "cell_type": "code",
   "execution_count": 23,
   "id": "b8143faf",
   "metadata": {},
   "outputs": [
    {
     "data": {
      "image/png": "[encoded data removed]",
      "text/latex": [
       "$\\displaystyle \\left[\\begin{matrix}- \\frac{2}{3} & \\frac{\\sqrt{5}}{5} & \\frac{4 \\sqrt{5}}{15}\\\\\\frac{1}{3} & \\frac{2 \\sqrt{5}}{5} & - \\frac{2 \\sqrt{5}}{15}\\\\\\frac{2}{3} & 0 & \\frac{\\sqrt{5}}{3}\\end{matrix}\\right]$"
      ],
      "text/plain": [
       "⎡       √5    4⋅√5 ⎤\n",
       "⎢-2/3   ──    ──── ⎥\n",
       "⎢       5      15  ⎥\n",
       "⎢                  ⎥\n",
       "⎢      2⋅√5  -2⋅√5 ⎥\n",
       "⎢1/3   ────  ──────⎥\n",
       "⎢       5      15  ⎥\n",
       "⎢                  ⎥\n",
       "⎢              √5  ⎥\n",
       "⎢2/3    0      ──  ⎥\n",
       "⎣              3   ⎦"
      ]
     },
     "execution_count": 23,
     "metadata": {},
     "output_type": "execute_result"
    }
   ],
   "source": [
    "q_1 = v_1.normalized()\n",
    "q_2, q_3 = GramSchmidt([v_2, v_3], orthonormal=True)\n",
    "Q = Matrix.hstack(q_1,q_2,q_3)\n",
    "Q"
   ]
  },
  {
   "cell_type": "markdown",
   "id": "f4c8ff5a",
   "metadata": {},
   "source": [
    "Rækkefølgen af egenværdierne i diagonalmatricen $\\Lambda$ er bestemt af rækkefølgen af egenvektorer, som vi valgte. Den er lig $V^{-1} A V$ og givet ved:"
   ]
  },
  {
   "cell_type": "code",
   "execution_count": 24,
   "id": "37abf57c",
   "metadata": {},
   "outputs": [
    {
     "data": {
      "image/png": "[encoded data removed]",
      "text/latex": [
       "$\\displaystyle \\left[\\begin{matrix}1 & 0 & 0\\\\0 & 10 & 0\\\\0 & 0 & 10\\end{matrix}\\right]$"
      ],
      "text/plain": [
       "⎡1  0   0 ⎤\n",
       "⎢         ⎥\n",
       "⎢0  10  0 ⎥\n",
       "⎢         ⎥\n",
       "⎣0  0   10⎦"
      ]
     },
     "execution_count": 24,
     "metadata": {},
     "output_type": "execute_result"
    }
   ],
   "source": [
    "Lamda"
   ]
  },
  {
   "cell_type": "markdown",
   "id": "bee9958b",
   "metadata": {},
   "source": [
    "Lad os tjekke at Gram-Schmidt ikke har ændret ved $\\Lambda$. Vi skriver:"
   ]
  },
  {
   "cell_type": "code",
   "execution_count": 25,
   "id": "8d582fc4",
   "metadata": {},
   "outputs": [
    {
     "data": {
      "text/plain": [
       "True"
      ]
     },
     "execution_count": 25,
     "metadata": {},
     "output_type": "execute_result"
    }
   ],
   "source": [
    "Lamda == Q.T*A*Q"
   ]
  },
  {
   "cell_type": "markdown",
   "id": "7d07cf71",
   "metadata": {},
   "source": [
    "Som forventet er $\\Lambda = V^{-1} A V = Q^T A Q$. Men husk at denne GramSchmidt-metode kun behøves brugt når matricen opfylder spektralsætningen (igen for reelle matricer Thm. 2.8.5 og for komplekse matricer Thm. 2.8.9), men har egenværdier med $am(\\lambda) = gm(\\lambda) \\ge 2$."
   ]
  },
  {
   "cell_type": "markdown",
   "id": "9b1a15ef",
   "metadata": {},
   "source": [
    "## Positiv (semi-)definite matricer"
   ]
  },
  {
   "cell_type": "markdown",
   "id": "3a9c142b",
   "metadata": {},
   "source": [
    "Positivt (semi-)definite matricer har nogle egenskaber der gør dem endnu nemmere at regne med. De er desuden hermitiske og opfylder derfor alt der er gennemgået i denne demo. Det er mest noget man lægger mærke til ved manipulationer af matricer, og derfor ikke noget vi nødvendigvis bemærker når vi anvender `SymPy`/CAS. `SymPy` er dog udstyret med to funktioner der gør det nemt at finde ud af hvorvidt en matrix er positivt definit eller positivt semidefinit."
   ]
  },
  {
   "cell_type": "markdown",
   "id": "ff8c0778",
   "metadata": {},
   "source": [
    "Betragt de to hermitiske matricer $A,B \\in M_4(\\mathbb{R})$."
   ]
  },
  {
   "cell_type": "code",
   "execution_count": 26,
   "id": "02e7a721",
   "metadata": {},
   "outputs": [
    {
     "data": {
      "image/png": "[encoded data removed]",
      "text/latex": [
       "$\\displaystyle \\left( \\left[\\begin{matrix}5 & 8 & 4 & 1\\\\8 & 17 & 8 & 2\\\\4 & 8 & 5 & 0\\\\1 & 2 & 0 & 1\\end{matrix}\\right], \\  \\left[\\begin{matrix}1 & -1 & 2 & 0\\\\-1 & 4 & -1 & 1\\\\2 & -1 & 6 & -2\\\\0 & 1 & -2 & 4\\end{matrix}\\right]\\right)$"
      ],
      "text/plain": [
       "⎛⎡5  8   4  1⎤  ⎡1   -1  2   0 ⎤⎞\n",
       "⎜⎢           ⎥  ⎢              ⎥⎟\n",
       "⎜⎢8  17  8  2⎥  ⎢-1  4   -1  1 ⎥⎟\n",
       "⎜⎢           ⎥, ⎢              ⎥⎟\n",
       "⎜⎢4  8   5  0⎥  ⎢2   -1  6   -2⎥⎟\n",
       "⎜⎢           ⎥  ⎢              ⎥⎟\n",
       "⎝⎣1  2   0  1⎦  ⎣0   1   -2  4 ⎦⎠"
      ]
     },
     "execution_count": 26,
     "metadata": {},
     "output_type": "execute_result"
    }
   ],
   "source": [
    "A = Matrix([[5,8,4,1],\n",
    "            [8,17,8,2],\n",
    "            [4,8,5,0],\n",
    "            [1,2,0,1]])\n",
    "\n",
    "B = Matrix([[1,-1,2,0],\n",
    "            [-1,4,-1,1],\n",
    "            [2,-1,6,-2],\n",
    "            [0,1,-2,4]])\n",
    "\n",
    "A,B"
   ]
  },
  {
   "cell_type": "code",
   "execution_count": 27,
   "id": "71a18745",
   "metadata": {},
   "outputs": [
    {
     "data": {
      "text/plain": [
       "(False, True)"
      ]
     },
     "execution_count": 27,
     "metadata": {},
     "output_type": "execute_result"
    }
   ],
   "source": [
    "A.is_positive_definite, B.is_positive_definite"
   ]
  },
  {
   "cell_type": "markdown",
   "id": "11950134",
   "metadata": {},
   "source": [
    "Vi kunne også forsøge at bevise at $B$ er positivt definit ved simuleret håndregning. En strategi kunne være at bevise axiom (i) i definition 2.9.1, men da dette ville kræve at vi tester for alle vektorer i $\\mathbb{R}^4$ er dette ikke oplagt i `SymPy`. I stedet vil thm 2.9.1 (ii) være lettere at arbejde med. Altså vil vi vise at $B$ har strengt positive egenværdier. Det viser sig dog at være et udfordrende tilfælde."
   ]
  },
  {
   "cell_type": "code",
   "execution_count": 28,
   "id": "914d49fc",
   "metadata": {},
   "outputs": [
    {
     "data": {
      "image/png": "[encoded data removed]",
      "text/latex": [
       "$\\displaystyle \\left\\{ \\frac{15}{4} - \\frac{\\sqrt{\\frac{139}{12} + \\frac{283}{18 \\sqrt[3]{- \\frac{3815}{216} + \\frac{\\sqrt{901218} i}{72}}} + 2 \\sqrt[3]{- \\frac{3815}{216} + \\frac{\\sqrt{901218} i}{72}}}}{2} - \\frac{\\sqrt{\\frac{139}{6} - 2 \\sqrt[3]{- \\frac{3815}{216} + \\frac{\\sqrt{901218} i}{72}} - \\frac{107}{4 \\sqrt{\\frac{139}{12} + \\frac{283}{18 \\sqrt[3]{- \\frac{3815}{216} + \\frac{\\sqrt{901218} i}{72}}} + 2 \\sqrt[3]{- \\frac{3815}{216} + \\frac{\\sqrt{901218} i}{72}}}} - \\frac{283}{18 \\sqrt[3]{- \\frac{3815}{216} + \\frac{\\sqrt{901218} i}{72}}}}}{2} : 1, \\  \\frac{15}{4} - \\frac{\\sqrt{\\frac{139}{12} + \\frac{283}{18 \\sqrt[3]{- \\frac{3815}{216} + \\frac{\\sqrt{901218} i}{72}}} + 2 \\sqrt[3]{- \\frac{3815}{216} + \\frac{\\sqrt{901218} i}{72}}}}{2} + \\frac{\\sqrt{\\frac{139}{6} - 2 \\sqrt[3]{- \\frac{3815}{216} + \\frac{\\sqrt{901218} i}{72}} - \\frac{107}{4 \\sqrt{\\frac{139}{12} + \\frac{283}{18 \\sqrt[3]{- \\frac{3815}{216} + \\frac{\\sqrt{901218} i}{72}}} + 2 \\sqrt[3]{- \\frac{3815}{216} + \\frac{\\sqrt{901218} i}{72}}}} - \\frac{283}{18 \\sqrt[3]{- \\frac{3815}{216} + \\frac{\\sqrt{901218} i}{72}}}}}{2} : 1, \\  \\frac{15}{4} - \\frac{\\sqrt{\\frac{139}{6} - 2 \\sqrt[3]{- \\frac{3815}{216} + \\frac{\\sqrt{901218} i}{72}} + \\frac{107}{4 \\sqrt{\\frac{139}{12} + \\frac{283}{18 \\sqrt[3]{- \\frac{3815}{216} + \\frac{\\sqrt{901218} i}{72}}} + 2 \\sqrt[3]{- \\frac{3815}{216} + \\frac{\\sqrt{901218} i}{72}}}} - \\frac{283}{18 \\sqrt[3]{- \\frac{3815}{216} + \\frac{\\sqrt{901218} i}{72}}}}}{2} + \\frac{\\sqrt{\\frac{139}{12} + \\frac{283}{18 \\sqrt[3]{- \\frac{3815}{216} + \\frac{\\sqrt{901218} i}{72}}} + 2 \\sqrt[3]{- \\frac{3815}{216} + \\frac{\\sqrt{901218} i}{72}}}}{2} : 1, \\  \\frac{15}{4} + \\frac{\\sqrt{\\frac{139}{6} - 2 \\sqrt[3]{- \\frac{3815}{216} + \\frac{\\sqrt{901218} i}{72}} + \\frac{107}{4 \\sqrt{\\frac{139}{12} + \\frac{283}{18 \\sqrt[3]{- \\frac{3815}{216} + \\frac{\\sqrt{901218} i}{72}}} + 2 \\sqrt[3]{- \\frac{3815}{216} + \\frac{\\sqrt{901218} i}{72}}}} - \\frac{283}{18 \\sqrt[3]{- \\frac{3815}{216} + \\frac{\\sqrt{901218} i}{72}}}}}{2} + \\frac{\\sqrt{\\frac{139}{12} + \\frac{283}{18 \\sqrt[3]{- \\frac{3815}{216} + \\frac{\\sqrt{901218} i}{72}}} + 2 \\sqrt[3]{- \\frac{3815}{216} + \\frac{\\sqrt{901218} i}{72}}}}{2} : 1\\right\\}$"
      ],
      "text/plain": [
       "⎧                                                                              ↪\n",
       "⎪                                                                              ↪\n",
       "⎪                                                                              ↪\n",
       "⎪                                                                              ↪\n",
       "⎪             ________________________________________________________________ ↪\n",
       "⎪            ╱                                           ____________________  ↪\n",
       "⎪           ╱  139               283                    ╱   3815   √901218⋅ⅈ   ↪\n",
       "⎨          ╱   ─── + ─────────────────────────── + 2⋅3 ╱  - ──── + ─────────   ↪\n",
       "⎪         ╱    12           ____________________     ╲╱     216       72       ↪\n",
       "⎪        ╱                 ╱   3815   √901218⋅ⅈ                                ↪\n",
       "⎪       ╱            18⋅3 ╱  - ──── + ─────────                                ↪\n",
       "⎪15   ╲╱                ╲╱     216       72                                    ↪\n",
       "⎪── - ──────────────────────────────────────────────────────────────────────── ↪\n",
       "⎪4                                       2                                     ↪\n",
       "⎩                                                                              ↪\n",
       "\n",
       "↪                _____________________________________________________________ ↪\n",
       "↪               ╱             ____________________                             ↪\n",
       "↪              ╱  139        ╱   3815   √901218⋅ⅈ                              ↪\n",
       "↪             ╱   ─── - 2⋅3 ╱  - ──── + ─────────  - ───────────────────────── ↪\n",
       "↪            ╱     6      ╲╱     216       72                  _______________ ↪\n",
       "↪           ╱                                                 ╱                ↪\n",
       "↪          ╱                                                 ╱  139            ↪\n",
       "↪         ╱                                          4⋅     ╱   ─── + ──────── ↪\n",
       "↪        ╱                                                 ╱    12           _ ↪\n",
       "↪       ╱                                                 ╱                 ╱  ↪\n",
       "↪      ╱                                                 ╱            18⋅3 ╱   ↪\n",
       "↪    ╲╱                                                ╲╱                ╲╱    ↪\n",
       "↪  - ───────────────────────────────────────────────────────────────────────── ↪\n",
       "↪                                                                              ↪\n",
       "↪                                                                              ↪\n",
       "\n",
       "↪ ____________________________________________________________________________ ↪\n",
       "↪                                                                              ↪\n",
       "↪           107                                                   283          ↪\n",
       "↪ ───────────────────────────────────────────────── - ──────────────────────── ↪\n",
       "↪ _________________________________________________          _________________ ↪\n",
       "↪                             ____________________          ╱   3815   √901218 ↪\n",
       "↪     283                    ╱   3815   √901218⋅ⅈ     18⋅3 ╱  - ──── + ─────── ↪\n",
       "↪ ─────────────────── + 2⋅3 ╱  - ──── + ─────────        ╲╱     216       72   ↪\n",
       "↪ ___________________     ╲╱     216       72                                  ↪\n",
       "↪   3815   √901218⋅ⅈ                                                           ↪\n",
       "↪ - ──── + ─────────                                                           ↪\n",
       "↪   216       72                                                               ↪\n",
       "↪ ──────────────────────────────────────────────────────────────────────────── ↪\n",
       "↪    2                                                                         ↪\n",
       "↪                                                                              ↪\n",
       "\n",
       "↪ ____                                                                         ↪\n",
       "↪                                                                              ↪\n",
       "↪                                                                              ↪\n",
       "↪ ───                                                                          ↪\n",
       "↪ ___                   ______________________________________________________ ↪\n",
       "↪ ⋅ⅈ                   ╱                                           ___________ ↪\n",
       "↪ ──                  ╱  139               283                    ╱   3815   √ ↪\n",
       "↪                    ╱   ─── + ─────────────────────────── + 2⋅3 ╱  - ──── + ─ ↪\n",
       "↪                   ╱    12           ____________________     ╲╱     216      ↪\n",
       "↪                  ╱                 ╱   3815   √901218⋅ⅈ                      ↪\n",
       "↪                 ╱            18⋅3 ╱  - ──── + ─────────                      ↪\n",
       "↪          15   ╲╱                ╲╱     216       72                          ↪\n",
       "↪ ────: 1, ── - ────────────────────────────────────────────────────────────── ↪\n",
       "↪          4                                       2                           ↪\n",
       "↪                                                                              ↪\n",
       "\n",
       "↪                          ___________________________________________________ ↪\n",
       "↪                         ╱             ____________________                   ↪\n",
       "↪                        ╱  139        ╱   3815   √901218⋅ⅈ                    ↪\n",
       "↪                       ╱   ─── - 2⋅3 ╱  - ──── + ─────────  - ─────────────── ↪\n",
       "↪ __________           ╱     6      ╲╱     216       72                  _____ ↪\n",
       "↪ _________           ╱                                                 ╱      ↪\n",
       "↪ 901218⋅ⅈ           ╱                                                 ╱  139  ↪\n",
       "↪ ────────          ╱                                          4⋅     ╱   ───  ↪\n",
       "↪   72             ╱                                                 ╱    12   ↪\n",
       "↪                 ╱                                                 ╱          ↪\n",
       "↪                ╱                                                 ╱           ↪\n",
       "↪              ╲╱                                                ╲╱            ↪\n",
       "↪ ────────── + ─────────────────────────────────────────────────────────────── ↪\n",
       "↪                                                                              ↪\n",
       "↪                                                                              ↪\n",
       "\n",
       "↪ ____________________________________________________________________________ ↪\n",
       "↪                                                                              ↪\n",
       "↪                     107                                                   28 ↪\n",
       "↪ ─────────────────────────────────────────────────────────── - ────────────── ↪\n",
       "↪ ___________________________________________________________          _______ ↪\n",
       "↪                                       ____________________          ╱   3815 ↪\n",
       "↪               283                    ╱   3815   √901218⋅ⅈ     18⋅3 ╱  - ──── ↪\n",
       "↪ + ─────────────────────────── + 2⋅3 ╱  - ──── + ─────────        ╲╱     216  ↪\n",
       "↪          ____________________     ╲╱     216       72                        ↪\n",
       "↪         ╱   3815   √901218⋅ⅈ                                                 ↪\n",
       "↪   18⋅3 ╱  - ──── + ─────────                                                 ↪\n",
       "↪      ╲╱     216       72                                                     ↪\n",
       "↪ ──────────────────────────────────────────────────────────────────────────── ↪\n",
       "↪              2                                                               ↪\n",
       "↪                                                                              ↪\n",
       "\n",
       "↪ ______________                      ________________________________________ ↪\n",
       "↪                                    ╱             ____________________        ↪\n",
       "↪ 3                                 ╱  139        ╱   3815   √901218⋅ⅈ         ↪\n",
       "↪ ─────────────                    ╱   ─── - 2⋅3 ╱  - ──── + ─────────  + ──── ↪\n",
       "↪ _____________                   ╱     6      ╲╱     216       72             ↪\n",
       "↪    √901218⋅ⅈ                   ╱                                             ↪\n",
       "↪  + ─────────                  ╱                                              ↪\n",
       "↪       72                     ╱                                          4⋅   ↪\n",
       "↪                             ╱                                                ↪\n",
       "↪                            ╱                                                 ↪\n",
       "↪                           ╱                                                  ↪\n",
       "↪                    15   ╲╱                                                ╲╱ ↪\n",
       "↪ ──────────────: 1, ── - ──────────────────────────────────────────────────── ↪\n",
       "↪                    4                                                         ↪\n",
       "↪                                                                              ↪\n",
       "\n",
       "↪ ____________________________________________________________________________ ↪\n",
       "↪                                                                              ↪\n",
       "↪                                107                                           ↪\n",
       "↪ ────────────────────────────────────────────────────────────────────── - ─── ↪\n",
       "↪       ________________________________________________________________       ↪\n",
       "↪      ╱                                           ____________________        ↪\n",
       "↪     ╱  139               283                    ╱   3815   √901218⋅ⅈ     18⋅ ↪\n",
       "↪    ╱   ─── + ─────────────────────────── + 2⋅3 ╱  - ──── + ─────────         ↪\n",
       "↪   ╱    12           ____________________     ╲╱     216       72             ↪\n",
       "↪  ╱                 ╱   3815   √901218⋅ⅈ                                      ↪\n",
       "↪ ╱            18⋅3 ╱  - ──── + ─────────                                      ↪\n",
       "↪                 ╲╱     216       72                                          ↪\n",
       "↪ ──────────────────────────────────────────────────────────────────────────── ↪\n",
       "↪                         2                                                    ↪\n",
       "↪                                                                              ↪\n",
       "\n",
       "↪ _________________________                                                    ↪\n",
       "↪                                                                              ↪\n",
       "↪          283                                                                 ↪\n",
       "↪ ────────────────────────                                                     ↪\n",
       "↪     ____________________            ________________________________________ ↪\n",
       "↪    ╱   3815   √901218⋅ⅈ            ╱                                         ↪\n",
       "↪ 3 ╱  - ──── + ─────────           ╱  139               283                   ↪\n",
       "↪ ╲╱     216       72              ╱   ─── + ─────────────────────────── + 2⋅3 ↪\n",
       "↪                                 ╱    12           ____________________     ╲ ↪\n",
       "↪                                ╱                 ╱   3815   √901218⋅ⅈ        ↪\n",
       "↪                               ╱            18⋅3 ╱  - ──── + ─────────        ↪\n",
       "↪                             ╲╱                ╲╱     216       72            ↪\n",
       "↪ ───────────────────────── + ──────────────────────────────────────────────── ↪\n",
       "↪                                                                2             ↪\n",
       "↪                                                                              ↪\n",
       "\n",
       "↪                                               ______________________________ ↪\n",
       "↪                                              ╱             _________________ ↪\n",
       "↪                                             ╱  139        ╱   3815   √901218 ↪\n",
       "↪                                            ╱   ─── - 2⋅3 ╱  - ──── + ─────── ↪\n",
       "↪ ________________________                  ╱     6      ╲╱     216       72   ↪\n",
       "↪    ____________________                  ╱                                   ↪\n",
       "↪   ╱   3815   √901218⋅ⅈ                  ╱                                    ↪\n",
       "↪  ╱  - ──── + ─────────                 ╱                                     ↪\n",
       "↪ ╱     216       72                    ╱                                      ↪\n",
       "↪                                      ╱                                       ↪\n",
       "↪                                     ╱                                        ↪\n",
       "↪                              15   ╲╱                                         ↪\n",
       "↪ ────────────────────────: 1, ── + ────────────────────────────────────────── ↪\n",
       "↪                              4                                               ↪\n",
       "↪                                                                              ↪\n",
       "\n",
       "↪ ____________________________________________________________________________ ↪\n",
       "↪ ___                                                                          ↪\n",
       "↪ ⋅ⅈ                                       107                                 ↪\n",
       "↪ ──  + ────────────────────────────────────────────────────────────────────── ↪\n",
       "↪                 ____________________________________________________________ ↪\n",
       "↪                ╱                                           _________________ ↪\n",
       "↪               ╱  139               283                    ╱   3815   √901218 ↪\n",
       "↪       4⋅     ╱   ─── + ─────────────────────────── + 2⋅3 ╱  - ──── + ─────── ↪\n",
       "↪             ╱    12           ____________________     ╲╱     216       72   ↪\n",
       "↪            ╱                 ╱   3815   √901218⋅ⅈ                            ↪\n",
       "↪           ╱            18⋅3 ╱  - ──── + ─────────                            ↪\n",
       "↪         ╲╱                ╲╱     216       72                                ↪\n",
       "↪ ──────────────────────────────────────────────────────────────────────────── ↪\n",
       "↪                                   2                                          ↪\n",
       "↪                                                                              ↪\n",
       "\n",
       "↪ ___________________________________                                          ↪\n",
       "↪                                                                              ↪\n",
       "↪                    283                                                       ↪\n",
       "↪ ──── - ───────────────────────────                                           ↪\n",
       "↪ ____          ____________________            ______________________________ ↪\n",
       "↪ ___          ╱   3815   √901218⋅ⅈ            ╱                               ↪\n",
       "↪ ⋅ⅈ     18⋅3 ╱  - ──── + ─────────           ╱  139               283         ↪\n",
       "↪ ──        ╲╱     216       72              ╱   ─── + ─────────────────────── ↪\n",
       "↪                                           ╱    12           ________________ ↪\n",
       "↪                                          ╱                 ╱   3815   √90121 ↪\n",
       "↪                                         ╱            18⋅3 ╱  - ──── + ────── ↪\n",
       "↪                                       ╲╱                ╲╱     216       72  ↪\n",
       "↪ ─────────────────────────────────── + ────────────────────────────────────── ↪\n",
       "↪                                                                          2   ↪\n",
       "↪                                                                              ↪\n",
       "\n",
       "↪                                      ⎫\n",
       "↪                                      ⎪\n",
       "↪                                      ⎪\n",
       "↪                                      ⎪\n",
       "↪ __________________________________   ⎪\n",
       "↪              ____________________    ⎪\n",
       "↪             ╱   3815   √901218⋅ⅈ     ⎪\n",
       "↪ ──── + 2⋅3 ╱  - ──── + ─────────     ⎬\n",
       "↪ ____     ╲╱     216       72         ⎪\n",
       "↪ 8⋅ⅈ                                  ⎪\n",
       "↪ ───                                  ⎪\n",
       "↪                                      ⎪\n",
       "↪ ──────────────────────────────────: 1⎪\n",
       "↪                                      ⎪\n",
       "↪                                      ⎭"
      ]
     },
     "execution_count": 28,
     "metadata": {},
     "output_type": "execute_result"
    }
   ],
   "source": [
    "B.eigenvals()"
   ]
  },
  {
   "cell_type": "markdown",
   "id": "8b13c308",
   "metadata": {},
   "source": [
    "Det er ikke særlig tydeligt at disse egenværdier skulle være positive, og de ser oven i købet ud til at være komplekse. Vi kan i stedet prøve at kigge på de nummeriske værdier."
   ]
  },
  {
   "cell_type": "code",
   "execution_count": 29,
   "id": "82b149c8",
   "metadata": {},
   "outputs": [
    {
     "name": "stdout",
     "output_type": "stream",
     "text": [
      "3.10533934717727 - 1.39585627777974e-29*I\n",
      "0.0216077757381638 + 2.41351647874518e-30*I\n",
      "8.26801827124053 + 3.58918706790694e-31*I\n",
      "3.60503460584404 + 1.11861275922615e-29*I\n"
     ]
    }
   ],
   "source": [
    "for eigenval in B.eigenvals():\n",
    "    print(eigenval.evalf(15))"
   ]
  },
  {
   "cell_type": "markdown",
   "id": "797e05ce",
   "metadata": {},
   "source": [
    "Her kunne man argumentere for at imaginærdelene er så tilpas små at de kan antages at være 0, og være tilfreds. Det er dog hverken et særlig godt eller tydeligt bevis. \n",
    "\n",
    "Man kan være heldig at have en matrix med pænere egenværdier. `SymPy`s funktioner kan altså bruges til at kontrolere, men vi anbefaler at beviser udføres i hånden i stedet."
   ]
  }
 ],
 "metadata": {
  "jupytext": {
   "text_representation": {
    "extension": ".md",
    "format_name": "myst",
    "format_version": 0.13,
    "jupytext_version": "1.15.0"
   }
  },
  "kernelspec": {
   "display_name": "Python 3",
   "language": "python",
   "name": "python3"
  },
  "language_info": {
   "codemirror_mode": {
    "name": "ipython",
    "version": 3
   },
   "file_extension": ".py",
   "mimetype": "text/x-python",
   "name": "python",
   "nbconvert_exporter": "python",
   "pygments_lexer": "ipython3",
   "version": "3.11.10"
  },
  "source_map": [
   12,
   17,
   21,
   25,
   29,
   33,
   38,
   41,
   45,
   49,
   54,
   57,
   61,
   63,
   67,
   69,
   73,
   75,
   79,
   85,
   90,
   94,
   97,
   107,
   112,
   116,
   138,
   146,
   152,
   159,
   161,
   167,
   170,
   174,
   176,
   180,
   185,
   189,
   197,
   201,
   204,
   208,
   210,
   214,
   218,
   223,
   227,
   229,
   233,
   235,
   239,
   243,
   247,
   251,
   265,
   267,
   271,
   273,
   277,
   280
  ]
 },
 "nbformat": 4,
 "nbformat_minor": 5
}
