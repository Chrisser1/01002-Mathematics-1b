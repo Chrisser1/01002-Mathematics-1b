{
 "cells": [
  {
   "cell_type": "markdown",
   "id": "55853d75",
   "metadata": {},
   "source": [
    "# Uge 4: Spektralsætningen"
   ]
  },
  {
   "cell_type": "code",
   "execution_count": 92,
   "id": "c53444a9",
   "metadata": {
    "tags": [
     "remove-cell"
    ]
   },
   "outputs": [],
   "source": [
    "from sympy import*\n",
    "from dtumathtools import*\n",
    "init_printing()"
   ]
  },
  {
   "cell_type": "markdown",
   "id": "8bcc549c",
   "metadata": {},
   "source": [
    "## Opgaver -- Store Dag"
   ]
  },
  {
   "cell_type": "markdown",
   "id": "7015d8ca",
   "metadata": {},
   "source": [
    "### 1: Typer af matricer\n",
    "\n",
    "Betragt matricerne:\n",
    "\n",
    "\\begin{equation*}\n",
    "  A=\\begin{bmatrix} 1 & 0 & 0 \\\\  0 & 2 & 0 \\\\ 0 & 0 & 3 \\end{bmatrix}, \\quad\n",
    "  B=\\begin{bmatrix} 1 & 2 & 3 \\\\  3 & 1 & 2 \\\\ 2 & 3 & 1 \\end{bmatrix}, \\quad\n",
    "  C=\\begin{bmatrix} 1 & 2+i & 3i \\\\  2-i & 1 & 2 \\\\ -3i & 2 & 1 \\end{bmatrix}, \\quad\n",
    "  D=\\begin{bmatrix} i & 2 & 3 \\\\  2 & i & 2 \\\\ 3 & 2 & i \\end{bmatrix}\n",
    "\\end{equation*}\n",
    "\n",
    "Afgør for *hver* matrix om den er symmetrisk, hermitisk, og/eller normal. Du må gerne bruge SymPy til at afgøre om matricerne er normale. For nemheds skyld er matricerne skrevet ind her:"
   ]
  },
  {
   "cell_type": "code",
   "execution_count": 93,
   "id": "617eb131",
   "metadata": {
    "tags": [
     "remove-output"
    ]
   },
   "outputs": [],
   "source": [
    "A = Matrix.diag(1, 2, 3)\n",
    "B = Matrix([[1, 2, 3], [3, 1, 2], [2, 3, 1]])\n",
    "C = Matrix([[1, 2 + I, 3*I], [2 - I, 1, 2], [-3*I, 2, 1]])\n",
    "D = Matrix([[I, 2, 3], [2, I, 2], [3, 2, I]])"
   ]
  },
  {
   "cell_type": "markdown",
   "id": "2736ce3a",
   "metadata": {},
   "source": [
    "#### Answer"
   ]
  },
  {
   "cell_type": "code",
   "execution_count": 94,
   "id": "afd48ede",
   "metadata": {},
   "outputs": [
    {
     "name": "stdout",
     "output_type": "stream",
     "text": [
      "Matrix([[1, 0, 0], [0, 2, 0], [0, 0, 3]])\n",
      "Symmetric:  True\n",
      "Hermitian:  True\n",
      "Normal:  True\n",
      "\n",
      "\n",
      "Matrix([[1, 2, 3], [3, 1, 2], [2, 3, 1]])\n",
      "Symmetric:  False\n",
      "Hermitian:  False\n",
      "Normal:  True\n",
      "\n",
      "\n",
      "Matrix([[1, 2 + I, 3*I], [2 - I, 1, 2], [-3*I, 2, 1]])\n",
      "Symmetric:  False\n",
      "Hermitian:  True\n",
      "Normal:  True\n",
      "\n",
      "\n",
      "Matrix([[I, 2, 3], [2, I, 2], [3, 2, I]])\n",
      "Symmetric:  True\n",
      "Hermitian:  False\n",
      "Normal:  True\n",
      "\n",
      "\n"
     ]
    }
   ],
   "source": [
    "# Check if the A,B,C and D are Symmetric, Hermitian and/or normal\n",
    "for i in [A, B, C, D]:\n",
    "    print(i)\n",
    "    print(\"Symmetric: \", i == i.T)\n",
    "    print(\"Hermitian: \", i == i.H)\n",
    "    print(\"Normal: \", i*i.H == i.H * i)\n",
    "    print(\"\\n\")"
   ]
  },
  {
   "cell_type": "markdown",
   "id": "9222012e",
   "metadata": {},
   "source": [
    "### 2: Hermitisk 2-gange-2 matrix. Håndregning"
   ]
  },
  {
   "cell_type": "markdown",
   "id": "ced45e68",
   "metadata": {},
   "source": [
    "Vi betragter den hermitiske matrix $A$ givet ved: \n",
    "\n",
    "\\begin{equation*}\n",
    "  A=\\begin{bmatrix} 0 & i \\\\  -i & 0 \\end{bmatrix}\n",
    "\\end{equation*}\n",
    "\n",
    "Denne opgave går ud på at udregne en **spektral dekomposition** af $A$, som vi ved fra <a href=\"../_assets/textbook_mat1b_en.pdf#cor:spectral-decom-normal\">Spectral Theorem (the complex case)</a> eksisterer. Vi finder denne dekomposition  af $A$ i tre skridt:"
   ]
  },
  {
   "cell_type": "markdown",
   "id": "f280b371",
   "metadata": {},
   "source": [
    "#### Spørgsmål a"
   ]
  },
  {
   "cell_type": "markdown",
   "id": "a28ca961",
   "metadata": {},
   "source": [
    "Find alle egenværdier og tilhørende egenvektorer af $A$. Kontroller svaret med SymPy `A.eigenvects()`."
   ]
  },
  {
   "cell_type": "markdown",
   "id": "9f03de74",
   "metadata": {},
   "source": [
    "#### Svar\n",
    "Vi løser\n",
    "$$\n",
    "det(A - \\lambda i) = 0\n",
    "$$\n",
    "\n",
    "Vi opskriver ligningen for $A - \\lambda i$\n",
    "$$\n",
    "A - \\lambda i = \n",
    "\\begin{bmatrix} \n",
    "0 & i \\\\  \n",
    "-i & 0 \n",
    "\\end{bmatrix} - \\lambda \\cdot\n",
    "\\begin{bmatrix} \n",
    "1 & 0 \\\\  \n",
    "0 & 1 \n",
    "\\end{bmatrix} = \n",
    "\\begin{bmatrix} \n",
    "\\lambda & i \\\\  \n",
    "-i & \\lambda\n",
    "\\end{bmatrix}\n",
    "$$\n",
    "\n",
    "vi tager nu determinanten\n",
    "$$\n",
    "det(\\begin{bmatrix} \n",
    "\\lambda & i \\\\  \n",
    "-i & \\lambda\n",
    "\\end{bmatrix}) = \\lambda^2 - (-i)^2 = \\lambda^2 - 1\n",
    "$$"
   ]
  },
  {
   "cell_type": "code",
   "execution_count": 95,
   "id": "e40056b6",
   "metadata": {},
   "outputs": [
    {
     "data": {
      "image/png": "[encoded data removed]",
      "text/latex": [
       "$\\displaystyle \\left(\\lambda - 1\\right) \\left(\\lambda + 1\\right)$"
      ],
      "text/plain": [
       "(λ - 1)⋅(λ + 1)"
      ]
     },
     "execution_count": 95,
     "metadata": {},
     "output_type": "execute_result"
    }
   ],
   "source": [
    "# Factor lambda^2 - 1\n",
    "l = symbols('lambda')\n",
    "f = l**2 - 1\n",
    "factor(f)"
   ]
  },
  {
   "cell_type": "markdown",
   "id": "92be6749",
   "metadata": {},
   "source": [
    "Vi kan nu finde egenvektorne:\n",
    "\n",
    "**For $\\lambda = -1$**\n",
    "$$\n",
    "\\begin{bmatrix} \n",
    "0 & i \\\\  \n",
    "-i & 0 \n",
    "\\end{bmatrix} - (-1) \\cdot\n",
    "\\begin{bmatrix} \n",
    "1 & 0 \\\\  \n",
    "0 & 1 \n",
    "\\end{bmatrix} = \n",
    "\\begin{bmatrix} \n",
    "0 & i \\\\  \n",
    "-i & 0 \n",
    "\\end{bmatrix} -\n",
    "\\begin{bmatrix} \n",
    "-1 & 0 \\\\  \n",
    "0 & -1 \n",
    "\\end{bmatrix} = \n",
    "\\begin{bmatrix} \n",
    "1 & i \\\\  \n",
    "-i & 1 \n",
    "\\end{bmatrix}\n",
    "$$\n",
    "\n",
    "**For $\\lambda = 1$**\n",
    "$$\n",
    "\\begin{bmatrix} \n",
    "0 & i \\\\  \n",
    "-i & 0 \n",
    "\\end{bmatrix} - 1 \\cdot\n",
    "\\begin{bmatrix} \n",
    "1 & 0 \\\\  \n",
    "0 & 1 \n",
    "\\end{bmatrix} = \n",
    "\\begin{bmatrix} \n",
    "0 & i \\\\  \n",
    "-i & 0 \n",
    "\\end{bmatrix} -\n",
    "\\begin{bmatrix} \n",
    "1 & 0 \\\\  \n",
    "0 & 1 \n",
    "\\end{bmatrix} = \n",
    "\\begin{bmatrix} \n",
    "-1 & i \\\\  \n",
    "-i & -1 \n",
    "\\end{bmatrix}\n",
    "$$"
   ]
  },
  {
   "cell_type": "markdown",
   "id": "dc4357f8",
   "metadata": {},
   "source": [
    "Dette giver os to ligningsytemer:\n",
    "\n",
    "**For $\\lambda = -1$**\n",
    "$$\n",
    "x_1 + i \\cdot x_2 = 0 \\quad \\land \\quad -i \\cdot x_1 + x_2 = 0\n",
    "$$\n",
    "\n",
    "Vi løser nu dette\n",
    "$$\n",
    "x_1 = -i \\cdot x_2 \\quad \\land \\quad -i \\cdot (-i \\cdot x_2) + x_2 = 0\n",
    "$$\n",
    "\n",
    "Vi kan altså skrive den som\n",
    "$$\n",
    "\\begin{bmatrix}\n",
    "-ix_2 \\\\\n",
    "x_2\n",
    "\\end{bmatrix}\n",
    "$$\n",
    "\n",
    "dette giver os det følgende hvis vi vælge $x_2 = 1$\n",
    "$$\n",
    "\\begin{bmatrix}\n",
    "-i \\\\\n",
    "1\n",
    "\\end{bmatrix}\n",
    "$$\n",
    "\n",
    "**For $\\lambda = 1$**\n",
    "$$\n",
    "-x_1 + i \\cdot x_2 = 0 \\quad \\land \\quad -i \\cdot x_1 - x_2 = 0\n",
    "$$\n",
    "\n",
    "Vi løser nu dette\n",
    "$$\n",
    "x_1 = i \\cdot x_2 \\quad \\land \\quad -i \\cdot (i \\cdot x_2) - x_2 = 0 \\to x_2 - x_2 = 0 \\to -2x_2 = 0\n",
    "$$\n",
    "\n",
    "Vi kan altså skrive den som\n",
    "$$\n",
    "\\begin{bmatrix}\n",
    "ix_2 \\\\\n",
    "x_2\n",
    "\\end{bmatrix}\n",
    "$$\n",
    "\n",
    "dette giver os det følgende hvis vi vælge $x_2 = 1$\n",
    "$$\n",
    "\\begin{bmatrix}\n",
    "i \\\\\n",
    "1\n",
    "\\end{bmatrix}\n",
    "$$"
   ]
  },
  {
   "cell_type": "code",
   "execution_count": 96,
   "id": "a674388a",
   "metadata": {},
   "outputs": [
    {
     "data": {
      "image/png": "[encoded data removed]",
      "text/latex": [
       "$\\displaystyle \\left( \\left[\\begin{matrix}0 & i\\\\- i & 0\\end{matrix}\\right], \\  \\left\\{ -1 : 1, \\  1 : 1\\right\\}, \\  \\left[ \\left( -1, \\  1, \\  \\left[ \\left[\\begin{matrix}- i\\\\1\\end{matrix}\\right]\\right]\\right), \\  \\left( 1, \\  1, \\  \\left[ \\left[\\begin{matrix}i\\\\1\\end{matrix}\\right]\\right]\\right)\\right]\\right)$"
      ],
      "text/plain": [
       "⎛⎡0   ⅈ⎤                 ⎡⎛       ⎡⎡-ⅈ⎤⎤⎞  ⎛      ⎡⎡ⅈ⎤⎤⎞⎤⎞\n",
       "⎜⎢     ⎥, {-1: 1, 1: 1}, ⎢⎜-1, 1, ⎢⎢  ⎥⎥⎟, ⎜1, 1, ⎢⎢ ⎥⎥⎟⎥⎟\n",
       "⎝⎣-ⅈ  0⎦                 ⎣⎝       ⎣⎣1 ⎦⎦⎠  ⎝      ⎣⎣1⎦⎦⎠⎦⎠"
      ]
     },
     "execution_count": 96,
     "metadata": {},
     "output_type": "execute_result"
    }
   ],
   "source": [
    "A = Matrix([[0,I], [-I,0]])\n",
    "A, A.eigenvals(), A.eigenvects()"
   ]
  },
  {
   "cell_type": "markdown",
   "id": "9d955d21",
   "metadata": {},
   "source": [
    "#### Spørgsmål b"
   ]
  },
  {
   "cell_type": "markdown",
   "id": "a2094336",
   "metadata": {},
   "source": [
    "Bestem en ortonormal basis bestående af egenvektorer af $A$."
   ]
  },
  {
   "cell_type": "markdown",
   "id": "856c5220",
   "metadata": {},
   "source": [
    "#### Svar\n",
    "Da $A$ er hermitisk, ved vi at egenvektorer tilhørende forskellige egenværdier er ortogonale. Derfor skal de to egenvektorer blot normaliseres.\n",
    "\n",
    "Vi sætter den første ortonormale vector som:\n",
    "$$\n",
    "u_2 = \\frac{\n",
    "\\begin{bmatrix}\n",
    "i \\\\\n",
    "1\n",
    "\\end{bmatrix}\n",
    "}{\\|\n",
    "\\begin{bmatrix}\n",
    "i \\\\\n",
    "1\n",
    "\\end{bmatrix}\\|}\n",
    "$$\n"
   ]
  },
  {
   "cell_type": "markdown",
   "id": "dff3740a",
   "metadata": {},
   "source": [
    "Vi udregner nu $||\\begin{bmatrix} i \\\\ 1 \\end{bmatrix}||$:\n",
    "$$\n",
    "||\\begin{bmatrix} i \\\\ 1 \\end{bmatrix}||= \\sqrt{\\langle \\begin{bmatrix} i \\\\ 1 \\end{bmatrix}, \\overline{\\begin{bmatrix} i \\\\ 1 \\end{bmatrix}} \\rangle} = \\sqrt{\\langle \\begin{bmatrix} i \\\\ 1 \\end{bmatrix}, \\begin{bmatrix} -i \\\\ 1 \\end{bmatrix} \\rangle} = \\sqrt{i \\cdot -i + 1 \\cdot 1} = \\sqrt{2}\n",
    "$$"
   ]
  },
  {
   "cell_type": "markdown",
   "id": "3c1908aa",
   "metadata": {},
   "source": [
    "Vi får nu:\n",
    "$$\n",
    "u_2 = \\frac{\n",
    "\\begin{bmatrix}\n",
    "i \\\\\n",
    "1\n",
    "\\end{bmatrix}\n",
    "}{\\|\n",
    "\\begin{bmatrix}\n",
    "i \\\\\n",
    "1\n",
    "\\end{bmatrix}\\|} = \n",
    "\\frac{\n",
    "\\begin{bmatrix}\n",
    "i \\\\\n",
    "1\n",
    "\\end{bmatrix}\n",
    "}{\\sqrt{2}} =\n",
    "\\begin{bmatrix}\n",
    "\\frac{i}{\\sqrt{2}} \\\\\n",
    "\\frac{1}{\\sqrt{2}}\n",
    "\\end{bmatrix}\n",
    "$$\n",
    "\n",
    "da $e_2$ minder meget om $e_1$ kan vi skrive\n",
    "$$\n",
    "u_1 \\frac{\n",
    "\\begin{bmatrix}\n",
    "-i \\\\\n",
    "1\n",
    "\\end{bmatrix}\n",
    "}{\\|\n",
    "\\begin{bmatrix}\n",
    "-i \\\\\n",
    "1\n",
    "\\end{bmatrix}\\|} = \n",
    "\\frac{\n",
    "\\begin{bmatrix}\n",
    "-i \\\\\n",
    "1\n",
    "\\end{bmatrix}\n",
    "}{\\sqrt{2}} =\n",
    "\\begin{bmatrix}\n",
    "\\frac{-i}{\\sqrt{2}} \\\\\n",
    "\\frac{1}{\\sqrt{2}}\n",
    "\\end{bmatrix}\n",
    "$$\n"
   ]
  },
  {
   "cell_type": "code",
   "execution_count": 97,
   "id": "cdd31e8f",
   "metadata": {},
   "outputs": [
    {
     "data": {
      "image/png": "[encoded data removed]",
      "text/latex": [
       "$\\displaystyle \\left[ \\left[\\begin{matrix}\\frac{\\sqrt{2} i}{2}\\\\\\frac{\\sqrt{2}}{2}\\end{matrix}\\right], \\  \\left[\\begin{matrix}- \\frac{\\sqrt{2} i}{2}\\\\\\frac{\\sqrt{2}}{2}\\end{matrix}\\right]\\right]$"
      ],
      "text/plain": [
       "⎡⎡√2⋅ⅈ⎤  ⎡-√2⋅ⅈ ⎤⎤\n",
       "⎢⎢────⎥  ⎢──────⎥⎥\n",
       "⎢⎢ 2  ⎥  ⎢  2   ⎥⎥\n",
       "⎢⎢    ⎥, ⎢      ⎥⎥\n",
       "⎢⎢ √2 ⎥  ⎢  √2  ⎥⎥\n",
       "⎢⎢ ── ⎥  ⎢  ──  ⎥⎥\n",
       "⎣⎣ 2  ⎦  ⎣  2   ⎦⎦"
      ]
     },
     "execution_count": 97,
     "metadata": {},
     "output_type": "execute_result"
    }
   ],
   "source": [
    "e_1 = Matrix([I, 1])\n",
    "e_2 = Matrix([-I, 1])\n",
    "e_1,e_2\n",
    "GramSchmidt([e_1, e_2], orthonormal=True)"
   ]
  },
  {
   "cell_type": "markdown",
   "id": "292d38f7",
   "metadata": {},
   "source": [
    "#### Spørgsmål c"
   ]
  },
  {
   "cell_type": "markdown",
   "id": "c5cbc08b",
   "metadata": {},
   "source": [
    "Dette resultat gælder for generelle $n \\times n$ matricer. Vis at $A = U \\Lambda U^*$ hvis og kun hvis $\\Lambda = U^* A U$, når $U$ er unitær."
   ]
  },
  {
   "cell_type": "markdown",
   "id": "d8579bb5",
   "metadata": {},
   "source": [
    "#### Svar\n",
    "**Løsning:**\n",
    "\n",
    "Vi vil vise, at $A = U \\Lambda U^*$ er ækvivalent med $\\Lambda = U^* A U$, når $U$ er en unitær matrix (dvs. $U^* U = U U^* = I$).\n",
    "\n",
    "1. **Retning ($\\Rightarrow$)**  \n",
    "   Antag $A = U \\Lambda U^*$. Vi ganger ligningen fra venstre med $U^*$ og fra højre med $U$:\n",
    "   $$\n",
    "   U^* A U \\;=\\; U^* \\bigl(U \\Lambda U^*\\bigr) U \n",
    "             \\;=\\; \\bigl(U^* U\\bigr) \\,\\Lambda\\, \\bigl(U^* U\\bigr) \n",
    "             \\;=\\; I \\,\\Lambda\\, I \n",
    "             \\;=\\; \\Lambda.\n",
    "   $$\n",
    "   Dermed er $\\Lambda = U^* A U$.\n",
    "\n",
    "2. **Retning ($\\Leftarrow$)**  \n",
    "   Antag $\\Lambda = U^* A U$. Vi ganger ligningen fra venstre med $U$ og fra højre med $U^*$:\n",
    "   $$\n",
    "   U \\Lambda U^* \\;=\\; U \\bigl(U^* A U\\bigr) U^* \n",
    "                    \\;=\\; \\bigl(U U^*\\bigr)\\, A \\,\\bigl(U U^*\\bigr)\n",
    "                    \\;=\\; I\\, A \\,I\n",
    "                    \\;=\\; A.\n",
    "   $$\n",
    "   Dermed er $A = U \\Lambda U^*$.\n",
    "\n",
    "Da begge retninger er vist, er de to udsagn ækvivalente, hvilket beviser, at  \n",
    "$$\n",
    "A = U \\Lambda U^*\n",
    "\\quad \\Longleftrightarrow \\quad\n",
    "\\Lambda = U^* A U\n",
    "$$\n",
    "når $U$ er en unitær matrix.\n"
   ]
  },
  {
   "cell_type": "markdown",
   "id": "3624decc",
   "metadata": {},
   "source": [
    "#### Spørgsmål d"
   ]
  },
  {
   "cell_type": "markdown",
   "id": "e7d4b203",
   "metadata": {},
   "source": [
    "Opskriv en unitær matrix $U$ og en diagonalmatrix $\\Lambda$ så $A = U \\Lambda U^*$. Denne formel kaldes en spektral dekomposition af $A$. Tjek dit resultat med SymPy-kommandoen:"
   ]
  },
  {
   "cell_type": "markdown",
   "id": "a51071b3",
   "metadata": {},
   "source": [
    "#### Svar\n",
    "Vi finder først $U$, som kan findes da $U$'s søjler skal være en ortonormal basis bestående af egenvektorer. Vi kan altså skrive $U$ som:\n",
    "$$\n",
    "U = [u_1, u_2] =\n",
    "\\begin{bmatrix}\n",
    "\\frac{-i}{\\sqrt{2}} & \\frac{i}{\\sqrt{2}} \\\\\n",
    "\\frac{1}{\\sqrt{2}} & \\frac{1}{\\sqrt{2}}\n",
    "\\end{bmatrix}\n",
    "$$\n",
    "\n",
    "Vi udregner nu $U^* = \\overline{U^T}$\n",
    "$$\n",
    "U^T = \n",
    "\\begin{bmatrix}\n",
    "\\frac{-i}{\\sqrt{2}} & \\frac{1}{\\sqrt{2}} \\\\\n",
    "\\frac{i}{\\sqrt{2}} & \\frac{1}{\\sqrt{2}}\n",
    "\\end{bmatrix}\n",
    "$$\n",
    "\n",
    "Vi har nu\n",
    "$$\n",
    "U^* = \n",
    "\\begin{bmatrix}\n",
    "\\frac{i}{\\sqrt{2}} & \\frac{1}{\\sqrt{2}} \\\\\n",
    "\\frac{-i}{\\sqrt{2}} & \\frac{1}{\\sqrt{2}}\n",
    "\\end{bmatrix}\n",
    "$$\n"
   ]
  },
  {
   "cell_type": "markdown",
   "id": "181a4577",
   "metadata": {},
   "source": [
    "Vi kan nu udregne $\\Lambda = U^*AU$:\n",
    "$$\n",
    "\\Lambda = \n",
    "\\begin{bmatrix}\n",
    "\\frac{i}{\\sqrt{2}} & \\frac{1}{\\sqrt{2}} \\\\\n",
    "\\frac{-i}{\\sqrt{2}} & \\frac{1}{\\sqrt{2}}\n",
    "\\end{bmatrix}\n",
    "\\cdot\n",
    "\\begin{bmatrix} \n",
    "0 & i \\\\  \n",
    "-i & 0 \n",
    "\\end{bmatrix}\n",
    "\\cdot\n",
    "\\begin{bmatrix}\n",
    "\\frac{-i}{\\sqrt{2}} & \\frac{i}{\\sqrt{2}} \\\\\n",
    "\\frac{1}{\\sqrt{2}} & \\frac{1}{\\sqrt{2}}\n",
    "\\end{bmatrix}\n",
    "$$"
   ]
  },
  {
   "cell_type": "markdown",
   "id": "51994840",
   "metadata": {},
   "source": [
    "Vi udregner først:\n",
    "$$\n",
    "\\begin{bmatrix} \n",
    "0 & i \\\\  \n",
    "-i & 0 \n",
    "\\end{bmatrix}\n",
    "\\cdot\n",
    "\\begin{bmatrix}\n",
    "\\frac{-i}{\\sqrt{2}} & \\frac{i}{\\sqrt{2}} \\\\\n",
    "\\frac{1}{\\sqrt{2}} & \\frac{1}{\\sqrt{2}}\n",
    "\\end{bmatrix} = \n",
    "\\begin{bmatrix}\n",
    "\\frac{i}{\\sqrt{2}} & \\frac{i}{\\sqrt{2}} \\\\\n",
    "\\frac{-1}{\\sqrt{2}} & \\frac{1}{\\sqrt{2}}\n",
    "\\end{bmatrix}\n",
    "$$"
   ]
  },
  {
   "cell_type": "markdown",
   "id": "f0b3deff",
   "metadata": {},
   "source": [
    "Nu kan vi udregne $\\Lambda$\n",
    "$$\n",
    "\\Lambda = \n",
    "\\begin{bmatrix}\n",
    "\\frac{i}{\\sqrt{2}} & \\frac{1}{\\sqrt{2}} \\\\\n",
    "\\frac{-i}{\\sqrt{2}} & \\frac{1}{\\sqrt{2}}\n",
    "\\end{bmatrix}\n",
    "\\cdot\n",
    "\\begin{bmatrix}\n",
    "\\frac{i}{\\sqrt{2}} & \\frac{i}{\\sqrt{2}} \\\\\n",
    "\\frac{-1}{\\sqrt{2}} & \\frac{1}{\\sqrt{2}}\n",
    "\\end{bmatrix}= \n",
    "\\begin{bmatrix}\n",
    "\\frac{1}{\\sqrt{2}} \\cdot \\frac{-1}{\\sqrt{2}} + \\frac{i}{\\sqrt{2}} \\cdot \\frac{i}{\\sqrt{2}} & \\frac{1}{\\sqrt{2}} \\cdot \\frac{1}{\\sqrt{2}} + \\frac{i}{\\sqrt{2}} \\cdot \\frac{i}{\\sqrt{2}} \\\\\n",
    "\\frac{1}{\\sqrt{2}} \\cdot \\frac{-1}{\\sqrt{2}} + \\frac{-i}{\\sqrt{2}} \\cdot \\frac{i}{\\sqrt{2}} & \\frac{1}{\\sqrt{2}} \\cdot \\frac{1}{\\sqrt{2}} + \\frac{-i}{\\sqrt{2}} \\cdot \\frac{i}{\\sqrt{2}}\n",
    "\\end{bmatrix}\n",
    "$$\n",
    "\n",
    "$$\n",
    "= \n",
    "\\begin{bmatrix}\n",
    "\\frac{-1}{2} + \\frac{-1}{2} & \\frac{1}{2} + \\frac{-1}{2} \\\\\n",
    "\\frac{-1}{2} + \\frac{1}{2} & \\frac{1}{2} + \\frac{1}{2}\n",
    "\\end{bmatrix} = \n",
    "\\begin{bmatrix}\n",
    "-1 & 0 \\\\\n",
    "0 & 1\n",
    "\\end{bmatrix}\n",
    "$$"
   ]
  },
  {
   "cell_type": "code",
   "execution_count": 98,
   "id": "edb09f3a",
   "metadata": {
    "tags": [
     "remove-output"
    ]
   },
   "outputs": [
    {
     "data": {
      "image/png": "[encoded data removed]",
      "text/latex": [
       "$\\displaystyle \\left( \\left[\\begin{matrix}- \\frac{\\sqrt{2} i}{2} & \\frac{\\sqrt{2} i}{2}\\\\\\frac{\\sqrt{2}}{2} & \\frac{\\sqrt{2}}{2}\\end{matrix}\\right], \\  \\left[\\begin{matrix}-1 & 0\\\\0 & 1\\end{matrix}\\right]\\right)$"
      ],
      "text/plain": [
       "⎛⎡-√2⋅ⅈ   √2⋅ⅈ⎤         ⎞\n",
       "⎜⎢──────  ────⎥         ⎟\n",
       "⎜⎢  2      2  ⎥  ⎡-1  0⎤⎟\n",
       "⎜⎢            ⎥, ⎢     ⎥⎟\n",
       "⎜⎢  √2     √2 ⎥  ⎣0   1⎦⎟\n",
       "⎜⎢  ──     ── ⎥         ⎟\n",
       "⎝⎣  2      2  ⎦         ⎠"
      ]
     },
     "execution_count": 98,
     "metadata": {},
     "output_type": "execute_result"
    }
   ],
   "source": [
    "A = Matrix([[0, I], [-I, 0]])\n",
    "A.diagonalize(normalize = True)"
   ]
  },
  {
   "cell_type": "markdown",
   "id": "829527ac",
   "metadata": {},
   "source": [
    "### 3: Ortogonalitet af egenvektorer for symmetriske matricer\n",
    "\n",
    "Lad $C$ være en $2\\times 2$ reel, symmetrisk matrix med to forskellige egenværdier. Vis, at egenvektorer $\\pmb{v}_1$ og $\\pmb{v}_2$ tilhørende de to forskellige egenværdier er ortogonale, dvs. at\n",
    "\\begin{equation*}\n",
    "\\langle \\pmb{v}_1, \\pmb{v}_2 \\rangle = 0.\n",
    "\\end{equation*}"
   ]
  },
  {
   "cell_type": "markdown",
   "id": "8ac0bc28",
   "metadata": {},
   "source": [
    "#### Svar\n",
    "Lad $C$ være en $2 \\times 2$ reel, symmetrisk matrix med to forskellige egenværdier $\\lambda_1$ og $\\lambda_2$. Lad $\\mathbf{v}_1$ være en egenvektor tilhørende $\\lambda_1$, og $\\mathbf{v}_2$ en egenvektor tilhørende $\\lambda_2$. Vi vil vise, at\n",
    "$$\n",
    "\\langle \\mathbf{v}_1, \\mathbf{v}_2 \\rangle = 0.\n",
    "$$\n",
    "\n",
    "1. **Symmetri**  \n",
    "   At $C$ er symmetrisk, betyder at $C^T = C$. \n",
    "\n",
    "2. **Egenvektorer og egenværdier**  \n",
    "   Vi har pr. definition:\n",
    "   $$\n",
    "   C \\mathbf{v}_1 = \\lambda_1 \\mathbf{v}_1,\n",
    "   \\quad\n",
    "   C \\mathbf{v}_2 = \\lambda_2 \\mathbf{v}_2.\n",
    "   $$\n",
    "   Her er $\\lambda_1 \\neq \\lambda_2$.\n",
    "\n",
    "3. **Beregning af indreprodukt**  \n",
    "   Betragt indreproduktet $\\langle \\mathbf{v}_1, C \\mathbf{v}_2 \\rangle$. Da $\\mathbf{v}_2$ er en egenvektor med egenværdi $\\lambda_2$, fås\n",
    "   $$\n",
    "   \\langle \\mathbf{v}_1, C \\mathbf{v}_2 \\rangle \n",
    "   \\;=\\; \\langle \\mathbf{v}_1, \\lambda_2 \\mathbf{v}_2 \\rangle \n",
    "   \\;=\\; \\lambda_2 \\langle \\mathbf{v}_1, \\mathbf{v}_2 \\rangle.\n",
    "   $$\n",
    "\n",
    "   På den anden side, bruger vi at $C$ er symmetrisk ($C^T = C$), hvilket giver\n",
    "   $$\n",
    "   \\langle \\mathbf{v}_1, C \\mathbf{v}_2 \\rangle \n",
    "   \\;=\\; \\langle C \\mathbf{v}_1, \\mathbf{v}_2 \\rangle \n",
    "   \\;=\\; \\langle \\lambda_1 \\mathbf{v}_1, \\mathbf{v}_2 \\rangle \n",
    "   \\;=\\; \\lambda_1 \\langle \\mathbf{v}_1, \\mathbf{v}_2 \\rangle.\n",
    "   $$\n",
    "\n",
    "4. **Konklusion**  \n",
    "   Vi har nu to udtryk for det samme indreprodukt:\n",
    "   $$\n",
    "   \\lambda_2 \\langle \\mathbf{v}_1, \\mathbf{v}_2 \\rangle \n",
    "   \\;=\\; \n",
    "   \\lambda_1 \\langle \\mathbf{v}_1, \\mathbf{v}_2 \\rangle.\n",
    "   $$\n",
    "   Da $\\lambda_1 \\neq \\lambda_2$, kan dette kun være sandt, hvis\n",
    "   $$\n",
    "   \\langle \\mathbf{v}_1, \\mathbf{v}_2 \\rangle = 0.\n",
    "   $$\n",
    "   Derved er de to egenvektorer ortogonale."
   ]
  },
  {
   "cell_type": "markdown",
   "id": "3be6198f",
   "metadata": {},
   "source": [
    "### 4: Symmetrisk 3-gange-3 matrix."
   ]
  },
  {
   "cell_type": "markdown",
   "id": "256cb1e0",
   "metadata": {},
   "source": [
    "Givet den *reelle og symmetriske* matrix\n",
    "\n",
    "\\begin{equation*}\n",
    "  A=\\begin{bmatrix} -2 & 1 & 1 \\\\  1 & -2 & -1 \\\\  1 & -1 & -2 \\end{bmatrix}.\n",
    "\\end{equation*}\n",
    "\n",
    "Find en **spektral dekomposition** af $A = Q \\Lambda Q^T$. Du skal altså angive \n",
    "en *reel ortogonal* matrix $Q$ og en *diagonalmatrix* $\\Lambda$ så \n",
    "\n",
    "\\begin{equation*}\n",
    "   A = Q \\Lambda Q^T\n",
    "\\end{equation*}  \n",
    "\n",
    "eller, ækvivalent, \n",
    "\n",
    "\\begin{equation*}\n",
    "  Q^T  \\, A\\, Q=\\Lambda\n",
    "\\end{equation*}  \n",
    "\n",
    "gælder. Som i opgaven før ved vi at den findes fra <a href=\"../_assets/textbook_mat1b_en.pdf#cor:spectral-decom-symm\">Spectral Theorem (the real case)</a>."
   ]
  },
  {
   "cell_type": "markdown",
   "id": "aab2be5e",
   "metadata": {},
   "source": [
    "#### Svar\n",
    "For at gøre dette finder vi først egenvektorne for A:"
   ]
  },
  {
   "cell_type": "code",
   "execution_count": 99,
   "id": "83ac6d07",
   "metadata": {},
   "outputs": [
    {
     "data": {
      "image/png": "[encoded data removed]",
      "text/latex": [
       "$\\displaystyle \\left( \\left[\\begin{matrix}-2 & 1 & 1\\\\1 & -2 & -1\\\\1 & -1 & -2\\end{matrix}\\right], \\  \\left\\{ -4 : 1, \\  -1 : 2\\right\\}, \\  \\left[ \\left( -4, \\  1, \\  \\left[ \\left[\\begin{matrix}-1\\\\1\\\\1\\end{matrix}\\right]\\right]\\right), \\  \\left( -1, \\  2, \\  \\left[ \\left[\\begin{matrix}1\\\\1\\\\0\\end{matrix}\\right], \\  \\left[\\begin{matrix}1\\\\0\\\\1\\end{matrix}\\right]\\right]\\right)\\right]\\right)$"
      ],
      "text/plain": [
       "⎛⎡-2  1   1 ⎤                  ⎡⎛       ⎡⎡-1⎤⎤⎞  ⎛       ⎡⎡1⎤  ⎡1⎤⎤⎞⎤⎞\n",
       "⎜⎢          ⎥                  ⎢⎜       ⎢⎢  ⎥⎥⎟  ⎜       ⎢⎢ ⎥  ⎢ ⎥⎥⎟⎥⎟\n",
       "⎜⎢1   -2  -1⎥, {-4: 1, -1: 2}, ⎢⎜-4, 1, ⎢⎢1 ⎥⎥⎟, ⎜-1, 2, ⎢⎢1⎥, ⎢0⎥⎥⎟⎥⎟\n",
       "⎜⎢          ⎥                  ⎢⎜       ⎢⎢  ⎥⎥⎟  ⎜       ⎢⎢ ⎥  ⎢ ⎥⎥⎟⎥⎟\n",
       "⎝⎣1   -1  -2⎦                  ⎣⎝       ⎣⎣1 ⎦⎦⎠  ⎝       ⎣⎣0⎦  ⎣1⎦⎦⎠⎦⎠"
      ]
     },
     "execution_count": 99,
     "metadata": {},
     "output_type": "execute_result"
    }
   ],
   "source": [
    "A = Matrix([[-2,1,1],[1,-2,-1],[1,-1,-2]])\n",
    "A, A.eigenvals(), A.eigenvects()"
   ]
  },
  {
   "cell_type": "markdown",
   "id": "c5cd3cf2",
   "metadata": {},
   "source": [
    "Vi kan nu definere en vektor $V$, hvis søjler er de tre egenvektors:"
   ]
  },
  {
   "cell_type": "code",
   "execution_count": 100,
   "id": "d4e742d0",
   "metadata": {},
   "outputs": [
    {
     "data": {
      "image/png": "[encoded data removed]",
      "text/latex": [
       "$\\displaystyle \\left[\\begin{matrix}-1 & 1 & 1\\\\1 & 0 & 1\\\\1 & 1 & 0\\end{matrix}\\right]$"
      ],
      "text/plain": [
       "⎡-1  1  1⎤\n",
       "⎢        ⎥\n",
       "⎢1   0  1⎥\n",
       "⎢        ⎥\n",
       "⎣1   1  0⎦"
      ]
     },
     "execution_count": 100,
     "metadata": {},
     "output_type": "execute_result"
    }
   ],
   "source": [
    "V = Matrix([[-1,1,1],[1,0,1], [1,1,0]])\n",
    "V"
   ]
  },
  {
   "cell_type": "markdown",
   "id": "40025239",
   "metadata": {},
   "source": [
    "Vi har nu, at $V^{-1}AV = \\Lambda$"
   ]
  },
  {
   "cell_type": "code",
   "execution_count": 101,
   "id": "7cf7dda9",
   "metadata": {},
   "outputs": [
    {
     "data": {
      "image/png": "[encoded data removed]",
      "text/latex": [
       "$\\displaystyle \\left[\\begin{matrix}-4 & 0 & 0\\\\0 & -1 & 0\\\\0 & 0 & -1\\end{matrix}\\right]$"
      ],
      "text/plain": [
       "⎡-4  0   0 ⎤\n",
       "⎢          ⎥\n",
       "⎢0   -1  0 ⎥\n",
       "⎢          ⎥\n",
       "⎣0   0   -1⎦"
      ]
     },
     "execution_count": 101,
     "metadata": {},
     "output_type": "execute_result"
    }
   ],
   "source": [
    "lamda_1 = V**-1 * A * V\n",
    "lamda_1"
   ]
  },
  {
   "cell_type": "markdown",
   "id": "fc35df60",
   "metadata": {},
   "source": [
    "Men den $V$ vi har er ikke ortogonal, så vi ortogonaliseres $V$ via gram-schmidth:"
   ]
  },
  {
   "cell_type": "code",
   "execution_count": 102,
   "id": "05b36149",
   "metadata": {},
   "outputs": [
    {
     "data": {
      "image/png": "[encoded data removed]",
      "text/latex": [
       "$\\displaystyle \\left[ \\left[\\begin{matrix}- \\frac{\\sqrt{3}}{3}\\\\\\frac{\\sqrt{3}}{3}\\\\\\frac{\\sqrt{3}}{3}\\end{matrix}\\right], \\  \\left[\\begin{matrix}\\frac{\\sqrt{2}}{2}\\\\0\\\\\\frac{\\sqrt{2}}{2}\\end{matrix}\\right], \\  \\left[\\begin{matrix}\\frac{\\sqrt{6}}{6}\\\\\\frac{\\sqrt{6}}{3}\\\\- \\frac{\\sqrt{6}}{6}\\end{matrix}\\right]\\right]$"
      ],
      "text/plain": [
       "⎡⎡-√3 ⎤        ⎡ √6 ⎤⎤\n",
       "⎢⎢────⎥  ⎡√2⎤  ⎢ ── ⎥⎥\n",
       "⎢⎢ 3  ⎥  ⎢──⎥  ⎢ 6  ⎥⎥\n",
       "⎢⎢    ⎥  ⎢2 ⎥  ⎢    ⎥⎥\n",
       "⎢⎢ √3 ⎥  ⎢  ⎥  ⎢ √6 ⎥⎥\n",
       "⎢⎢ ── ⎥, ⎢0 ⎥, ⎢ ── ⎥⎥\n",
       "⎢⎢ 3  ⎥  ⎢  ⎥  ⎢ 3  ⎥⎥\n",
       "⎢⎢    ⎥  ⎢√2⎥  ⎢    ⎥⎥\n",
       "⎢⎢ √3 ⎥  ⎢──⎥  ⎢-√6 ⎥⎥\n",
       "⎢⎢ ── ⎥  ⎣2 ⎦  ⎢────⎥⎥\n",
       "⎣⎣ 3  ⎦        ⎣ 6  ⎦⎦"
      ]
     },
     "execution_count": 102,
     "metadata": {},
     "output_type": "execute_result"
    }
   ],
   "source": [
    "# Brug Gram-Schmidt på søjlerne i V\n",
    "GramSchmidt([V[:,0], V[:,1], V[:,2]], orthonormal=True)"
   ]
  },
  {
   "cell_type": "markdown",
   "id": "66998cf1",
   "metadata": {},
   "source": [
    "Vi har altså fundet $Q$ som:\n",
    "$$\n",
    "Q =\n",
    "\\begin{bmatrix}\n",
    "\\frac{-\\sqrt{3}}{3} & \\frac{\\sqrt{2}}{2} & \\frac{\\sqrt{6}}{6} \\\\\n",
    "\\frac{\\sqrt{3}}{3} & 0 & \\frac{\\sqrt{6}}{3} \\\\\n",
    "\\frac{\\sqrt{3}}{3} & \\frac{\\sqrt{2}}{2} & \\frac{\\sqrt{-6}}{6}\n",
    "\\end{bmatrix}\n",
    "$$"
   ]
  },
  {
   "cell_type": "markdown",
   "id": "80596cdd",
   "metadata": {},
   "source": [
    "### 5: Spektral dekomposition med SymPy"
   ]
  },
  {
   "cell_type": "markdown",
   "id": "b94fe3ce",
   "metadata": {},
   "source": [
    "Vi betragter følgende matricer givet i SymPy:"
   ]
  },
  {
   "cell_type": "code",
   "execution_count": 103,
   "id": "d1f5217f",
   "metadata": {},
   "outputs": [
    {
     "data": {
      "image/png": "[encoded data removed]",
      "text/latex": [
       "$\\displaystyle \\left( \\left[\\begin{matrix}1 & -1 & 0 & 0\\\\0 & 1 & -1 & 0\\\\0 & 0 & 1 & -1\\\\-1 & 0 & 0 & 1\\end{matrix}\\right], \\  \\left[\\begin{matrix}1 & 2 & 3 & 4\\\\4 & 1 & 2 & 3\\\\3 & 4 & 1 & 2\\\\2 & 3 & 4 & 1\\end{matrix}\\right]\\right)$"
      ],
      "text/plain": [
       "⎛⎡1   -1  0   0 ⎤  ⎡1  2  3  4⎤⎞\n",
       "⎜⎢              ⎥  ⎢          ⎥⎟\n",
       "⎜⎢0   1   -1  0 ⎥  ⎢4  1  2  3⎥⎟\n",
       "⎜⎢              ⎥, ⎢          ⎥⎟\n",
       "⎜⎢0   0   1   -1⎥  ⎢3  4  1  2⎥⎟\n",
       "⎜⎢              ⎥  ⎢          ⎥⎟\n",
       "⎝⎣-1  0   0   1 ⎦  ⎣2  3  4  1⎦⎠"
      ]
     },
     "execution_count": 103,
     "metadata": {},
     "output_type": "execute_result"
    }
   ],
   "source": [
    "A = Matrix([[1, -1, 0, 0], [0, 1, -1, 0], [0, 0, 1, -1], [-1, 0, 0, 1]])\n",
    "B = Matrix([[1, 2, 3, 4], [4, 1, 2, 3], [3, 4, 1, 2], [2, 3, 4, 1]])\n",
    "A, B"
   ]
  },
  {
   "cell_type": "markdown",
   "id": "e35b4fc0",
   "metadata": {},
   "source": [
    "Det oplyses at begge matricer er reelle, *normale* matricer. Dette kan tjekkes ved:"
   ]
  },
  {
   "cell_type": "code",
   "execution_count": 104,
   "id": "4ba1e020",
   "metadata": {},
   "outputs": [
    {
     "data": {
      "text/plain": [
       "(True, True, True, True)"
      ]
     },
     "execution_count": 104,
     "metadata": {},
     "output_type": "execute_result"
    }
   ],
   "source": [
    "A.conjugate() == A, B.conjugate() == B, A*A.T == A.T*A, B*B.T == B.T*B"
   ]
  },
  {
   "cell_type": "markdown",
   "id": "2ab13dc1",
   "metadata": {},
   "source": [
    "Det oplyses endvidere at egenværdierne er hhv:"
   ]
  },
  {
   "cell_type": "code",
   "execution_count": 105,
   "id": "689e4074",
   "metadata": {},
   "outputs": [
    {
     "data": {
      "image/png": "[encoded data removed]",
      "text/latex": [
       "$\\displaystyle \\left( \\left[ 0, \\  2, \\  1 + i, \\  1 - i\\right], \\  \\left[ -2, \\  10, \\  -2 - 2 i, \\  -2 + 2 i\\right]\\right)$"
      ],
      "text/plain": [
       "([0, 2, 1 + ⅈ, 1 - ⅈ], [-2, 10, -2 - 2⋅ⅈ, -2 + 2⋅ⅈ])"
      ]
     },
     "execution_count": 105,
     "metadata": {},
     "output_type": "execute_result"
    }
   ],
   "source": [
    "A.eigenvals(multiple=True), B.eigenvals(multiple=True)"
   ]
  },
  {
   "cell_type": "markdown",
   "id": "ed1e2165",
   "metadata": {},
   "source": [
    "#### Spørgsmål a"
   ]
  },
  {
   "cell_type": "markdown",
   "id": "b3ae8bf3",
   "metadata": {},
   "source": [
    "Vil nedenstående SymPy-kommandoer give os matricerne der indgår i de spektrale dekompositioner af $A$ og $B$? Kaldet `A.diagonalize(normalize = True)` returnerer $(V,\\Lambda)$ hvor $A = V \\Lambda V^{-1}$ med *normaliserede* egenvektorer i $V$ og egenværdierne for $A$ i diagonalmatricen $\\Lambda$ (jf egenværdiproblemet fra Matematik 1a)."
   ]
  },
  {
   "cell_type": "code",
   "execution_count": 106,
   "id": "0f1d642c",
   "metadata": {
    "tags": [
     "remove-output"
    ]
   },
   "outputs": [
    {
     "data": {
      "image/png": "[encoded data removed]",
      "text/latex": [
       "$\\displaystyle \\left( \\left( \\left[\\begin{matrix}\\frac{1}{2} & - \\frac{1}{2} & \\frac{i}{2} & - \\frac{i}{2}\\\\\\frac{1}{2} & \\frac{1}{2} & - \\frac{1}{2} & - \\frac{1}{2}\\\\\\frac{1}{2} & - \\frac{1}{2} & - \\frac{i}{2} & \\frac{i}{2}\\\\\\frac{1}{2} & \\frac{1}{2} & \\frac{1}{2} & \\frac{1}{2}\\end{matrix}\\right], \\  \\left[\\begin{matrix}0 & 0 & 0 & 0\\\\0 & 2 & 0 & 0\\\\0 & 0 & 1 - i & 0\\\\0 & 0 & 0 & 1 + i\\end{matrix}\\right]\\right), \\  \\left( \\left[\\begin{matrix}- \\frac{1}{2} & \\frac{1}{2} & \\frac{i}{2} & - \\frac{i}{2}\\\\\\frac{1}{2} & \\frac{1}{2} & - \\frac{1}{2} & - \\frac{1}{2}\\\\- \\frac{1}{2} & \\frac{1}{2} & - \\frac{i}{2} & \\frac{i}{2}\\\\\\frac{1}{2} & \\frac{1}{2} & \\frac{1}{2} & \\frac{1}{2}\\end{matrix}\\right], \\  \\left[\\begin{matrix}-2 & 0 & 0 & 0\\\\0 & 10 & 0 & 0\\\\0 & 0 & -2 - 2 i & 0\\\\0 & 0 & 0 & -2 + 2 i\\end{matrix}\\right]\\right)\\right)$"
      ],
      "text/plain": [
       "⎛⎛⎡            ⅈ    -ⅈ  ⎤                      ⎞  ⎛⎡            ⅈ    -ⅈ  ⎤     ↪\n",
       "⎜⎜⎢1/2  -1/2   ─    ─── ⎥                      ⎟  ⎜⎢-1/2  1/2   ─    ─── ⎥     ↪\n",
       "⎜⎜⎢            2     2  ⎥  ⎡0  0    0      0  ⎤⎟  ⎜⎢            2     2  ⎥  ⎡- ↪\n",
       "⎜⎜⎢                     ⎥  ⎢                  ⎥⎟  ⎜⎢                     ⎥  ⎢  ↪\n",
       "⎜⎜⎢1/2  1/2   -1/2  -1/2⎥  ⎢0  2    0      0  ⎥⎟  ⎜⎢1/2   1/2  -1/2  -1/2⎥  ⎢0 ↪\n",
       "⎜⎜⎢                     ⎥, ⎢                  ⎥⎟, ⎜⎢                     ⎥, ⎢  ↪\n",
       "⎜⎜⎢           -ⅈ     ⅈ  ⎥  ⎢0  0  1 - ⅈ    0  ⎥⎟  ⎜⎢           -ⅈ     ⅈ  ⎥  ⎢0 ↪\n",
       "⎜⎜⎢1/2  -1/2  ───    ─  ⎥  ⎢                  ⎥⎟  ⎜⎢-1/2  1/2  ───    ─  ⎥  ⎢  ↪\n",
       "⎜⎜⎢            2     2  ⎥  ⎣0  0    0    1 + ⅈ⎦⎟  ⎜⎢            2     2  ⎥  ⎣0 ↪\n",
       "⎜⎜⎢                     ⎥                      ⎟  ⎜⎢                     ⎥     ↪\n",
       "⎝⎝⎣1/2  1/2   1/2   1/2 ⎦                      ⎠  ⎝⎣1/2   1/2  1/2   1/2 ⎦     ↪\n",
       "\n",
       "↪                           ⎞⎞\n",
       "↪                           ⎟⎟\n",
       "↪ 2  0      0         0    ⎤⎟⎟\n",
       "↪                          ⎥⎟⎟\n",
       "↪    10     0         0    ⎥⎟⎟\n",
       "↪                          ⎥⎟⎟\n",
       "↪    0   -2 - 2⋅ⅈ     0    ⎥⎟⎟\n",
       "↪                          ⎥⎟⎟\n",
       "↪    0      0      -2 + 2⋅ⅈ⎦⎟⎟\n",
       "↪                           ⎟⎟\n",
       "↪                           ⎠⎠"
      ]
     },
     "execution_count": 106,
     "metadata": {},
     "output_type": "execute_result"
    }
   ],
   "source": [
    "A.diagonalize(normalize = True), B.diagonalize(normalize = True)"
   ]
  },
  {
   "cell_type": "markdown",
   "id": "06bfdefc",
   "metadata": {},
   "source": [
    "#### Svar\n",
    "For at tjekke dette skal vi bekræfte at:\n",
    "$$\n",
    "V \\Lambda V^* = A\n",
    "$$"
   ]
  },
  {
   "cell_type": "code",
   "execution_count": 107,
   "id": "e3224744",
   "metadata": {},
   "outputs": [
    {
     "data": {
      "image/png": "[encoded data removed]",
      "text/latex": [
       "$\\displaystyle \\left( \\left[\\begin{matrix}\\frac{1}{2} & - \\frac{1}{2} & \\frac{i}{2} & - \\frac{i}{2}\\\\\\frac{1}{2} & \\frac{1}{2} & - \\frac{1}{2} & - \\frac{1}{2}\\\\\\frac{1}{2} & - \\frac{1}{2} & - \\frac{i}{2} & \\frac{i}{2}\\\\\\frac{1}{2} & \\frac{1}{2} & \\frac{1}{2} & \\frac{1}{2}\\end{matrix}\\right], \\  \\left[\\begin{matrix}0 & 0 & 0 & 0\\\\0 & 2 & 0 & 0\\\\0 & 0 & 1 - i & 0\\\\0 & 0 & 0 & 1 + i\\end{matrix}\\right], \\  \\left[\\begin{matrix}- \\frac{1}{2} & \\frac{1}{2} & \\frac{i}{2} & - \\frac{i}{2}\\\\\\frac{1}{2} & \\frac{1}{2} & - \\frac{1}{2} & - \\frac{1}{2}\\\\- \\frac{1}{2} & \\frac{1}{2} & - \\frac{i}{2} & \\frac{i}{2}\\\\\\frac{1}{2} & \\frac{1}{2} & \\frac{1}{2} & \\frac{1}{2}\\end{matrix}\\right], \\  \\left[\\begin{matrix}-2 & 0 & 0 & 0\\\\0 & 10 & 0 & 0\\\\0 & 0 & -2 - 2 i & 0\\\\0 & 0 & 0 & -2 + 2 i\\end{matrix}\\right]\\right)$"
      ],
      "text/plain": [
       "⎛⎡            ⅈ    -ⅈ  ⎤                        ⎡            ⅈ    -ⅈ  ⎤        ↪\n",
       "⎜⎢1/2  -1/2   ─    ─── ⎥                        ⎢-1/2  1/2   ─    ─── ⎥        ↪\n",
       "⎜⎢            2     2  ⎥  ⎡0  0    0      0  ⎤  ⎢            2     2  ⎥  ⎡-2   ↪\n",
       "⎜⎢                     ⎥  ⎢                  ⎥  ⎢                     ⎥  ⎢     ↪\n",
       "⎜⎢1/2  1/2   -1/2  -1/2⎥  ⎢0  2    0      0  ⎥  ⎢1/2   1/2  -1/2  -1/2⎥  ⎢0    ↪\n",
       "⎜⎢                     ⎥, ⎢                  ⎥, ⎢                     ⎥, ⎢     ↪\n",
       "⎜⎢           -ⅈ     ⅈ  ⎥  ⎢0  0  1 - ⅈ    0  ⎥  ⎢           -ⅈ     ⅈ  ⎥  ⎢0    ↪\n",
       "⎜⎢1/2  -1/2  ───    ─  ⎥  ⎢                  ⎥  ⎢-1/2  1/2  ───    ─  ⎥  ⎢     ↪\n",
       "⎜⎢            2     2  ⎥  ⎣0  0    0    1 + ⅈ⎦  ⎢            2     2  ⎥  ⎣0    ↪\n",
       "⎜⎢                     ⎥                        ⎢                     ⎥        ↪\n",
       "⎝⎣1/2  1/2   1/2   1/2 ⎦                        ⎣1/2   1/2  1/2   1/2 ⎦        ↪\n",
       "\n",
       "↪                        ⎞\n",
       "↪                        ⎟\n",
       "↪ 0      0         0    ⎤⎟\n",
       "↪                       ⎥⎟\n",
       "↪ 10     0         0    ⎥⎟\n",
       "↪                       ⎥⎟\n",
       "↪ 0   -2 - 2⋅ⅈ     0    ⎥⎟\n",
       "↪                       ⎥⎟\n",
       "↪ 0      0      -2 + 2⋅ⅈ⎦⎟\n",
       "↪                        ⎟\n",
       "↪                        ⎠"
      ]
     },
     "execution_count": 107,
     "metadata": {},
     "output_type": "execute_result"
    }
   ],
   "source": [
    "(A_V, A_lambda), ((B_V, B_lambda)) = A.diagonalize(normalize = True), B.diagonalize(normalize = True)\n",
    "A_V, A_lambda, B_V, B_lambda"
   ]
  },
  {
   "cell_type": "code",
   "execution_count": 110,
   "id": "66279d20",
   "metadata": {},
   "outputs": [
    {
     "data": {
      "text/plain": [
       "(True, True)"
      ]
     },
     "execution_count": 110,
     "metadata": {},
     "output_type": "execute_result"
    }
   ],
   "source": [
    "simplify(A_V*A_lambda*A_V**-1) == A, simplify(B_V*B_lambda*B_V**-1) == B"
   ]
  },
  {
   "cell_type": "markdown",
   "id": "d6c3dfc0",
   "metadata": {},
   "source": [
    "Det er altså sandt"
   ]
  },
  {
   "cell_type": "markdown",
   "id": "a41855df",
   "metadata": {},
   "source": [
    "#### Spørgsmål b"
   ]
  },
  {
   "cell_type": "markdown",
   "id": "318303c7",
   "metadata": {},
   "source": [
    "Findes der en unitær matrix der diagonaliserer *både* $A$ *og* $B$? Altså, findes der **en** unitær matrix så $A = U \\Lambda_1 U^*$ og $B = U \\Lambda_2 U^*$, hvor \n",
    "$\\Lambda_1$ er en diagonal matrix med $A$'s egenværdier og $\\Lambda_2$ er en diagonal matrix med $B$'s egenværdier?"
   ]
  },
  {
   "cell_type": "markdown",
   "id": "7b97ff4a",
   "metadata": {},
   "source": [
    "#### Svar\n",
    "Vi ser at A_V og B_V faktisk har de samme søjler, så hvis vi bytter den første søjle ud med den anden for A_V, så skal vi bare bytte første række ud med anden for A_lambda. "
   ]
  },
  {
   "cell_type": "markdown",
   "id": "d7c6cb71",
   "metadata": {},
   "source": [
    "#### Spørgsmål c"
   ]
  },
  {
   "cell_type": "markdown",
   "id": "b5bc1475",
   "metadata": {},
   "source": [
    "Du har set matricen $U$ eller $U^*$ før (eventuelt med søjlerne i en anden rækkefølge). Hvad er det for en matrix?"
   ]
  },
  {
   "cell_type": "markdown",
   "id": "19255ba3",
   "metadata": {},
   "source": [
    "#### Svar\n",
    "$U$ er den såkaldte Fourier-matrix."
   ]
  },
  {
   "cell_type": "markdown",
   "id": "439d992d",
   "metadata": {},
   "source": [
    "### 6: Diagonalisering og reduktion af kvadratisk form"
   ]
  },
  {
   "cell_type": "markdown",
   "id": "03b703e9",
   "metadata": {},
   "source": [
    "Vi betragter funktionen $q : \\mathbb{R}^3 \\to \\mathbb{R}$ givet ved\n",
    "\\begin{equation*}\n",
    "  q(x,y,z)=-2x^2-2y^2-2z^2+2xy+2xz-2yz+2x+y+z+5.\n",
    "\\end{equation*}\n",
    "\n",
    "Bemærk at $q$ kan deles op i to led: de \"rene\" andengradsled $k(x,y,z)=-2x^2-2y^2-2z^2+2xy+2xz-2yz$ og det andet led: et førstegradspolynomium $2x+y+z+5$."
   ]
  },
  {
   "cell_type": "markdown",
   "id": "d5cc2fb1",
   "metadata": {},
   "source": [
    "Givet den symmetriske matrix\n",
    "\n",
    "\\begin{equation*}\n",
    "A=\\begin{bmatrix} -2 & 1 & 1 \\\\  1 & -2 & -1 \\\\  1 & -1 & -2 \\end{bmatrix}.\n",
    "\\end{equation*}"
   ]
  },
  {
   "cell_type": "markdown",
   "id": "65adef50",
   "metadata": {},
   "source": [
    "#### Spørgsmål a"
   ]
  },
  {
   "cell_type": "markdown",
   "id": "331be89b",
   "metadata": {},
   "source": [
    "Angiv en reel, ortogonal matrix $Q$ og en diagonalmatrix $\\Lambda$, således at\n",
    "\n",
    "\\begin{equation*}\n",
    "  Q^T \\, A\\, Q=\\Lambda.\n",
    "\\end{equation*}\n",
    "\n",
    "Du skal vælge $Q$ så den har $\\operatorname{det}\\,Q=1$. Du må gerne bruge SymPy til denne opgave.\n",
    "\n",
    "**Note:**\n",
    "Reelle, ortogonale matricer har altid  $\\operatorname{det}\\,Q = \\pm 1$ (hvorfor mon?), så hvis dit valg $Q$ har $\\operatorname{det}\\,Q = - 1$ kan du blot skifte fortegn på en valgfri søjle eller række. Reelle, ortogonale matricer megd $\\operatorname{det}\\,Q = 1$ kaldes sædvanligt orienteret. I $\\mathbb{R}^3$ betyder det blot at den ortonormale basis i $Q$ er et *højredrejet* koordinatsystem. Det spiller ikke noget stor rolle for os i denne opgave."
   ]
  },
  {
   "cell_type": "markdown",
   "id": "80d2323e",
   "metadata": {},
   "source": [
    "#### Svar\n",
    "For at løse dette vil vi først fine egenvektorne for $A$"
   ]
  },
  {
   "cell_type": "code",
   "execution_count": 111,
   "id": "9596f61c",
   "metadata": {},
   "outputs": [
    {
     "data": {
      "image/png": "[encoded data removed]",
      "text/latex": [
       "$\\displaystyle \\left( \\left[\\begin{matrix}-2 & 1 & 1\\\\1 & -2 & -1\\\\1 & -1 & -2\\end{matrix}\\right], \\  \\left\\{ -4 : 1, \\  -1 : 2\\right\\}, \\  \\left[ \\left( -4, \\  1, \\  \\left[ \\left[\\begin{matrix}-1\\\\1\\\\1\\end{matrix}\\right]\\right]\\right), \\  \\left( -1, \\  2, \\  \\left[ \\left[\\begin{matrix}1\\\\1\\\\0\\end{matrix}\\right], \\  \\left[\\begin{matrix}1\\\\0\\\\1\\end{matrix}\\right]\\right]\\right)\\right]\\right)$"
      ],
      "text/plain": [
       "⎛⎡-2  1   1 ⎤                  ⎡⎛       ⎡⎡-1⎤⎤⎞  ⎛       ⎡⎡1⎤  ⎡1⎤⎤⎞⎤⎞\n",
       "⎜⎢          ⎥                  ⎢⎜       ⎢⎢  ⎥⎥⎟  ⎜       ⎢⎢ ⎥  ⎢ ⎥⎥⎟⎥⎟\n",
       "⎜⎢1   -2  -1⎥, {-4: 1, -1: 2}, ⎢⎜-4, 1, ⎢⎢1 ⎥⎥⎟, ⎜-1, 2, ⎢⎢1⎥, ⎢0⎥⎥⎟⎥⎟\n",
       "⎜⎢          ⎥                  ⎢⎜       ⎢⎢  ⎥⎥⎟  ⎜       ⎢⎢ ⎥  ⎢ ⎥⎥⎟⎥⎟\n",
       "⎝⎣1   -1  -2⎦                  ⎣⎝       ⎣⎣1 ⎦⎦⎠  ⎝       ⎣⎣0⎦  ⎣1⎦⎦⎠⎦⎠"
      ]
     },
     "execution_count": 111,
     "metadata": {},
     "output_type": "execute_result"
    }
   ],
   "source": [
    "A = Matrix([[-2,1,1],[1,-2,-1],[1,-1,-2]])\n",
    "A, A.eigenvals(), A.eigenvects()"
   ]
  },
  {
   "cell_type": "markdown",
   "id": "51958bb0",
   "metadata": {},
   "source": [
    "Vi kan nu opsætte $V$"
   ]
  },
  {
   "cell_type": "code",
   "execution_count": 113,
   "id": "6450d864",
   "metadata": {},
   "outputs": [
    {
     "data": {
      "image/png": "[encoded data removed]",
      "text/latex": [
       "$\\displaystyle \\left[\\begin{matrix}-1 & 1 & 1\\\\1 & 0 & 1\\\\1 & 1 & 0\\end{matrix}\\right]$"
      ],
      "text/plain": [
       "⎡-1  1  1⎤\n",
       "⎢        ⎥\n",
       "⎢1   0  1⎥\n",
       "⎢        ⎥\n",
       "⎣1   1  0⎦"
      ]
     },
     "execution_count": 113,
     "metadata": {},
     "output_type": "execute_result"
    }
   ],
   "source": [
    "V = Matrix([[-1,1,1],[1,0,1], [1,1,0]])\n",
    "V"
   ]
  },
  {
   "cell_type": "code",
   "execution_count": 117,
   "id": "dc00ab42",
   "metadata": {},
   "outputs": [
    {
     "data": {
      "image/png": "[encoded data removed]",
      "text/latex": [
       "$\\displaystyle \\left[\\begin{matrix}-4 & 0 & 0\\\\0 & -1 & 0\\\\0 & 0 & -1\\end{matrix}\\right]$"
      ],
      "text/plain": [
       "⎡-4  0   0 ⎤\n",
       "⎢          ⎥\n",
       "⎢0   -1  0 ⎥\n",
       "⎢          ⎥\n",
       "⎣0   0   -1⎦"
      ]
     },
     "execution_count": 117,
     "metadata": {},
     "output_type": "execute_result"
    }
   ],
   "source": [
    "lamda_1 = V**-1 * A * V\n",
    "lamda_1"
   ]
  },
  {
   "cell_type": "code",
   "execution_count": 114,
   "id": "d5d86215",
   "metadata": {},
   "outputs": [
    {
     "data": {
      "image/png": "[encoded data removed]",
      "text/latex": [
       "$\\displaystyle \\left[ \\left[\\begin{matrix}- \\frac{\\sqrt{3}}{3}\\\\\\frac{\\sqrt{3}}{3}\\\\\\frac{\\sqrt{3}}{3}\\end{matrix}\\right], \\  \\left[\\begin{matrix}\\frac{\\sqrt{2}}{2}\\\\0\\\\\\frac{\\sqrt{2}}{2}\\end{matrix}\\right], \\  \\left[\\begin{matrix}\\frac{\\sqrt{6}}{6}\\\\\\frac{\\sqrt{6}}{3}\\\\- \\frac{\\sqrt{6}}{6}\\end{matrix}\\right]\\right]$"
      ],
      "text/plain": [
       "⎡⎡-√3 ⎤        ⎡ √6 ⎤⎤\n",
       "⎢⎢────⎥  ⎡√2⎤  ⎢ ── ⎥⎥\n",
       "⎢⎢ 3  ⎥  ⎢──⎥  ⎢ 6  ⎥⎥\n",
       "⎢⎢    ⎥  ⎢2 ⎥  ⎢    ⎥⎥\n",
       "⎢⎢ √3 ⎥  ⎢  ⎥  ⎢ √6 ⎥⎥\n",
       "⎢⎢ ── ⎥, ⎢0 ⎥, ⎢ ── ⎥⎥\n",
       "⎢⎢ 3  ⎥  ⎢  ⎥  ⎢ 3  ⎥⎥\n",
       "⎢⎢    ⎥  ⎢√2⎥  ⎢    ⎥⎥\n",
       "⎢⎢ √3 ⎥  ⎢──⎥  ⎢-√6 ⎥⎥\n",
       "⎢⎢ ── ⎥  ⎣2 ⎦  ⎢────⎥⎥\n",
       "⎣⎣ 3  ⎦        ⎣ 6  ⎦⎦"
      ]
     },
     "execution_count": 114,
     "metadata": {},
     "output_type": "execute_result"
    }
   ],
   "source": [
    "GramSchmidt([V[:,0], V[:,1], V[:,2]], orthonormal=True)"
   ]
  },
  {
   "cell_type": "markdown",
   "id": "a44287a6",
   "metadata": {},
   "source": [
    "#### Spørgsmål b"
   ]
  },
  {
   "cell_type": "markdown",
   "id": "26b6688a",
   "metadata": {},
   "source": [
    "Bestem forskriften $k(x,y,z),$ omform den til matrixform, og *reducér* den."
   ]
  },
  {
   "cell_type": "markdown",
   "id": "c61c8960",
   "metadata": {},
   "source": [
    "#### Spørgsmål c"
   ]
  },
  {
   "cell_type": "markdown",
   "id": "07dee2e8",
   "metadata": {},
   "source": [
    "Find en sædvanligt orienteret ortonormal basis for $\\mathbb{R}^3$ hvori forskriften for $q$ er uden blandede led. Bestem forskriften."
   ]
  },
  {
   "cell_type": "markdown",
   "id": "264035fc",
   "metadata": {},
   "source": [
    "### 7: Den partielle afledte vokser/aftager mest i gradient-retningen"
   ]
  },
  {
   "cell_type": "markdown",
   "id": "e2804c10",
   "metadata": {},
   "source": [
    "Denne opgave er taget fra <a href=\"../_assets/textbook_mat1b_en.pdf#exe:max-direct-deriv-in-grad\">bogen</a>, og formålet er at argumentere for, hvorfor man i gradient-metoden går i gradientvektorens retning. \n",
    "\n",
    "Lad $f: \\mathbb{R}^{n} \\to \\mathbb{R}$ være en funktion, for hvilken alle retningsafledte eksisterer i $\\pmb{x} \\in \\mathbb{R}^{n}$. Antag at $\\nabla f(\\pmb{x})$ ikke er nul-vektoren."
   ]
  },
  {
   "cell_type": "markdown",
   "id": "6f81fa68",
   "metadata": {},
   "source": [
    "#### Spørgsmål a"
   ]
  },
  {
   "cell_type": "markdown",
   "id": "84d2c67a",
   "metadata": {},
   "source": [
    "Vis at $\\pmb{u} := \\nabla f(\\pmb{x}) / \\Vert \\nabla f(\\pmb{x}) \\Vert$ er en enhedsvektor."
   ]
  },
  {
   "cell_type": "markdown",
   "id": "80a70cd9",
   "metadata": {},
   "source": [
    "#### Spørgsmål b"
   ]
  },
  {
   "cell_type": "markdown",
   "id": "fd6c2f7e",
   "metadata": {},
   "source": [
    "Vis at skalaren $|\\nabla_{\\pmb{v}}f(\\pmb{x})|$ bliver størst mulig, når $\\pmb{v} = \\pm \\pmb{u}$."
   ]
  },
  {
   "cell_type": "markdown",
   "id": "4ba6ebc5",
   "metadata": {},
   "source": [
    "### 8: Standardligning for de tre typiske keglesnit"
   ]
  },
  {
   "cell_type": "markdown",
   "id": "8531d971",
   "metadata": {},
   "source": [
    "I de følgende eksempler ser vi på kvadratiske former uden *blandede led* (da vi jo netop kan slippe af med disse via diagonalisering som i forrige opgave). Her er det muligt at gå skridtet videre og fjerne førstegradsleddene. Denne teknik kaldes [kvadratkomplettering](https://da.wikipedia.org/wiki/Kvadratkomplettering#Eksempel_1). I det følgende skal vi bruge teknikken på vejen mod identifikation af såkaldte keglesnit."
   ]
  },
  {
   "cell_type": "markdown",
   "id": "f42ca6d4",
   "metadata": {},
   "source": [
    "#### Spørgsmål a"
   ]
  },
  {
   "cell_type": "markdown",
   "id": "8aa0ff49",
   "metadata": {},
   "source": [
    "En ellipse i $(x,y)$-planen med centrum $(c_1,c_2),$ halvakserne $a$ og $b$ og symmetriakserne $x=c_1$ og $y=c_2$ har standardligningen\n",
    "\n",
    "\\begin{equation*}\n",
    "  \\frac{(x-c_1)^2}{a^2}+\\frac{(y-c_2)^2}{b^2}=1.\n",
    "\\end{equation*}\n",
    "  \n",
    "En ellipse er givet ved ligningen\n",
    "\n",
    "\\begin{equation*}\n",
    "  4x^2+y^2+8x-6y+9=0.\n",
    "\\end{equation*}\n",
    "\n",
    "Udfør kvadratkomplettering, sæt ligningen på standardform, og angiv ellipsens centrum, halvakser og symmetriakser."
   ]
  },
  {
   "cell_type": "markdown",
   "id": "ac3296b3",
   "metadata": {},
   "source": [
    "#### Spørgsmål b"
   ]
  },
  {
   "cell_type": "markdown",
   "id": "5169ca35",
   "metadata": {},
   "source": [
    "En hyperbel i $(x,y)$-planen med centrum $(c_1,c_2),$ halvakserne $a$ og $b$ og symmetriakserne $x=c_1$ og $y=c_2$ har standardligningen\n",
    "\n",
    "\\begin{equation*}\n",
    "  \\frac{(x-c_1)^2}{a^2}-\\frac{(y-c_2)^2}{b^2}=1.\n",
    "\\end{equation*}\n",
    "\n",
    "Eller alternativt (hvis den ikke er vandret, men lodret):\n",
    "\n",
    "\\begin{equation*}\n",
    "  \\frac{(y-c_2)^2}{a^2}-\\frac{(x-c_1)^2}{b^2}=1.\n",
    "\\end{equation*}\n",
    "\n",
    "En hyperbel er givet ved ligningen\n",
    "\n",
    "\\begin{equation*}\n",
    "  x^2-y^2-4x-4y = 4.\n",
    "\\end{equation*}\n",
    "\n",
    "Udfør kvadratkomplettering, sæt ligningen på standardform, og angiv hyperblens centrum, halvakser og symmetriakser."
   ]
  },
  {
   "cell_type": "markdown",
   "id": "54267150",
   "metadata": {},
   "source": [
    "#### Spørgsmål c"
   ]
  },
  {
   "cell_type": "markdown",
   "id": "0bc0053b",
   "metadata": {},
   "source": [
    "En parabel i $(x,y)$-planen med toppunkt $(c_1,c_2)$ og symmetriaksen $x=c_1$ har standardligningen\n",
    "\n",
    "\\begin{equation*}\n",
    "  y-c_2=a(x-c1)^2.\n",
    "\\end{equation*}\n",
    "\n",
    "Eller alternativt, hvis parablen ikke er lodret men vandret, hvorved symmetriaksen bliver $y=c_2$:\n",
    "\n",
    "\\begin{equation*}\n",
    "  x-c_1=a(y-c2)^2.\n",
    "\\end{equation*}\n",
    "\n",
    "En parabel er givet ved ligningen\n",
    "\n",
    "\\begin{equation*}\n",
    "  2x^2+12x-y+17=0.\n",
    "\\end{equation*}\n",
    "\n",
    "Udfør kvadratkomplettering, sæt ligningen på standardform, og angiv parablens  toppunkt og symmetriakse."
   ]
  },
  {
   "cell_type": "markdown",
   "id": "a30cac0a",
   "metadata": {},
   "source": [
    "___\n",
    "\n",
    "## Temaøvelse -- Lille Dag"
   ]
  },
  {
   "cell_type": "markdown",
   "id": "7a15c3ff",
   "metadata": {},
   "source": [
    "Der er tema-øvelse [](tema:2)"
   ]
  }
 ],
 "metadata": {
  "jupytext": {
   "formats": "ipynb,md:myst"
  },
  "kernelspec": {
   "display_name": "Python 3",
   "language": "python",
   "name": "python3"
  },
  "language_info": {
   "codemirror_mode": {
    "name": "ipython",
    "version": 3
   },
   "file_extension": ".py",
   "mimetype": "text/x-python",
   "name": "python",
   "nbconvert_exporter": "python",
   "pygments_lexer": "ipython3",
   "version": "3.11.10"
  }
 },
 "nbformat": 4,
 "nbformat_minor": 5
}
