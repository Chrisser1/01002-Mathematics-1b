{
 "cells": [
  {
   "cell_type": "code",
   "execution_count": 1,
   "id": "e4c02856",
   "metadata": {},
   "outputs": [],
   "source": [
    "from sympy import *\n",
    "from dtumathtools import *\n",
    "import numpy as np\n",
    "\n",
    "init_printing()"
   ]
  },
  {
   "cell_type": "markdown",
   "id": "4ee81b53",
   "metadata": {},
   "source": [
    "# Uge 7: Øvelser"
   ]
  },
  {
   "cell_type": "markdown",
   "id": "c0398655",
   "metadata": {},
   "source": [
    "## Opgaver -- Store Dag"
   ]
  },
  {
   "cell_type": "markdown",
   "id": "a0149a98",
   "metadata": {},
   "source": [
    "### 1: Regneregler for stamfunktioner. Håndregning"
   ]
  },
  {
   "cell_type": "markdown",
   "id": "a4b1cc73",
   "metadata": {},
   "source": [
    "Find det ubestemte integral $\\int \\left( 5\\cos(x+1)-\\sin(5x)+\\frac{2}{x-3}-7\\right)\\mathrm{d}x$ for $x>3$\n",
    "og gør rede for de regneregler du har brugt undervejs."
   ]
  },
  {
   "cell_type": "markdown",
   "id": "86417501",
   "metadata": {},
   "source": [
    "![image.png](../images/w7so1.png)"
   ]
  },
  {
   "cell_type": "markdown",
   "id": "4979be00",
   "metadata": {},
   "source": [
    "### 2: Riemann-sum for en lineær funktion"
   ]
  },
  {
   "cell_type": "markdown",
   "id": "1d6f3963",
   "metadata": {},
   "source": [
    "Givet funktionen $f:[0,5] \\rightarrow \\mathbb{R}$ med forskrift $f(x)=2x+3$."
   ]
  },
  {
   "cell_type": "markdown",
   "id": "e411d510",
   "metadata": {},
   "source": [
    "#### Spørgsmål a"
   ]
  },
  {
   "cell_type": "markdown",
   "id": "b990a7cc",
   "metadata": {},
   "source": [
    "Find ved hjælp af Python en værdi for Riemann-summen over intervallet $[0,5]$ med 30 del-intervaller hvor først del-intervallernes venstre interval-endepunkter benyttes, gentag for de højre interval-endepunkter."
   ]
  },
  {
   "cell_type": "code",
   "execution_count": 2,
   "id": "27f67b3c",
   "metadata": {},
   "outputs": [
    {
     "name": "stdout",
     "output_type": "stream",
     "text": [
      "Venstre Riemann-sum: 39.17\n",
      "Højre Riemann-sum: 40.83\n"
     ]
    }
   ],
   "source": [
    "# Definer funktionen f(x) = 2x + 3\n",
    "def f(x):\n",
    "    return 2*x + 3\n",
    "\n",
    "# Interval og antal delintervaller\n",
    "a, b = 0, 5\n",
    "n = 30\n",
    "\n",
    "# Bredde af hvert delinterval\n",
    "dx = (b - a) / n\n",
    "\n",
    "# Venstre interval-endepunkter\n",
    "x_left = np.linspace(a, b-dx, n)\n",
    "riemann_sum_left = np.sum(f(x_left) * dx)\n",
    "\n",
    "# Højre interval-endepunkter\n",
    "x_right = np.linspace(a + dx, b, n)\n",
    "riemann_sum_right = np.sum(f(x_right) * dx)\n",
    "\n",
    "# Resultater\n",
    "print(\"Venstre Riemann-sum: %.2f\" % riemann_sum_left)\n",
    "print(\"Højre Riemann-sum: %.2f\" % riemann_sum_right)"
   ]
  },
  {
   "cell_type": "markdown",
   "id": "beee62c9",
   "metadata": {},
   "source": [
    "#### Spørgsmål b"
   ]
  },
  {
   "cell_type": "markdown",
   "id": "48a114d8",
   "metadata": {},
   "source": [
    "Find eksakte værdier for Riemann-summen over intervallet $[0,5]$ med $n$ del-intervaller hvor først del-intervallernes venstre interval-endepunkter benyttes, gentag for de højre interval-endepunkter."
   ]
  },
  {
   "cell_type": "code",
   "execution_count": 3,
   "id": "8c04c0e2",
   "metadata": {},
   "outputs": [
    {
     "name": "stdout",
     "output_type": "stream",
     "text": [
      "Venstre Riemann-sum:\n"
     ]
    },
    {
     "data": {
      "image/png": "[encoded data removed]",
      "text/latex": [
       "$\\displaystyle 40 - \\frac{25}{n}$"
      ],
      "text/plain": [
       "     25\n",
       "40 - ──\n",
       "     n "
      ]
     },
     "metadata": {},
     "output_type": "display_data"
    },
    {
     "name": "stdout",
     "output_type": "stream",
     "text": [
      "Højre Riemann-sum:\n"
     ]
    },
    {
     "data": {
      "image/png": "[encoded data removed]",
      "text/latex": [
       "$\\displaystyle 40 + \\frac{25}{n}$"
      ],
      "text/plain": [
       "     25\n",
       "40 + ──\n",
       "     n "
      ]
     },
     "metadata": {},
     "output_type": "display_data"
    }
   ],
   "source": [
    "# Definer symboler\n",
    "x, n = symbols('x n')\n",
    "i = symbols('i', integer=True)\n",
    "f = 2*x + 3\n",
    "\n",
    "# Intervaller\n",
    "a, b = 0, 5\n",
    "\n",
    "# Bredden af hvert delinterval\n",
    "dx = (b - a) / n\n",
    "\n",
    "# Venstre Riemann-sum\n",
    "x_i_left = a + i*dx\n",
    "riemann_sum_left = simplify(Sum(f.subs(x, x_i_left) * dx, (i, 0, n-1)).doit())\n",
    "\n",
    "# Højre Riemann-sum\n",
    "x_i_right = a + (i+1)*dx\n",
    "riemann_sum_right = simplify(Sum(f.subs(x, x_i_right) * dx, (i, 0, n-1)).doit())\n",
    "\n",
    "# Resultater\n",
    "print(\"Venstre Riemann-sum:\")\n",
    "display(riemann_sum_left)\n",
    "print(\"Højre Riemann-sum:\")\n",
    "display(riemann_sum_right)"
   ]
  },
  {
   "cell_type": "markdown",
   "id": "f0674aa6",
   "metadata": {},
   "source": [
    "#### Spørgsmål c"
   ]
  },
  {
   "cell_type": "markdown",
   "id": "6e29528b",
   "metadata": {},
   "source": [
    "Angiv et eksakt udtryk for den maksimale og minimale fejl, begge udtryk skal kun afhænge af $n$. (Hvis Riemannsummen angiver en approksimativ værdi for Riemann integralet)."
   ]
  },
  {
   "cell_type": "markdown",
   "id": "2db5dd17",
   "metadata": {},
   "source": [
    "#### Svar\n",
    "Vi fandt i del b, følgende udtryk:\n",
    "$$\n",
    "40 - \\frac{25}{n} \\quad \\text{og} \\quad\n",
    "40 + \\frac{25}{n}\n",
    "$$\n",
    "\n",
    "Herfra kan vi nemt aflæse at når $n \\to 0$ så er fejlen $0$ og når $n = 1$, så er fejlen $25$."
   ]
  },
  {
   "cell_type": "markdown",
   "id": "51ae1044",
   "metadata": {},
   "source": [
    "#### Spørgsmål d"
   ]
  },
  {
   "cell_type": "markdown",
   "id": "6de11c68",
   "metadata": {},
   "source": [
    "Argumenter, i dette specielle tilfælde, for at Riemann-summen har samme grænseværdi uanset valg af punkt i del-intervallet."
   ]
  },
  {
   "cell_type": "markdown",
   "id": "22ba7441",
   "metadata": {},
   "source": [
    "#### Svar\n",
    "- Hvis en funktion er lineær, vil den gennemsnitlige værdi af funktionen over ethvert lille interval være tæt på dens midtpunktværdi. \n",
    "- Når vi øger n, bliver intervallerne mindre, og forskellen mellem venstre, højre og vilkårlige prøvepunkter bliver ubetydelig. \n",
    "- Dette betyder, at alle Riemann-summer nærmer sig samme grænseværdi uanset valg af prøvepunkter."
   ]
  },
  {
   "cell_type": "markdown",
   "id": "350abf8e",
   "metadata": {},
   "source": [
    "### 3: Brug af Fundamentalsætningen"
   ]
  },
  {
   "cell_type": "markdown",
   "id": "e9b1683d",
   "metadata": {},
   "source": [
    "#### Spørgsmål a"
   ]
  },
  {
   "cell_type": "markdown",
   "id": "cff7df67",
   "metadata": {},
   "source": [
    "Angiv en stamfunktion til $\\frac{1}{1+x^2}$. Bestem derefter integralet $\\int_0^1\\frac{1}{1+x^2}\\mathrm{d}x$."
   ]
  },
  {
   "cell_type": "code",
   "execution_count": 4,
   "id": "ca4146bc",
   "metadata": {},
   "outputs": [
    {
     "data": {
      "image/png": "[encoded data removed]",
      "text/latex": [
       "$\\displaystyle \\left( \\operatorname{atan}{\\left(x \\right)}, \\  \\frac{\\pi}{4}\\right)$"
      ],
      "text/plain": [
       "⎛         π⎞\n",
       "⎜atan(x), ─⎟\n",
       "⎝         4⎠"
      ]
     },
     "execution_count": 4,
     "metadata": {},
     "output_type": "execute_result"
    }
   ],
   "source": [
    "# Svar\n",
    "x = symbols('x')\n",
    "f = 1/(1+x**2)\n",
    "\n",
    "# Stamfunktion\n",
    "F = integrate(f, x)\n",
    "F, F.subs(x, 1) - F.subs(x, 0)"
   ]
  },
  {
   "cell_type": "markdown",
   "id": "848e39de",
   "metadata": {},
   "source": [
    "#### Spørgsmål b"
   ]
  },
  {
   "cell_type": "markdown",
   "id": "456dc677",
   "metadata": {},
   "source": [
    "Bestem dobbeltintegralerne \n",
    "\n",
    "\\begin{equation*}\n",
    "\\int_1^2\\Big (\\int_0^1\\frac{\\mathrm{e}^{2x}}{y}\\mathrm{d}x\\Big)\\mathrm{d}y\n",
    "\\end{equation*}\n",
    "\n",
    "og \n",
    "\n",
    "\\begin{equation*}\n",
    "\\int_0^{\\frac{\\pi}{2}}\\Big (\\int_0^1y\\cos(xy)\\mathrm{d}x\\Big)\\mathrm{d}y\n",
    "\\end{equation*}"
   ]
  },
  {
   "cell_type": "code",
   "execution_count": 5,
   "id": "52f8e6bf",
   "metadata": {},
   "outputs": [
    {
     "data": {
      "image/png": "[encoded data removed]",
      "text/latex": [
       "$\\displaystyle \\left(- \\frac{1}{2} + \\frac{e^{2}}{2}\\right) \\log{\\left(2 \\right)}$"
      ],
      "text/plain": [
       "⎛       2⎞       \n",
       "⎜  1   ℯ ⎟       \n",
       "⎜- ─ + ──⎟⋅log(2)\n",
       "⎝  2   2 ⎠       "
      ]
     },
     "execution_count": 5,
     "metadata": {},
     "output_type": "execute_result"
    }
   ],
   "source": [
    "# Svar 1\n",
    "x, y = symbols('x y')\n",
    "\n",
    "f = exp(2*x)/y\n",
    "F1 = integrate(f, (x,0,1))\n",
    "F2 = integrate(F1, (y,1,2))\n",
    "F2"
   ]
  },
  {
   "cell_type": "code",
   "execution_count": 6,
   "id": "5f3c5dc3",
   "metadata": {},
   "outputs": [
    {
     "data": {
      "image/png": "[encoded data removed]",
      "text/latex": [
       "$\\displaystyle 1$"
      ],
      "text/plain": [
       "1"
      ]
     },
     "execution_count": 6,
     "metadata": {},
     "output_type": "execute_result"
    }
   ],
   "source": [
    "# Svar 2\n",
    "x, y = symbols('x y')\n",
    "\n",
    "f = y*cos(x*y)\n",
    "F1 = integrate(f, (x,0,1))\n",
    "F2 = integrate(F1, (y,0, pi/2))\n",
    "F2"
   ]
  },
  {
   "cell_type": "markdown",
   "id": "be814eec",
   "metadata": {},
   "source": [
    "#### Spørgsmål c"
   ]
  },
  {
   "cell_type": "markdown",
   "id": "69579061",
   "metadata": {},
   "source": [
    "Lad $f: [-5,5] \\to \\mathbb{R}$ være givet ved \n",
    "\n",
    "\\begin{equation*}\n",
    "f(x) =   \\begin{cases} \n",
    "1 & \\text{for } x \\in [0,1] \\\\\n",
    "0 & \\text{for } x \\in [-5,5] \\setminus [0,1].\n",
    "\\end{cases}\n",
    "\\end{equation*}\n",
    "\n",
    "Udregn:\n",
    "\n",
    "\\begin{equation*}\n",
    "      F(x) = \\int_{x_{0}}^{x} f(y) \\mathrm{d} y   \\quad \\text{for $x \\in [-5,5]$},\n",
    "  \\end{equation*}\n",
    "\n",
    "hvor $x_{0}\\in [-5,5]$ er fast, men vilkårlig. Vælg fx $x_0=0$. Er $F$ kontinuert? Er $F$ differentiabel i alle punkter? Er $F$ en stamfunktion for $f$?"
   ]
  },
  {
   "cell_type": "code",
   "execution_count": 7,
   "id": "ed37798c",
   "metadata": {},
   "outputs": [
    {
     "name": "stdout",
     "output_type": "stream",
     "text": [
      "The function is:\n"
     ]
    },
    {
     "data": {
      "image/png": "[encoded data removed]",
      "text/latex": [
       "$\\displaystyle \\begin{cases} 1 & \\text{for}\\: x \\geq 0 \\wedge x \\leq 1 \\\\0 & \\text{for}\\: x \\geq -5 \\wedge x \\leq 5 \\wedge \\neg \\left(x \\geq 0 \\wedge x \\leq 1\\right) \\end{cases}$"
      ],
      "text/plain": [
       "⎧1            for x ≥ 0 ∧ x ≤ 1          \n",
       "⎨                                        \n",
       "⎩0  for x ≥ -5 ∧ x ≤ 5 ∧ ¬(x ≥ 0 ∧ x ≤ 1)"
      ]
     },
     "metadata": {},
     "output_type": "display_data"
    },
    {
     "name": "stdout",
     "output_type": "stream",
     "text": [
      "The integral is:\n"
     ]
    },
    {
     "data": {
      "image/png": "[encoded data removed]",
      "text/latex": [
       "$\\displaystyle \\begin{cases} \\text{NaN} & \\text{for}\\: x < 0 \\\\\\min\\left(1, x\\right) & \\text{for}\\: x \\leq \\min\\left(5, x\\right) \\\\\\text{NaN} & \\text{otherwise} \\end{cases}$"
      ],
      "text/plain": [
       "⎧   nan         for x < 0    \n",
       "⎪                            \n",
       "⎨Min(1, x)  for x ≤ Min(5, x)\n",
       "⎪                            \n",
       "⎩   nan         otherwise    "
      ]
     },
     "metadata": {},
     "output_type": "display_data"
    }
   ],
   "source": [
    "# Svar\n",
    "x = symbols('x')\n",
    "\n",
    "# Define the piecewise function correctly\n",
    "f = Piecewise(\n",
    "    (1, (x >= 0) & (x <= 1)),\n",
    "    (0, (x >= -5) & (x <= 5) & ~((x >= 0) & (x <= 1))))\n",
    "\n",
    "x0 = 0\n",
    "F = integrate(f, (x, x0, x))\n",
    "\n",
    "# print the result\n",
    "print(\"The function is:\")\n",
    "display(f)\n",
    "print(\"The integral is:\")\n",
    "display(F)"
   ]
  },
  {
   "cell_type": "markdown",
   "id": "4ce6788b",
   "metadata": {},
   "source": [
    "**Er den kontinuær**\n",
    "\n",
    "Ja, da der ikke er nogle hop i funktionen.\n",
    "\n",
    "**Er den differentiabel**\n",
    "\n",
    "Ja, men det er den ikke i $0$ og $1$, da vi får to resultater her, hvilket ikke er muligt for en differentiabel funktion.\n",
    "\n",
    "**Er den en stamfunktion**\n",
    "\n",
    "Nej, da vi ikke kan differentierer i alle punkter."
   ]
  },
  {
   "cell_type": "markdown",
   "id": "96e1f45c",
   "metadata": {},
   "source": [
    "### 4: Parametriseringer i planen. Håndregning"
   ]
  },
  {
   "cell_type": "markdown",
   "id": "5d01c981",
   "metadata": {},
   "source": [
    "Betragt mængderne $U \\subset \\mathbb{R}^2$ givet ved \n",
    "\n",
    "\\begin{equation*}\n",
    "    U = B((0,0),2) \\setminus \\overline{B((0,0),1)},\n",
    "\\end{equation*}\n",
    "\n",
    "hvor $B((0,0),r)$ er den åbne cirkelskive (open ball) med radius $r$ og centrum $(0,0)$ og $\\overline{B((0,0),r)}$ er den afsluttede/lukkede cirkelskive (hvor randen er med)."
   ]
  },
  {
   "cell_type": "markdown",
   "id": "86af3060",
   "metadata": {},
   "source": [
    "Lav en skitse af mængden $U$. Angiv en parametrisering $\\pmb{p}: ]1,2[ \\times [0,2\\pi[ \\to U$ af $U$. Vektorfunktionen $\\pmb{p}$ skal være en funktion af to variable, i.e. $(r,\\theta) \\in ]1,2[ \\times [0,2\\pi[$, og billedmængden af $\\pmb{p}$ skal være $U$."
   ]
  },
  {
   "cell_type": "markdown",
   "id": "1d033b6c",
   "metadata": {},
   "source": [
    "![image.png](../images/w7so4.png)"
   ]
  },
  {
   "cell_type": "markdown",
   "id": "d872b5d7",
   "metadata": {},
   "source": [
    "### 5: Trapez-metoden og Riemann-summer"
   ]
  },
  {
   "cell_type": "markdown",
   "id": "ea36345a",
   "metadata": {},
   "source": [
    "Det findes mange integraler som det ikke er muligt at udregne eksakt, ofte fordi stamfunktionen ikke kan udtrykkes ved en \"kendt\" funktion. Vi ønsker i denne opgave at udregne en tilnærmet værdi til:\n",
    "\n",
    "\\begin{equation*}\n",
    "    \\int_0^3 \\sin(x^2) \\exp(3x) \\mathrm{d}x\n",
    "\\end{equation*}\n",
    "\n",
    "`SciPy`-pakken i Python kan udregne (approksimationer til) integraler ved såkaldt numerisk integration. Vi vil her sammenligne SciPys `quad`-metode med både Riemann-summen som vi kender fra bogen og den såkaldte trapez-metode.\n",
    "\n",
    "Ved trapez-metoden menes approksimationen til integralet over et lille interval $[x_{j-1},x_j]$ givet ved\n",
    "\n",
    "\\begin{equation*}\n",
    "    \\int_{x_{j-1}}^{x_{j}}f(x)\\mathrm{d}x=\\frac{1}{2}(x_{j}-x_{j-1})(f(x_{j-1})+f(x_{j}))\n",
    "\\end{equation*}\n",
    "\n",
    "mens vi ved middelsummer for Riemann integralt med valget $\\xi_j := \\frac{x_{j}+x_{j-1}}{2}$ har\n",
    "\n",
    "\\begin{equation*} \n",
    "    \\int_{x_{j-1}}^{x_{j}} f(x)dx\\approx f(\\xi_j) (x_{j}-x_{j-1}),\n",
    "\\end{equation*}\n",
    "\n",
    "Hvis man gerne vil approksimere et integral over et større interval $[a,b]$, kan man indele det i flere små intervaller $Q_j=[x_{j-1},x_j]$, $j=1,\\dots, J$, og approkismere dem hver for sig, hvorefter man kan lægge dem alle sammen igen - præcis som ved Riemann-summer."
   ]
  },
  {
   "cell_type": "markdown",
   "id": "48c87a7f",
   "metadata": {},
   "source": [
    "#### Spørgsmål a"
   ]
  },
  {
   "cell_type": "markdown",
   "id": "70e0c07b",
   "metadata": {},
   "source": [
    "Argumenter for at $\\sin(x^2) \\exp(3x)$ har en stamfunktion og at integralet $\\int_0^3 \\sin(x^2) \\exp(3x) \\mathrm{d}x$ er veldefineret. Prøv (i SymPy) at finde den eksakte værdi for \n",
    "\n",
    "\\begin{equation*}\n",
    "    \\int_0^3 \\sin(x^2) \\exp(3x) \\mathrm{d}x\n",
    "\\end{equation*}\n",
    "\n",
    "Brug `.evalf()` til at få en tilnærmet værdi af integralet."
   ]
  },
  {
   "cell_type": "code",
   "execution_count": 8,
   "id": "986c1a56",
   "metadata": {},
   "outputs": [
    {
     "data": {
      "image/png": "[encoded data removed]",
      "text/latex": [
       "$\\displaystyle 1252.45293166032$"
      ],
      "text/plain": [
       "1252.45293166032"
      ]
     },
     "execution_count": 8,
     "metadata": {},
     "output_type": "execute_result"
    }
   ],
   "source": [
    "# Svar\n",
    "x = symbols('x')\n",
    "f = sin(x**2)*exp(3*x)\n",
    "F = integrate(f, (x,0,3))\n",
    "F.evalf()"
   ]
  },
  {
   "cell_type": "markdown",
   "id": "1e0b2f9d",
   "metadata": {},
   "source": [
    "Man kan nok godt få SymPy og Maple til at angive en stamfunktion, men den bliver udtrykt ved en funktion erf som om hverken kan sige at være “kendt” (for os) eller have en “eksplicit” definition, og det giver os derfor ikke mere information end udtrykket."
   ]
  },
  {
   "cell_type": "markdown",
   "id": "9d88c55e",
   "metadata": {},
   "source": [
    "#### Spørgsmål b"
   ]
  },
  {
   "cell_type": "markdown",
   "id": "364e1735",
   "metadata": {},
   "source": [
    "Udregn integralet med `quad` fra `scipy.integrate`. Du skal importere `from scipy.integrate import quad`\n",
    "og definere:\n",
    "\n",
    "```{code}\n",
    "def f(x):\n",
    "    return sin(x**2)*exp(3*x)\n",
    "```"
   ]
  },
  {
   "cell_type": "code",
   "execution_count": 9,
   "id": "8cca5b64",
   "metadata": {},
   "outputs": [
    {
     "data": {
      "image/png": "[encoded data removed]",
      "text/latex": [
       "$\\displaystyle \\left( 1252.45293166032, \\  4.88992742131433 \\cdot 10^{-8}\\right)$"
      ],
      "text/plain": [
       "(1252.4529316603246, 4.889927421314333e-08)"
      ]
     },
     "execution_count": 9,
     "metadata": {},
     "output_type": "execute_result"
    }
   ],
   "source": [
    "from scipy.integrate import quad\n",
    "\n",
    "def f(x):\n",
    "    return sin(x**2)*exp(3*x)\n",
    "\n",
    "quad(f, 0, 3)"
   ]
  },
  {
   "cell_type": "markdown",
   "id": "d33d4651",
   "metadata": {},
   "source": [
    "#### Spørgsmål c"
   ]
  },
  {
   "cell_type": "markdown",
   "id": "4704b673",
   "metadata": {},
   "source": [
    "Vi vil gerne sammenligne det med det Riemann integral, vi har arbejdet med tidligere. Vi bruger Riemann-summer, hvor $[a,b]$ inddeles i $J$ lige store delintervaller. Kan du selv implementere en funktion i Python, som regner det ud for dig? Det skal have formen\n",
    "\n",
    "```{code}\n",
    "def riemann_sum(f,a,b,J):\n",
    "```\n",
    "hvor $f$ er en kontinuert funktion, $a$ og $b$ er interval-endepunkterne og $J$ antal inddelinger af integralet. Når du har skrevet den kan du teste den på samme integral som ovenfor med $J=20$."
   ]
  },
  {
   "cell_type": "code",
   "execution_count": null,
   "id": "364eeedd",
   "metadata": {},
   "outputs": [
    {
     "name": "stdout",
     "output_type": "stream",
     "text": [
      "Riemann (20 delintervaller): 1284.013052\n"
     ]
    }
   ],
   "source": [
    "def riemann(f,a,b,J):\n",
    "    w = (b - a)/J\n",
    "    x_v = a\n",
    "    result = 0\n",
    "    for i in range(J):\n",
    "        x_h = x_v + w\n",
    "        result += f((x_h+x_v)/2)\n",
    "        x_v = x_h\n",
    "    result *= w\n",
    "    return result\n",
    "\n",
    "# Define the function f(x)\n",
    "def f_numeric(x):\n",
    "    return sin(x**2) * exp(3*x)  # Use Python's math functions\n",
    "\n",
    "# Compute Riemann sums with 20 intervals\n",
    "J = 20\n",
    "left_sum = riemann(f_numeric, 0, 3, J)\n",
    "right_sum = riemann(f_numeric, 0, 3, J)\n",
    "midpoint_sum = riemann(f_numeric, 0, 3, J)\n",
    "\n",
    "# Print results\n",
    "print(f\"Riemann ({J} delintervaller): {left_sum:.6f}\")"
   ]
  },
  {
   "cell_type": "markdown",
   "id": "176e3a6c",
   "metadata": {},
   "source": [
    "#### Spørgsmål d"
   ]
  },
  {
   "cell_type": "markdown",
   "id": "73b773a9",
   "metadata": {},
   "source": [
    "Ved trapez-metoden approksimerer vi ikke længere arealet under en graf med et rektangel. Kan du komme frem til hvordan formen ser ud baseret på formlen ovenfor?"
   ]
  },
  {
   "cell_type": "markdown",
   "id": "0ca32b36",
   "metadata": {},
   "source": [
    "#### Svar\n",
    "I stedet for at tilnærme arealet under grafen ved et rektangel (som i Riemann-summen), bruger vi trapezer."
   ]
  },
  {
   "cell_type": "markdown",
   "id": "3d9f2dc9",
   "metadata": {},
   "source": [
    "#### Spørgsmål e"
   ]
  },
  {
   "cell_type": "markdown",
   "id": "85fa4043",
   "metadata": {},
   "source": [
    "Implementer nu trapez-metoden\n",
    "\n",
    "```{code}\n",
    "def trapez_sum(f,a,b,J):\n",
    "```\n",
    "hvor $f$ er en kontinuert funktion, $a$ og $b$ er interval-endepunkterne og $J$ antal inddelinger af integralet. Når du har skrevet den kan du teste den på samme integral som ovenfor med $J=20$."
   ]
  },
  {
   "cell_type": "code",
   "execution_count": 21,
   "id": "9ae81283",
   "metadata": {},
   "outputs": [
    {
     "ename": "AttributeError",
     "evalue": "'ImmutableDenseNDimArray' object has no attribute 'as_coefficient'",
     "output_type": "error",
     "traceback": [
      "\u001b[1;31m---------------------------------------------------------------------------\u001b[0m",
      "\u001b[1;31mTypeError\u001b[0m                                 Traceback (most recent call last)",
      "File \u001b[1;32mc:\\Users\\chris\\.conda\\envs\\DTUMisc\\Lib\\site-packages\\sympy\\core\\cache.py:72\u001b[0m, in \u001b[0;36m__cacheit.<locals>.func_wrapper.<locals>.wrapper\u001b[1;34m(*args, **kwargs)\u001b[0m\n\u001b[0;32m     71\u001b[0m \u001b[38;5;28;01mtry\u001b[39;00m:\n\u001b[1;32m---> 72\u001b[0m     retval \u001b[38;5;241m=\u001b[39m \u001b[43mcfunc\u001b[49m\u001b[43m(\u001b[49m\u001b[38;5;241;43m*\u001b[39;49m\u001b[43margs\u001b[49m\u001b[43m,\u001b[49m\u001b[43m \u001b[49m\u001b[38;5;241;43m*\u001b[39;49m\u001b[38;5;241;43m*\u001b[39;49m\u001b[43mkwargs\u001b[49m\u001b[43m)\u001b[49m\n\u001b[0;32m     73\u001b[0m \u001b[38;5;28;01mexcept\u001b[39;00m \u001b[38;5;167;01mTypeError\u001b[39;00m \u001b[38;5;28;01mas\u001b[39;00m e:\n",
      "\u001b[1;31mTypeError\u001b[0m: unhashable type: 'numpy.ndarray'",
      "\nDuring handling of the above exception, another exception occurred:\n",
      "\u001b[1;31mTypeError\u001b[0m                                 Traceback (most recent call last)",
      "File \u001b[1;32mc:\\Users\\chris\\.conda\\envs\\DTUMisc\\Lib\\site-packages\\sympy\\core\\cache.py:72\u001b[0m, in \u001b[0;36m__cacheit.<locals>.func_wrapper.<locals>.wrapper\u001b[1;34m(*args, **kwargs)\u001b[0m\n\u001b[0;32m     71\u001b[0m \u001b[38;5;28;01mtry\u001b[39;00m:\n\u001b[1;32m---> 72\u001b[0m     retval \u001b[38;5;241m=\u001b[39m \u001b[43mcfunc\u001b[49m\u001b[43m(\u001b[49m\u001b[38;5;241;43m*\u001b[39;49m\u001b[43margs\u001b[49m\u001b[43m,\u001b[49m\u001b[43m \u001b[49m\u001b[38;5;241;43m*\u001b[39;49m\u001b[38;5;241;43m*\u001b[39;49m\u001b[43mkwargs\u001b[49m\u001b[43m)\u001b[49m\n\u001b[0;32m     73\u001b[0m \u001b[38;5;28;01mexcept\u001b[39;00m \u001b[38;5;167;01mTypeError\u001b[39;00m \u001b[38;5;28;01mas\u001b[39;00m e:\n",
      "\u001b[1;31mTypeError\u001b[0m: unhashable type: 'numpy.ndarray'",
      "\nDuring handling of the above exception, another exception occurred:\n",
      "\u001b[1;31mAttributeError\u001b[0m                            Traceback (most recent call last)",
      "Cell \u001b[1;32mIn[21], line 29\u001b[0m\n\u001b[0;32m     27\u001b[0m \u001b[38;5;66;03m# Compute the integral with 20 intervals\u001b[39;00m\n\u001b[0;32m     28\u001b[0m J \u001b[38;5;241m=\u001b[39m \u001b[38;5;241m20\u001b[39m\n\u001b[1;32m---> 29\u001b[0m trapez_integral \u001b[38;5;241m=\u001b[39m \u001b[43mtrapez_method\u001b[49m\u001b[43m(\u001b[49m\u001b[43mf_numeric\u001b[49m\u001b[43m,\u001b[49m\u001b[43m \u001b[49m\u001b[38;5;241;43m0\u001b[39;49m\u001b[43m,\u001b[49m\u001b[43m \u001b[49m\u001b[38;5;241;43m3\u001b[39;49m\u001b[43m,\u001b[49m\u001b[43m \u001b[49m\u001b[43mJ\u001b[49m\u001b[43m)\u001b[49m\n\u001b[0;32m     31\u001b[0m \u001b[38;5;66;03m# Print result\u001b[39;00m\n\u001b[0;32m     32\u001b[0m \u001b[38;5;28mprint\u001b[39m(\u001b[38;5;124mf\u001b[39m\u001b[38;5;124m\"\u001b[39m\u001b[38;5;124mTrapezmetoden integral (\u001b[39m\u001b[38;5;132;01m{\u001b[39;00mJ\u001b[38;5;132;01m}\u001b[39;00m\u001b[38;5;124m delintervaller): \u001b[39m\u001b[38;5;132;01m{\u001b[39;00mtrapez_integral\u001b[38;5;132;01m:\u001b[39;00m\u001b[38;5;124m.6f\u001b[39m\u001b[38;5;132;01m}\u001b[39;00m\u001b[38;5;124m\"\u001b[39m)\n",
      "Cell \u001b[1;32mIn[21], line 18\u001b[0m, in \u001b[0;36mtrapez_method\u001b[1;34m(f, a, b, J)\u001b[0m\n\u001b[0;32m     15\u001b[0m x_vals \u001b[38;5;241m=\u001b[39m np\u001b[38;5;241m.\u001b[39mlinspace(a, b, J\u001b[38;5;241m+\u001b[39m\u001b[38;5;241m1\u001b[39m)  \u001b[38;5;66;03m# Inkluderer både x_0 og x_J\u001b[39;00m\n\u001b[0;32m     17\u001b[0m integral \u001b[38;5;241m=\u001b[39m (f(x_vals[\u001b[38;5;241m0\u001b[39m]) \u001b[38;5;241m+\u001b[39m f(x_vals[\u001b[38;5;241m-\u001b[39m\u001b[38;5;241m1\u001b[39m])) \u001b[38;5;241m/\u001b[39m \u001b[38;5;241m2\u001b[39m  \u001b[38;5;66;03m# f(a) + f(b), vægtet med 1/2\u001b[39;00m\n\u001b[1;32m---> 18\u001b[0m integral \u001b[38;5;241m+\u001b[39m\u001b[38;5;241m=\u001b[39m np\u001b[38;5;241m.\u001b[39msum(\u001b[43mf\u001b[49m\u001b[43m(\u001b[49m\u001b[43mx_vals\u001b[49m\u001b[43m[\u001b[49m\u001b[38;5;241;43m1\u001b[39;49m\u001b[43m:\u001b[49m\u001b[38;5;241;43m-\u001b[39;49m\u001b[38;5;241;43m1\u001b[39;49m\u001b[43m]\u001b[49m\u001b[43m)\u001b[49m)  \u001b[38;5;66;03m# Sum af indre funktionværdier\u001b[39;00m\n\u001b[0;32m     19\u001b[0m integral \u001b[38;5;241m*\u001b[39m\u001b[38;5;241m=\u001b[39m dx  \u001b[38;5;66;03m# Gang med Δx\u001b[39;00m\n\u001b[0;32m     21\u001b[0m \u001b[38;5;28;01mreturn\u001b[39;00m integral\n",
      "Cell \u001b[1;32mIn[21], line 25\u001b[0m, in \u001b[0;36mf_numeric\u001b[1;34m(x)\u001b[0m\n\u001b[0;32m     24\u001b[0m \u001b[38;5;28;01mdef\u001b[39;00m \u001b[38;5;21mf_numeric\u001b[39m(x):\n\u001b[1;32m---> 25\u001b[0m     \u001b[38;5;28;01mreturn\u001b[39;00m \u001b[43msin\u001b[49m\u001b[43m(\u001b[49m\u001b[43mx\u001b[49m\u001b[38;5;241;43m*\u001b[39;49m\u001b[38;5;241;43m*\u001b[39;49m\u001b[38;5;241;43m2\u001b[39;49m\u001b[43m)\u001b[49m \u001b[38;5;241m*\u001b[39m exp(\u001b[38;5;241m3\u001b[39m\u001b[38;5;241m*\u001b[39mx)\n",
      "File \u001b[1;32mc:\\Users\\chris\\.conda\\envs\\DTUMisc\\Lib\\site-packages\\sympy\\core\\cache.py:76\u001b[0m, in \u001b[0;36m__cacheit.<locals>.func_wrapper.<locals>.wrapper\u001b[1;34m(*args, **kwargs)\u001b[0m\n\u001b[0;32m     74\u001b[0m     \u001b[38;5;28;01mif\u001b[39;00m \u001b[38;5;129;01mnot\u001b[39;00m e\u001b[38;5;241m.\u001b[39margs \u001b[38;5;129;01mor\u001b[39;00m \u001b[38;5;129;01mnot\u001b[39;00m e\u001b[38;5;241m.\u001b[39margs[\u001b[38;5;241m0\u001b[39m]\u001b[38;5;241m.\u001b[39mstartswith(\u001b[38;5;124m'\u001b[39m\u001b[38;5;124munhashable type:\u001b[39m\u001b[38;5;124m'\u001b[39m):\n\u001b[0;32m     75\u001b[0m         \u001b[38;5;28;01mraise\u001b[39;00m\n\u001b[1;32m---> 76\u001b[0m     retval \u001b[38;5;241m=\u001b[39m \u001b[43mfunc\u001b[49m\u001b[43m(\u001b[49m\u001b[38;5;241;43m*\u001b[39;49m\u001b[43margs\u001b[49m\u001b[43m,\u001b[49m\u001b[43m \u001b[49m\u001b[38;5;241;43m*\u001b[39;49m\u001b[38;5;241;43m*\u001b[39;49m\u001b[43mkwargs\u001b[49m\u001b[43m)\u001b[49m\n\u001b[0;32m     77\u001b[0m \u001b[38;5;28;01mreturn\u001b[39;00m retval\n",
      "File \u001b[1;32mc:\\Users\\chris\\.conda\\envs\\DTUMisc\\Lib\\site-packages\\sympy\\core\\function.py:466\u001b[0m, in \u001b[0;36mFunction.__new__\u001b[1;34m(cls, *args, **options)\u001b[0m\n\u001b[0;32m    458\u001b[0m     \u001b[38;5;28;01mraise\u001b[39;00m \u001b[38;5;167;01mTypeError\u001b[39;00m(temp \u001b[38;5;241m%\u001b[39m {\n\u001b[0;32m    459\u001b[0m         \u001b[38;5;124m'\u001b[39m\u001b[38;5;124mname\u001b[39m\u001b[38;5;124m'\u001b[39m: \u001b[38;5;28mcls\u001b[39m,\n\u001b[0;32m    460\u001b[0m         \u001b[38;5;124m'\u001b[39m\u001b[38;5;124mqual\u001b[39m\u001b[38;5;124m'\u001b[39m: \u001b[38;5;124m'\u001b[39m\u001b[38;5;124mexactly\u001b[39m\u001b[38;5;124m'\u001b[39m \u001b[38;5;28;01mif\u001b[39;00m \u001b[38;5;28mlen\u001b[39m(\u001b[38;5;28mcls\u001b[39m\u001b[38;5;241m.\u001b[39mnargs) \u001b[38;5;241m==\u001b[39m \u001b[38;5;241m1\u001b[39m \u001b[38;5;28;01melse\u001b[39;00m \u001b[38;5;124m'\u001b[39m\u001b[38;5;124mat least\u001b[39m\u001b[38;5;124m'\u001b[39m,\n\u001b[0;32m    461\u001b[0m         \u001b[38;5;124m'\u001b[39m\u001b[38;5;124margs\u001b[39m\u001b[38;5;124m'\u001b[39m: \u001b[38;5;28mmin\u001b[39m(\u001b[38;5;28mcls\u001b[39m\u001b[38;5;241m.\u001b[39mnargs),\n\u001b[0;32m    462\u001b[0m         \u001b[38;5;124m'\u001b[39m\u001b[38;5;124mplural\u001b[39m\u001b[38;5;124m'\u001b[39m: \u001b[38;5;124m'\u001b[39m\u001b[38;5;124ms\u001b[39m\u001b[38;5;124m'\u001b[39m\u001b[38;5;241m*\u001b[39m(\u001b[38;5;28mmin\u001b[39m(\u001b[38;5;28mcls\u001b[39m\u001b[38;5;241m.\u001b[39mnargs) \u001b[38;5;241m!=\u001b[39m \u001b[38;5;241m1\u001b[39m),\n\u001b[0;32m    463\u001b[0m         \u001b[38;5;124m'\u001b[39m\u001b[38;5;124mgiven\u001b[39m\u001b[38;5;124m'\u001b[39m: n})\n\u001b[0;32m    465\u001b[0m evaluate \u001b[38;5;241m=\u001b[39m options\u001b[38;5;241m.\u001b[39mget(\u001b[38;5;124m'\u001b[39m\u001b[38;5;124mevaluate\u001b[39m\u001b[38;5;124m'\u001b[39m, global_parameters\u001b[38;5;241m.\u001b[39mevaluate)\n\u001b[1;32m--> 466\u001b[0m result \u001b[38;5;241m=\u001b[39m \u001b[38;5;28;43msuper\u001b[39;49m\u001b[43m(\u001b[49m\u001b[43m)\u001b[49m\u001b[38;5;241;43m.\u001b[39;49m\u001b[38;5;21;43m__new__\u001b[39;49m\u001b[43m(\u001b[49m\u001b[38;5;28;43mcls\u001b[39;49m\u001b[43m,\u001b[49m\u001b[43m \u001b[49m\u001b[38;5;241;43m*\u001b[39;49m\u001b[43margs\u001b[49m\u001b[43m,\u001b[49m\u001b[43m \u001b[49m\u001b[38;5;241;43m*\u001b[39;49m\u001b[38;5;241;43m*\u001b[39;49m\u001b[43moptions\u001b[49m\u001b[43m)\u001b[49m\n\u001b[0;32m    467\u001b[0m \u001b[38;5;28;01mif\u001b[39;00m evaluate \u001b[38;5;129;01mand\u001b[39;00m \u001b[38;5;28misinstance\u001b[39m(result, \u001b[38;5;28mcls\u001b[39m) \u001b[38;5;129;01mand\u001b[39;00m result\u001b[38;5;241m.\u001b[39margs:\n\u001b[0;32m    468\u001b[0m     _should_evalf \u001b[38;5;241m=\u001b[39m [\u001b[38;5;28mcls\u001b[39m\u001b[38;5;241m.\u001b[39m_should_evalf(a) \u001b[38;5;28;01mfor\u001b[39;00m a \u001b[38;5;129;01min\u001b[39;00m result\u001b[38;5;241m.\u001b[39margs]\n",
      "File \u001b[1;32mc:\\Users\\chris\\.conda\\envs\\DTUMisc\\Lib\\site-packages\\sympy\\core\\cache.py:76\u001b[0m, in \u001b[0;36m__cacheit.<locals>.func_wrapper.<locals>.wrapper\u001b[1;34m(*args, **kwargs)\u001b[0m\n\u001b[0;32m     74\u001b[0m     \u001b[38;5;28;01mif\u001b[39;00m \u001b[38;5;129;01mnot\u001b[39;00m e\u001b[38;5;241m.\u001b[39margs \u001b[38;5;129;01mor\u001b[39;00m \u001b[38;5;129;01mnot\u001b[39;00m e\u001b[38;5;241m.\u001b[39margs[\u001b[38;5;241m0\u001b[39m]\u001b[38;5;241m.\u001b[39mstartswith(\u001b[38;5;124m'\u001b[39m\u001b[38;5;124munhashable type:\u001b[39m\u001b[38;5;124m'\u001b[39m):\n\u001b[0;32m     75\u001b[0m         \u001b[38;5;28;01mraise\u001b[39;00m\n\u001b[1;32m---> 76\u001b[0m     retval \u001b[38;5;241m=\u001b[39m \u001b[43mfunc\u001b[49m\u001b[43m(\u001b[49m\u001b[38;5;241;43m*\u001b[39;49m\u001b[43margs\u001b[49m\u001b[43m,\u001b[49m\u001b[43m \u001b[49m\u001b[38;5;241;43m*\u001b[39;49m\u001b[38;5;241;43m*\u001b[39;49m\u001b[43mkwargs\u001b[49m\u001b[43m)\u001b[49m\n\u001b[0;32m     77\u001b[0m \u001b[38;5;28;01mreturn\u001b[39;00m retval\n",
      "File \u001b[1;32mc:\\Users\\chris\\.conda\\envs\\DTUMisc\\Lib\\site-packages\\sympy\\core\\function.py:307\u001b[0m, in \u001b[0;36mApplication.__new__\u001b[1;34m(cls, *args, **options)\u001b[0m\n\u001b[0;32m    304\u001b[0m     \u001b[38;5;28;01mraise\u001b[39;00m \u001b[38;5;167;01mValueError\u001b[39;00m(\u001b[38;5;124m\"\u001b[39m\u001b[38;5;124mUnknown options: \u001b[39m\u001b[38;5;132;01m%s\u001b[39;00m\u001b[38;5;124m\"\u001b[39m \u001b[38;5;241m%\u001b[39m options)\n\u001b[0;32m    306\u001b[0m \u001b[38;5;28;01mif\u001b[39;00m evaluate:\n\u001b[1;32m--> 307\u001b[0m     evaluated \u001b[38;5;241m=\u001b[39m \u001b[38;5;28;43mcls\u001b[39;49m\u001b[38;5;241;43m.\u001b[39;49m\u001b[43meval\u001b[49m\u001b[43m(\u001b[49m\u001b[38;5;241;43m*\u001b[39;49m\u001b[43margs\u001b[49m\u001b[43m)\u001b[49m\n\u001b[0;32m    308\u001b[0m     \u001b[38;5;28;01mif\u001b[39;00m evaluated \u001b[38;5;129;01mis\u001b[39;00m \u001b[38;5;129;01mnot\u001b[39;00m \u001b[38;5;28;01mNone\u001b[39;00m:\n\u001b[0;32m    309\u001b[0m         \u001b[38;5;28;01mreturn\u001b[39;00m evaluated\n",
      "File \u001b[1;32mc:\\Users\\chris\\.conda\\envs\\DTUMisc\\Lib\\site-packages\\sympy\\functions\\elementary\\trigonometric.py:343\u001b[0m, in \u001b[0;36msin.eval\u001b[1;34m(cls, arg)\u001b[0m\n\u001b[0;32m    340\u001b[0m \u001b[38;5;28;01mif\u001b[39;00m arg\u001b[38;5;241m.\u001b[39mcould_extract_minus_sign():\n\u001b[0;32m    341\u001b[0m     \u001b[38;5;28;01mreturn\u001b[39;00m \u001b[38;5;241m-\u001b[39m\u001b[38;5;28mcls\u001b[39m(\u001b[38;5;241m-\u001b[39marg)\n\u001b[1;32m--> 343\u001b[0m i_coeff \u001b[38;5;241m=\u001b[39m \u001b[43m_imaginary_unit_as_coefficient\u001b[49m\u001b[43m(\u001b[49m\u001b[43marg\u001b[49m\u001b[43m)\u001b[49m\n\u001b[0;32m    344\u001b[0m \u001b[38;5;28;01mif\u001b[39;00m i_coeff \u001b[38;5;129;01mis\u001b[39;00m \u001b[38;5;129;01mnot\u001b[39;00m \u001b[38;5;28;01mNone\u001b[39;00m:\n\u001b[0;32m    345\u001b[0m     \u001b[38;5;28;01mfrom\u001b[39;00m \u001b[38;5;21;01msympy\u001b[39;00m\u001b[38;5;21;01m.\u001b[39;00m\u001b[38;5;21;01mfunctions\u001b[39;00m\u001b[38;5;21;01m.\u001b[39;00m\u001b[38;5;21;01melementary\u001b[39;00m\u001b[38;5;21;01m.\u001b[39;00m\u001b[38;5;21;01mhyperbolic\u001b[39;00m \u001b[38;5;28;01mimport\u001b[39;00m sinh\n",
      "File \u001b[1;32mc:\\Users\\chris\\.conda\\envs\\DTUMisc\\Lib\\site-packages\\sympy\\functions\\elementary\\trigonometric.py:38\u001b[0m, in \u001b[0;36m_imaginary_unit_as_coefficient\u001b[1;34m(arg)\u001b[0m\n\u001b[0;32m     36\u001b[0m     \u001b[38;5;28;01mreturn\u001b[39;00m \u001b[38;5;28;01mNone\u001b[39;00m\n\u001b[0;32m     37\u001b[0m \u001b[38;5;28;01melse\u001b[39;00m:\n\u001b[1;32m---> 38\u001b[0m     \u001b[38;5;28;01mreturn\u001b[39;00m \u001b[43marg\u001b[49m\u001b[38;5;241;43m.\u001b[39;49m\u001b[43mas_coefficient\u001b[49m(S\u001b[38;5;241m.\u001b[39mImaginaryUnit)\n",
      "\u001b[1;31mAttributeError\u001b[0m: 'ImmutableDenseNDimArray' object has no attribute 'as_coefficient'"
     ]
    }
   ],
   "source": [
    "# Svar\n",
    "def trapez_method(f, a, b, J):\n",
    "    '''\n",
    "    Beregner integralet af f(x) på intervallet [a,b] med J delintervaller ved hjælp af trapezmetoden.\n",
    "\n",
    "    Parametre:\n",
    "    - f: En kontinuerlig funktion f(x), givet som en Python-funktion.\n",
    "    - a, b: Interval-endepunkterne.\n",
    "    - J: Antal delintervaller.\n",
    "\n",
    "    Returnerer:\n",
    "    - En numerisk approksimation af integralet.\n",
    "    '''\n",
    "    dx = (b - a) / J  # Bredden af hvert delinterval\n",
    "    x_vals = np.linspace(a, b, J+1)  # Inkluderer både x_0 og x_J\n",
    "\n",
    "    integral = (f(x_vals[0]) + f(x_vals[-1])) / 2  # f(a) + f(b), vægtet med 1/2\n",
    "    integral += np.sum(f(x_vals[1:-1]))  # Sum af indre funktionværdier\n",
    "    integral *= dx  # Gang med Δx\n",
    "\n",
    "    return integral\n",
    "\n",
    "# Definer den funktion, vi vil integrere\n",
    "def f_numeric(x):\n",
    "    return sin(x**2) * exp(3*x)\n",
    "\n",
    "# Compute the integral with 20 intervals\n",
    "J = 20\n",
    "trapez_integral = trapez_method(f_numeric, 0, 3, J)\n",
    "\n",
    "# Print result\n",
    "print(f\"Trapezmetoden integral ({J} delintervaller): {trapez_integral:.6f}\")"
   ]
  },
  {
   "cell_type": "markdown",
   "id": "6d2c9e69",
   "metadata": {},
   "source": [
    "#### Spørgsmål f\n",
    "\n",
    "Det ser ikke umiddelbart ud til vi får det samme værdi af integralet. Sammenlign dine resultater fra Spørgsmål a, b, c og e. Hvilken metode er bedst? Hvorfor mon? Prøv også både med flere og færre indelinger af intervallet."
   ]
  },
  {
   "cell_type": "markdown",
   "id": "82a14e20",
   "metadata": {},
   "source": [
    "### 6: Et uegentligt integral. Håndregning."
   ]
  },
  {
   "cell_type": "markdown",
   "id": "82b14e94",
   "metadata": {},
   "source": [
    "#### Spørgsmål a"
   ]
  },
  {
   "cell_type": "markdown",
   "id": "b3124e50",
   "metadata": {},
   "source": [
    "Følgende er ikke et Riemann integral $\\int_0^1 \\frac{1}{\\sqrt{x}} \\mathrm{d} x$. Hvorfor ikke?"
   ]
  },
  {
   "cell_type": "markdown",
   "id": "60ebaa49",
   "metadata": {},
   "source": [
    "#### Spørgsmål b"
   ]
  },
  {
   "cell_type": "markdown",
   "id": "236c0d1b",
   "metadata": {},
   "source": [
    "Udregn $\\int_0^1 \\frac{1}{\\sqrt{x}} \\mathrm{d} x$ som $\\lim_{a \\to 0} \\int_a^1 \\frac{1}{\\sqrt{x}} \\mathrm{d} x$"
   ]
  },
  {
   "cell_type": "markdown",
   "id": "b2fc6a7f",
   "metadata": {},
   "source": [
    "#### Spørgsmål c"
   ]
  },
  {
   "cell_type": "markdown",
   "id": "d5604869",
   "metadata": {},
   "source": [
    "Find på lignende måde integralet $\\int_1^\\infty \\frac{1}{\\sqrt{x}} \\mathrm{d} x$ (hvis muligt)."
   ]
  },
  {
   "cell_type": "markdown",
   "id": "e4624cef",
   "metadata": {},
   "source": [
    "### 7: Variabelskift for et integral i 2D\n",
    "\n",
    "Bestem integralet\n",
    "\\begin{equation*}\n",
    "    \\int_{0}^1\\int_1^8\\frac{y}{x+xy}\\mathrm{d} x\\mathrm{d}y\n",
    "\\end{equation*}\n",
    "ved hjælp af variabelskift."
   ]
  },
  {
   "cell_type": "markdown",
   "id": "ed4a92dc",
   "metadata": {},
   "source": [
    "## Opgaver -- Lille Dag"
   ]
  },
  {
   "cell_type": "markdown",
   "id": "284e96b3",
   "metadata": {},
   "source": [
    "### 1: Ubestemte og bestemte integraler. Håndregning"
   ]
  },
  {
   "cell_type": "markdown",
   "id": "78d25285",
   "metadata": {},
   "source": [
    "#### Spørgsmål a"
   ]
  },
  {
   "cell_type": "markdown",
   "id": "a400fb6f",
   "metadata": {},
   "source": [
    "Bestem en stamfunktion til hver af funktionerne \n",
    "\n",
    "\\begin{equation*}\n",
    "    x^3, \\quad  \\frac{1}{x^3} \\quad \\text{og} \\quad \\sin(3x-\\frac{\\pi}{2})\n",
    "\\end{equation*}"
   ]
  },
  {
   "cell_type": "markdown",
   "id": "2bd6d585",
   "metadata": {},
   "source": [
    "#### Spørgsmål b"
   ]
  },
  {
   "cell_type": "markdown",
   "id": "4721fca1",
   "metadata": {},
   "source": [
    "Udregn de følgende Riemann integraler\n",
    "\n",
    "\\begin{equation*}\n",
    "    \\int_0^{1}x^3\\mathrm{d}x, \\quad \\int_1^{2}\\frac{1}{x^3}\\mathrm{d}x \n",
    "\\quad \\text{og} \\quad\n",
    "\\int_{-\\frac{\\pi}{2}}^{0}\\sin(3x-\\frac{\\pi}{2})\\mathrm{d}x.\n",
    "\\end{equation*}"
   ]
  },
  {
   "cell_type": "markdown",
   "id": "61eeeaec",
   "metadata": {},
   "source": [
    "### 2: Partiel integration. Håndregning"
   ]
  },
  {
   "cell_type": "markdown",
   "id": "2002a702",
   "metadata": {},
   "source": [
    "#### Spørgsmål a"
   ]
  },
  {
   "cell_type": "markdown",
   "id": "73dd0ba8",
   "metadata": {},
   "source": [
    "Vi skal først *bevise* <a href=\"../_assets/textbook_mat1b_en.pdf#item:rules-int-partial\">formlen</a>\n",
    "for partiel integration. Start med at differentiere udtrykket på højresiden af\n",
    "\n",
    "\\begin{equation*}\n",
    "   \\int f(x)g(x)\\mathrm{d}x = F(x)g(x)- \\int F(x)g^\\prime(x) \\mathrm{d} x.\n",
    "\\end{equation*}\n",
    "\n",
    "\n",
    "\n",
    "Færdiggør nu beviset."
   ]
  },
  {
   "cell_type": "markdown",
   "id": "eb382c92",
   "metadata": {},
   "source": [
    "#### Spørgsmål b"
   ]
  },
  {
   "cell_type": "markdown",
   "id": "f0f24bad",
   "metadata": {},
   "source": [
    "Bestem en stamfuntion til funktionen $x\\cos(x)$, og tjek at den er korrekt."
   ]
  },
  {
   "cell_type": "markdown",
   "id": "5a092006",
   "metadata": {},
   "source": [
    "#### Spørgsmål c"
   ]
  },
  {
   "cell_type": "markdown",
   "id": "7c03226b",
   "metadata": {},
   "source": [
    "Find en stamfunktion til $\\ln(x)$ ved hjælp af partiel integration."
   ]
  },
  {
   "cell_type": "markdown",
   "id": "368fede2",
   "metadata": {},
   "source": [
    "### 3: Integration ved substitution. Håndregning"
   ]
  },
  {
   "cell_type": "markdown",
   "id": "8a07a315",
   "metadata": {},
   "source": [
    "Til spørgsmålene i denne opgave, benyt substitutionsformlen\n",
    "\n",
    "\\begin{equation*}\n",
    "    \\int{f(g(x))g'(x)\\mathrm{d}x}=\\int{f(t)\\mathrm{d}t}\\quad \\text{hvor } t=g(x)\n",
    "\\end{equation*}"
   ]
  },
  {
   "cell_type": "markdown",
   "id": "fd8f71a7",
   "metadata": {},
   "source": [
    "#### Spørgsmål a"
   ]
  },
  {
   "cell_type": "markdown",
   "id": "84ff63ab",
   "metadata": {},
   "source": [
    "Bestem en stamfunktion til $\\displaystyle{x\\mathrm{e}^{x^2}}$."
   ]
  },
  {
   "cell_type": "markdown",
   "id": "fc06b4ed",
   "metadata": {},
   "source": [
    "#### Spørgsmål b"
   ]
  },
  {
   "cell_type": "markdown",
   "id": "ef25da40",
   "metadata": {},
   "source": [
    "Find det ubestemte integral $\\displaystyle{\\int \\frac{x}{x^2+1}  \\mathrm{d}x}$."
   ]
  },
  {
   "cell_type": "markdown",
   "id": "c51c267a",
   "metadata": {},
   "source": [
    "#### Spørgsmål c"
   ]
  },
  {
   "cell_type": "markdown",
   "id": "e40759ca",
   "metadata": {},
   "source": [
    "Find en stamfunktion til $\\displaystyle{\\frac{\\sin (x)}{3 -\\cos(x)}}$ og bestem derefter $\\displaystyle{\\int_0^{\\pi} \\frac{\\sin (x)}{3 -\\cos(x)} \\mathrm{d}x}$."
   ]
  },
  {
   "cell_type": "markdown",
   "id": "ea7ed00b",
   "metadata": {},
   "source": [
    "### 4: Talfølger. Håndregning"
   ]
  },
  {
   "cell_type": "markdown",
   "id": "f40fc955",
   "metadata": {},
   "source": [
    "I denne og den følgende opgave gives der smagsprøver på en vigtig byggesten for integralregning: Talfølger og deres eventuelle konvergens. Fra Den Store Danske (Gyldendal):\n",
    "\n",
    ">**konvergens**, begreb af fundamental betydning i matematisk analyse, specielt i teorien for uendelige rækker. En følge af reelle tal $x_1,x_2,\\ldots$ kaldes konvergent, hvis der findes et tal $x$, så tallet $x_n$ er vilkårligt tæt på $x$, blot $n$ er tilstrækkelig stor $(\\ldots)$. Tallet $x$ kaldes grænseværdien for følgen, som siges at konvergere mod $x$ Hvis følgen ikke er konvergent, kaldes den divergent.\n",
    "\n",
    "Mere præcist siges en talfølge $x_1,x_2,\\ldots$ at være konvergent hvis der findes et tal $x$ med følgende egenskab: \n",
    "\n",
    "\\begin{equation*}\n",
    "\\forall \\epsilon >0 \\exists N \\in \\mathbb{N}: n \\ge N \\Rightarrow |x_n -x| < \\epsilon. \n",
    "\\end{equation*}\n",
    "\n",
    "Fire talfølger $(a_n)_{n=1}^\\infty$, $(b_n)_{n=1}^\\infty$, $(c_n)_{n=1}^\\infty$ og $(d_n)_{n=1}^\\infty$ er givet ved\n",
    "\n",
    "\\begin{equation*}\n",
    "    a_n=\\frac 1n, \\: b_n=\\frac{n-1}{2n}, \\: c_n=\\frac{n}{1000} \\:\\text{og}\\; d_n=\\frac{4n^2+16}{8-3n^2}\n",
    "\\end{equation*}\n",
    "\n",
    "for $n \\in \\mathbb{N}$. En følge skrives kort $(a_n)$ for $(a_1, a_2, \\dots)$ og kan opfattes som en uendelig liste (eng: infinite ordered list).\n",
    "\n",
    "Afgør hvilke af de fire talfølger der er konvergente, og angiv grænseværdien for dem som er konvergente. \n",
    "\n",
    "**Note:**\n",
    "Konvergens begrabet er ikke kun vigtigt i den matematiske analyse. Det er også *den præcise bekskrivelse* af \"ingeniør-udsagn\" som: \n",
    "\n",
    "> Vores algoritme/metode/osv. konvergerer hvis vi blot medtager nok målepunkter/datapunkter/samplinger/osv."
   ]
  },
  {
   "cell_type": "markdown",
   "id": "e7acf69c",
   "metadata": {},
   "source": [
    "### 5: Integraler via venstresummer. Håndregning"
   ]
  },
  {
   "cell_type": "markdown",
   "id": "935b816a",
   "metadata": {},
   "source": [
    "Vi skal udregne Riemann integralet $\\displaystyle{\\int_0^1 f(x) \\mathrm{d}x}$ af funktionen \n",
    "\n",
    "\\begin{equation*}\n",
    "    f(x)=x, \\quad x\\in \\left[0,1\\right]\n",
    "\\end{equation*}\n",
    "\n",
    "**direkte** fra definitionen (du må altså ikke finde en stamfunktion $F(x)=x^2/2$ og så udregne $F(1)-F(0)=1/2-0=1/2$).\n",
    "\n",
    "Vi opdeler intervallet $[0,1]$ i $n$ *lige store* stykker, dvs $x_j=j/n$ for $j=0,1,2,\\dots, n$. Riemann summen $S_n$ kaldes for en *ventresum* $V_n$, hvis vi altid evaluerer $f$ i venstre endepunkt i hvert del-interval, altså $\\xi_j = x_{j-1}$ for $\\xi_j \\in [x_{j-1},x_j]$ for $j=1,2,\\dots, n$. \n",
    "\n",
    "Bestem ved hjælp heraf $\\displaystyle{\\int_0^1 x\\mathrm{d}x} = \\lim_{n \\to \\infty} V_n$."
   ]
  }
 ],
 "metadata": {
  "jupytext": {
   "formats": "md:myst"
  },
  "kernelspec": {
   "display_name": "Python 3",
   "language": "python",
   "name": "python3"
  },
  "language_info": {
   "codemirror_mode": {
    "name": "ipython",
    "version": 3
   },
   "file_extension": ".py",
   "mimetype": "text/x-python",
   "name": "python",
   "nbconvert_exporter": "python",
   "pygments_lexer": "ipython3",
   "version": "3.11.10"
  }
 },
 "nbformat": 4,
 "nbformat_minor": 5
}
