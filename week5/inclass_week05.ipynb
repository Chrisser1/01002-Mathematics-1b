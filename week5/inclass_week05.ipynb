{
 "cells": [
  {
   "cell_type": "code",
   "execution_count": null,
   "id": "1249598b",
   "metadata": {},
   "outputs": [],
   "source": [
    "from sympy import*\n",
    "from dtumathtools import*\n",
    "import matplotlib.pyplot as plt\n",
    "import numpy as np\n",
    "init_printing()"
   ]
  },
  {
   "cell_type": "markdown",
   "id": "26709bd9",
   "metadata": {},
   "source": [
    "# Uge 5: Øvelser"
   ]
  },
  {
   "cell_type": "markdown",
   "id": "032cf92a",
   "metadata": {},
   "source": [
    "**Note:**\n",
    "* Betegnelserne *grad* og *orden* (eng: *degree* and *order*) af polynomier bruges synonymt. Vi bruger oftest \"grad\".\n",
    "* Betegnelserne *Taylorpolynomium* og *approksimerende polynomium* bruges også synonymt. Vi bruger begge betegnelser."
   ]
  },
  {
   "cell_type": "markdown",
   "id": "57654129",
   "metadata": {},
   "source": [
    "## Opgaver -- Store Dag"
   ]
  },
  {
   "cell_type": "markdown",
   "id": "4122314d",
   "metadata": {},
   "source": [
    "### 1: Approksimerende polynomier. Håndregning"
   ]
  },
  {
   "cell_type": "markdown",
   "id": "dc5861b5",
   "metadata": {},
   "source": [
    "#### Spørgsmål a"
   ]
  },
  {
   "cell_type": "markdown",
   "id": "91770a7a",
   "metadata": {},
   "source": [
    "Find for hver af de følgende funktioner deres første og andengrads Taylorpolynomier med udviklingspunkt $x_0=0$.\n",
    "\n",
    "1. $f(x)=\\operatorname{e}^x,\\quad x\\in \\mathbb{R}$\n",
    "1. $f(x)=\\cos (x), \\quad x\\in \\mathbb{R}$\n",
    "1. $f(x)=\\operatorname{e}^{\\sin( x)},\\quad x\\in \\mathbb{R}$"
   ]
  },
  {
   "cell_type": "markdown",
   "id": "ba33f475",
   "metadata": {},
   "source": [
    "### Svar\n",
    "$$\n",
    "P_{1,f,x_0}(x) = P_1(x) = f(x_0) + \\langle (x-x_0), \\nabla f(x_0) \\rangle, \\quad x \\in \\mathbb{R}^n\n",
    "$$\n",
    "\n",
    "$$\n",
    "P_2(x) = f(x_0) + \\langle (x-x_0), \\nabla f(x_0) \\rangle + \\frac{1}{2} \\langle (x-x_0), H_f(x_0)(x-x_0)\\rangle, \\quad x \\in \\mathbb{R}^n\n",
    "$$\n",
    "\n",
    "1. $f(x)=e^x$, $x \\in \\mathbb{R}$"
   ]
  },
  {
   "cell_type": "markdown",
   "id": "539a4a2b",
   "metadata": {},
   "source": [
    "For at løse dette vil vi først finde\n",
    "$$\n",
    "f(x_0) = e^0 = 1\n",
    "$$\n",
    "\n",
    "Vi kan nu finde $\\nabla f(x_0)$:\n",
    "$$\n",
    "\\nabla f(x_0) = \\frac{df}{dx}(e^{x_0}) = e^{x_0} = e^0 = 1\n",
    "$$\n",
    "\n",
    "Vi kan nu udregne $\\langle (x-x_0), \\nabla f(x_0) \\rangle$:\n",
    "$$\n",
    "\\langle (x-x_0), \\nabla f(x_0) \\rangle = \\langle x, 1 \\rangle = x\n",
    "$$\n",
    "\n",
    "Vi har nu:\n",
    "$$\n",
    "P_{1,f,x_0}(x) = 1 + x\n",
    "$$\n",
    "\n",
    "Vi skal nu løse for anden grad som kræver vi finder $\\frac{1}{2} \\langle (x-x_0), H_f(x_0)(x-x_0)\\rangle$\n",
    "$$\n",
    "\\frac{1}{2} \\langle (x-x_0), H_f(x_0)(x-x_0)\\rangle = \\frac{1}{2} \\langle x, H_f(x_0)x\\rangle\n",
    "$$\n",
    "\n",
    "Vi kan se at vi skal finde $H_f(x_0)$, som vi kan finde som:\n",
    "$$\n",
    "H_f(x_0) = \\frac{d^2f}{dx_0}(e^{x_0}) = e^{x_0} = 1\n",
    "$$\n",
    "\n",
    "Vi har nu:\n",
    "$$\n",
    "\\frac{1}{2} \\langle (x-x_0), H_f(x_0)(x-x_0)\\rangle = \\frac{1}{2} \\langle x, x\\rangle = \\frac{1}{2}x^2\n",
    "$$\n",
    "\n",
    "dette giver os det endelige svar:\n",
    "$$\n",
    "P_2(x) = 1 + x + \\frac{1}{2}x^2\n",
    "$$\n"
   ]
  },
  {
   "cell_type": "markdown",
   "id": "63e92acc",
   "metadata": {},
   "source": [
    "2. $f(x)=\\cos (x), \\quad x\\in \\mathbb{R}$"
   ]
  },
  {
   "cell_type": "markdown",
   "id": "3d32f9f1",
   "metadata": {},
   "source": [
    "For at løse dette vil vi først finde\n",
    "$$\n",
    "f(x_0) = cos(x_0) = cos(0) = 1\n",
    "$$\n",
    "\n",
    "Vi kan nu finde $\\nabla f(x_0)$:\n",
    "$$\n",
    "\\nabla f(x_0) = \\frac{df}{dx}(cos(x_0)) = -sin(x_0) = -sin(0) = 0\n",
    "$$\n",
    "\n",
    "Vi kan nu udregne $\\langle (x-x_0), \\nabla f(x_0) \\rangle$:\n",
    "$$\n",
    "\\langle (x-x_0), \\nabla f(x_0) \\rangle = \\langle x, 0 \\rangle = 0\n",
    "$$\n",
    "\n",
    "Vi har nu:\n",
    "$$\n",
    "P_{1,f,x_0}(x) = 1 + 0 = 1\n",
    "$$\n",
    "\n",
    "Vi skal nu løse for anden grad som kræver vi finder $\\frac{1}{2} \\langle (x-x_0), H_f(x_0)(x-x_0)\\rangle$\n",
    "$$\n",
    "\\frac{1}{2} \\langle (x-x_0), H_f(x_0)(x-x_0)\\rangle = \\frac{1}{2} \\langle x, H_f(x_0)x\\rangle\n",
    "$$\n",
    "\n",
    "Vi kan se at vi skal finde $H_f(x_0)$, som vi kan finde som:\n",
    "$$\n",
    "H_f(x_0) = \\frac{d^2f}{dx_0}(cos(x_0)) = \\frac{df}{dx_0}(-sin(x_0)) = -cos(x_0) = -1\n",
    "$$\n",
    "\n",
    "Vi har nu:\n",
    "$$\n",
    "\\frac{1}{2} \\langle (x-x_0), H_f(x_0)(x-x_0)\\rangle = \\frac{1}{2} \\langle x, -x\\rangle = -\\frac{1}{2}x^2\n",
    "$$\n",
    "\n",
    "dette giver os det endelige svar:\n",
    "$$\n",
    "P_2(x) = 1 - \\frac{1}{2}x^2\n",
    "$$\n"
   ]
  },
  {
   "cell_type": "markdown",
   "id": "689dd86f",
   "metadata": {},
   "source": [
    "3. $f(x)=\\operatorname{e}^{\\sin( x)},\\quad x\\in \\mathbb{R}$"
   ]
  },
  {
   "cell_type": "markdown",
   "id": "e81e8fcb",
   "metadata": {},
   "source": [
    "For at løse dette vil vi først finde\n",
    "$$\n",
    "f(x_0) = e^{sin(x_0)} = e^{sin(0)} = 1\n",
    "$$\n",
    "\n",
    "Vi kan nu finde $\\nabla f(x_0)$:\n",
    "$$\n",
    "\\nabla f(x_0) = \\frac{df}{dx}(e^{sin(x_0)}) = e^{sin(x_0)}cos(x_0) = e^{sin(0)}cos(0) = 1\n",
    "$$\n",
    "\n",
    "Vi kan nu udregne $\\langle (x-x_0), \\nabla f(x_0) \\rangle$:\n",
    "$$\n",
    "\\langle (x-x_0), \\nabla f(x_0) \\rangle = \\langle x, 1 \\rangle = x\n",
    "$$\n",
    "\n",
    "Vi har nu:\n",
    "$$\n",
    "P_{1,f,x_0}(x) = 1 + x\n",
    "$$\n",
    "\n",
    "Vi skal nu løse for anden grad som kræver vi finder $\\frac{1}{2} \\langle (x-x_0), H_f(x_0)(x-x_0)\\rangle$\n",
    "$$\n",
    "\\frac{1}{2} \\langle (x-x_0), H_f(x_0)(x-x_0)\\rangle = \\frac{1}{2} \\langle x, H_f(x_0)x\\rangle\n",
    "$$\n",
    "\n",
    "Vi kan se at vi skal finde $H_f(x_0)$, som vi kan finde som:\n",
    "$$\n",
    "H_f(x_0) = \\frac{d^2f}{dx_0}(e^{sin(x_0)}) = \\frac{df}{dx_0}(e^{sin(x_0)}cos(x_0)) \n",
    "$$\n",
    "$$\n",
    "= e^{sin(x_0)}\\cdot cos(x_0)^2 - e^{sin(x_0)}sin(x_0) = 1 - 0 = 1\n",
    "$$\n",
    "\n",
    "Vi har nu:\n",
    "$$\n",
    "\\frac{1}{2} \\langle (x-x_0), H_f(x_0)(x-x_0)\\rangle = \\frac{1}{2} \\langle x, x\\rangle = \\frac{1}{2}x^2\n",
    "$$\n",
    "\n",
    "dette giver os det endelige svar:\n",
    "$$\n",
    "P_2(x) = 1 + x + \\frac{1}{2}x^2\n",
    "$$\n"
   ]
  },
  {
   "cell_type": "markdown",
   "id": "84fbecc8",
   "metadata": {},
   "source": [
    "#### Spørgsmål b"
   ]
  },
  {
   "cell_type": "markdown",
   "id": "c564f1e9",
   "metadata": {},
   "source": [
    "Betragt funktionen $f: ]0,\\infty[ \\to \\mathbb{R}$ givet ved:\n",
    "\n",
    "\\begin{equation*}\n",
    "  f(x)=\\frac{1}{x}\n",
    "\\end{equation*}\n",
    "\n",
    "Kan funktionen Taylor-udvikles fra udviklingspunktet $x_0=0$? Bestem det approksimerende polynomium af første og anden grad for $f$ med udviklingspunktet $x_0=1$."
   ]
  },
  {
   "cell_type": "markdown",
   "id": "f08911f2",
   "metadata": {},
   "source": [
    "#### Svar\n",
    "Nej man kan ikke udvikle fra $x_0 = 0$, da funktionens  ikke er defineret i $x=0$ og vi kan ikke “reparere” den manglende definition da f (og f', f'') ikke har en grænseværdi for $x \\to 0$.\n",
    "\n",
    "**Bestemmelse af første og anden grad for f med udviklingspunktet $x_0=1$**\n",
    "\n",
    "For at løse dette vil vi først finde\n",
    "$$\n",
    "f(x_0) = \\frac{1}{x_0} = \\frac{1}{1} = 1\n",
    "$$\n",
    "\n",
    "Vi kan nu finde $\\nabla f(x_0)$:\n",
    "$$\n",
    "\\nabla f(x_0) = \\frac{df}{dx}(\\frac{1}{x_0}) = \\frac{df}{dx}(x_0^{-1}) = -x_0^{-2} = -\\frac{1}{x_0^2} = -1\n",
    "$$\n",
    "\n",
    "Vi kan nu udregne $\\langle (x-x_0), \\nabla f(x_0) \\rangle$:\n",
    "$$\n",
    "\\langle (x-x_0), \\nabla f(x_0) \\rangle = \\langle (x-1), -1 \\rangle = (x-1) \\cdot -1 = -x+1 \n",
    "$$\n",
    "\n",
    "Vi har nu:\n",
    "$$\n",
    "P_{1,f,x_0}(x) = 1 - x + 1 = -x + 2\n",
    "$$\n",
    "\n",
    "Vi skal nu løse for anden grad som kræver vi finder $\\frac{1}{2} \\langle (x-x_0), H_f(x_0)(x-x_0)\\rangle$\n",
    "$$\n",
    "\\frac{1}{2} \\langle (x-x_0), H_f(x_0)(x-x_0)\\rangle = \\frac{1}{2} \\langle (x-1), H_f(x_0)(x-1)\\rangle\n",
    "$$\n",
    "\n",
    "Vi kan se at vi skal finde $H_f(x_0)$, som vi kan finde som:\n",
    "$$\n",
    "H_f(x_0) = \\frac{d^2f}{dx_0}(\\frac{1}{x_0}) = \\frac{df}{dx_0}(-x_0^{-2}) = 2x_0^{-3} = \\frac{2}{x_0^3} = 2\n",
    "$$\n",
    "\n",
    "Vi har nu:\n",
    "$$\n",
    "\\frac{1}{2} \\langle (x-x_0), H_f(x_0)(x-x_0)\\rangle = \\frac{1}{2} \\langle (x-1), 2(x-1) \\rangle = \\frac{1}{2} \\cdot (x-1) \\cdot 2(x-1) \n",
    "$$\n",
    "$$\n",
    "= \\frac{1}{2} \\cdot (x-1) \\cdot (2x-2) = \\frac{1}{2} \\cdot (2x^2 - 2x - 2x + 2) = x^2 - 2x + 1 \n",
    "$$\n",
    "\n",
    "dette giver os det endelige svar:\n",
    "$$\n",
    "P_2(x) = -x + 2 + x^2 - 2x + 1 = x^2 - 3x + 3\n",
    "$$\n"
   ]
  },
  {
   "cell_type": "markdown",
   "id": "fc7dd5f9",
   "metadata": {},
   "source": [
    "#### Spørgsmål c"
   ]
  },
  {
   "cell_type": "markdown",
   "id": "10c54fbf",
   "metadata": {},
   "source": [
    "Plot de fire funktioner sammen med deres respektive approksimerende polynomier af første og anden grad."
   ]
  },
  {
   "cell_type": "code",
   "execution_count": 1,
   "id": "87304fed",
   "metadata": {},
   "outputs": [
    {
     "ename": "NameError",
     "evalue": "name 'Symbol' is not defined",
     "output_type": "error",
     "traceback": [
      "\u001b[1;31m---------------------------------------------------------------------------\u001b[0m",
      "\u001b[1;31mNameError\u001b[0m                                 Traceback (most recent call last)",
      "Cell \u001b[1;32mIn[1], line 1\u001b[0m\n\u001b[1;32m----> 1\u001b[0m x \u001b[38;5;241m=\u001b[39m \u001b[43mSymbol\u001b[49m(\u001b[38;5;124m'\u001b[39m\u001b[38;5;124mx\u001b[39m\u001b[38;5;124m'\u001b[39m)\n\u001b[0;32m      2\u001b[0m f1 \u001b[38;5;241m=\u001b[39m exp(x)\n\u001b[0;32m      3\u001b[0m f2 \u001b[38;5;241m=\u001b[39m cos(x)\n",
      "\u001b[1;31mNameError\u001b[0m: name 'Symbol' is not defined"
     ]
    }
   ],
   "source": [
    "x = Symbol('x')\n",
    "f1 = exp(x)\n",
    "f2 = cos(x)\n",
    "f3 = exp(sin(x))\n",
    "f4 = 1/x\n",
    "\n",
    "def taylor(f,K,x0):\n",
    "    Pk = 0\n",
    "    for k in range(K+1):\n",
    "        # Udregn den k'te afledte af f i x0\n",
    "        fk = diff(f,x,k).subs({x:x0})\n",
    "        # Læg det k'te led til approksimationen\n",
    "        Pk += fk/factorial(k)*(x-x0)**k\n",
    "    return Pk\n",
    "\n",
    "def plot_taylor(f, x0, k_range: range, x_range=(-2, 2), y_range=None, **kwargs):\n",
    "    \"\"\"\n",
    "    Plots the function and its Taylor approximations within a limited x-range.\n",
    "\n",
    "    Parameters:\n",
    "    - f: Function to approximate.\n",
    "    - x0: Expansion point (can be symbolic but is converted to float).\n",
    "    - k_range: Range of Taylor series degrees to compute.\n",
    "    - x_range: Tuple (xmin, xmax) for plotting.\n",
    "    - y_range: Tuple (ymin, ymax) for limiting the y-axis (optional).\n",
    "    \"\"\"\n",
    "    # Convert symbolic x0 to a numerical value\n",
    "    x0_numeric = float(x0)\n",
    "\n",
    "    # Generate x-values\n",
    "    x_vals = np.linspace(x0_numeric + x_range[0], x0_numeric + x_range[1], 400)\n",
    "\n",
    "    # Convert function to numerical function\n",
    "    f_numeric = lambdify(x, f, 'numpy')\n",
    "\n",
    "    # Create figure and axis\n",
    "    fig, ax = plt.subplots(figsize=(8, 6))\n",
    "\n",
    "    # Plot the original function (thick black line)\n",
    "    ax.plot(x_vals, f_numeric(x_vals), 'k-', linewidth=3, label='Original function')\n",
    "\n",
    "    # Compute and plot Taylor approximations\n",
    "    for K in k_range:\n",
    "        taylor_series = series(f, x, x0, K + 1).removeO()\n",
    "        taylor_numeric = lambdify(x, taylor_series, 'numpy')\n",
    "\n",
    "        # Ensure numerical evaluation even if constant\n",
    "        y_vals = np.full_like(x_vals, float(taylor_series)) if taylor_series.is_number else taylor_numeric(x_vals)\n",
    "\n",
    "        ax.plot(x_vals, y_vals, linestyle='--', linewidth=2, label=f\"n = {K}\")\n",
    "\n",
    "    # Labels, title, and legend\n",
    "    ax.set_title(f\"Taylor Approximations of ${f}$ around $x_0 = {x0}$\")\n",
    "    ax.set_xlabel(\"x\")\n",
    "    ax.set_ylabel(\"f(x)\")\n",
    "    ax.legend(loc='best')\n",
    "    ax.grid(True, linestyle='--', alpha=0.6)\n",
    "\n",
    "    # Set y-axis limits if provided\n",
    "    if y_range:\n",
    "        ax.set_ylim(y_range)\n",
    "\n",
    "    # Show the plot\n",
    "    plt.show()\n",
    "\n",
    "# Plot the Taylor approximations for each function\n",
    "print(taylor(f1, 0, 3))\n",
    "plot_taylor(f1, 0, range(0, 3), line_color='r')\n",
    "print(taylor(f2, 0, 3))\n",
    "plot_taylor(f2, 0, range(0, 3), line_color='g')\n",
    "print(taylor(f3, 0, 3))\n",
    "plot_taylor(f3, 0, range(0, 3), line_color='b')\n",
    "print(taylor(f4, 0, 3))\n",
    "plot_taylor(f4, 1, range(0, 3), line_color='y')"
   ]
  },
  {
   "cell_type": "markdown",
   "id": "8bd49ae2",
   "metadata": {},
   "source": [
    "### 2: Undersøgelse af Taylorpolynomier."
   ]
  },
  {
   "cell_type": "markdown",
   "id": "62c0022c",
   "metadata": {},
   "source": [
    "Brug SymPy til at finde det approksimerende polynomium af grad 9, $P_9(x)$, med udviklingspunkt $x_0=0$ for funktionen $\\sin(x)$. Tegn i samme koordinatsystem $\\sin( x)$ og $P_9(x)$. Hvor langt ud til siden kan man få det approksimerende polynomium til at følge funktionen? (Eksperimentér med polynomiets grad)."
   ]
  },
  {
   "cell_type": "markdown",
   "id": "4d636513",
   "metadata": {},
   "source": [
    "#### Svar\n",
    "Vi indskriver dette i python"
   ]
  },
  {
   "cell_type": "code",
   "execution_count": null,
   "id": "52365b40",
   "metadata": {},
   "outputs": [
    {
     "data": {
      "image/png": "[encoded data removed]",
      "text/plain": [
       "<Figure size 800x600 with 1 Axes>"
      ]
     },
     "metadata": {},
     "output_type": "display_data"
    },
    {
     "data": {
      "image/png": "[encoded data removed]",
      "text/latex": [
       "$\\displaystyle \\frac{x^{9}}{362880} - \\frac{x^{7}}{5040} + \\frac{x^{5}}{120} - \\frac{x^{3}}{6} + x$"
      ],
      "text/plain": [
       "   9       7     5     3    \n",
       "  x       x     x     x     \n",
       "────── - ──── + ─── - ── + x\n",
       "362880   5040   120   6     "
      ]
     },
     "execution_count": 177,
     "metadata": {},
     "output_type": "execute_result"
    }
   ],
   "source": [
    "f1 = sin(x)\n",
    "x0 = 0\n",
    "grad = 9\n",
    "\n",
    "plot_taylor(f1, x0, range(grad, grad+1), line_color='r')\n",
    "series(f1, x, x0, grad+1).removeO()"
   ]
  },
  {
   "cell_type": "markdown",
   "id": "f71b6123",
   "metadata": {},
   "source": [
    "Jo højere grad man vælger for det approksimerende polynomium, i et desto større interval omkring $x_0 = 0$ vil der være overensstemmelse mellem $sin(x)$ og det approksimerende polynomium $P_k(x)$. "
   ]
  },
  {
   "cell_type": "markdown",
   "id": "1890494d",
   "metadata": {},
   "source": [
    "### 3: Vurdering af fejl ved approksimation"
   ]
  },
  {
   "cell_type": "markdown",
   "id": "94cdf6a7",
   "metadata": {},
   "source": [
    "En funktion $f:\\operatorname{dom}(f) \\to \\mathbb{R}$, $\\operatorname{dom}(f) \\subseteq \\mathbb{R}$, er givet ved\n",
    "\n",
    "\\begin{equation*}\n",
    "  f(x)=\\sqrt{2x-1}.\n",
    "\\end{equation*}"
   ]
  },
  {
   "cell_type": "markdown",
   "id": "d0122c84",
   "metadata": {},
   "source": [
    "#### Spørgsmål a"
   ]
  },
  {
   "cell_type": "markdown",
   "id": "4f1cbe36",
   "metadata": {},
   "source": [
    "Bestem definitionsmængden $\\operatorname{dom}(f)$ for $f$."
   ]
  },
  {
   "cell_type": "markdown",
   "id": "1d0aa105",
   "metadata": {},
   "source": [
    "#### Svar\n",
    "Vi ved hvis funktionen får givet en x med værdi $x = \\frac{1}{2}$. Vi har altså:\n",
    "$$\n",
    "dom(f) = [\\frac{1}{2},\\infty)\n",
    "$$"
   ]
  },
  {
   "cell_type": "markdown",
   "id": "0c8c963f",
   "metadata": {},
   "source": [
    "#### Spørgsmål b"
   ]
  },
  {
   "cell_type": "markdown",
   "id": "b19adc2b",
   "metadata": {},
   "source": [
    "Bestem det approksimerende polynomium $P_3(x)$ af grad $3$ for $f$ med udviklingspunktet $x_0=1$."
   ]
  },
  {
   "cell_type": "code",
   "execution_count": null,
   "id": "a92e62eb",
   "metadata": {},
   "outputs": [
    {
     "name": "stdout",
     "output_type": "stream",
     "text": [
      "√5⋅(x - 3)     \n",
      "────────── + √5\n",
      "    5          \n"
     ]
    },
    {
     "name": "stderr",
     "output_type": "stream",
     "text": [
      "<lambdifygenerated-129>:2: RuntimeWarning: invalid value encountered in sqrt\n"
     ]
    },
    {
     "data": {
      "image/png": "[encoded data removed]",
      "text/plain": [
       "<Figure size 800x600 with 1 Axes>"
      ]
     },
     "metadata": {},
     "output_type": "display_data"
    }
   ],
   "source": [
    "f1 = sqrt(2*x-1)\n",
    "x0 = 1\n",
    "grad = 3\n",
    "\n",
    "pprint(taylor(f1, x0, grad))\n",
    "plot_taylor(f1, x0, range(grad, grad+1), line_color='r')"
   ]
  },
  {
   "cell_type": "markdown",
   "id": "7dda5d8c",
   "metadata": {},
   "source": [
    "#### Spørgsmål c"
   ]
  },
  {
   "cell_type": "markdown",
   "id": "a146ee3e",
   "metadata": {},
   "source": [
    "Gør rede for at den til $P_3(x)$ hørende restfunktion $R_3(x)$ kan udtrykkes ved\n",
    "\n",
    "\\begin{equation*}\n",
    "  R_3(x)=-\\frac{5}{8}  \\frac 1{(2\\xi-1)^{7/2}}  (x-1)^4\n",
    "\\end{equation*}\n",
    "\n",
    "for et $\\xi$ mellem $1$ og $x$. Vis ved vurdering af restfunktionen at den numeriske værdi af den fejl man begår ved at benytte $P_3(3/2)$ i stedet for $f(3/2)$ er mindre end eller lig med $\\displaystyle{\\frac 5{2^7}}$.\n",
    "\n",
    "**Note:**\n",
    "Pointen i opgaver som denne er at man kan finde en approksimation til en funktionsværdi for en vanskelig funktion alene ved at bruge et polynomium hvor værdien er nem at udregne. Og at man samtidigt, ved ren håndregning, kan fastsætte en øvre grænse for den fejl man begår ved at bruge approksimationen. Vi går altså ikke efter fejlens præcise størrelse, for den er nemlig ligeså vanskelig at udregne som funktionsværdien!"
   ]
  },
  {
   "cell_type": "markdown",
   "id": "6e0e3076",
   "metadata": {},
   "source": [
    "#### Svar\n",
    "\n",
    "Vi gør brug af formlen:\n",
    "$$\n",
    "R_K(x)=f(x)-P_K(x)=\\frac{f^{n+1}(\\xi)}{(n+1)!}(x-x_0)^{n+1}\n",
    "$$"
   ]
  },
  {
   "cell_type": "code",
   "execution_count": null,
   "id": "4ab6466c",
   "metadata": {},
   "outputs": [
    {
     "data": {
      "image/png": "[encoded data removed]",
      "text/latex": [
       "$\\displaystyle \\left( - \\frac{15}{\\left(2 x - 1\\right)^{\\frac{7}{2}}}, \\  - \\frac{5 \\left(x - 1\\right)^{4}}{8 \\left(2 \\xi - 1\\right)^{\\frac{7}{2}}}\\right)$"
      ],
      "text/plain": [
       "⎛                         4  ⎞\n",
       "⎜    -15        -5⋅(x - 1)   ⎟\n",
       "⎜────────────, ──────────────⎟\n",
       "⎜         7/2             7/2⎟\n",
       "⎝(2⋅x - 1)     8⋅(2⋅ξ - 1)   ⎠"
      ]
     },
     "execution_count": 179,
     "metadata": {},
     "output_type": "execute_result"
    }
   ],
   "source": [
    "# Vi udregner f1''''\n",
    "epsilon = symbols('xi')\n",
    "f1diff = diff(f1, x, 4)\n",
    "\n",
    "R3 = f1diff.subs(x, epsilon)/factorial(4) * (x-x0)**4\n",
    "\n",
    "f1diff, R3"
   ]
  },
  {
   "cell_type": "markdown",
   "id": "7310bca3",
   "metadata": {},
   "source": [
    "Vi kan nu vurdere fejlen når $x = \\frac{3}{2}$"
   ]
  },
  {
   "cell_type": "code",
   "execution_count": null,
   "id": "02c0a114",
   "metadata": {},
   "outputs": [
    {
     "data": {
      "image/png": "[encoded data removed]",
      "text/latex": [
       "$\\displaystyle - \\frac{0.0390625}{\\left(2 \\xi - 1\\right)^{\\frac{7}{2}}}$"
      ],
      "text/plain": [
       "-0.0390625  \n",
       "────────────\n",
       "         7/2\n",
       "(2⋅ξ - 1)   "
      ]
     },
     "execution_count": 180,
     "metadata": {},
     "output_type": "execute_result"
    }
   ],
   "source": [
    "simplify(R3.subs(x, 3/2))"
   ]
  },
  {
   "cell_type": "markdown",
   "id": "e0d54b1e",
   "metadata": {},
   "source": [
    "Da $\\xi$ ligger mellem 1 og $\\frac{3}{2}$ har vi:\n",
    "$$\n",
    "1 \\leq 2\\xi - 1 \\leq \\frac{3}{2}\n",
    "$$\n",
    "Det betyder, at den største værdi af $(2\\xi -1)^{-7/2}$ opnås når $2\\xi - 1 = 1$, dvs\n",
    "$$\n",
    "(2\\xi -1)^{-7/2} \\leq 1\n",
    "$$"
   ]
  },
  {
   "cell_type": "code",
   "execution_count": null,
   "id": "128ca4ee",
   "metadata": {},
   "outputs": [
    {
     "data": {
      "image/png": "[encoded data removed]",
      "text/latex": [
       "$\\displaystyle \\left( 0.0390625, \\  0.0390625\\right)$"
      ],
      "text/plain": [
       "(0.0390625, 0.0390625)"
      ]
     },
     "execution_count": 181,
     "metadata": {},
     "output_type": "execute_result"
    }
   ],
   "source": [
    "# Write the numbe as x/y\n",
    "abs(R3.subs(x, 3/2).subs(epsilon, 1)), 5/2**7"
   ]
  },
  {
   "cell_type": "markdown",
   "id": "f0dd57f6",
   "metadata": {},
   "source": [
    "### 4: Approksimation af kompleks funktion"
   ]
  },
  {
   "cell_type": "markdown",
   "id": "9efdeb87",
   "metadata": {},
   "source": [
    "Approksimerende polynomier for komplekse funktioner af en reel variabel opstilles ved samme formel som reelle funktioner af en reel variabel. I det følgende betragter vi funktionen $f:\\mathbb{R} \\to \\mathbb{C}$ givet ved:\n",
    "\n",
    "\\begin{equation*}\n",
    "  f(x)=2\\cos(x)+i\\sin(2x), \\quad x\\in \\mathbb{R}.\n",
    "\\end{equation*}"
   ]
  },
  {
   "cell_type": "markdown",
   "id": "8c997268",
   "metadata": {},
   "source": [
    "#### Spørgsmål a"
   ]
  },
  {
   "cell_type": "markdown",
   "id": "6e269a9d",
   "metadata": {},
   "source": [
    "Bestem det approksimerende polynomium $P_3$ af grad tre for $f$ med udviklingspunktet $x_0=0$."
   ]
  },
  {
   "cell_type": "code",
   "execution_count": null,
   "id": "3f3c5ec9",
   "metadata": {},
   "outputs": [
    {
     "data": {
      "image/png": "[encoded data removed]",
      "text/latex": [
       "$\\displaystyle - \\frac{4 i x^{3}}{3} - x^{2} + 2 i x + 2$"
      ],
      "text/plain": [
       "       3                 \n",
       "  4⋅ⅈ⋅x     2            \n",
       "- ────── - x  + 2⋅ⅈ⋅x + 2\n",
       "    3                    "
      ]
     },
     "execution_count": 182,
     "metadata": {},
     "output_type": "execute_result"
    }
   ],
   "source": [
    "x = Symbol('x', real=True)\n",
    "f = 2*cos(x) + I * sin(2*x)\n",
    "grad = 3\n",
    "x0 = 0\n",
    "\n",
    "P3 = series(f, x, x0, grad+1).removeO()\n",
    "P3"
   ]
  },
  {
   "cell_type": "markdown",
   "id": "29fc2051",
   "metadata": {},
   "source": [
    "#### Spørgsmål b"
   ]
  },
  {
   "cell_type": "markdown",
   "id": "0fc3c906",
   "metadata": {},
   "source": [
    "Bestem, gerne med hjælp af SymPys `series`-metode, det approksimerende polynomium $Q_3$ af grad højst tre for $f$ med udviklingspunktet $x_1=\\frac{\\pi}{2}$."
   ]
  },
  {
   "cell_type": "code",
   "execution_count": null,
   "id": "1fb343e8",
   "metadata": {},
   "outputs": [
    {
     "data": {
      "image/png": "[encoded data removed]",
      "text/latex": [
       "$\\displaystyle \\left(\\frac{1}{3} + \\frac{4 i}{3}\\right) \\left(x - \\frac{\\pi}{2}\\right)^{3} + \\left(-2 - 2 i\\right) \\left(x - \\frac{\\pi}{2}\\right)$"
      ],
      "text/plain": [
       "                 3                     \n",
       "⎛1   4⋅ⅈ⎞ ⎛    π⎞               ⎛    π⎞\n",
       "⎜─ + ───⎟⋅⎜x - ─⎟  + (-2 - 2⋅ⅈ)⋅⎜x - ─⎟\n",
       "⎝3    3 ⎠ ⎝    2⎠               ⎝    2⎠"
      ]
     },
     "execution_count": 183,
     "metadata": {},
     "output_type": "execute_result"
    }
   ],
   "source": [
    "x1 = pi/2\n",
    "\n",
    "Q3 = series(f, x, x1, grad+1).removeO()\n",
    "Q3"
   ]
  },
  {
   "cell_type": "markdown",
   "id": "48adc688",
   "metadata": {},
   "source": [
    "#### Spørgsmål c"
   ]
  },
  {
   "cell_type": "markdown",
   "id": "0c440052",
   "metadata": {},
   "source": [
    "Tallet 1 ligger tættere på $x_1=\\frac{\\pi}{2}$ end på $x_0=0$. Hvorfor er det alligevel en meget bedre idé at bruge $P_3$ end $Q_3$ hvis man skal bruge en approksimeret værdi til $f(1)?$"
   ]
  },
  {
   "cell_type": "markdown",
   "id": "9bd22897",
   "metadata": {},
   "source": [
    "#### Svar\n",
    "Taylor-approksimationer er mere præcise, når de er udviklet omkring punkter tættere på det evaluerede punkt, men kun hvis funktionen ikke svinger meget. Funktionen $f(x)$ indeholder trigonometriske led, som oscillerer, og en udvikling omkring $x_1 = \\frac{\\pi}{2}$ kan give større fejl for punkter uden for en lille naboomgivelse af $x_1$."
   ]
  },
  {
   "cell_type": "markdown",
   "id": "0089ce25",
   "metadata": {},
   "source": [
    "#### Spørgsmål d"
   ]
  },
  {
   "cell_type": "markdown",
   "id": "8b8f06ed",
   "metadata": {},
   "source": [
    "Bestem den mindste grad $n$ for et Taylorpolynomium med udviklingspunkt $x_0=0$, således at afstanden mellem $f(1)$ og polynomiets værdi i $x=1$ er mindre end en hundrededel."
   ]
  },
  {
   "cell_type": "code",
   "execution_count": null,
   "id": "3be2d44f",
   "metadata": {},
   "outputs": [
    {
     "name": "stdout",
     "output_type": "stream",
     "text": [
      "Mindste grad n: 7\n"
     ]
    },
    {
     "data": {
      "image/png": "[encoded data removed]",
      "text/latex": [
       "$\\displaystyle \\left( - \\frac{8 i x^{7}}{315} - \\frac{x^{6}}{360} + \\frac{4 i x^{5}}{15} + \\frac{x^{4}}{12} - \\frac{4 i x^{3}}{3} - x^{2} + 2 i x + 2, \\  \\sqrt{- \\frac{389 \\cos{\\left(1 \\right)}}{90} - \\frac{572 \\sin{\\left(2 \\right)}}{315} + \\sin^{2}{\\left(2 \\right)} + 4 \\cos^{2}{\\left(1 \\right)} + \\frac{12649673}{6350400}}\\right)$"
      ],
      "text/plain": [
       "⎛       7    6         5    4        3                       _________________ ↪\n",
       "⎜  8⋅ⅈ⋅x    x     4⋅ⅈ⋅x    x    4⋅ⅈ⋅x     2                 ╱   389⋅cos(1)   5 ↪\n",
       "⎜- ────── - ─── + ────── + ── - ────── - x  + 2⋅ⅈ⋅x + 2,   ╱  - ────────── - ─ ↪\n",
       "⎝   315     360     15     12     3                      ╲╱         90         ↪\n",
       "\n",
       "↪ ___________________________________________⎞\n",
       "↪ 72⋅sin(2)      2           2      12649673 ⎟\n",
       "↪ ───────── + sin (2) + 4⋅cos (1) + ──────── ⎟\n",
       "↪   315                             6350400  ⎠"
      ]
     },
     "execution_count": 184,
     "metadata": {},
     "output_type": "execute_result"
    }
   ],
   "source": [
    "true_value = f.subs(x,1)\n",
    "tolerance = 0.01\n",
    "\n",
    "n = 1\n",
    "while True:\n",
    "    # Taylor-polynomium af grad n\n",
    "    Pn = series(f, x, x0, n+1).removeO()\n",
    "\n",
    "    # Beregn fejlen |f(1) - Pn(1)|\n",
    "    error = abs(true_value - Pn.subs(x, 1))\n",
    "\n",
    "    # Tjek om fejlen er mindre end 0.01\n",
    "    if error < tolerance:\n",
    "        break\n",
    "\n",
    "    # Øg graden\n",
    "    n += 1\n",
    "\n",
    "# Udskriv resultatet\n",
    "print(f\"Mindste grad n: {n}\")\n",
    "Pn, error"
   ]
  },
  {
   "cell_type": "markdown",
   "id": "e6d79b35",
   "metadata": {},
   "source": [
    "### 5: Approksimation af funktion med 3 variable"
   ]
  },
  {
   "cell_type": "markdown",
   "id": "27de7ac1",
   "metadata": {},
   "source": [
    "Givet funktionen\n",
    "\n",
    "\\begin{equation*}\n",
    "  f(x,y,z)=\\operatorname{e}^{(x+1)yz}\n",
    "\\end{equation*}"
   ]
  },
  {
   "cell_type": "markdown",
   "id": "e88a3fd6",
   "metadata": {},
   "source": [
    "#### Spørgsmål a"
   ]
  },
  {
   "cell_type": "markdown",
   "id": "8cdd0784",
   "metadata": {},
   "source": [
    "Bestem det approksimerende polynomium af anden grad $P_2(x,y,z)$ for funktionen $f(x,y,z)$ i $(x_0,y_0,z_0)=(0,0,0)$."
   ]
  },
  {
   "cell_type": "markdown",
   "id": "6f2822f5",
   "metadata": {},
   "source": [
    "#### Svar\n",
    "vi gør brug af:\n",
    "$$\n",
    "P_2(x) = f(x_0) + \\langle (x-x_0), \\nabla f(x_0) \\rangle + \\frac{1}{2} \\langle (x-x_0), H_f(x_0)(x-x_0)\\rangle, \\quad x \\in \\mathbb{R}^n\n",
    "$$"
   ]
  },
  {
   "cell_type": "code",
   "execution_count": null,
   "id": "fb59334c",
   "metadata": {},
   "outputs": [
    {
     "data": {
      "image/png": "[encoded data removed]",
      "text/latex": [
       "$\\displaystyle 1.0 y z + 1$"
      ],
      "text/plain": [
       "1.0⋅y⋅z + 1"
      ]
     },
     "execution_count": 185,
     "metadata": {},
     "output_type": "execute_result"
    }
   ],
   "source": [
    "# Vi inskriver vores værdier\n",
    "x,y,z = symbols('x y z')\n",
    "symbol_matrix = Matrix([x, y, z])\n",
    "start_values = Matrix([0,0,0])\n",
    "\n",
    "f = exp((x+1)*y*z)\n",
    "nibla_f = Matrix([f]).jacobian(symbol_matrix)\n",
    "hex_f = hessian(f, symbol_matrix)\n",
    "\n",
    "# vi beregner f(x_0)\n",
    "f0 = f.subs({x:0, y:0, z:0})\n",
    "nibla_f0 = nibla_f.subs({x:0, y:0, z:0})\n",
    "hex_f0 = hex_f.subs({x:0, y:0, z:0})\n",
    "\n",
    "# Calculate (x-x_0)\n",
    "x_x0 = symbol_matrix - start_values\n",
    "\n",
    "P2 = f0 + x_x0.dot(nibla_f0) + 1/2 * x_x0.dot(hex_f0 * x_x0)\n",
    "P2"
   ]
  },
  {
   "cell_type": "markdown",
   "id": "d144aa0c",
   "metadata": {},
   "source": [
    "#### Spørgsmål b"
   ]
  },
  {
   "cell_type": "markdown",
   "id": "9ce0e7e7",
   "metadata": {},
   "source": [
    "Bestem ved hjælp af $P_2(x,y,z)$ en approksimation til $f(0.1,0.2,0.3)$."
   ]
  },
  {
   "cell_type": "code",
   "execution_count": null,
   "id": "a1d77d36",
   "metadata": {},
   "outputs": [
    {
     "data": {
      "image/png": "[encoded data removed]",
      "text/latex": [
       "$\\displaystyle 1.06$"
      ],
      "text/plain": [
       "1.06000000000000"
      ]
     },
     "execution_count": 186,
     "metadata": {},
     "output_type": "execute_result"
    }
   ],
   "source": [
    "P2.subs({x:0.1, y:0.2, z:0.3})"
   ]
  },
  {
   "cell_type": "markdown",
   "id": "7b66c769",
   "metadata": {},
   "source": [
    "#### Spørgsmål c"
   ]
  },
  {
   "cell_type": "markdown",
   "id": "d891d521",
   "metadata": {},
   "source": [
    "Bestem den absolutte fejl for din approksimation i Spørgsmål b."
   ]
  },
  {
   "cell_type": "code",
   "execution_count": null,
   "id": "09dab16f",
   "metadata": {},
   "outputs": [
    {
     "data": {
      "image/png": "[encoded data removed]",
      "text/latex": [
       "$\\displaystyle 0.00822671716599332$"
      ],
      "text/plain": [
       "0.00822671716599332"
      ]
     },
     "execution_count": 187,
     "metadata": {},
     "output_type": "execute_result"
    }
   ],
   "source": [
    "abs(P2.subs({x:0.1, y:0.2, z:0.3}) - f.subs({x:0.1, y:0.2, z:0.3}))"
   ]
  },
  {
   "cell_type": "markdown",
   "id": "5c2bb317",
   "metadata": {},
   "source": [
    "### 6: En implementation af Taylor-approksimation"
   ]
  },
  {
   "cell_type": "markdown",
   "id": "f9fb4d7e",
   "metadata": {},
   "source": [
    "Vi skal nu se på en implementation af Taylor-polynomier i Sympy/Python."
   ]
  },
  {
   "cell_type": "markdown",
   "id": "f04b387e",
   "metadata": {},
   "source": [
    "#### Spørgsmål a"
   ]
  },
  {
   "cell_type": "markdown",
   "id": "6354376e",
   "metadata": {},
   "source": [
    "Implementér Taylor-polynomier for arbitrært $K> 0$, se denne <a href=\"../_assets/textbook_mat1b_en.pdf#230101b\">ligning i bogen</a>, med udgangspunkt i følgende opstilling."
   ]
  },
  {
   "cell_type": "markdown",
   "id": "fdf2b117",
   "metadata": {},
   "source": [
    "```{code} ipython\n",
    "def taylor(f,K,x0):\n",
    "    Pk = 0\n",
    "    for k in range(K+1):\n",
    "        # Udregn den k'te afledte af f i x0\n",
    "        fk = # ???\n",
    "        # Læg det k'te led til approksimationen\n",
    "        Pk += # ???\n",
    "    return Pk\n",
    "```"
   ]
  },
  {
   "cell_type": "code",
   "execution_count": null,
   "id": "35d0c8fe",
   "metadata": {},
   "outputs": [],
   "source": [
    "def taylor(f,K,x0):\n",
    "    Pk = 0\n",
    "    for k in range(K+1):\n",
    "        # Udregn den k'te afledte af f i x0\n",
    "        fk = diff(f,x,k).subs({x:x0})\n",
    "        # Læg det k'te led til approksimationen\n",
    "        Pk += fk/factorial(k)*(x-x0)**k\n",
    "    return Pk"
   ]
  },
  {
   "cell_type": "markdown",
   "id": "fa53cdcd",
   "metadata": {},
   "source": [
    "#### Spørgsmål b"
   ]
  },
  {
   "cell_type": "markdown",
   "id": "632ef739",
   "metadata": {},
   "source": [
    "Benyt din Python funktion fra forrige spørgsmål til at udregne det approksimerende polynomium af 4. grad $P_4(x)$ for funktionen $f(x)=\\sin(x)$ i $x_0=2\\pi/3$."
   ]
  },
  {
   "cell_type": "code",
   "execution_count": null,
   "id": "8e1595ec",
   "metadata": {},
   "outputs": [
    {
     "data": {
      "image/png": "[encoded data removed]",
      "text/latex": [
       "$\\displaystyle - \\frac{x}{2} + \\frac{\\sqrt{3} \\left(x - \\frac{2 \\pi}{3}\\right)^{4}}{48} + \\frac{\\left(x - \\frac{2 \\pi}{3}\\right)^{3}}{12} - \\frac{\\sqrt{3} \\left(x - \\frac{2 \\pi}{3}\\right)^{2}}{4} + \\frac{\\sqrt{3}}{2} + \\frac{\\pi}{3}$"
      ],
      "text/plain": [
       "                  4            3               2         \n",
       "         ⎛    2⋅π⎞    ⎛    2⋅π⎞       ⎛    2⋅π⎞          \n",
       "      √3⋅⎜x - ───⎟    ⎜x - ───⎟    √3⋅⎜x - ───⎟          \n",
       "  x      ⎝     3 ⎠    ⎝     3 ⎠       ⎝     3 ⎠    √3   π\n",
       "- ─ + ───────────── + ────────── - ───────────── + ── + ─\n",
       "  2        48             12             4         2    3"
      ]
     },
     "execution_count": 189,
     "metadata": {},
     "output_type": "execute_result"
    }
   ],
   "source": [
    "f = sin(x)\n",
    "x0 = 2 * pi / 3\n",
    "k = 4\n",
    "taylor(f,k,x0)"
   ]
  },
  {
   "cell_type": "markdown",
   "id": "b689b944",
   "metadata": {},
   "source": [
    "#### Spørgsmål c"
   ]
  },
  {
   "cell_type": "markdown",
   "id": "787d5451",
   "metadata": {},
   "source": [
    "Plot $f(x)$ og $P_4(x)$ fra Spørgsmål b sammen i Sympy/Python."
   ]
  },
  {
   "cell_type": "code",
   "execution_count": null,
   "id": "e8489713",
   "metadata": {},
   "outputs": [
    {
     "data": {
      "image/png": "[encoded data removed]",
      "text/plain": [
       "<Figure size 800x600 with 1 Axes>"
      ]
     },
     "metadata": {},
     "output_type": "display_data"
    }
   ],
   "source": [
    "plot_taylor(f, x0, range(k, k+1), line_color='r')"
   ]
  },
  {
   "cell_type": "markdown",
   "id": "2549d572",
   "metadata": {},
   "source": [
    "#### Spørgsmål d"
   ]
  },
  {
   "cell_type": "markdown",
   "id": "648b59ad",
   "metadata": {},
   "source": [
    "Nu vil vi gerne implementere Taylor-approksimation af anden grad for funktioner af flere variable, i følge <a href=\"../_assets/textbook_mat1b_en.pdf#223112afa\">definition i bogen</a>. Til evaluering af matricer og funktioner i Sympy/Python kan man for eksempel bruge følgende simple implementering (eller indbyggede metoder). Overvej hvorfor det virker."
   ]
  },
  {
   "cell_type": "code",
   "execution_count": null,
   "id": "a254e5b1",
   "metadata": {
    "tags": [
     "remove-output"
    ]
   },
   "outputs": [],
   "source": [
    "def evaluateFunction(f,x,x0):\n",
    "    for i in range(len(x)):\n",
    "        f = f.subs({x[i]:x0[i]})\n",
    "    return f"
   ]
  },
  {
   "cell_type": "markdown",
   "id": "0e3fca97",
   "metadata": {},
   "source": [
    "Benyt derefter følgende opstilling til at implementere approksimationen."
   ]
  },
  {
   "cell_type": "markdown",
   "id": "55fdd561",
   "metadata": {},
   "source": [
    "```{code} ipython\n",
    "def taylorN(f,x,x0):\n",
    "    N = len(x)\n",
    "    # Konstant-led\n",
    "    const = # Benyt evaluateFunction til at opnå f evalueret i x0\n",
    "    # Førstegrads-led\n",
    "    J = # Find Jacobi-matricen\n",
    "    J0 = # Benyt evaluateFunction til at opnå J evalueret i x0\n",
    "    first = # Udregn hele det andet led\n",
    "    # Andengrads-led\n",
    "    H = # Find hessematricen\n",
    "    H0 = # Benyt evaluateFunction til at opnå H evalueret i x0\n",
    "    second = # Udregn hele det sidste led\n",
    "    # Resultat\n",
    "    Pk = simplify(Matrix([const]) + first + second)[0]\n",
    "    return Pk\n",
    "```"
   ]
  },
  {
   "cell_type": "code",
   "execution_count": null,
   "id": "b2354faa",
   "metadata": {},
   "outputs": [],
   "source": [
    "def evaluateFunction(f,x,x0):\n",
    "    for i in range(len(x)):\n",
    "        f = f.subs({x[i]:x0[i]})\n",
    "    return f\n",
    "\n",
    "def taylorDegree2(f,x,x0): # What is called taylorN in the assignment\n",
    "    N = len(x)\n",
    "    # Konstant-led\n",
    "    const = evaluateFunction(f,x,x0)\n",
    "    # Førstegrads-led\n",
    "    J = Matrix([f]).jacobian(x)\n",
    "    J0 = evaluateFunction(J,x,x0)\n",
    "    first = J0*(x-x0)\n",
    "    # Andengrads-led\n",
    "    H = hessian(f,x)\n",
    "    H0 = evaluateFunction(H,x,x0)\n",
    "    second = 1/2*(x-x0).T*H0*(x-x0)\n",
    "    # Resultat\n",
    "    Pk = simplify(Matrix([const]) + first + second)[0]\n",
    "    return Pk\n",
    "\n",
    "def multi_indices(N, k):\n",
    "    \"\"\"\n",
    "    Generate all N-tuples of nonnegative integers that sum to k.\n",
    "    \"\"\"\n",
    "    if N == 1:\n",
    "        yield (k,)\n",
    "    else:\n",
    "        for i in range(k+1):\n",
    "            for tail in multi_indices(N-1, k-i):\n",
    "                yield (i,) + tail\n",
    "\n",
    "def taylorN(f, x, x0, n):\n",
    "    \"\"\"\n",
    "    Compute the Taylor polynomial of degree n for the function f in variables x\n",
    "    around the point x0.\n",
    "\n",
    "    Parameters:\n",
    "    - f: sympy expression representing the function.\n",
    "    - x: list (or Matrix) of sympy symbols.\n",
    "    - x0: list (or Matrix) of values (the expansion point).\n",
    "    - n: integer, the degree of the Taylor polynomial.\n",
    "\n",
    "    Returns:\n",
    "    - The simplified Taylor polynomial (sympy expression).\n",
    "    \"\"\"\n",
    "    P = 0\n",
    "    N = len(x)\n",
    "\n",
    "    # Sum over all orders from 0 up to n\n",
    "    for k in range(n+1):\n",
    "        # Sum over all multi-indices (alpha) with |alpha| = k\n",
    "        for alpha in multi_indices(N, k):\n",
    "            # Compute the k-th order partial derivative corresponding to alpha\n",
    "            deriv = f\n",
    "            for i, a in enumerate(alpha):\n",
    "                if a > 0:\n",
    "                    deriv = deriv.diff(x[i], a)\n",
    "            # Evaluate the derivative at x0\n",
    "            deriv_at_x0 = evaluateFunction(deriv, x, x0)\n",
    "\n",
    "            # Compute the factorial product: alpha! = a1! * a2! * ... * aN!\n",
    "            denom = 1\n",
    "            for a in alpha:\n",
    "                denom *= factorial(a)\n",
    "\n",
    "            # Construct the monomial: (x[0]-x0[0])^a1 * ... * (x[N-1]-x0[N-1])^aN\n",
    "            term = 1\n",
    "            for i, a in enumerate(alpha):\n",
    "                term *= (x[i]-x0[i])**a\n",
    "\n",
    "            # Add the term to the polynomial\n",
    "            P += deriv_at_x0/denom * term\n",
    "    return simplify(P)"
   ]
  },
  {
   "cell_type": "markdown",
   "id": "dead27ed",
   "metadata": {},
   "source": [
    "#### Spørgsmål e"
   ]
  },
  {
   "cell_type": "markdown",
   "id": "71ed7220",
   "metadata": {},
   "source": [
    "Givet funktionen\n",
    "\n",
    "\\begin{equation*}\n",
    "  f(\\pmb{x})=\\exp(x_1x_2)+x_2\\sin(x_3)\n",
    "\\end{equation*}\n",
    "\n",
    "Bestem det approksimerende polynomium af anden grad ved hjælp af din implementering i Spørgsmål f i udviklingspunktet $\\pmb{x}_0=(3,0,-\\pi/2)$."
   ]
  },
  {
   "cell_type": "code",
   "execution_count": null,
   "id": "fd555d45",
   "metadata": {},
   "outputs": [
    {
     "data": {
      "image/png": "[encoded data removed]",
      "text/latex": [
       "$\\displaystyle 1.0 x_{1} x_{2} + 4.5 x_{2}^{2} - 1.0 x_{2} + 1.0$"
      ],
      "text/plain": [
       "                  2               \n",
       "1.0⋅x₁⋅x₂ + 4.5⋅x₂  - 1.0⋅x₂ + 1.0"
      ]
     },
     "execution_count": 193,
     "metadata": {},
     "output_type": "execute_result"
    }
   ],
   "source": [
    "x1,x2,x3 = symbols('x1 x2 x3')\n",
    "f = exp(x1*x2) + x2 * sin(x3)\n",
    "x = Matrix([x1,x2,x3])\n",
    "x0 = Matrix([3,0,-pi/2])\n",
    "\n",
    "P2 = taylorDegree2(f,x,x0)\n",
    "P2"
   ]
  },
  {
   "cell_type": "markdown",
   "id": "895e5b1b",
   "metadata": {},
   "source": [
    "#### Spørgsmål f"
   ]
  },
  {
   "cell_type": "markdown",
   "id": "0e02b1ac",
   "metadata": {},
   "source": [
    "Bestem nu både den absolutte og den relative fejl ved approksimationen fra Spørgsmål e i punkterne\n",
    "\n",
    "\\begin{equation*}\n",
    "  \\pmb{y}_1 = (3.1,0.2,-\\pi/2),\\quad \\pmb{y}_2 = (2.9,-0.2,-\\pi/2).\n",
    "\\end{equation*}"
   ]
  },
  {
   "cell_type": "code",
   "execution_count": null,
   "id": "baf3c86c",
   "metadata": {},
   "outputs": [
    {
     "name": "stdout",
     "output_type": "stream",
     "text": [
      "P2(y1) = 1.60000000000000,  f(y1) = 1.65892804184634\n",
      "Absolute Error (y1): 0.0589280418463423,  Relative Error (y1): 0.0355217588466085\n",
      "P2(y2) = 0.800000000000000,  f(y2) = 0.759898366565402\n",
      "Absolute Error (y2): 0.0401016334345982,  Relative Error (y2): 0.0527723643042556\n"
     ]
    }
   ],
   "source": [
    "y1 = Matrix([3.1,0.2,-pi/2])\n",
    "y2 = Matrix([2.9,-0.2,-pi/2])\n",
    "\n",
    "p2_y1 = evaluateFunction(P2, x, y1)\n",
    "f_y1 = evaluateFunction(f, x, y1)\n",
    "p2_y2 = evaluateFunction(P2, x, y2)\n",
    "f_y2 = evaluateFunction(f, x, y2)\n",
    "\n",
    "# Compute absolute and relative errors\n",
    "absolute_error_y1 = abs(f_y1 - p2_y1)\n",
    "relative_error_y1 = absolute_error_y1 / abs(f_y1)\n",
    "\n",
    "absolute_error_y2 = abs(f_y2 - p2_y2)\n",
    "relative_error_y2 = absolute_error_y2 / abs(f_y2)\n",
    "\n",
    "# Print results\n",
    "print(f\"P2(y1) = {p2_y1},  f(y1) = {f_y1}\")\n",
    "print(f\"Absolute Error (y1): {absolute_error_y1},  Relative Error (y1): {relative_error_y1}\")\n",
    "\n",
    "print(f\"P2(y2) = {p2_y2},  f(y2) = {f_y2}\")\n",
    "print(f\"Absolute Error (y2): {absolute_error_y2},  Relative Error (y2): {relative_error_y2}\")"
   ]
  },
  {
   "cell_type": "markdown",
   "id": "96b346a3",
   "metadata": {},
   "source": [
    "### 7: Et andengrads Taylor-polynomium er en kvadratisk form\n",
    "\n",
    "Vi betragter en funktion $f: \\mathbb{R}^n \\to \\mathbb{R}$ hvis første og anden ordens partielle afledte eksisterer i punktet $\\pmb{x}_{0}$. Vis, at andengrads Taylor-polynomiet $P_{2,f,\\pmb{x}_{0}}(\\pmb{x})$ defineret i <a href=\"../_assets/textbook_mat1b_en.pdf#223112dafa\">bogen</a> er en kvadratisk form $q$. \n",
    "\n",
    "I den kvadratiske form skal du udtrykke matricen $A$, søjlevektoren $\\pmb{b}$ og konstanten $c$ i form af vektoren $\\pmb{x}_{0}$ og $f$ og dens (partielle) afledte af første og anden orden (på matrixform som gradientvektor og hessematrix) evalueret i punktet $\\pmb{x}_{0}$."
   ]
  },
  {
   "cell_type": "markdown",
   "id": "d9ab49af",
   "metadata": {},
   "source": [
    "___"
   ]
  },
  {
   "cell_type": "markdown",
   "id": "a77216fc",
   "metadata": {},
   "source": [
    "## Opgaver -- Lille Dag"
   ]
  },
  {
   "cell_type": "markdown",
   "id": "1acbfe23",
   "metadata": {},
   "source": [
    "> Navnet *Taylors grænseformel* bruges om \"Taylor's formula\" (se bogen) hvor man har isoleret $f(x)$ på venstresiden og samlet det approksimerende polynomium og rest-leddet udtrykt ved en **epsilon-funktion** på højresiden."
   ]
  },
  {
   "cell_type": "markdown",
   "id": "0db90da7",
   "metadata": {},
   "source": [
    "### 1: Funktion af én variabel"
   ]
  },
  {
   "cell_type": "markdown",
   "id": "39eb10be",
   "metadata": {},
   "source": [
    "#### Spørgsmål a"
   ]
  },
  {
   "cell_type": "markdown",
   "id": "9ccdb1a8",
   "metadata": {},
   "source": [
    "Bestem med udviklingspunktet $x_0=0$ Taylors grænseformel af anden grad for funktionen\n",
    "\n",
    "\\begin{equation*}\n",
    "  f(x)=2\\cos(x)-2\\sin(2x), \\quad x\\in \\mathbb{R}.\n",
    "\\end{equation*}"
   ]
  },
  {
   "cell_type": "code",
   "execution_count": null,
   "id": "be61d8d8",
   "metadata": {},
   "outputs": [
    {
     "data": {
      "image/png": "[encoded data removed]",
      "text/latex": [
       "$\\displaystyle - 1.0 x^{2} - 4 x + 2$"
      ],
      "text/plain": [
       "       2          \n",
       "- 1.0⋅x  - 4⋅x + 2"
      ]
     },
     "execution_count": 195,
     "metadata": {},
     "output_type": "execute_result"
    }
   ],
   "source": [
    "# Svar\n",
    "x = Symbol('x', real=True)\n",
    "f = 2 * cos(x) - 2 * sin(2*x)\n",
    "x0 = Matrix([0])\n",
    "x_matrix = Matrix([x])\n",
    "degree = 2\n",
    "\n",
    "poly_part = taylorDegree2(f, x_matrix, x0)\n",
    "poly_part"
   ]
  },
  {
   "cell_type": "markdown",
   "id": "3aed9d8b",
   "metadata": {},
   "source": [
    "Vi kan nu gøre brug af peano formen for taylors polynomie:\n",
    "$$\n",
    "J_i = \\varepsilon_f(x-x_0)||x-x_0||^{k}\n",
    "$$"
   ]
  },
  {
   "cell_type": "code",
   "execution_count": null,
   "id": "582097a2",
   "metadata": {},
   "outputs": [
    {
     "data": {
      "image/png": "[encoded data removed]",
      "text/latex": [
       "$\\displaystyle \\varepsilon x^{2} - 1.0 x^{2} - 4 x + 2$"
      ],
      "text/plain": [
       "            2        2          \n",
       "varepsilon⋅x  - 1.0⋅x  - 4⋅x + 2"
      ]
     },
     "execution_count": 196,
     "metadata": {},
     "output_type": "execute_result"
    }
   ],
   "source": [
    "# Vi indsætter epsilon\n",
    "epsilon = symbols('varepsilon')\n",
    "# Add the \"Lagrange form\" remainder without absolute value:\n",
    "remainder = epsilon * (x_matrix - x0).norm()**(degree)\n",
    "\n",
    "taylor_with_remainder = poly_part + remainder\n",
    "taylor_with_remainder"
   ]
  },
  {
   "cell_type": "markdown",
   "id": "3759384d",
   "metadata": {},
   "source": [
    "Vi har fundet svaret til at være:\n",
    "$$\n",
    "f(x) = 2 - 4x - x^2 + x^2\\varepsilon(x)\n",
    "$$"
   ]
  },
  {
   "cell_type": "markdown",
   "id": "8aca5ebe",
   "metadata": {},
   "source": [
    "#### Spørgsmål b"
   ]
  },
  {
   "cell_type": "markdown",
   "id": "a8e37a21",
   "metadata": {},
   "source": [
    "En to gange differentiabel funktion $f$ af én variabel opfylder, at $f(2)=1$, $f'(2)=1$ og $P_2(1)=1$. Bestem det approksimerende polynomium af anden grad $P_2(x)$ for $f$ med udviklingspunkt $x_0=2$."
   ]
  },
  {
   "cell_type": "markdown",
   "id": "2266bbd2",
   "metadata": {},
   "source": [
    "#### Svar\n",
    "Vi har at\n",
    "$$\n",
    "P_2(x_0) = f(x_0) + \\langle(x-x_0), \\nabla f(x_0)\\rangle + \\frac{1}{2}\\langle(x-x_0),H_f(x_0)(x-x_0) \\rangle\n",
    "$$\n",
    "så vi skal altså bare løse dette"
   ]
  },
  {
   "cell_type": "code",
   "execution_count": null,
   "id": "e576f500",
   "metadata": {},
   "outputs": [
    {
     "data": {
      "image/png": "[encoded data removed]",
      "text/latex": [
       "$\\displaystyle \\left[ 2.0\\right]$"
      ],
      "text/plain": [
       "[2.0]"
      ]
     },
     "execution_count": 203,
     "metadata": {},
     "output_type": "execute_result"
    }
   ],
   "source": [
    "x, H_f = symbols('x H_f')\n",
    "P2_2 = (1 + (x-2) + 1/2 * (x-2)*((H_f)*(x-2)))\n",
    "P2_1 = 1\n",
    "eq1 = Eq(P2_2.subs(x, 1), P2_1)\n",
    "values = solve(eq1, H_f)\n",
    "values"
   ]
  },
  {
   "cell_type": "code",
   "execution_count": null,
   "id": "c1956bdc",
   "metadata": {},
   "outputs": [
    {
     "data": {
      "image/png": "[encoded data removed]",
      "text/latex": [
       "$\\displaystyle x + 2.0 \\left(0.5 x - 1.0\\right) \\left(x - 2\\right) - 1$"
      ],
      "text/plain": [
       "x + 2.0⋅(0.5⋅x - 1.0)⋅(x - 2) - 1"
      ]
     },
     "execution_count": 206,
     "metadata": {},
     "output_type": "execute_result"
    }
   ],
   "source": [
    "P2_2.subs(H_f, values[0])"
   ]
  },
  {
   "cell_type": "markdown",
   "id": "ca26d2f7",
   "metadata": {},
   "source": [
    "This is just\n",
    "$$\n",
    "-1 + x + (x-2)^2\n",
    "$$"
   ]
  },
  {
   "cell_type": "markdown",
   "id": "2cf48dd1",
   "metadata": {},
   "source": [
    "### 2: Taylors grænseformel. Håndregning"
   ]
  },
  {
   "cell_type": "markdown",
   "id": "9d1cdf17",
   "metadata": {},
   "source": [
    "Denne opgave giver en metode til at beregne en grænseværdi af en brøk, hvori både tæller og nævner går mod nul."
   ]
  },
  {
   "cell_type": "markdown",
   "id": "57fe60bc",
   "metadata": {},
   "source": [
    "#### Spørgsmål a"
   ]
  },
  {
   "cell_type": "markdown",
   "id": "a9acf99e",
   "metadata": {},
   "source": [
    "Opskriv Taylors grænseformel for funktionen $\\ln(1+x)$  med udviklingspunkt $x_{0}=0$ for grad 1 såvel som 2 og 3."
   ]
  },
  {
   "cell_type": "markdown",
   "id": "f5af0aa1",
   "metadata": {},
   "source": [
    "#### Svar\n",
    "$$\n",
    "P_k(x) = \\sum_{k=0}^k \\frac{f^{(k)}(x_0)}{k!}(x-x_0)\n",
    "$$\n",
    "\n",
    "Vi udregner først $f(x_0)$\n",
    "$$\n",
    "f(x_0) = ln(1+x_0) = ln(1+0) = ln(1) = 0\n",
    "$$\n",
    "\n",
    "Vi udregner nu $f'(x_0)$\n",
    "$$\n",
    "f'(x_0) = \\frac{df}{dx_0}(ln(1+x_0)) = \\frac{1}{1+x_0} = (1+x_0)^{-1} = (1 + 0)^{-1} = 1 \n",
    "$$\n",
    "\n",
    "Vi har nu:\n",
    "$$\n",
    "P_1(x) = \\frac{1}{1!}x = x \n",
    "$$"
   ]
  },
  {
   "cell_type": "markdown",
   "id": "78e4e5b5",
   "metadata": {},
   "source": [
    "Vi skal nu udregne $f''(x_0)$\n",
    "$$\n",
    "f''(x_0) = (f'(x_0))' = ((1 + x_0)^{-1})' = \\frac{d}{dg}(g^{-1}) \\cdot \\frac{d}{dg}(1+x_0)\n",
    "$$\n",
    "$$\n",
    "= -1g^{-2} \\cdot 1 = -(1 + x_0)^{-2} = -1\n",
    "$$\n",
    "\n",
    "vi har nu:\n",
    "$$\n",
    "P_2(x) = x + \\frac{-1}{2!}x = x - \\frac{1}{2}x^2\n",
    "$$"
   ]
  },
  {
   "cell_type": "markdown",
   "id": "2a2852b9",
   "metadata": {},
   "source": [
    "Vi skal nu udregne $f'''(x_0)$\n",
    "$$\n",
    "f'''(x_0) = (-(1+x_0)^{-2})' = \\frac{d}{dg}(-g^{-2}) \\cdot \\frac{d}{dg}(1+x_0) = 2g^{-3} \\cdot 1 = 2(1+x_0)^{-3} = 2\n",
    "$$\n",
    "\n",
    "vi har nu:\n",
    "$$\n",
    "P_3(x) = x - \\frac{1}{2}x^2 + \\frac{2}{6}x^3 = x - \\frac{1}{2}x^2 + \\frac{1}{3}x^3\n",
    "$$"
   ]
  },
  {
   "cell_type": "markdown",
   "id": "3559c179",
   "metadata": {},
   "source": [
    "Vi skal nu bare udregne $\\varepsilon$ for dem alle:\n",
    "$$\n",
    "\\varepsilon_K(x)(x-x_0)^K\n",
    "$$\n",
    "\n",
    "dette ser vi at det bliver\n",
    "$$\n",
    "\\varepsilon_1(x) (x-x_0)^1 = \\varepsilon_1(x) x\n",
    "$$\n",
    "$$\n",
    "\\varepsilon_2(x) (x-x_0)^2 = \\varepsilon_2(x) x^2\n",
    "$$\n",
    "$$\n",
    "\\varepsilon_3(x) (x-x_0)^3 = \\varepsilon_3(x) x^3\n",
    "$$\n",
    "\n",
    "Vi har nu:\n",
    "$$\n",
    "P_K(x) + \\varepsilon_K(x)(x-x_0)^K\n",
    "$$\n",
    "\n",
    "$$\n",
    "P_1(x) + \\varepsilon_1(x)(x-x_0)^1 = x + \\varepsilon_1(x) x\n",
    "$$\n",
    "$$\n",
    "P_2(x) + \\varepsilon_2(x)(x-x_0)^2 = x - \\frac{1}{2}x^2 + \\varepsilon_2(x) x^2\n",
    "$$\n",
    "$$\n",
    "P_3(x) + \\varepsilon_3(x)(x-x_0)^3 = x - \\frac{1}{2}x^2 + \\frac{1}{3}x^3 + \\varepsilon_3(x) x^3\n",
    "$$"
   ]
  },
  {
   "cell_type": "code",
   "execution_count": null,
   "id": "dc065114",
   "metadata": {},
   "outputs": [
    {
     "name": "stdout",
     "output_type": "stream",
     "text": [
      "Taylor polynomial of degree 1 with remainder:\n",
      "\\varepsilon \\left|{x}\\right| + x\n",
      "Taylor polynomial of degree 2 with remainder:\n",
      "\\varepsilon \\left|{x}\\right|^{2} + \\frac{x \\left(2 - x\\right)}{2}\n",
      "Taylor polynomial of degree 3 with remainder:\n",
      "\\varepsilon \\left|{x}\\right|^{3} + x \\left(\\frac{x^{2}}{3} - \\frac{x}{2} + 1\\right)\n"
     ]
    }
   ],
   "source": [
    "# Svar\n",
    "x, epsilon = symbols('x varepsilon')\n",
    "f = ln(1 + x)\n",
    "x_matrix = Matrix([x])\n",
    "x0 = Matrix([0])\n",
    "\n",
    "for i in range(1,3+1):\n",
    "    P = taylorN(f, x_matrix, x0, i)\n",
    "    # Add the \"Lagrange form\" remainder without absolute value:\n",
    "    remainder = epsilon * (x_matrix - x0).norm()**(i)\n",
    "\n",
    "    taylor_with_remainder = P + remainder\n",
    "    print(f\"Taylor polynomial of degree {i} with remainder:\")\n",
    "    print_latex(taylor_with_remainder)"
   ]
  },
  {
   "cell_type": "code",
   "execution_count": null,
   "id": "be727b17",
   "metadata": {},
   "outputs": [
    {
     "data": {
      "image/png": "[encoded data removed]",
      "text/latex": [
       "$\\displaystyle \\left( x \\left(1 - 0.5 x\\right), \\  \\frac{x \\left(2 - x\\right)}{2}\\right)$"
      ],
      "text/plain": [
       "⎛               x⋅(2 - x)⎞\n",
       "⎜x⋅(1 - 0.5⋅x), ─────────⎟\n",
       "⎝                   2    ⎠"
      ]
     },
     "execution_count": 227,
     "metadata": {},
     "output_type": "execute_result"
    }
   ],
   "source": [
    "taylorDegree2(f, x_matrix, x0)"
   ]
  },
  {
   "cell_type": "markdown",
   "id": "cb3314dc",
   "metadata": {},
   "source": [
    "Taylor polynomial of degree 1 with remainder:\n",
    "$$\\varepsilon \\left|{x}\\right| + x$$\n",
    "Taylor polynomial of degree 2 with remainder:\n",
    "$$\\varepsilon \\left|{x}\\right|^{2} + \\frac{x \\left(2 - x\\right)}{2}$$\n",
    "Taylor polynomial of degree 3 with remainder:\n",
    "$$\\varepsilon \\left|{x}\\right|^{3} + x \\left(\\frac{x^{2}}{3} - \\frac{x}{2} + 1\\right)$$"
   ]
  },
  {
   "cell_type": "markdown",
   "id": "689cafb5",
   "metadata": {},
   "source": [
    "#### Spørgsmål b"
   ]
  },
  {
   "cell_type": "markdown",
   "id": "c0e0863e",
   "metadata": {},
   "source": [
    "Hvilket af de tre resultater i Spørgsmål a kan ikke bruges til at finde grænseværdien:\n",
    "\n",
    "\\begin{equation*}\n",
    "  \\lim_{x\\to 0}\\frac{\\ln(1+x)-x}{x^2}\n",
    "\\end{equation*}"
   ]
  },
  {
   "cell_type": "markdown",
   "id": "708e4e62",
   "metadata": {},
   "source": [
    "#### Svar\n",
    "Det er det første, da du får\n",
    "$$\n",
    "\\lim_{x\\to 0}\\frac{\\ln(1+x)-x}{x^2} \\to \\lim_{x\\to 0}\\frac{x + \\varepsilon_1(x)x-x}{x^2} \\to \\lim_{x\\to 0}\\frac{\\varepsilon_1(x)}{x^2}\n",
    "$$\n",
    "Da vi ikke ved hvor hurtigt $\\varepsilon_1(x) \\to 0$ er kan vi ikke bruge dette resultat."
   ]
  },
  {
   "cell_type": "markdown",
   "id": "6004dde5",
   "metadata": {},
   "source": [
    "#### Spørgsmål c"
   ]
  },
  {
   "cell_type": "markdown",
   "id": "e2c85351",
   "metadata": {},
   "source": [
    "Udregn nu ved hjælp af Taylors grænseformel følgende grænseværdi:\n",
    "\n",
    "\\begin{equation*}\n",
    "  \\lim_{x\\to 0}\\frac{x(\\operatorname{e}^x+1)-2(\\operatorname{e}^x-1)}{x^3}.\n",
    "\\end{equation*}"
   ]
  },
  {
   "cell_type": "markdown",
   "id": "ea1612b8",
   "metadata": {},
   "source": [
    "### 3: Drilleopgave"
   ]
  },
  {
   "cell_type": "markdown",
   "id": "8411da4d",
   "metadata": {},
   "source": [
    "En funktion $f\\in C^{\\infty}(\\mathbb{R}^2)$ opfylder ligningerne\n",
    "\n",
    "\\begin{equation*}\n",
    "  f(x,0)=\\operatorname{e}^x\\quad\\text{og}\\quad f'_y(x,y)=2y\\cdot f(x,y).\n",
    "\\end{equation*}"
   ]
  },
  {
   "cell_type": "markdown",
   "id": "64a87b90",
   "metadata": {},
   "source": [
    "Find det approksimerende polynomium af anden grad for funktionen $f$ med $(x_0,y_0)=(0,0)$ som udviklingspunkt."
   ]
  },
  {
   "cell_type": "markdown",
   "id": "013dc704",
   "metadata": {},
   "source": [
    "### 4: Taylors formler og approksimation."
   ]
  },
  {
   "cell_type": "markdown",
   "id": "dd6a7dae",
   "metadata": {},
   "source": [
    "Der er givet funktionen $f: \\mathbb{R}^2 \\to \\mathbb{R}$:\n",
    "\n",
    "\\begin{equation*}\n",
    "  f(x,y)=\\operatorname{e}^{x+xy-2y} \\quad \\text{for} \\quad (x,y)\\in\\mathbb{R}^2.\n",
    "\\end{equation*}"
   ]
  },
  {
   "cell_type": "markdown",
   "id": "2d453706",
   "metadata": {},
   "source": [
    "#### Spørgsmål a"
   ]
  },
  {
   "cell_type": "markdown",
   "id": "2dee856a",
   "metadata": {},
   "source": [
    "Opskriv 2. grads Taylor-polynomiet for $f$ med udviklingspunktet $(x_0,y_0)=(0,0)$ på almindelig form (uden vektorer og matricer)."
   ]
  },
  {
   "cell_type": "markdown",
   "id": "4c1038f6",
   "metadata": {},
   "source": [
    "#### Spørgsmål b"
   ]
  },
  {
   "cell_type": "markdown",
   "id": "9905e91b",
   "metadata": {},
   "source": [
    "Bestem gradienten $\\nabla f(0,0)$ og Hessematricen $\\pmb{H}_f(0,0)$ og opskriv på matrixform 2. grads Taylor-polynomiet for $f$ med udviklingspunktet $(x_0,y_0)=(0,0)$."
   ]
  },
  {
   "cell_type": "markdown",
   "id": "657e07b5",
   "metadata": {},
   "source": [
    "#### Spørgsmål c"
   ]
  },
  {
   "cell_type": "markdown",
   "id": "e68d0b2e",
   "metadata": {},
   "source": [
    "Vi ønsker nu en approksimeret værdi for $f(\\frac 34, \\frac12)$ ud fra et approksimerende andengradspolynomium for $f$. Det er selvfølgelig nemt bare at bruge det approksimerende andengradspolynomium med udviklingspunktet $(0,0)$ som vi umiddelbart har fra første spørgsmål. På den anden side ligger $(\\frac 34, \\frac 12)$ lidt tættere på $(1,1)$ hvori det også er relativt bekvemt at udvikle fra. Så måske burde man hellere bruge $(1,1)$ som udviklingspunkt? Hvilken forskel gør det?\n",
    "\n",
    "Bestem de approksimerende polynomier af anden grad, $P_2(x,y)$ og $Q_2(x,y)$ for $f$ med udviklingspunkterne hhv. $(0,0)$ og $(1,1)$. Bestem værdierne af dem i punktet $(\\frac 34, \\frac 12)$ og sammenlign med en computerværdi af $f(\\frac 34, \\frac 12)$."
   ]
  },
  {
   "cell_type": "markdown",
   "id": "ef9ad96b",
   "metadata": {},
   "source": [
    "### 5: Anvendelse af approksimerende polynomium"
   ]
  },
  {
   "cell_type": "markdown",
   "id": "bae7d675",
   "metadata": {},
   "source": [
    "En funktion $f:\\mathbb{R}^2 \\to \\mathbb{R}$ er givet ved\n",
    "\n",
    "\\begin{equation*}\n",
    "  f(x,y)=\\sqrt{x^2+y^2} \\quad \\text{for} \\quad (x,y)\\in\\mathbb{R}^2.\n",
    "\\end{equation*}"
   ]
  },
  {
   "cell_type": "markdown",
   "id": "7e7c9923",
   "metadata": {},
   "source": [
    "#### Spørgsmål a"
   ]
  },
  {
   "cell_type": "markdown",
   "id": "2c3f7582",
   "metadata": {},
   "source": [
    "Bestem det approksimerende polynomium $P_2(x,y)$ af anden grad for $f$ i udviklingspunktet $(x_0,y_0)=(3,4)$."
   ]
  },
  {
   "cell_type": "markdown",
   "id": "fdc81743",
   "metadata": {},
   "source": [
    "#### Spørgsmål b"
   ]
  },
  {
   "cell_type": "markdown",
   "id": "0079a758",
   "metadata": {},
   "source": [
    "I dette spørgsmål skal vi illustrere den fejl, vi får hvis vi anvender det approksimerende 2. gradspolynomium i stedet for den eksakte værdi.\n",
    "\n",
    "Bestem ved hjælp af resultatet i spørgsmål a længden af diagonalen i et rektangel med sidelængerne 2.9 og 4.2 (brug gerne SymPy til udregningen)."
   ]
  },
  {
   "cell_type": "markdown",
   "id": "e75c3a85",
   "metadata": {},
   "source": [
    "#### Spørgsmål c"
   ]
  },
  {
   "cell_type": "markdown",
   "id": "3b48e564",
   "metadata": {},
   "source": [
    "Sammenlign med en SymPy-værdi af diagonallængden."
   ]
  },
  {
   "cell_type": "markdown",
   "id": "18fc90f6",
   "metadata": {},
   "source": [
    "#### Spørgsmål d"
   ]
  },
  {
   "cell_type": "markdown",
   "id": "1611a58e",
   "metadata": {},
   "source": [
    "Er forskellen signifikant?"
   ]
  }
 ],
 "metadata": {
  "jupytext": {
   "formats": "md:myst"
  },
  "kernelspec": {
   "display_name": "Python 3",
   "language": "python",
   "name": "python3"
  },
  "language_info": {
   "codemirror_mode": {
    "name": "ipython",
    "version": 3
   },
   "file_extension": ".py",
   "mimetype": "text/x-python",
   "name": "python",
   "nbconvert_exporter": "python",
   "pygments_lexer": "ipython3",
   "version": "3.11.10"
  }
 },
 "nbformat": 4,
 "nbformat_minor": 5
}
