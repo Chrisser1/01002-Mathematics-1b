{
 "cells": [
  {
   "cell_type": "code",
   "execution_count": 66,
   "id": "27ab84c6",
   "metadata": {},
   "outputs": [],
   "source": [
    "from sympy import *\n",
    "from dtumathtools import *\n",
    "import numpy as np\n",
    "\n",
    "init_printing()"
   ]
  },
  {
   "cell_type": "markdown",
   "id": "ccb01b80",
   "metadata": {},
   "source": [
    "# Uge 8: Øvelser"
   ]
  },
  {
   "cell_type": "markdown",
   "id": "1cbebd3a",
   "metadata": {},
   "source": [
    "## Opgaver -- Store Dag"
   ]
  },
  {
   "cell_type": "markdown",
   "id": "0cd91d4e",
   "metadata": {},
   "source": [
    "**Note:**\n",
    "På engelsk kaldes $|\\det{\\pmb{J}_{\\pmb{r}}(\\pmb{u})}|$ ofte for \"the Jacobian\". På dansk vil man nok kalde den \"Jacobianten\" eller bruge den fulde beskrivelse: \"absolut-værdien af determinanten af Jacobi-matricen\". På DTU kaldes den undertiden for \"Jacobi-funktionen\", men dette er ikke en betegnelse der bruges uden for DTU - og man tales således ikke om \"the Jacobi function\" i engelsk sproget litteratur."
   ]
  },
  {
   "cell_type": "markdown",
   "id": "c4d7de37",
   "metadata": {},
   "source": [
    "### 1: Planintegraler over rektangler. Håndregning"
   ]
  },
  {
   "cell_type": "markdown",
   "id": "86fde3fa",
   "metadata": {},
   "source": [
    "#### Spørgsmål a"
   ]
  },
  {
   "cell_type": "markdown",
   "id": "10405103",
   "metadata": {},
   "source": [
    "Betragt området $B=\\left\\lbrace (x,y) \\bigm| 0\\leq x\\leq 2 \\wedge  -1\\leq y\\leq 0\\right\\rbrace$ i $\\mathbb{R}^2$. Udregn planintegralet \n",
    "\n",
    "\\begin{equation*}\n",
    "  \\int_B (x^2y^2+x) \\mathrm{d}\\pmb{x}  \n",
    "\\end{equation*}\n",
    "\n",
    "via <a href=\"../_assets/textbook_mat1b_en.pdf#thm:int-R2-over-rectangle\">formlen</a> for dobbelt integraler over (akseparallelle) rektangler."
   ]
  },
  {
   "cell_type": "markdown",
   "id": "60a3a1af",
   "metadata": {},
   "source": [
    "#### Spørgsmål b"
   ]
  },
  {
   "cell_type": "markdown",
   "id": "69180e89",
   "metadata": {},
   "source": [
    "Vi vil udregne samme planintegral igen, men på en umiddelbart mere kompliceret måde, nemlig via  <a href=\"../_assets/textbook_mat1b_en.pdf#thm:change-of-variables-thm-R2\">Transformationssætningen</a> for integraler over $\\mathbb{R}^2$."
   ]
  },
  {
   "cell_type": "markdown",
   "id": "5bdad672",
   "metadata": {},
   "source": [
    "#### Spørgsmål c"
   ]
  },
  {
   "cell_type": "markdown",
   "id": "8fad5b1a",
   "metadata": {},
   "source": [
    "Udregn planintegralet \n",
    "\n",
    "\\begin{equation*}\n",
    "  \\int_B \\frac{y}{1+xy} \\;\\mathrm{d}\\pmb{x}, \\quad\\text{hvor}\\quad B=\\left\\lbrace (x,y) \\mid 0\\leq x\\leq 1 \\, \\wedge \\, 0\\leq y\\leq 1\\right\\rbrace \n",
    "\\end{equation*}"
   ]
  },
  {
   "cell_type": "markdown",
   "id": "dc414eb3",
   "metadata": {},
   "source": [
    "### 2: Polære koordinater. Håndregning"
   ]
  },
  {
   "cell_type": "markdown",
   "id": "0fedc680",
   "metadata": {},
   "source": [
    "En funktion $f:\\mathbb{R}^2 \\to \\mathbb{R}$ er givet ved\n",
    "\n",
    "\\begin{equation*}\n",
    "  f(x,y)=x^2-y^2\n",
    "\\end{equation*}\n",
    "\n",
    "For et givet punkt $\\pmb{x}=(x,y)$ i planen betegner $r = \\Vert \\pmb{x} \\Vert$ punktets afstand til origo $(0,0)$. Tilsvarende betegner $\\theta$ vinkel mellem $x$-aksen og punktets stedvektor, regnet med fortegn i omdrejningsretningen mod uret. En punktmængde $B$ er i polære koordinater beskrevet som de punkter for hvilket \n",
    "\n",
    "\\begin{equation*}\n",
    "   0\\leq r \\leq a \\, \\text{ og } \\, -\\frac{\\pi}{4} \\leq \\theta \\leq \\frac{\\pi}{2},\n",
    "\\end{equation*}\n",
    "\n",
    "\n",
    "<!--\\begin{equation*}\n",
    "  B=\\left\\{(x,y) \\mid 0\\leq r \\leq a \\, \\wedge \\, -\\frac{\\pi}{4} \\leq \\theta \\leq \\frac{\\pi}{2}\\right\\},\n",
    "\\end{equation*}-->\n",
    "\n",
    "hvor $a$ er et vilkårligt positivt reelt tal."
   ]
  },
  {
   "cell_type": "markdown",
   "id": "e08c7c51",
   "metadata": {},
   "source": [
    "#### Spørgsmål a"
   ]
  },
  {
   "cell_type": "markdown",
   "id": "a6338962",
   "metadata": {},
   "source": [
    "Lav en skitse af $B$, og bestem arealet af $B$ både ved integration og elementær geometrisk betragtning."
   ]
  },
  {
   "cell_type": "markdown",
   "id": "710b6f5a",
   "metadata": {},
   "source": [
    "#### Spørgsmål b"
   ]
  },
  {
   "cell_type": "markdown",
   "id": "6f6231e3",
   "metadata": {},
   "source": [
    "Bestem planintegralet $\\int_B f(x,y) \\;\\mathrm{d}\\pmb{x}$."
   ]
  },
  {
   "cell_type": "markdown",
   "id": "30b34565",
   "metadata": {},
   "source": [
    "### 3: Volumen af et parallellotop"
   ]
  },
  {
   "cell_type": "markdown",
   "id": "9d785992",
   "metadata": {},
   "source": [
    "Et parallellotop $P$ i $\\mathbb{R}^n$ \"udspændt\" af vektorerne $\\pmb{a}_1, \\pmb{a}_2, \\dots, \\pmb{a}_n$ defineres ved:\n",
    "\n",
    "\\begin{equation*}\n",
    "    P = \\left\\{ \\pmb{y} \\in \\mathbb{R}^n \\mid \\, \\pmb{y} = A\\pmb{x}, \\quad \\text{hvor } x_i \\in [0,1] \\text{ for $i=1,2,\\dots, n$} \\right\\}\n",
    "\\end{equation*}\n",
    "\n",
    "hvor $A = [\\pmb{a}_1 | \\pmb{a}_2 | \\cdots | \\pmb{a}_n]$ er $n \\times n$ matricen hvis $i$'te søjle er $\\pmb{a}_i$. Punktmængden kan kort skrives $P=A([0,1]^n)$.  \n",
    "\n",
    "Det kan vises med værktøjer *kun* fra Matematik 1a (specielt karakteriseringen af determinanten) at det $n$-dimensionale volumen af $P$ er:\n",
    "\n",
    "\\begin{equation*}\n",
    "    \\mathrm{vol}_n(P) = |\\mathrm{det}(A)| \n",
    "\\end{equation*}\n",
    "\n",
    "(For den interesserede studerende: et sådant bevis findes her https://textbooks.math.gatech.edu/ila/determinants-volumes.html)\n",
    "\n",
    "I $\\mathbb{R}^2$ er et parallellotop det velkendte pallellogram, og $\\mathrm{vol}_n(P)$ er arealet af $P$, mens man i $\\mathbb{R}^3$ genfinder parallelepipedummet og det almindelige volumen."
   ]
  },
  {
   "cell_type": "markdown",
   "id": "3cc4e4d6",
   "metadata": {},
   "source": [
    "#### Spørgsmål a"
   ]
  },
  {
   "cell_type": "markdown",
   "id": "3be48d7f",
   "metadata": {},
   "source": [
    "Vis $\\mathrm{vol}_n(P) = |\\mathrm{det}(A)|$ ved hjælp af <a href=\"../_assets/textbook_mat1b_en.pdf#thm:change-of-variables-thm-Rn\">Transformationssætningen</a> for integraler over $\\mathbb{R}^n$."
   ]
  },
  {
   "cell_type": "markdown",
   "id": "d3c0e4ac",
   "metadata": {},
   "source": [
    "*I resten af opgaven ønsker vi at undersøge udsagnet $\\mathrm{vol}_n(P) = |\\mathrm{det}(A)|$ uden brug af integrationsteknikker.*"
   ]
  },
  {
   "cell_type": "markdown",
   "id": "95ed4342",
   "metadata": {},
   "source": [
    "#### Spørgsmål b"
   ]
  },
  {
   "cell_type": "markdown",
   "id": "a3ce21d1",
   "metadata": {},
   "source": [
    "Lad $n=2$. Vælg to lineært uafhængige vektorer $\\pmb{a}_1, \\pmb{a}_2$ i $\\mathbb{R}^2$. Du kan med fordel vælge $\\pmb{a}_1 \\in \\mathrm{span}(\\pmb{e}_1)$. Udregn (ved simple geometriske overvejelser) arealet af parallellogrammet \"udspændt\" af de to vektorer. Udregn også $|\\mathrm{det}(A)|$ og sammenlign størrelserne."
   ]
  },
  {
   "cell_type": "markdown",
   "id": "b8720072",
   "metadata": {},
   "source": [
    "#### Spørgsmål c"
   ]
  },
  {
   "cell_type": "markdown",
   "id": "641ad10c",
   "metadata": {},
   "source": [
    "Lad $n=2$ og lad nu $\\pmb{a}_1, \\pmb{a}_2$ være vilkårlige, men lineært uafhængige vektorer i $\\mathbb{R}^2$. Kan du bevise formlen $\\mathrm{areal}(P) = |\\mathrm{det}(A)|$, hvor $P$ er parallellogrammet \"udspændt\" af de to vektorer. Du kan antage (hvorfor?) at $\\pmb{a}_1 \\in \\mathrm{span}(\\pmb{e}_1)$ hvis det gør dit argument lettere."
   ]
  },
  {
   "cell_type": "markdown",
   "id": "51c500f5",
   "metadata": {},
   "source": [
    "#### Spørgsmål d"
   ]
  },
  {
   "cell_type": "markdown",
   "id": "4a0d5507",
   "metadata": {},
   "source": [
    "Lad $n=3$. Vælg tre lineært uafhængige vektorer $\\pmb{a}_1, \\pmb{a}_2, \\pmb{a}_3$ i $\\mathbb{R}^3$. Du kan med fordel vælge $\\pmb{a}_1, \\pmb{a}_2 \\in \\mathrm{span}(\\pmb{e}_1, \\pmb{e}_2)$. Udregn (ved simple geometriske overvejelser) volumen af parallelepipedummet \"udspændt\" af de tre vektorer. Udregn også $|\\mathrm{det}(A)|$ og sammenlign størrelserne."
   ]
  },
  {
   "cell_type": "markdown",
   "id": "fb528c0b",
   "metadata": {},
   "source": [
    "#### Spørgsmål e (ekstra, kan laves efter dagens øvelser)"
   ]
  },
  {
   "cell_type": "markdown",
   "id": "d0cbfd76",
   "metadata": {},
   "source": [
    "Lad $n=3$ og lad nu $\\pmb{a}_1, \\pmb{a}_2, \\pmb{a}_3$ være vilkårlige, men lineært uafhængige vektorer i $\\mathbb{R}^3$. Kan du bevise formlen $\\mathrm{areal}(P) = |\\mathrm{det}(A)|$, hvor $P$ er parallelepipedummet \"udspændt\" af de tre vektorer. Du kan antage (hvorfor?) at $\\pmb{a}_1, \\pmb{a}_2 \\in \\mathrm{span}(\\pmb{e}_1, \\pmb{e}_2)$, hvis det gør dit argument lettere."
   ]
  },
  {
   "cell_type": "markdown",
   "id": "7a347fdc",
   "metadata": {},
   "source": [
    "### 4: Planintegral med parametrisering I. Håndregning"
   ]
  },
  {
   "cell_type": "markdown",
   "id": "5f5247bf",
   "metadata": {},
   "source": [
    "I $(x,y)$-planen er der givet punktet $P_0=(1,2)$ og punktmængden \n",
    "\n",
    "\\begin{equation*}\n",
    "  C=\\left\\lbrace (x,y)\\Big\\vert \\frac 32\\leq y \\leq \\frac 52 \\wedge  0\\leq x\\leq \\frac 12 y^2\\right\\rbrace\n",
    "\\end{equation*}"
   ]
  },
  {
   "cell_type": "markdown",
   "id": "48e34aa4",
   "metadata": {},
   "source": [
    "#### Spørgsmål a"
   ]
  },
  {
   "cell_type": "markdown",
   "id": "31fcf17d",
   "metadata": {},
   "source": [
    "Lav en foreløbig skitse af $C$ og angiv en parameterfremstilling $\\pmb{r}(u,v)$ for $C$ med passende intervaller for $u$ og $v$, dvs angiv $\\Gamma$ så $\\pmb{r}(\\Gamma)=C$. Argumentér for at den valgte parametrisering er injektiv (hvis den valgte parametrisering ikke er injektiv, skal du finde en ny)."
   ]
  },
  {
   "cell_type": "markdown",
   "id": "ee7bbefe",
   "metadata": {},
   "source": [
    "#### Spørgsmål b"
   ]
  },
  {
   "cell_type": "markdown",
   "id": "b4870a73",
   "metadata": {},
   "source": [
    "Bestem de to parameterværdier $u_0$ og $v_0$ således at $\\pmb{r}(u_0,v_0)=P_0$.\n",
    "Lav en illustration af $C$ (i hånden eller i Sympy) hvor du udfra $P_0$ afsætter tangentvektorerne $\\pmb{r}'_u(u_0,v_0)$ og $\\pmb{r}'_v(u_0,v_0)$. Bestem arealet af det parallelogram som udspændes af tangentvektorerne, jf. Opgave [](exercise:volumen-af-et-parallellotop)."
   ]
  },
  {
   "cell_type": "markdown",
   "id": "3776b844",
   "metadata": {},
   "source": [
    "#### Spørgsmål c"
   ]
  },
  {
   "cell_type": "markdown",
   "id": "c538c66b",
   "metadata": {},
   "source": [
    "Bestem den til $\\pmb{r}(u,v)$ hørende Jacobi-determinant og argumenter for at de to søjle-vektorer i Jacobi-matricen er lineært uafhængige for alle $(u,v) \\in \\Gamma$. Udregn Jacobi-determinanten i punktet $(u_0,v_0)$."
   ]
  },
  {
   "cell_type": "markdown",
   "id": "a983fbe4",
   "metadata": {},
   "source": [
    "#### Spørgsmål d"
   ]
  },
  {
   "cell_type": "markdown",
   "id": "5de7ae33",
   "metadata": {},
   "source": [
    "Udregn planintegralet: \n",
    "\n",
    "\\begin{equation*}\n",
    "  \\int_C \\frac{1}{y^2+x} \\mathrm{d}\\pmb{x}\n",
    "\\end{equation*}\n",
    "\n",
    "via <a href=\"../_assets/textbook_mat1b_en.pdf#thm:change-of-variables-thm-R2\">Transformationssætningen</a> for integraler over $\\mathbb{R}^2$. Du skal argumentere for at Transformationssætningen kan bruges. Kontroller resultatet med <a href=\"../_assets/textbook_mat1b_en.pdf#thm:int-R2-axes-parallel\">sætningen om akseparallelle områder</a>."
   ]
  },
  {
   "cell_type": "markdown",
   "id": "39d39401",
   "metadata": {},
   "source": [
    "### 5: Planintegral med parametrisering II"
   ]
  },
  {
   "cell_type": "markdown",
   "id": "080196b0",
   "metadata": {},
   "source": [
    "Vi skal bestemme planintegralet\n",
    "\n",
    "\\begin{equation*}\n",
    "  \\int_B 2xy\\,\\mathrm{d} \\pmb{x} \\quad\\text{hvor}\\quad B=\\pmb{r}([0,1]^2)\n",
    "\\end{equation*}\n",
    "\n",
    "er givet ved parametriseringen:\n",
    "\n",
    "\\begin{equation*}\n",
    "  \\pmb{r}(u,v)=(u,v(1-u)),\\;\\text{hvor}\\; u\\in\\left[ 0,1\\right]\\text{ og } v\\in\\left[ 0,1\\right]\n",
    "\\end{equation*}\n",
    "\n",
    "Følg de nedenstående trin."
   ]
  },
  {
   "cell_type": "markdown",
   "id": "e472e070",
   "metadata": {},
   "source": [
    "#### Spørgsmål a"
   ]
  },
  {
   "cell_type": "markdown",
   "id": "bc7734a3",
   "metadata": {},
   "source": [
    "Beskriv området $B$ ved hjælp at uligheder (a la $x+5y\\ge 7$). Skitsér derefter $B$."
   ]
  },
  {
   "cell_type": "markdown",
   "id": "b5103542",
   "metadata": {},
   "source": [
    "#### Spørgsmål b"
   ]
  },
  {
   "cell_type": "markdown",
   "id": "4f91d39f",
   "metadata": {},
   "source": [
    "Bestem Jacobi-determinanten for parametriseringen $\\pmb{r}(u,v)$. Er Jacobi-determinanten forskellig fra nul på det indre af parameterdomænet (som kræves af Transformationssætningen)?"
   ]
  },
  {
   "cell_type": "markdown",
   "id": "e6248495",
   "metadata": {},
   "source": [
    "#### Spørgsmål c"
   ]
  },
  {
   "cell_type": "markdown",
   "id": "43085be4",
   "metadata": {},
   "source": [
    "Bestem nu det ønskede integral."
   ]
  },
  {
   "cell_type": "markdown",
   "id": "41ac738a",
   "metadata": {},
   "source": [
    "### 6: Et tripelintegral"
   ]
  },
  {
   "cell_type": "markdown",
   "id": "5d89ab88",
   "metadata": {},
   "source": [
    "Bestem trippelintegralet \n",
    "\n",
    "\\begin{equation*}\n",
    "  \\displaystyle{\\int_1^2\\int_1^2\\int_1^2 \\frac{xy}{z} \\mathrm dx\\mathrm dy\\mathrm dz.}\\\n",
    "\\end{equation*}"
   ]
  },
  {
   "cell_type": "markdown",
   "id": "f22ed52c",
   "metadata": {},
   "source": [
    "### 7: Partiel integration og substitution i to variable"
   ]
  },
  {
   "cell_type": "markdown",
   "id": "7f046402",
   "metadata": {},
   "source": [
    "#### Spørgsmål a"
   ]
  },
  {
   "cell_type": "markdown",
   "id": "be767b2e",
   "metadata": {},
   "source": [
    "Bestem $\\displaystyle{\\int_0^{\\frac{\\pi}{2}}\\left(\\int_0^{\\frac{\\pi}{2}} u\\cos(u+v)\\mathrm{d}u\\right)\\mathrm{d}v.}$"
   ]
  },
  {
   "cell_type": "markdown",
   "id": "eb1f125d",
   "metadata": {},
   "source": [
    "#### Spørgsmål b"
   ]
  },
  {
   "cell_type": "markdown",
   "id": "1bba2727",
   "metadata": {},
   "source": [
    "Bestem $\\displaystyle{\\int_0^1\\left(\\int_0^1 \\frac{v}{(uv+1)^2}\\mathrm{d}u\\right)\\mathrm{d}v.}$"
   ]
  },
  {
   "cell_type": "markdown",
   "id": "aa8f7ebf",
   "metadata": {},
   "source": [
    "----"
   ]
  },
  {
   "cell_type": "markdown",
   "id": "4e17ab1c",
   "metadata": {},
   "source": [
    "## Opgaver -- Lille Dag"
   ]
  },
  {
   "cell_type": "markdown",
   "id": "d7500ee5",
   "metadata": {},
   "source": [
    "### 1: Parametriseret rumligt område. Håndregning."
   ]
  },
  {
   "cell_type": "markdown",
   "id": "04765282",
   "metadata": {},
   "source": [
    "Et område $B$ i $(x,y,z)$-rummet er givet ved parameterfremstillingen \n",
    "\n",
    "\\begin{equation*}\n",
    "  \\pmb{r}(u,v,w)=\\big(\\frac{1}{2}u^2-v^2,-uv,w\\big),\\quad u\\in \\left[ 0,2\\right],v\\in \\left[ 0,2\\right],w\\in \\left[ 0,2\\right]\n",
    "\\end{equation*}"
   ]
  },
  {
   "cell_type": "markdown",
   "id": "b17355d5",
   "metadata": {},
   "source": [
    "#### Spørgsmål a"
   ]
  },
  {
   "cell_type": "markdown",
   "id": "2b11a110",
   "metadata": {},
   "source": [
    "I $B$ er der givet punktet \n",
    "\n",
    "\\begin{equation*}\n",
    "  \\pmb{x}_0=\\pmb{r}(1,1,1)\n",
    "\\end{equation*}\n",
    "\n",
    "Find $\\pmb{x}_0$. Afsat ud fra $\\pmb{x}_0$ udspænder tangentvektorerne $\\pmb{r}_u'(1,1,1),\\pmb{r}_v'(1,1,1)$ og $\\pmb{r}_w'(1,1,1)$ et parallelepipedum $P$, jf. Opgave [](exercise:volumen-af-et-parallellotop). Bestem volumen af dette parallelepipedum. Illustrér evt. med Sympy."
   ]
  },
  {
   "cell_type": "markdown",
   "id": "7e8c4359",
   "metadata": {},
   "source": [
    "#### Svar\n",
    "Vi starter med at finde $x_0$:\n",
    "$$\n",
    "x_0 = r(1,1,1) = (\\frac{1}{2}1^2-1^2,-1 \\cdot 1, 1) = (-\\frac{1}{2},-1,1)\n",
    "$$\n",
    "Vi skal nu udregne volument af parallelepipedum, det kan gøres ved at vi først udregner $\\pmb{r}_u'(1,1,1),\\pmb{r}_v'(1,1,1)$ og $\\pmb{r}_w'(1,1,1)$."
   ]
  },
  {
   "cell_type": "markdown",
   "id": "ed4906b5",
   "metadata": {},
   "source": [
    "$$\n",
    "\\pmb{r}_u'(1,1,1) = \\frac{d}{du}(\\frac{1}{2}u^2-v^2,-uv,w) = (u, -v, 0) = (1,-1,0)\n",
    "$$\n",
    "$$\n",
    "\\pmb{r}_v'(1,1,1) = \\frac{d}{dv}(\\frac{1}{2}u^2-v^2,-uv,w) = (-2v, -u, 0) = (-2,-1,0)\n",
    "$$\n",
    "$$\n",
    "\\pmb{r}_w'(1,1,1) = \\frac{d}{dw}(\\frac{1}{2}u^2-v^2,-uv,w) = (0, 0, 1)\n",
    "$$"
   ]
  },
  {
   "cell_type": "markdown",
   "id": "f8e5c5f6",
   "metadata": {},
   "source": [
    "Volumen af et parallelepiped udspændt af tre vektorer $(a,b,c)$ findes som:\n",
    "$$\n",
    "V = |a \\cdot (b \\times c)|\n",
    "$$\n",
    "Vi sætter nu $a = \\pmb{r}_u'$, $b = \\pmb{r}_v'$ og $c = \\pmb{r}_w'$. Vi har nu\n",
    "$$\n",
    "|(1,-1,0) \\cdot ((-2,-1,0) \\times (0, 0, 1))|\n",
    "$$\n",
    "$$\n",
    "(-2,-1,0) \\times (0, 0, 1) = \n",
    "\\begin{bmatrix}\n",
    "-2,-1,0 \\\\\n",
    "0, 0, 1\n",
    "\\end{bmatrix} = (-1,2,0)\n",
    "$$\n",
    "Vi har nu\n",
    "$$\n",
    "|(1,-1,0) \\cdot (-1,2,0)| = |-1 - 2| = |-3| = 3\n",
    "$$\n"
   ]
  },
  {
   "cell_type": "markdown",
   "id": "203b12fe",
   "metadata": {},
   "source": [
    "#### Spørgsmål b"
   ]
  },
  {
   "cell_type": "markdown",
   "id": "1e173caf",
   "metadata": {},
   "source": [
    "Bestem absolut-værdien af Jacobi-determinanten der hører til $\\pmb{r}$. Evaluer den i $\\pmb{x}_0$."
   ]
  },
  {
   "cell_type": "markdown",
   "id": "cbb7198e",
   "metadata": {},
   "source": [
    "#### Svar\n",
    "Vi udregner først jacobian matrixen\n",
    "$$\n",
    "J_r(u,v,w) = \n",
    "\\begin{bmatrix}\n",
    "u & -v & 0 \\\\\n",
    "-2v & -u & 0 \\\\\n",
    "0 & 0 & 1\n",
    "\\end{bmatrix}^T = \n",
    "\\begin{bmatrix}\n",
    "u & -2v & 0 \\\\\n",
    "-v & -u & 0 \\\\\n",
    "0 & 0 & 1\n",
    "\\end{bmatrix}\n",
    "$$"
   ]
  },
  {
   "cell_type": "markdown",
   "id": "4692cf84",
   "metadata": {},
   "source": [
    "$$\n",
    "|det(J_r(u,v,w))| = |u \\cdot -u - (-v \\cdot -2v)| = |-u^2 - 2v^2| = u^2 + 2v^2\n",
    "$$"
   ]
  },
  {
   "cell_type": "markdown",
   "id": "17fe26e3",
   "metadata": {},
   "source": []
  },
  {
   "cell_type": "markdown",
   "id": "513ce397",
   "metadata": {},
   "source": [
    "Vi har nu at\n",
    "$$\n",
    "J_r(1,1,1) = 1^2 + 2 \\cdot 1^2 = 3\n",
    "$$"
   ]
  },
  {
   "cell_type": "markdown",
   "id": "33ee5232",
   "metadata": {},
   "source": [
    "#### Spørgsmål c"
   ]
  },
  {
   "cell_type": "markdown",
   "id": "15c07b5b",
   "metadata": {},
   "source": [
    "Bestem voluminet af $B$."
   ]
  },
  {
   "cell_type": "markdown",
   "id": "866a329d",
   "metadata": {},
   "source": [
    "#### Svar\n",
    "Vi udregner determinanten af jacobianmatricen udspændt af tangentvektorerne:\n",
    "$$\n",
    "areal(B) = \\int_0^2 \\int_0^2\\int_0^2 (u^2 + 2v^2) dudvdw\n",
    "$$"
   ]
  },
  {
   "cell_type": "markdown",
   "id": "4b77a022",
   "metadata": {},
   "source": [
    "$$\n",
    "= \\int_0^2 \\int_0^2 [\\frac{1}{3} u^3 + 2v^2]_0^2 dvdw\n",
    "$$\n",
    "$$\n",
    "= \\int_0^2 \\int_0^2 (\\frac{8}{3} + 2v^2) dvdw\n",
    "$$\n",
    "$$\n",
    "= \\int_0^2 [\\frac{8}{3}v + \\frac{4}{3}v^3]_0^2 dvdw\n",
    "$$\n",
    "$$\n",
    "= \\int_0^2 (\\frac{16}{3} + \\frac{32}{3}) dw\n",
    "$$\n",
    "$$\n",
    "= \\int_0^2 \\frac{16}{3} + \\frac{32}{3} dw = \\int_0^2 16 dw\n",
    "$$\n",
    "$$\n",
    "= [16w]_0^2 = 32\n",
    "$$\n",
    "\n",
    "\n"
   ]
  },
  {
   "cell_type": "markdown",
   "id": "4ea81a01",
   "metadata": {},
   "source": [
    "### 2: Massefordelinger i $(x,y)$-planen"
   ]
  },
  {
   "cell_type": "markdown",
   "id": "9d0dbe2e",
   "metadata": {},
   "source": [
    "Betragt punktmængderne i $\\mathbb{R}^2$ givet ved:\n",
    "\n",
    "\\begin{equation*}\n",
    "  B=\\left\\lbrace (x,y) \\in \\mathbb{R}^2 \\;\\Big\\vert \\; 1\\leq x\\leq 2  \\, \\wedge \\, 0\\leq y\\leq x^3\\right\\rbrace\n",
    "\\end{equation*}\n",
    "\n",
    "og (igen)\n",
    "\n",
    "\\begin{equation*}\n",
    "  C=\\left\\lbrace (x,y) \\in \\mathbb{R}^2 \\;\\Big\\vert \\; \\frac 32\\leq y \\leq \\frac 52 \\wedge  0\\leq x\\leq \\frac 12 y^2\\right\\rbrace.\n",
    "\\end{equation*}  \n",
    "\n",
    "Vi opfatter $f(x,y)$ som massetætheden/massefylden ($kg/m^2$) i punktet $(x,y)$."
   ]
  },
  {
   "cell_type": "markdown",
   "id": "1709671c",
   "metadata": {},
   "source": [
    "#### Spørgsmål a"
   ]
  },
  {
   "cell_type": "markdown",
   "id": "a4331c36",
   "metadata": {},
   "source": [
    "Antag massetætheden er konstant $f(x,y)=1$ for $(x,y)\\in B$. Bestem massen og massemidtpunktet af $B$."
   ]
  },
  {
   "cell_type": "code",
   "execution_count": 67,
   "id": "318b0b47",
   "metadata": {},
   "outputs": [
    {
     "data": {
      "image/png": "[encoded data removed]",
      "text/latex": [
       "$\\displaystyle \\left( \\frac{15}{4}, \\  \\frac{124}{75}, \\  \\frac{254}{105}\\right)$"
      ],
      "text/plain": [
       "⎛      124  254⎞\n",
       "⎜15/4, ───, ───⎟\n",
       "⎝      75   105⎠"
      ]
     },
     "execution_count": 67,
     "metadata": {},
     "output_type": "execute_result"
    }
   ],
   "source": [
    "# Svar\n",
    "x,y = symbols('x y')\n",
    "f = 1\n",
    "\n",
    "x_min = 1\n",
    "y_min = 0\n",
    "x_max = 2\n",
    "y_max = x**3\n",
    "\n",
    "M = integrate(integrate(f, (y, y_min, y_max)), (x, x_min, x_max))\n",
    "\n",
    "# Nu udregner vi midtpunktet\n",
    "x_CM = 1/M*integrate(integrate(f*x, (y, y_min, y_max)), (x, x_min, x_max))\n",
    "y_CM = 1/M*integrate(integrate(f*y, (y, y_min, y_max)), (x, x_min, x_max))\n",
    "\n",
    "M, x_CM, y_CM\n"
   ]
  },
  {
   "cell_type": "markdown",
   "id": "7f191352",
   "metadata": {},
   "source": [
    "#### Spørgsmål b"
   ]
  },
  {
   "cell_type": "markdown",
   "id": "4a5b2d8b",
   "metadata": {},
   "source": [
    "Antag massetætheden er $f(x,y)=x^2$ for $(x,y)\\in B$. Bestem massen og massemidtpunktet af $B$."
   ]
  },
  {
   "cell_type": "code",
   "execution_count": 68,
   "id": "6d89b6cb",
   "metadata": {},
   "outputs": [
    {
     "data": {
      "image/png": "[encoded data removed]",
      "text/latex": [
       "$\\displaystyle \\left( \\frac{21}{2}, \\  \\frac{254}{147}, \\  \\frac{73}{27}\\right)$"
      ],
      "text/plain": [
       "⎛      254  73⎞\n",
       "⎜21/2, ───, ──⎟\n",
       "⎝      147  27⎠"
      ]
     },
     "execution_count": 68,
     "metadata": {},
     "output_type": "execute_result"
    }
   ],
   "source": [
    "# Svar\n",
    "# Svar\n",
    "x,y = symbols('x y')\n",
    "f = x**2\n",
    "\n",
    "x_min = 1\n",
    "y_min = 0\n",
    "x_max = 2\n",
    "y_max = x**3\n",
    "\n",
    "M = integrate(integrate(f, (y, y_min, y_max)), (x, x_min, x_max))\n",
    "\n",
    "# Nu udregner vi midtpunktet\n",
    "x_CM = 1/M*integrate(integrate(f*x, (y, y_min, y_max)), (x, x_min, x_max))\n",
    "y_CM = 1/M*integrate(integrate(f*y, (y, y_min, y_max)), (x, x_min, x_max))\n",
    "\n",
    "M, x_CM, y_CM\n"
   ]
  },
  {
   "cell_type": "markdown",
   "id": "4e35d81c",
   "metadata": {},
   "source": [
    "#### Spørgsmål c"
   ]
  },
  {
   "cell_type": "markdown",
   "id": "fdd39ffb",
   "metadata": {},
   "source": [
    "Antag massetætheden er konstant $f(x,y)=1$ for $(x,y)\\in C$. Bestem massen og massemidtpunktet af $C$."
   ]
  },
  {
   "cell_type": "code",
   "execution_count": 69,
   "id": "8b4dd95c",
   "metadata": {},
   "outputs": [
    {
     "data": {
      "image/png": "[encoded data removed]",
      "text/latex": [
       "$\\displaystyle \\left( 2.04166666666667, \\  1.10280612244898, \\  2.08163265306122\\right)$"
      ],
      "text/plain": [
       "(2.04166666666667, 1.10280612244898, 2.08163265306122)"
      ]
     },
     "execution_count": 69,
     "metadata": {},
     "output_type": "execute_result"
    }
   ],
   "source": [
    "# Svar\n",
    "x,y = symbols('x y')\n",
    "f = 1\n",
    "\n",
    "x_min = 0\n",
    "y_min = 3/2\n",
    "x_max = 1/2*y**2\n",
    "y_max = 5/2\n",
    "\n",
    "M = integrate(integrate(f, (x, 0, 1/2*y**2)), (y, 3/2, 5/2))\n",
    "\n",
    "# Nu udregner vi midtpunktet\n",
    "x_CM = (1/M) * integrate(integrate(x*f, (x, 0, 1/2*y**2)), (y, 3/2, 5/2))\n",
    "y_CM = (1/M) * integrate(integrate(y*f, (x, 0, 1/2*y**2)), (y, 3/2, 5/2))\n",
    "\n",
    "M, x_CM, y_CM\n"
   ]
  },
  {
   "cell_type": "markdown",
   "id": "d166f75b",
   "metadata": {},
   "source": [
    "#### Spørgsmål d"
   ]
  },
  {
   "cell_type": "markdown",
   "id": "06370e5a",
   "metadata": {},
   "source": [
    "Antag massetætheden er $f(x,y)=x^2$ for $(x,y)\\in C$. Bestem massen og massemidtpunktet af $C$."
   ]
  },
  {
   "cell_type": "code",
   "execution_count": 70,
   "id": "50c6de49",
   "metadata": {},
   "outputs": [
    {
     "data": {
      "image/png": "[encoded data removed]",
      "text/latex": [
       "$\\displaystyle \\left( 3.53134300595238, \\  1.85651644543356, \\  2.21269983407517\\right)$"
      ],
      "text/plain": [
       "(3.53134300595238, 1.85651644543356, 2.21269983407517)"
      ]
     },
     "execution_count": 70,
     "metadata": {},
     "output_type": "execute_result"
    }
   ],
   "source": [
    "# Svar\n",
    "x,y = symbols('x y')\n",
    "f = x**2\n",
    "\n",
    "x_min = 0\n",
    "y_min = 3/2\n",
    "x_max = 1/2*y**2\n",
    "y_max = 5/2\n",
    "\n",
    "M = integrate(integrate(f, (x, 0, 1/2*y**2)), (y, 3/2, 5/2))\n",
    "\n",
    "# Nu udregner vi midtpunktet\n",
    "x_CM = (1/M) * integrate(integrate(x*f, (x, 0, 1/2*y**2)), (y, 3/2, 5/2))\n",
    "y_CM = (1/M) * integrate(integrate(y*f, (x, 0, 1/2*y**2)), (y, 3/2, 5/2))\n",
    "\n",
    "M, x_CM, y_CM\n"
   ]
  },
  {
   "cell_type": "markdown",
   "id": "8f03d00a",
   "metadata": {},
   "source": [
    "### 3: Kugleformede områder i rummet"
   ]
  },
  {
   "cell_type": "markdown",
   "id": "b62c2977",
   "metadata": {},
   "source": [
    "Betragt det rumlige område $\\pmb{r}(\\Gamma)$ givet ved \n",
    "\n",
    "\\begin{equation*}\n",
    "  \\pmb{r}(u,v,w)=\\big(u\\sin(v)\\cos(w),u\\sin(v)\\sin(w),u\\cos(v)\\big), \\quad (u,v,w) \\in \\Gamma, \n",
    "\\end{equation*}\n",
    "\n",
    "hvor $\\Gamma = [a,b] \\times [c,d] \\times [e,f] \\subset [0, \\infty[ \\times [0,\\pi] \\times [0,2\\pi]$. Vi betragter altså følgende parameterværdier:\n",
    "$u\\in [a,b],v\\in [c,d],w\\in [e,f]$."
   ]
  },
  {
   "cell_type": "markdown",
   "id": "7a972c6d",
   "metadata": {},
   "source": [
    "#### Spørgsmål a"
   ]
  },
  {
   "cell_type": "markdown",
   "id": "c7f638d9",
   "metadata": {},
   "source": [
    "Hvilken betydning har parametrene?"
   ]
  },
  {
   "cell_type": "markdown",
   "id": "048c0baa",
   "metadata": {},
   "source": [
    "#### Svar\n",
    "Parameterne for $r(u,v,w)$ er de parameterfremstilling brugt i sfæriske koordinate, hvor:\n",
    "* u er afstanden fra origo (radius)\n",
    "* v er den polare vinkel (vinklen fra z-aksen)\n",
    "* w er azimutvinklen (vinklen i xy-planet fra x-aksen)\n"
   ]
  },
  {
   "cell_type": "markdown",
   "id": "ffad781d",
   "metadata": {},
   "source": [
    "#### Spørgsmål b\n",
    "\n",
    "Lad $A$ være det område der er bestemt ved valget: \n",
    "\n",
    "\\begin{equation*}\n",
    "  a=1,b=3,c=\\frac{\\pi}{4},d=\\frac{\\pi}{3},e=0,f=\\frac{3\\pi}{4}\n",
    "\\end{equation*}\n",
    "\n",
    "og $B$ ved valget \n",
    "\n",
    "\\begin{equation*}\n",
    "  a=2,b=4,c=\\frac{\\pi}{4},d=\\frac{\\pi}{2},e=-\\frac{\\pi}{4},f=\\frac{\\pi}{4}\n",
    "\\end{equation*}"
   ]
  },
  {
   "cell_type": "markdown",
   "id": "e1b72e38",
   "metadata": {},
   "source": [
    "Beskriv i ord hvert af områderne $A$, $B$ og $A\\cap B$, og bestem deres volumen."
   ]
  },
  {
   "cell_type": "code",
   "execution_count": 74,
   "id": "88169310",
   "metadata": {},
   "outputs": [
    {
     "data": {
      "image/png": "[encoded data removed]",
      "text/latex": [
       "$\\displaystyle \\left( \\left[\\begin{matrix}\\sin{\\left(v \\right)} \\cos{\\left(w \\right)} & u \\cos{\\left(v \\right)} \\cos{\\left(w \\right)} & - u \\sin{\\left(v \\right)} \\sin{\\left(w \\right)}\\\\\\sin{\\left(v \\right)} \\sin{\\left(w \\right)} & u \\sin{\\left(w \\right)} \\cos{\\left(v \\right)} & u \\sin{\\left(v \\right)} \\cos{\\left(w \\right)}\\\\\\cos{\\left(v \\right)} & - u \\sin{\\left(v \\right)} & 0\\end{matrix}\\right], \\  \\left|{u^{2} \\sin{\\left(v \\right)}}\\right|\\right)$"
      ],
      "text/plain": [
       "⎛⎡sin(v)⋅cos(w)  u⋅cos(v)⋅cos(w)  -u⋅sin(v)⋅sin(w)⎤             ⎞\n",
       "⎜⎢                                                ⎥  │ 2       │⎟\n",
       "⎜⎢sin(v)⋅sin(w)  u⋅sin(w)⋅cos(v)  u⋅sin(v)⋅cos(w) ⎥, │u ⋅sin(v)│⎟\n",
       "⎜⎢                                                ⎥             ⎟\n",
       "⎝⎣   cos(v)         -u⋅sin(v)            0        ⎦             ⎠"
      ]
     },
     "execution_count": 74,
     "metadata": {},
     "output_type": "execute_result"
    }
   ],
   "source": [
    "from sympy import symbols, Matrix, sin, cos, pi, Abs, simplify\n",
    "\n",
    "u, v, w = symbols('u v w')\n",
    "\n",
    "# Spherical coordinate transformation\n",
    "r = Matrix([\n",
    "    u * sin(v) * cos(w),\n",
    "    u * sin(v) * sin(w),\n",
    "    u * cos(v)\n",
    "])\n",
    "\n",
    "# Jacobian matrix and simplified determinant\n",
    "J_r = r.jacobian([u, v, w])\n",
    "J_det = simplify(Abs(J_r.det()))\n",
    "\n",
    "J_r, J_det"
   ]
  },
  {
   "cell_type": "code",
   "execution_count": 78,
   "id": "76dd47e3",
   "metadata": {},
   "outputs": [
    {
     "data": {
      "image/png": "[encoded data removed]",
      "text/latex": [
       "$\\displaystyle \\left( \\frac{13 \\pi \\left(-1 + \\sqrt{2}\\right)}{4}, \\  \\frac{14 \\sqrt{2} \\pi}{3}, \\  \\frac{\\pi \\left(-39 + 95 \\sqrt{2}\\right)}{12}\\right)$"
      ],
      "text/plain": [
       "⎛13⋅π⋅(-1 + √2)  14⋅√2⋅π  π⋅(-39 + 95⋅√2)⎞\n",
       "⎜──────────────, ───────, ───────────────⎟\n",
       "⎝      4            3           12       ⎠"
      ]
     },
     "execution_count": 78,
     "metadata": {},
     "output_type": "execute_result"
    }
   ],
   "source": [
    "# interval for A\n",
    "a, b = 1, 3\n",
    "c, d = pi/4, pi/3\n",
    "e, f = 0, 3*pi/4\n",
    "\n",
    "V_A = integrate(integrate(integrate(J_det, (u, a, b)), (v, c, d)), (w, e, f))\n",
    "V_A = simplify(V_A)\n",
    "\n",
    "# interval for B\n",
    "a, b = 2, 4\n",
    "c, d = pi/4, pi/2\n",
    "e, f = -pi/4, pi/4\n",
    "\n",
    "V_B = integrate(integrate(integrate(J_det, (u, a, b)), (v, c, d)), (w, e, f))\n",
    "V_B = simplify(V_B)\n",
    "\n",
    "# union af A og B\n",
    "V_union = V_A + V_B\n",
    "V_union = simplify(V_union)\n",
    "\n",
    "# Volumen af A og B\n",
    "V_A, V_B, V_union"
   ]
  },
  {
   "cell_type": "markdown",
   "id": "773bb0dd",
   "metadata": {},
   "source": [
    "#### Spørgsmål c"
   ]
  },
  {
   "cell_type": "markdown",
   "id": "ca772225",
   "metadata": {},
   "source": [
    "Find integralerne \n",
    "\n",
    "\\begin{equation*}\n",
    "  \\int_A x_1 \\, \\mathrm{d}\\pmb{x}, \\quad \\int_Bx_1 \\, \\mathrm{d}\\pmb{x} \\quad \\text{og} \\quad \\int_{A\\cap B}x_1 \\, \\mathrm{d}\\pmb{x}\n",
    "\\end{equation*}"
   ]
  },
  {
   "cell_type": "code",
   "execution_count": 83,
   "id": "8c42c128",
   "metadata": {},
   "outputs": [
    {
     "data": {
      "image/png": "[encoded data removed]",
      "text/latex": [
       "$\\displaystyle \\left( \\frac{5 \\sqrt{2} \\left(- 3 \\sqrt{3} + \\pi + 6\\right)}{12}, \\  \\frac{15 \\sqrt{2} \\left(2 + \\pi\\right)}{2}, \\  \\frac{5 \\sqrt{2} \\left(- 3 \\sqrt{3} + \\pi + 6\\right)}{12} + \\frac{15 \\sqrt{2} \\left(2 + \\pi\\right)}{2}\\right)$"
      ],
      "text/plain": [
       "⎛5⋅√2⋅(-3⋅√3 + π + 6)  15⋅√2⋅(2 + π)  5⋅√2⋅(-3⋅√3 + π + 6)   15⋅√2⋅(2 + π)⎞\n",
       "⎜────────────────────, ─────────────, ──────────────────── + ─────────────⎟\n",
       "⎝         12                 2                 12                  2      ⎠"
      ]
     },
     "execution_count": 83,
     "metadata": {},
     "output_type": "execute_result"
    }
   ],
   "source": [
    "# Svar x_1 er første koordinat\n",
    "a, b = 1, 3\n",
    "c, d = pi/4, pi/3\n",
    "e, f = 0, 3*pi/4\n",
    "\n",
    "x1 =r[0]\n",
    "A_x1 = integrate(integrate(integrate(x1*J_det, (u, a, b)), (v, c, d)), (w, e, f))\n",
    "A_x1 = simplify(A_x1)\n",
    "\n",
    "a, b = 2, 4\n",
    "c, d = pi/4, pi/2\n",
    "e, f = -pi/4, pi/4\n",
    "\n",
    "B_x1 = integrate(integrate(integrate(x1*J_det, (u, a, b)), (v, c, d)), (w, e, f))\n",
    "B_x1 = simplify(B_x1)\n",
    "\n",
    "A_x1, B_x1, A_x1 + B_x1"
   ]
  },
  {
   "cell_type": "markdown",
   "id": "01e0e6e8",
   "metadata": {},
   "source": [
    "### 4: Et uegentligt integral i planen\n",
    "\n",
    "Lad $B$ være enhedskvadratet $[0,1]^2$. Vi vil undersøge det uegentlige planintegral \n",
    "\n",
    "\\begin{equation*}\n",
    "  I := \\int_B \\frac{1}{x_2-x_1-1} \\mathrm{d}\\pmb{x} \n",
    "\\end{equation*}\n",
    "\n",
    "Integranden $f(x_1,x_2)=\\frac{1}{x_2-x_1-1}$ er ikke Riemann-integrabel over $B$, da $f$ ikke er defineret i punktet $(x_1,x_2)=(0,1)$. Vi ønsker at finde ud af om vi alligevel kan tillægge integralet en værdi via grænseovergang."
   ]
  },
  {
   "cell_type": "markdown",
   "id": "11b94e14",
   "metadata": {},
   "source": [
    "#### Spørgsmål a"
   ]
  },
  {
   "cell_type": "markdown",
   "id": "e77e7286",
   "metadata": {},
   "source": [
    "Find de punkter i planen $(x,y)$ hvor $f(x_1,x_2)$ ikke er defineret. Find værdimængden af $f$ som funktion på $B \\setminus \\{(0,1)\\}$."
   ]
  },
  {
   "cell_type": "code",
   "execution_count": 84,
   "id": "ec40afad",
   "metadata": {},
   "outputs": [
    {
     "name": "stdout",
     "output_type": "stream",
     "text": [
      "Funktionen er udefineret i: [(y - 1, y)]\n",
      "z ∈ [ -2 , 0 ]\n",
      "Grænseværdi af f nær (0,1): 1/(-x + y - 1)\n"
     ]
    }
   ],
   "source": [
    "# Svar\n",
    "f = 1 / (y - x - 1)\n",
    "\n",
    "# Find hvor funktionen ikke er defineret (nævner = 0)\n",
    "undefined_point = solve(Eq(y - x - 1, 0), (x, y))\n",
    "print(\"Funktionen er udefineret i:\", undefined_point)\n",
    "\n",
    "# Undersøg intervallet for nævneren z = y - x - 1\n",
    "# x, y ∈ [0,1]\n",
    "from sympy import Min, Max\n",
    "\n",
    "z_min = (0 - 1 - 1)  # y = 0, x = 1\n",
    "z_max = (1 - 0 - 1)  # y = 1, x = 0\n",
    "print(\"z ∈ [\", z_min, \",\", z_max, \"]\")\n",
    "\n",
    "# Men punktet z = 0 svarer til (x, y) = (0, 1), så vi fjerner det\n",
    "# Derfor f ∈ (−∞, −1] som vi kan vise med grænseværdier\n",
    "\n",
    "# Undersøg grænseværdier for f når (x,y) → (0,1)\n",
    "lim_f = limit(f, (x, 0), (y, 1), dir='+')\n",
    "print(\"Grænseværdi af f nær (0,1):\", lim_f)\n",
    "\n",
    "# Værdimængden f(x,y) ∈ (-∞, -1]"
   ]
  },
  {
   "cell_type": "markdown",
   "id": "081eab94",
   "metadata": {},
   "source": [
    "#### Spørgsmål b"
   ]
  },
  {
   "cell_type": "markdown",
   "id": "0651bcce",
   "metadata": {},
   "source": [
    "Lad $B_a = [a,1] \\times [0,1]$ for et fast $a \\in [0,1]$. Lav en skitse af $B_a$ og lav en parametrisering af $B_a$. Udregn Jacobi-determinanten af parametriseringen."
   ]
  },
  {
   "cell_type": "markdown",
   "id": "3fd442b7",
   "metadata": {},
   "source": [
    "#### Spørgsmål c"
   ]
  },
  {
   "cell_type": "markdown",
   "id": "94c308e9",
   "metadata": {},
   "source": [
    "Udregn Riemann-integralet \n",
    "\n",
    "\\begin{equation*}\n",
    "  I_a := \\int_{B_a} \\frac{1}{x_2-x_1-1} \\mathrm{d}\\pmb{x} \n",
    "\\end{equation*}\n",
    "\n",
    "for hvert $a \\in ]0,1]$."
   ]
  },
  {
   "cell_type": "markdown",
   "id": "61260a55",
   "metadata": {},
   "source": [
    "#### Spørgsmål d"
   ]
  },
  {
   "cell_type": "markdown",
   "id": "f7e97b5a",
   "metadata": {},
   "source": [
    "Udregn grænsen af $I_a$ for $a \\to 0$. \n",
    "\n",
    "\n",
    "\n",
    "#### Spørgsmål e\n",
    "\n",
    "Lad $B_b = [0,1] \\times [0,b]$. Definer $I_b := \\int_{B_b} \\frac{1}{x_2-x_1-1} \\mathrm{d}\\pmb{x} $. Find $\\lim_{b \\to 1} I_b$ og sammenlign med overstående."
   ]
  }
 ],
 "metadata": {
  "jupytext": {
   "formats": "md:myst"
  },
  "kernelspec": {
   "display_name": "Python 3",
   "language": "python",
   "name": "python3"
  },
  "language_info": {
   "codemirror_mode": {
    "name": "ipython",
    "version": 3
   },
   "file_extension": ".py",
   "mimetype": "text/x-python",
   "name": "python",
   "nbconvert_exporter": "python",
   "pygments_lexer": "ipython3",
   "version": "3.11.10"
  }
 },
 "nbformat": 4,
 "nbformat_minor": 5
}
